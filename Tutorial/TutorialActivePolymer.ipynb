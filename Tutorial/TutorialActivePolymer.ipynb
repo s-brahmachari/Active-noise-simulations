{
 "cells": [
  {
   "cell_type": "code",
   "execution_count": 1,
   "metadata": {},
   "outputs": [],
   "source": [
    "import ActiveParticles"
   ]
  },
  {
   "cell_type": "code",
   "execution_count": 2,
   "metadata": {},
   "outputs": [
    {
     "name": "stdout",
     "output_type": "stream",
     "text": [
      "    ***************************************************************************************     \n",
      "     **** **** *** *** *** *** *** *** OpenMiChroM-1.0.2 *** *** *** *** *** *** **** ****      \n",
      "\n",
      "         OpenMiChroM is a Python library for performing chromatin dynamics simulations.         \n",
      "                            OpenMiChroM uses the OpenMM Python API,                             \n",
      "                employing the MiChroM (Minimal Chromatin Model) energy function.                \n",
      "      The chromatin dynamics simulations generate an ensemble of 3D chromosomal structures      \n",
      "      that are consistent with experimental Hi-C maps, also allows simulations of a single      \n",
      "                 or multiple chromosome chain using High-Performance Computing                  \n",
      "                            in different platforms (GPUs and CPUs).                             \n",
      "         OpenMiChroM documentation is available at https://open-michrom.readthedocs.io          \n",
      "\n",
      "         OpenMiChroM is described in: Oliveira Junior, A. B & Contessoto, V, G et. al.          \n",
      "      A Scalable Computational Approach for Simulating Complexes of Multiple Chromosomes.       \n",
      "                  Journal of Molecular Biology. doi:10.1016/j.jmb.2020.10.034.                  \n",
      "                                              and                                               \n",
      "                                 Oliveira Junior, A. B. et al.                                  \n",
      "     Chromosome Modeling on Downsampled Hi-C Maps Enhances the Compartmentalization Signal.     \n",
      "                        J. Phys. Chem. B, doi:10.1021/acs.jpcb.1c04174.                         \n",
      "\n",
      "                    Copyright (c) 2021, The OpenMiChroM development team at                     \n",
      "                                        Rice University                                         \n",
      "    ***************************************************************************************     \n",
      "\n",
      "        ==================================\n",
      "        ActivePolymer Simulation now set up.\n",
      "        Loaded sequence file: 100\n",
      "        Loaded initial structure: random\n",
      "        Active amplitude: 0.1\n",
      "        Active correlation time: 2\n",
      "        Total number of active particles: 100\n",
      "        ==================================\n",
      "\n"
     ]
    }
   ],
   "source": [
    "sim=ActiveParticles.ActiveParticles(\n",
    "    name='AP_test',\n",
    "    platform='opencl', \n",
    "    time_step=0.001, \n",
    "    collision_rate=0.1, \n",
    "    temperature=200, \n",
    "    active_corr_time=2, \n",
    "    activity_amplitude=0.1,\n",
    "    outpath='output/', \n",
    "    init_struct=None, #initial structure may be provided as xyz array; default helix \n",
    "    seq_file=100, \n",
    "    #sequence file may be provided as a two column table: [index, sequence identity whether active or not]\n",
    "    #if integer N: initializes a system of N active particles.\n",
    "    )"
   ]
  },
  {
   "cell_type": "code",
   "execution_count": 3,
   "metadata": {},
   "outputs": [
    {
     "name": "stdout",
     "output_type": "stream",
     "text": [
      "-------\n",
      "Adding harmonic bonds according to topology defined in input_files/polymer_top.txt\n",
      "Number of polymer segments: 1\n",
      "\n",
      "-------\n",
      "Implementing Flat-Bottom Harmonic confinement:\n",
      "Radius: 10.00 \n",
      "Volume fraction: 0.013 \n",
      "Stiffness: 30.00\n",
      "\n"
     ]
    }
   ],
   "source": [
    "ActiveParticles.addHarmonicBonds(sim, top_file='input_files/polymer_top.txt', kb=10.0, d=1.0, bend_stiffness=False, ka=2.0)\n",
    "\n",
    "ActiveParticles.addRadialConfinement(sim, R0=10, method='FlatBottomHarmonic', kr=30)\n"
   ]
  },
  {
   "cell_type": "code",
   "execution_count": 4,
   "metadata": {},
   "outputs": [
    {
     "name": "stdout",
     "output_type": "stream",
     "text": [
      "Number of exceptions: 99\n",
      "adding force  ActiveForce 0\n",
      "adding force  HarmonicBond 1\n",
      "adding force  RadialConfinement 2\n",
      "Positions... \n",
      " loaded!\n",
      "potential energy is 28825.502500\n",
      "bl=1 pos[1]=[-3.6 -4.2 -2.6] dr=38.21 kin=3.09 pot=1.98 Rg=5.223 SPS=6747\n",
      "\n",
      "Statistics for the simulation AP_test, number of particles: 100,  number of chains: 1\n",
      "\n",
      "Statistics for particle position\n",
      "     mean position is:  [-1.7220457  -2.80537727 -0.34554755]   Rg =  4.1764803\n",
      "     median bond size is  1.4000583140514702\n",
      "     three shortest/longest (<10)/ bonds are  [0.60265027 0.64110102 0.73172046]    [1.95735397 2.05278258 2.06643491]\n",
      "     95 percentile of distance to center is:    5.774693743903207\n",
      "     density of closest 95% monomers is:    0.1177736475699648\n",
      "     density of the core monomers is:    0.16505178489078032\n",
      "     min/median/mean/max coordinates are: \n",
      "     x: -7.09, -1.89, -1.72, 3.16\n",
      "     y: -6.89, -2.63, -2.81, 1.21\n",
      "     z: -5.83, 0.03, -0.35, 3.74\n",
      "\n",
      "Statistics for velocities:\n",
      "     mean kinetic energy is:  15.912826540233167 should be: 1.5\n",
      "     fastest particles are (in kT):  [42.63565635 45.37035328 52.57607572 58.08759994 60.80288239]\n",
      "\n",
      "Statistics for the system:\n",
      "     Forces are:  ['ActiveForce', 'HarmonicBond', 'RadialConfinement']\n",
      "     Number of exceptions:   99\n",
      "\n",
      "Potential Energy Ep =  1.7116323852539064\n"
     ]
    }
   ],
   "source": [
    "ActiveParticles.runSims(sim, nblocks=100, blocksize=100, )\n"
   ]
  },
  {
   "cell_type": "code",
   "execution_count": null,
   "metadata": {},
   "outputs": [],
   "source": []
  }
 ],
 "metadata": {
  "interpreter": {
   "hash": "eb908e2ee61974166e0f6210d6d4eb74d980ad50e61ae905e9364c3983814675"
  },
  "kernelspec": {
   "display_name": "Python 3.7.10 ('newopenmm')",
   "language": "python",
   "name": "python3"
  },
  "language_info": {
   "codemirror_mode": {
    "name": "ipython",
    "version": 3
   },
   "file_extension": ".py",
   "mimetype": "text/x-python",
   "name": "python",
   "nbconvert_exporter": "python",
   "pygments_lexer": "ipython3",
   "version": "3.7.10"
  },
  "orig_nbformat": 4
 },
 "nbformat": 4,
 "nbformat_minor": 2
}
