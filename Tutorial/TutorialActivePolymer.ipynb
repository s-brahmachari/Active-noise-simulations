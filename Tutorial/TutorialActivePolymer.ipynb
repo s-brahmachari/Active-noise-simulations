{
 "cells": [
  {
   "cell_type": "code",
   "execution_count": 1,
   "metadata": {},
   "outputs": [],
   "source": [
    "import ActiveParticles"
   ]
  },
  {
   "cell_type": "code",
   "execution_count": 2,
   "metadata": {},
   "outputs": [
    {
     "name": "stdout",
     "output_type": "stream",
     "text": [
      "    ***************************************************************************************     \n",
      "     **** **** *** *** *** *** *** *** OpenMiChroM-1.0.2 *** *** *** *** *** *** **** ****      \n",
      "\n",
      "         OpenMiChroM is a Python library for performing chromatin dynamics simulations.         \n",
      "                            OpenMiChroM uses the OpenMM Python API,                             \n",
      "                employing the MiChroM (Minimal Chromatin Model) energy function.                \n",
      "      The chromatin dynamics simulations generate an ensemble of 3D chromosomal structures      \n",
      "      that are consistent with experimental Hi-C maps, also allows simulations of a single      \n",
      "                 or multiple chromosome chain using High-Performance Computing                  \n",
      "                            in different platforms (GPUs and CPUs).                             \n",
      "         OpenMiChroM documentation is available at https://open-michrom.readthedocs.io          \n",
      "\n",
      "         OpenMiChroM is described in: Oliveira Junior, A. B & Contessoto, V, G et. al.          \n",
      "      A Scalable Computational Approach for Simulating Complexes of Multiple Chromosomes.       \n",
      "                  Journal of Molecular Biology. doi:10.1016/j.jmb.2020.10.034.                  \n",
      "                                              and                                               \n",
      "                                 Oliveira Junior, A. B. et al.                                  \n",
      "     Chromosome Modeling on Downsampled Hi-C Maps Enhances the Compartmentalization Signal.     \n",
      "                        J. Phys. Chem. B, doi:10.1021/acs.jpcb.1c04174.                         \n",
      "\n",
      "                    Copyright (c) 2021, The OpenMiChroM development team at                     \n",
      "                                        Rice University                                         \n",
      "    ***************************************************************************************     \n",
      "\n",
      "        ==================================\n",
      "        ActivePolymer Simulation now set up.\n",
      "        Loaded sequence file: 100\n",
      "        Loaded initial structure: random\n",
      "        Active amplitude: 0.1\n",
      "        Active correlation time: 2\n",
      "        Total number of active particles: 100\n",
      "        ==================================\n",
      "\n"
     ]
    }
   ],
   "source": [
    "sim=ActiveParticles.ActiveParticles(\n",
    "    name='AP_test',\n",
    "    platform='opencl', \n",
    "    time_step=0.001, \n",
    "    collision_rate=0.1, \n",
    "    temperature=200, \n",
    "    active_corr_time=2, \n",
    "    activity_amplitude=0.1,\n",
    "    outpath='ouput/', \n",
    "    init_struct=None, #initial structure may be provided as xyz array; default helix \n",
    "    seq_file=100, \n",
    "    #sequence file may be provided as a two column table: [index, sequence identity whether active or not]\n",
    "    #if integer N: initializes a system of N active particles.\n",
    "    )"
   ]
  },
  {
   "cell_type": "code",
   "execution_count": 3,
   "metadata": {},
   "outputs": [
    {
     "name": "stdout",
     "output_type": "stream",
     "text": [
      "-------\n",
      "Implementing Flat-Bottom Harmonic confinement:\n",
      "Radius: 10.00 \n",
      "Volume fraction: 0.013 \n",
      "Stiffness: 30.00\n",
      "\n"
     ]
    }
   ],
   "source": [
    "ActiveParticles.addRadialConfinement(sim, R0=10, method='FlatBottomHarmonic', kr=30)\n"
   ]
  },
  {
   "cell_type": "code",
   "execution_count": 4,
   "metadata": {},
   "outputs": [
    {
     "name": "stdout",
     "output_type": "stream",
     "text": [
      "Number of exceptions: 0\n",
      "adding force  ActiveForce 0\n",
      "adding force  RadialConfinement 1\n",
      "Positions... \n",
      " loaded!\n",
      "potential energy is 14459.645000\n",
      "bl=1 pos[1]=[0.8 5.1 6.8] dr=32.35 kin=3.10 pot=0.04 Rg=9.062 SPS=16524\n",
      "\n",
      "Statistics for the simulation AP_test, number of particles: 100,  number of chains: 1\n",
      "\n",
      "Statistics for particle position\n",
      "     mean position is:  [-0.32557158 -0.12681521  0.09137709]   Rg =  7.640854\n",
      "     median bond size is  10.098100818676082\n",
      "     three shortest/longest (<10)/ bonds are  [0.93160505 1.3487671  2.58950603]    [9.82767056 9.83676793 9.99442627]\n",
      "longest 10 bonds are [15.00816778 15.32702109 15.65364483 16.00254422 16.08129167 16.49072942\n",
      " 17.1990777  17.53271626 17.62263694 18.3327357 ]\n",
      "     95 percentile of distance to center is:    9.929866070006366\n",
      "     density of closest 95% monomers is:    0.023163534205674824\n",
      "     density of the core monomers is:    0.02230954096223728\n",
      "     min/median/mean/max coordinates are: \n",
      "     x: -9.26, -0.38, -0.33, 8.37\n",
      "     y: -9.56, -0.37, -0.13, 9.16\n",
      "     z: -8.82, 0.36, 0.09, 9.22\n",
      "\n",
      "Statistics for velocities:\n",
      "     mean kinetic energy is:  14.317834592116888 should be: 1.5\n",
      "     fastest particles are (in kT):  [43.99496931 44.17490614 48.35762244 49.74771183 62.68602301]\n",
      "\n",
      "Statistics for the system:\n",
      "     Forces are:  ['ActiveForce', 'RadialConfinement']\n",
      "     Number of exceptions:   0\n",
      "\n",
      "Potential Energy Ep =  0.05331451416015625\n"
     ]
    }
   ],
   "source": [
    "ActiveParticles.runSims(sim, nblocks=100, blocksize=100, )\n"
   ]
  },
  {
   "cell_type": "code",
   "execution_count": null,
   "metadata": {},
   "outputs": [],
   "source": []
  }
 ],
 "metadata": {
  "interpreter": {
   "hash": "eb908e2ee61974166e0f6210d6d4eb74d980ad50e61ae905e9364c3983814675"
  },
  "kernelspec": {
   "display_name": "Python 3.7.10 ('newopenmm')",
   "language": "python",
   "name": "python3"
  },
  "language_info": {
   "codemirror_mode": {
    "name": "ipython",
    "version": 3
   },
   "file_extension": ".py",
   "mimetype": "text/x-python",
   "name": "python",
   "nbconvert_exporter": "python",
   "pygments_lexer": "ipython3",
   "version": "3.7.10"
  },
  "orig_nbformat": 4
 },
 "nbformat": 4,
 "nbformat_minor": 2
}
