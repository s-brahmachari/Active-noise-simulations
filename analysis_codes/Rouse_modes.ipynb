{
 "cells": [
  {
   "cell_type": "code",
   "execution_count": 18,
   "metadata": {},
   "outputs": [],
   "source": [
    "import numpy as np\n",
    "import os\n",
    "import matplotlib.pyplot as plt\n",
    "from matplotlib.pyplot import rcParams as rc"
   ]
  },
  {
   "cell_type": "code",
   "execution_count": 39,
   "metadata": {},
   "outputs": [],
   "source": [
    "traj=np.load('../data/trajectory/traj_Rouse_chain_unconfined_T1.0_F1.0_Ta50.0_Esoft0_R00_Na200_blocksize10_positions.npy')\n",
    "# traj=np.load('../Rouse_chain/traj_Confined_Rouse_chain_T0.1_F1.0_Ta10.0_Esoft0_R017_Na200_blocksize10_positions.npy')"
   ]
  },
  {
   "cell_type": "code",
   "execution_count": 31,
   "metadata": {},
   "outputs": [
    {
     "data": {
      "text/plain": [
       "(490000, 400, 3)"
      ]
     },
     "execution_count": 31,
     "metadata": {},
     "output_type": "execute_result"
    }
   ],
   "source": [
    "traj.shape"
   ]
  },
  {
   "cell_type": "code",
   "execution_count": 40,
   "metadata": {},
   "outputs": [
    {
     "name": "stdout",
     "output_type": "stream",
     "text": [
      "(490000, 100, 3) (490000, 100, 3) (490000, 100, 3) (490000, 100, 3)\n"
     ]
    }
   ],
   "source": [
    "pol1=traj[:,0:100,:]\n",
    "pol2=traj[:,100:200,:]\n",
    "pol3=traj[:,200:300,:]\n",
    "pol4=traj[:,300:400,:]\n",
    "N=pol1.shape[1]\n",
    "kb=10\n",
    "print(pol1.shape,pol2.shape,pol3.shape,pol4.shape)"
   ]
  },
  {
   "cell_type": "code",
   "execution_count": 113,
   "metadata": {},
   "outputs": [],
   "source": [
    "def autocorrFFT(x):\n",
    "  Nx=len(x)\n",
    "  F = np.fft.fft(x, n=2*Nx)  #2*N because of zero-padding\n",
    "  PSD = F * F.conjugate()\n",
    "  res = np.fft.ifft(PSD)\n",
    "  res= (res[:Nx]).real   #now we have the autocorrelation in convention B\n",
    "  n=Nx*np.ones(Nx)-np.arange(0,Nx) #divide res(m) by (N-m)\n",
    "  return res/n #this is the autocorrelation in convention A\n",
    "\n",
    "def msd_fft(r):\n",
    "  Nx=len(r)\n",
    "  D=np.square(r).sum(axis=1) \n",
    "  D=np.append(D,0) \n",
    "  S2=sum([autocorrFFT(r[:, i]) for i in range(r.shape[1])])\n",
    "  Q=2*D.sum()\n",
    "  S1=np.zeros(Nx)\n",
    "  for m in range(Nx):\n",
    "      Q=Q-D[m-1]-D[Nx-m]\n",
    "      S1[m]=Q/(Nx-m)\n",
    "  return S1,S2\n",
    "\n",
    "def tau_p(pp,T):\n",
    "  Nn=500\n",
    "  res=0.1*(Nn/pp)**2/(3*T*np.pi**2)\n",
    "  # res=0.1*(N/pp)**2/(np.pi**2*kb)\n",
    "  return res\n",
    "\n",
    "\n",
    "def rabin_msd(t,nn,T,F1,ta):\n",
    "  \n",
    "    g=0.1\n",
    "    # ta=10\n",
    "    # nn=N/3\n",
    "    F=6*F1**2\n",
    "    t1=g*N**2/(3*np.pi**2*T)\n",
    "    res=(6*T*t/(N*g)\n",
    "        +(6*F*ta/(N*g**2))*(ta*(np.exp(-t/ta)-1)+t)\n",
    "        +sum([(12*T*t1/(N*g*pp**2))*(1-np.exp(-pp**2*t/t1))*np.cos(pp*np.pi*nn/N)**2 \n",
    "            for pp in range(1,N)])\n",
    "        +sum([(24*F*t1*ta/(N*g**2*pp**2*(1-(pp**2*ta/t1)**2)))*(1-np.exp(-pp**2*t/t1)+(pp**2*ta/t1)*(np.exp(-t/ta)-1))*np.cos(pp*np.pi*nn/N)**2 \n",
    "            for pp in range(1,N)]))\n",
    "    return res\n",
    "\n",
    "def mode_corr(t,F,T,ta,pp):\n",
    "    g=0.1\n",
    "    # N/(6*np.pi**2*pp**2)\n",
    "    # xp2=N*T/(2*np.pi**2*kb*pp**2)\n",
    "    xp2_act= (3*(F*ta*tau_p(pp,T))**2/((2*N*g**2)*(ta**2-tau_p(pp,T)**2)))*(tau_p(pp,T)*np.exp(-t/tau_p(pp,T))/ta+np.exp(-t/ta))\n",
    "    # (3*F**2/(N*g**2))*ta*tau_p(pp,T)*(np.exp(-t/tau_p(pp,T))+(ta/tau_p(pp,T))*np.exp(-t/ta))/((1-ta/tau_p(pp,T))*(1+ta/tau_p(pp,T)))\n",
    "    xp2_pas=(3*T*tau_p(pp,T)/(2*N*g))*np.exp(-t/tau_p(pp,T))\n",
    "    return xp2_act+xp2_pas"
   ]
  },
  {
   "cell_type": "code",
   "execution_count": 41,
   "metadata": {},
   "outputs": [
    {
     "name": "stdout",
     "output_type": "stream",
     "text": [
      "(490000,)\n",
      "(490000,)\n",
      "(490000,)\n",
      "(490000,)\n"
     ]
    }
   ],
   "source": [
    "dt=0.001\n",
    "bl=10\n",
    "ts=np.arange(0,pol1.shape[0],1)*dt*bl\n",
    "\n",
    "Sp_act=[]\n",
    "Sp_pas=[]\n",
    "\n",
    "p_vals=[1,2,3,5]\n",
    "\n",
    "for pp in p_vals:\n",
    "    res1,res2=[],[]\n",
    "    for jj, polx in enumerate([pol1,pol2]):\n",
    "        Xp_act = (1/N)*np.einsum('ijk,j->ik',polx,np.cos((pp*np.pi/N)*(np.arange(1,N+1,1))))\n",
    "        res1.append(msd_fft(Xp_act)[1])\n",
    "\n",
    "    for jj,polx in enumerate([pol3,pol4]):\n",
    "        Xp_pas = (1/N)*np.einsum('ijk,j->ik',polx,np.cos((pp*np.pi/N)*(np.arange(1,N+1,1))))\n",
    "        res2.append(msd_fft(Xp_pas)[1])\n",
    "    \n",
    "    print(np.mean(res1,axis=0).shape)\n",
    "    Sp_act.append(np.mean(res1,axis=0))\n",
    "    Sp_pas.append(np.mean(res2,axis=0))"
   ]
  },
  {
   "cell_type": "code",
   "execution_count": 129,
   "metadata": {},
   "outputs": [
    {
     "name": "stdout",
     "output_type": "stream",
     "text": [
      "8.443431970194816\n"
     ]
    },
    {
     "data": {
      "text/plain": [
       "Text(0.5, 1.0, '${\\\\rm T}=1$  $F=0$  $\\\\tau_a=30$')"
      ]
     },
     "execution_count": 129,
     "metadata": {},
     "output_type": "execute_result"
    },
    {
     "data": {
      "image/png": "[encoded data removed]",
      "text/plain": [
       "<Figure size 360x288 with 1 Axes>"
      ]
     },
     "metadata": {
      "needs_background": "light"
     },
     "output_type": "display_data"
    }
   ],
   "source": [
    "tt=np.logspace(-5,4,200)\n",
    "rc['text.usetex']=True\n",
    "rc['figure.figsize']=(5,4)\n",
    "rc['font.size']=12\n",
    "TT=1\n",
    "TA=30\n",
    "for ii,pp in enumerate([10]):\n",
    "    # if pp!=5: continue\n",
    "    # plt.semilogx(ts,Sp_act[ii]/Sp_act[ii][0],'.',label='active($p = {}$)'.format(pp),alpha=0.5)\n",
    "    # plt.semilogx(ts,Sp_pas[ii]/Sp_pas[ii][0],'.',label='passive($p = {}$)'.format(pp),alpha=0.5)\n",
    "    \n",
    "    # plt.semilogx(ts, mode_corr(ts,1,1e-2,10,pp)/mode_corr(0,1,1e-2,10,pp),'k--',label='active ($p = {}$)'.format(pp))\n",
    "    # plt.semilogx(ts,np.exp(-ts/10),'k--')\n",
    "    for FF in [ 0.01, 0.1 ,1]:\n",
    "        plt.semilogx(tt, mode_corr(tt,FF,TT,TA,pp)/mode_corr(0,FF,TT,TA,pp),label='$p = {}$'.format(pp),lw=3)\n",
    "    # plt.axvline(tau_p(pp,0.01),c='k',ls='--')\n",
    "    print(tau_p(pp,TT))\n",
    "# plt.semilogx(ts,np.exp(-(ts/tp)),'b--')\n",
    "# plt.semilogx(ts,np.exp(-(ts/15)**1.6),'r--')\n",
    "# plt.loglog()\n",
    "plt.xlim(1e-1,1e4)\n",
    "# plt.ylim(-0.1,1.1)\n",
    "plt.ylim(0,1.1)\n",
    "plt.legend(loc='upper right',fontsize=14, ncol=1)\n",
    "plt.ylabel('Autocorrelation $\\\\langle X_p(t)X_p(0)\\\\rangle$',fontsize=16)\n",
    "plt.xlabel('time ($t$)',fontsize=16)\n",
    "plt.title('${\\\\rm T}=1$  $F=0$  $\\\\tau_a=30$',fontsize=15)\n",
    "\n",
    "# plt.savefig('../plots/AutoCorr_RC_theory_highp_passive.png',dpi=300)\n"
   ]
  },
  {
   "cell_type": "code",
   "execution_count": 56,
   "metadata": {},
   "outputs": [
    {
     "ename": "NameError",
     "evalue": "name 's1' is not defined",
     "output_type": "error",
     "traceback": [
      "\u001b[0;31m---------------------------------------------------------------------------\u001b[0m",
      "\u001b[0;31mNameError\u001b[0m                                 Traceback (most recent call last)",
      "\u001b[0;32m<ipython-input-56-128b840ef811>\u001b[0m in \u001b[0;36m<module>\u001b[0;34m\u001b[0m\n\u001b[0;32m----> 1\u001b[0;31m \u001b[0mplt\u001b[0m\u001b[0;34m.\u001b[0m\u001b[0mloglog\u001b[0m\u001b[0;34m(\u001b[0m\u001b[0mts\u001b[0m\u001b[0;34m,\u001b[0m\u001b[0ms1\u001b[0m\u001b[0;34m[\u001b[0m\u001b[0;36m0\u001b[0m\u001b[0;34m]\u001b[0m\u001b[0;34m-\u001b[0m\u001b[0;36m2\u001b[0m\u001b[0;34m*\u001b[0m\u001b[0ms1\u001b[0m\u001b[0;34m[\u001b[0m\u001b[0;36m1\u001b[0m\u001b[0;34m]\u001b[0m\u001b[0;34m,\u001b[0m\u001b[0;34m'g.'\u001b[0m\u001b[0;34m)\u001b[0m\u001b[0;34m\u001b[0m\u001b[0;34m\u001b[0m\u001b[0m\n\u001b[0m\u001b[1;32m      2\u001b[0m \u001b[0mplt\u001b[0m\u001b[0;34m.\u001b[0m\u001b[0mloglog\u001b[0m\u001b[0;34m(\u001b[0m\u001b[0mts\u001b[0m\u001b[0;34m,\u001b[0m\u001b[0ms3\u001b[0m\u001b[0;34m[\u001b[0m\u001b[0;36m0\u001b[0m\u001b[0;34m]\u001b[0m\u001b[0;34m-\u001b[0m\u001b[0;36m2\u001b[0m\u001b[0;34m*\u001b[0m\u001b[0ms3\u001b[0m\u001b[0;34m[\u001b[0m\u001b[0;36m1\u001b[0m\u001b[0;34m]\u001b[0m\u001b[0;34m,\u001b[0m\u001b[0;34m'm.'\u001b[0m\u001b[0;34m)\u001b[0m\u001b[0;34m\u001b[0m\u001b[0;34m\u001b[0m\u001b[0m\n\u001b[1;32m      3\u001b[0m \u001b[0mplt\u001b[0m\u001b[0;34m.\u001b[0m\u001b[0mloglog\u001b[0m\u001b[0;34m(\u001b[0m\u001b[0mts\u001b[0m\u001b[0;34m,\u001b[0m\u001b[0mrabin_pred\u001b[0m\u001b[0;34m(\u001b[0m\u001b[0mts\u001b[0m\u001b[0;34m,\u001b[0m\u001b[0;36m1\u001b[0m\u001b[0;34m,\u001b[0m\u001b[0;36m0\u001b[0m\u001b[0;34m,\u001b[0m\u001b[0;36m10\u001b[0m\u001b[0;34m)\u001b[0m\u001b[0;34m,\u001b[0m\u001b[0;34m'm--'\u001b[0m\u001b[0;34m)\u001b[0m\u001b[0;34m\u001b[0m\u001b[0;34m\u001b[0m\u001b[0m\n\u001b[1;32m      4\u001b[0m \u001b[0mplt\u001b[0m\u001b[0;34m.\u001b[0m\u001b[0mloglog\u001b[0m\u001b[0;34m(\u001b[0m\u001b[0mts\u001b[0m\u001b[0;34m,\u001b[0m\u001b[0mrabin_pred\u001b[0m\u001b[0;34m(\u001b[0m\u001b[0mts\u001b[0m\u001b[0;34m,\u001b[0m\u001b[0;36m60\u001b[0m\u001b[0;34m,\u001b[0m\u001b[0;36m1\u001b[0m\u001b[0;34m,\u001b[0m\u001b[0;36m10\u001b[0m\u001b[0;34m)\u001b[0m\u001b[0;34m,\u001b[0m\u001b[0;34m'g--'\u001b[0m\u001b[0;34m)\u001b[0m\u001b[0;34m\u001b[0m\u001b[0;34m\u001b[0m\u001b[0m\n\u001b[1;32m      5\u001b[0m \u001b[0mplt\u001b[0m\u001b[0;34m.\u001b[0m\u001b[0mylim\u001b[0m\u001b[0;34m(\u001b[0m\u001b[0;34m[\u001b[0m\u001b[0;36m1e-3\u001b[0m\u001b[0;34m,\u001b[0m\u001b[0;36m2e4\u001b[0m\u001b[0;34m]\u001b[0m\u001b[0;34m)\u001b[0m\u001b[0;34m\u001b[0m\u001b[0;34m\u001b[0m\u001b[0m\n",
      "\u001b[0;31mNameError\u001b[0m: name 's1' is not defined"
     ]
    }
   ],
   "source": [
    "plt.loglog(ts,s1[0]-2*s1[1],'g.')\n",
    "plt.loglog(ts,s3[0]-2*s3[1],'m.')\n",
    "plt.loglog(ts,rabin_pred(ts,1,0,10),'m--')\n",
    "plt.loglog(ts,rabin_pred(ts,60,1,10),'g--')\n",
    "plt.ylim([1e-3,2e4])"
   ]
  },
  {
   "cell_type": "code",
   "execution_count": 138,
   "metadata": {},
   "outputs": [
    {
     "data": {
      "text/plain": [
       "2.3326804523343214"
      ]
     },
     "execution_count": 138,
     "metadata": {},
     "output_type": "execute_result"
    }
   ],
   "source": [
    "(3*np.pi**2*0.01*10/0.1)**0.25"
   ]
  },
  {
   "cell_type": "code",
   "execution_count": 25,
   "metadata": {},
   "outputs": [
    {
     "name": "stdout",
     "output_type": "stream",
     "text": [
      "(490000, 99, 3) (490000, 99, 3)\n"
     ]
    }
   ],
   "source": [
    "pol1_bonds=pol1[:,1:100,:]-pol1[:,0:99,:]\n",
    "pol3_bonds=pol3[:,1:100,:]-pol3[:,0:99,:]\n",
    "print(pol1_bonds.shape,pol3_bonds.shape)"
   ]
  },
  {
   "cell_type": "code",
   "execution_count": 26,
   "metadata": {},
   "outputs": [
    {
     "name": "stdout",
     "output_type": "stream",
     "text": [
      "(490000, 99) (490000, 99)\n"
     ]
    }
   ],
   "source": [
    "pol1_bonlen=np.linalg.norm(pol1_bonds,axis=2)\n",
    "pol3_bonlen=np.linalg.norm(pol3_bonds,axis=2)\n",
    "\n",
    "print(pol1_bonlen.shape,pol3_bonlen.shape)"
   ]
  },
  {
   "cell_type": "code",
   "execution_count": 27,
   "metadata": {},
   "outputs": [
    {
     "name": "stdout",
     "output_type": "stream",
     "text": [
      "(99,)\n"
     ]
    }
   ],
   "source": [
    "hist1,bin_edges=np.histogram(pol1_bonlen.flatten(),bins=np.linspace(0,5,100),density=True)\n",
    "hist3,bin_edges=np.histogram(pol3_bonlen.flatten(),bins=np.linspace(0,5,100),density=True)\n",
    "print(hist1.shape)"
   ]
  },
  {
   "cell_type": "code",
   "execution_count": 29,
   "metadata": {},
   "outputs": [
    {
     "data": {
      "text/plain": [
       "[<matplotlib.lines.Line2D at 0x7fab593c1110>]"
      ]
     },
     "execution_count": 29,
     "metadata": {},
     "output_type": "execute_result"
    },
    {
     "data": {
      "image/png": "[encoded data removed]",
      "text/plain": [
       "<Figure size 432x288 with 1 Axes>"
      ]
     },
     "metadata": {
      "needs_background": "light"
     },
     "output_type": "display_data"
    }
   ],
   "source": [
    "bs=np.linspace(0,5,100)\n",
    "plt.plot(bin_edges[1:],hist1,'r')\n",
    "plt.plot(bin_edges[1:],hist3,'b')\n",
    "# plt.plot(bs,np.exp(-0.5*(10/0.01)*(bs-1)**2))"
   ]
  },
  {
   "cell_type": "code",
   "execution_count": 25,
   "metadata": {},
   "outputs": [
    {
     "name": "stdout",
     "output_type": "stream",
     "text": [
      "['SXp', 'p'] (8, 989901)\n"
     ]
    }
   ],
   "source": [
    "for fname in os.listdir('./'):\n",
    "    if '.npz' in fname:\n",
    "        data=np.load(fname)\n",
    "        print(data.files,data['SXp'].shape)\n",
    "        "
   ]
  },
  {
   "cell_type": "code",
   "execution_count": 31,
   "metadata": {},
   "outputs": [
    {
     "data": {
      "text/plain": [
       "(2, 2)"
      ]
     },
     "execution_count": 31,
     "metadata": {},
     "output_type": "execute_result"
    }
   ],
   "source": [
    "np.stack(([4,4],[4,5]),axis=0).shape"
   ]
  },
  {
   "cell_type": "code",
   "execution_count": null,
   "metadata": {},
   "outputs": [],
   "source": []
  }
 ],
 "metadata": {
  "interpreter": {
   "hash": "90f72e8778369b9d09aac5344fb767c92475c93923a32da11427c461a596d7d4"
  },
  "kernelspec": {
   "display_name": "Python 3.7.4 64-bit ('base': conda)",
   "language": "python",
   "name": "python3"
  },
  "language_info": {
   "codemirror_mode": {
    "name": "ipython",
    "version": 3
   },
   "file_extension": ".py",
   "mimetype": "text/x-python",
   "name": "python",
   "nbconvert_exporter": "python",
   "pygments_lexer": "ipython3",
   "version": "3.7.4"
  },
  "orig_nbformat": 4
 },
 "nbformat": 4,
 "nbformat_minor": 2
}
