{
 "cells": [
  {
   "cell_type": "code",
   "execution_count": 1,
   "metadata": {},
   "outputs": [],
   "source": [
    "import numpy as np"
   ]
  },
  {
   "cell_type": "code",
   "execution_count": null,
   "metadata": {},
   "outputs": [],
   "source": [
    "def calc_rg(X):\n",
    "    rcm=np.array([np.mean(X[:,0]),np.mean(X[:,1]),np.mean(X[:,2])])\n",
    "    res=0\n",
    "    N=X.shape[0]\n",
    "    for ii in range(N): res+=(np.linalg.norm(X[ii,:]-rcm))**2/N\n",
    "    return np.sqrt(res),rcm\n",
    "\n",
    "def calc_Rg(X):\n",
    "    rcm_1d=np.array([np.mean(X[:,0]),np.mean(X[:,1]),np.mean(X[:,2])])\n",
    "    N=X.shape[0]\n",
    "    rcm_Nd=np.tile(rcm_1d,(N,1))\n",
    "    rg=np.linalg.norm(X-rcm_Nd)\n",
    "    # for ii in range(N): res+=(np.linalg.norm(X[ii,:]-rcm))**2/N\n",
    "    # return np.sqrt(res),rcm\n",
    "\n",
    "# def Gyration_tensor(pos, fout, Nsnap):\n",
    "#     for kk in range(kar):\n",
    "#         k1,k2=Nc*kk+5,Nc*(kk+1)-5\n",
    "#         Rg=calc_rg(pos[k1:k2])[1]\n",
    "#         Nn=k2-k1\n",
    "#         #print Rg\n",
    "#         Rg_mat=np.array([Rg for _ in range(Nn)])\n",
    "#         A=np.subtract(pos[k1:k2],Rg_mat)\n",
    "#         S=np.matmul(np.transpose(A),A)/Nn\n",
    "#         w= np.sort(np.linalg.eig(S)[0])\n",
    "#         fout.write('{:6.0f}\\t{:2.0f}\\t\\t{:8.5f}\\t\\t{:8.5f}\\t\\t{:8.5}\\t\\t'.format(Nsnap,kk+1,w[0],w[1],w[2]))\n",
    "\n",
    "#         for re_len in [10,20,40]:\n",
    "#             Nc_re=int(k2-k1-re_len)\n",
    "#             renrm_chr=np.array([calc_rg(pos[k1+ii:k1+ii+re_len])[1] for ii in range(Nc_re)])\n",
    "#             Rg_mat_re=np.array([Rg for _ in range(Nc_re)])\n",
    "#             A_re=np.subtract(renrm_chr,Rg_mat_re)\n",
    "#             S_re=np.matmul(np.transpose(A_re),A_re)/Nc_re\n",
    "#             w_re=np.sort(np.linalg.eig(S_re)[0])\n",
    "#             fout.write('{:8.5f}\\t\\t{:8.5f}\\t\\t{:8.5}\\t\\t'.format(w_re[0],w_re[1],w_re[2]))\n",
    "#         fout.write('\\n')\n",
    "#     return 0"
   ]
  }
 ],
 "metadata": {
  "interpreter": {
   "hash": "eb908e2ee61974166e0f6210d6d4eb74d980ad50e61ae905e9364c3983814675"
  },
  "kernelspec": {
   "display_name": "Python 3.7.10 ('newopenmm')",
   "language": "python",
   "name": "python3"
  },
  "language_info": {
   "codemirror_mode": {
    "name": "ipython",
    "version": 3
   },
   "file_extension": ".py",
   "mimetype": "text/x-python",
   "name": "python",
   "nbconvert_exporter": "python",
   "pygments_lexer": "ipython3",
   "version": "3.7.10"
  },
  "orig_nbformat": 4
 },
 "nbformat": 4,
 "nbformat_minor": 2
}
