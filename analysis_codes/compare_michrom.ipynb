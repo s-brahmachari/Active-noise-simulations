{
 "cells": [
  {
   "cell_type": "code",
   "execution_count": 8,
   "metadata": {},
   "outputs": [],
   "source": [
    "import numpy as np\n",
    "import matplotlib.pyplot as plt\n"
   ]
  },
  {
   "cell_type": "code",
   "execution_count": 27,
   "metadata": {},
   "outputs": [
    {
     "name": "stderr",
     "output_type": "stream",
     "text": [
      "/Users/sumitabha/anaconda3/envs/newopenmm/lib/python3.7/site-packages/ipykernel_launcher.py:9: RuntimeWarning: invalid value encountered in log\n",
      "  if __name__ == '__main__':\n",
      "/Users/sumitabha/anaconda3/envs/newopenmm/lib/python3.7/site-packages/ipykernel_launcher.py:9: RuntimeWarning: divide by zero encountered in true_divide\n",
      "  if __name__ == '__main__':\n",
      "/Users/sumitabha/anaconda3/envs/newopenmm/lib/python3.7/site-packages/ipykernel_launcher.py:9: RuntimeWarning: invalid value encountered in subtract\n",
      "  if __name__ == '__main__':\n",
      "/Users/sumitabha/anaconda3/envs/newopenmm/lib/python3.7/site-packages/ipykernel_launcher.py:15: RuntimeWarning: divide by zero encountered in true_divide\n",
      "  from ipykernel import kernelapp as app\n",
      "/Users/sumitabha/anaconda3/envs/newopenmm/lib/python3.7/site-packages/ipykernel_launcher.py:15: RuntimeWarning: invalid value encountered in subtract\n",
      "  from ipykernel import kernelapp as app\n"
     ]
    },
    {
     "data": {
      "text/plain": [
       "(0.0, 2.0)"
      ]
     },
     "execution_count": 27,
     "metadata": {},
     "output_type": "execute_result"
    },
    {
     "data": {
      "image/png": "[encoded data removed]",
      "text/plain": [
       "<Figure size 432x288 with 1 Axes>"
      ]
     },
     "metadata": {
      "needs_background": "light"
     },
     "output_type": "display_data"
    }
   ],
   "source": [
    "#FENE vs harmonic\n",
    "\n",
    "r=np.linspace(0.,5,500)\n",
    "r0=1.5\n",
    "kfb=30\n",
    "e=1\n",
    "s=1\n",
    "cut=2**(1/6)\n",
    "fene=- 0.5 * kfb * r0 * r0 * np.log(1-(r/r0)*(r/r0)) + (4 * e * ((s/r)**12 - (s/r)**6) + e) * np.heaviside(cut - r,0)\n",
    "Epsi=1\n",
    "Sig=1\n",
    "Ecut=4\n",
    "r_0=Sig*(((0.5*Ecut)/(4.0) - 0.25 +((0.5)**(2.0)))**(1.0/2.0) +0.5)**(-1.0/6.0)\n",
    "CutOff=2**(1./6)\n",
    "LJ=4.0 * Epsi * ((Sig/r)**12 - (Sig/r)**6) + Epsi\n",
    "sa_michrom= LJ* np.heaviside(r - r_0,0) * np.heaviside(CutOff - r,0) + np.heaviside(r_0 - r,0)* 0.5 * Ecut * (1.0 + np.tanh( (2.0 * LJ/Ecut) - 1.0 ))\n",
    "\n",
    "sa_michrom2= 0.5 * Ecut * (1.0 + np.tanh(1-20*(r-0.9) ))\n",
    "\n",
    "sa_exp=120 * np.exp(-2.5*r)\n",
    "harm_bond=0.5*50*(r-1)**2\n",
    "r2=1.8\n",
    "h2=0.5*100*(r-r2)**4*np.heaviside(r2-r,0)\n",
    "# plt.plot(r,fene)\n",
    "# plt.plot(r,sa_exp)\n",
    "plt.plot(r,harm_bond)\n",
    "plt.plot(r, sa_michrom)\n",
    "plt.plot(r, sa_michrom2)\n",
    "# plt.plot(r,harm_bond+sa_exp,'--')\n",
    "plt.axvline(1)\n",
    "plt.ylim(0,10)\n",
    "plt.xlim(0,2)"
   ]
  },
  {
   "cell_type": "code",
   "execution_count": 9,
   "metadata": {},
   "outputs": [
    {
     "data": {
      "text/plain": [
       "0.8908987181403393"
      ]
     },
     "execution_count": 9,
     "metadata": {},
     "output_type": "execute_result"
    }
   ],
   "source": [
    "2**(-1/6.)"
   ]
  },
  {
   "cell_type": "code",
   "execution_count": null,
   "metadata": {},
   "outputs": [],
   "source": []
  }
 ],
 "metadata": {
  "interpreter": {
   "hash": "eb908e2ee61974166e0f6210d6d4eb74d980ad50e61ae905e9364c3983814675"
  },
  "kernelspec": {
   "display_name": "Python 3.7.10 ('newopenmm')",
   "language": "python",
   "name": "python3"
  },
  "language_info": {
   "codemirror_mode": {
    "name": "ipython",
    "version": 3
   },
   "file_extension": ".py",
   "mimetype": "text/x-python",
   "name": "python",
   "nbconvert_exporter": "python",
   "pygments_lexer": "ipython3",
   "version": "3.7.10"
  },
  "orig_nbformat": 4
 },
 "nbformat": 4,
 "nbformat_minor": 2
}
