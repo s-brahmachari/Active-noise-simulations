{
 "cells": [
  {
   "cell_type": "code",
   "execution_count": 174,
   "metadata": {},
   "outputs": [],
   "source": [
    "import numpy as np\n",
    "import matplotlib.pyplot as plt\n",
    "from scipy.optimize import curve_fit\n",
    "from scipy.integrate import simps"
   ]
  },
  {
   "cell_type": "code",
   "execution_count": 121,
   "metadata": {},
   "outputs": [],
   "source": [
    "T=120*0.0083\n",
    "C=100\n",
    "P=25\n",
    "A=50\n",
    "w0=2*np.pi/3.5 # 1/nm\n",
    "c=T*C*w0**2\n",
    "p=T*P*w0**2\n",
    "\n",
    "def cs(f):\n",
    "    return c*(1-(C/(4*A))*np.sqrt(T/(A*f)))\n",
    "\n",
    "def g(f):\n",
    "    return f - np.sqrt(f*T/A)\n",
    "\n",
    "def xs(f,s):\n",
    "    return 1/(1-p/cs(f)) - np.sqrt(p/(2*g(f)*(1-p/cs(f))))*abs(s)\n",
    "\n",
    "def sig_s(f):\n",
    "    return (1/cs(f))*np.sqrt(2*p*g(f)/(1-p/cs(f)))\n",
    "\n",
    "def sig_p(f):\n",
    "    return (1/p)*np.sqrt(2*p*g(f)/(1-p/cs(f)))\n",
    "\n",
    "def FE(f,s):\n",
    "    return xs(f,s)*(-g(f) + 0.5*cs(f)*sig_s(f)**2) + (1-xs(f,s))*0.5*p*sig_p(f)**2"
   ]
  },
  {
   "cell_type": "code",
   "execution_count": 217,
   "metadata": {},
   "outputs": [
    {
     "name": "stdout",
     "output_type": "stream",
     "text": [
      "           4             3             2\n",
      "1.141e-09 x - 1.188e-07 x + 0.0001461 x + 0.1684 x + 95.28\n"
     ]
    },
    {
     "data": {
      "image/png": "[encoded data removed]",
      "text/plain": [
       "<Figure size 432x288 with 1 Axes>"
      ]
     },
     "metadata": {
      "needs_background": "light"
     },
     "output_type": "display_data"
    }
   ],
   "source": [
    "sig_vals=np.arange(0.02,0.1,0.001)\n",
    "f_vals=np.arange(0.1,1,0.01)\n",
    "FE_fix_f=FE(f_vals, 0.06)\n",
    "z_vals=-np.gradient(FE_fix_f)/np.gradient(f_vals)\n",
    "# z_vals=np.linspace(0,0.5,len(f_vals))\n",
    "FE_fix_z=FE_fix_f+f_vals*z_vals\n",
    "\n",
    "f_av=np.gradient(FE_fix_z)/np.gradient(z_vals)\n",
    "# k_z=np.gradient(-np.gradient(FE_fix_z)/np.gradient(z_vals))/np.gradient(z_vals)\n",
    "# f_compute=-np.gradient(FE_fix_z)/np.gradient(z_vals)\n",
    "# plt.plot(sig_vals, FE(0.25, sig_vals),'.-')\n",
    "plt.plot(f_vals, z_vals)\n",
    "plt.axvline(0.25)\n",
    "plt.axhline(0.29)\n",
    "# plt.plot(z_vals, 330*FE_fix_z)\n",
    "# plt.plot(f_vals, 330*FE_fix_f)\n",
    "\n",
    "# plt.plot(z_vals*660, 660*FE_fix_z,'.')\n",
    "# plt.plot(f_vals,f_av)\n",
    "# plt.plot(f_vals, -np.gradient(FE(f_vals,0.04))/np.gradient(f_vals))\n",
    "\n",
    "\n",
    "# plt.plot(z_vals, FE_fix_z)\n",
    "# plt.plot(z_vals,k_z,'.-')\n",
    "\n",
    "popt=np.poly1d(np.polyfit(z_vals*660, 660*FE_fix_z,4))\n",
    "# plt.plot(np.linspace(0.,660,100), popt(np.linspace(0.,660,100)),'k--')\n",
    "print(popt)\n",
    "# plt.plot(f_vals*4.1, fe_const_z,'r.-')\n",
    "# plt.plot(f_vals*4.1, fe_const_f,'g.-')\n",
    "# plt.plot(f_vals, sig_s(f_vals),'-')\n",
    "# plt.axhline(0,c='k',ls='--')\n",
    "# plt.axhline(1,c='k',ls='--')\n",
    "# plt.ylim(0,150)\n",
    "# plt.xlim(0,660)\n"
   ]
  },
  {
   "cell_type": "code",
   "execution_count": 219,
   "metadata": {},
   "outputs": [
    {
     "data": {
      "text/plain": [
       "95.69999999999999"
      ]
     },
     "execution_count": 219,
     "metadata": {},
     "output_type": "execute_result"
    }
   ],
   "source": [
    "330*0.29"
   ]
  },
  {
   "cell_type": "code",
   "execution_count": null,
   "metadata": {},
   "outputs": [],
   "source": []
  }
 ],
 "metadata": {
  "interpreter": {
   "hash": "eb908e2ee61974166e0f6210d6d4eb74d980ad50e61ae905e9364c3983814675"
  },
  "kernelspec": {
   "display_name": "Python 3.7.10 ('newopenmm')",
   "language": "python",
   "name": "python3"
  },
  "language_info": {
   "codemirror_mode": {
    "name": "ipython",
    "version": 3
   },
   "file_extension": ".py",
   "mimetype": "text/x-python",
   "name": "python",
   "nbconvert_exporter": "python",
   "pygments_lexer": "ipython3",
   "version": "3.7.10"
  },
  "orig_nbformat": 4
 },
 "nbformat": 4,
 "nbformat_minor": 2
}
