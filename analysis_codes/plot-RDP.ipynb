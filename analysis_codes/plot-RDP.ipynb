{
 "cells": [
  {
   "cell_type": "code",
   "execution_count": 1,
   "id": "7cba7b28",
   "metadata": {},
   "outputs": [],
   "source": [
    "import numpy as np\n",
    "import matplotlib.pyplot as plt\n",
    "import os\n",
    "from scipy.optimize import curve_fit\n",
    "from matplotlib import rcParams as rc\n",
    "import matplotlib as mpl\n",
    "import matplotlib.pylab as pl\n",
    "# import matplotlib.cm as cm\n",
    "from matplotlib.colors import LogNorm\n",
    "import matplotlib.ticker as ticker\n",
    "import matplotlib.tri as tri\n",
    "import decimal\n",
    "from scipy.integrate import simps\n"
   ]
  },
  {
   "cell_type": "code",
   "execution_count": 2,
   "id": "9e731db4",
   "metadata": {},
   "outputs": [],
   "source": [
    "def moving_avg(x_data,window):\n",
    "    # return x_data\n",
    "    return np.convolve(x_data,np.ones(int(window)),'valid')/window\n"
   ]
  },
  {
   "cell_type": "code",
   "execution_count": 7,
   "id": "963577ce",
   "metadata": {},
   "outputs": [
    {
     "ename": "AttributeError",
     "evalue": "module 'matplotlib.pyplot' has no attribute 'set_xlabel'",
     "output_type": "error",
     "traceback": [
      "\u001b[0;31m---------------------------------------------------------------------------\u001b[0m",
      "\u001b[0;31mAttributeError\u001b[0m                            Traceback (most recent call last)",
      "\u001b[0;32m<ipython-input-7-48b0a31b92e8>\u001b[0m in \u001b[0;36m<module>\u001b[0;34m\u001b[0m\n\u001b[1;32m     21\u001b[0m \u001b[0;34m\u001b[0m\u001b[0m\n\u001b[1;32m     22\u001b[0m \u001b[0;34m\u001b[0m\u001b[0m\n\u001b[0;32m---> 23\u001b[0;31m     \u001b[0mplt\u001b[0m\u001b[0;34m.\u001b[0m\u001b[0mset_xlabel\u001b[0m\u001b[0;34m(\u001b[0m\u001b[0;34m'Radial position'\u001b[0m\u001b[0;34m)\u001b[0m\u001b[0;34m\u001b[0m\u001b[0;34m\u001b[0m\u001b[0m\n\u001b[0m\u001b[1;32m     24\u001b[0m     \u001b[0mplt\u001b[0m\u001b[0;34m.\u001b[0m\u001b[0mset_ylabel\u001b[0m\u001b[0;34m(\u001b[0m\u001b[0;34m'Number density'\u001b[0m\u001b[0;34m)\u001b[0m\u001b[0;34m\u001b[0m\u001b[0;34m\u001b[0m\u001b[0m\n\u001b[1;32m     25\u001b[0m \u001b[0;34m\u001b[0m\u001b[0m\n",
      "\u001b[0;31mAttributeError\u001b[0m: module 'matplotlib.pyplot' has no attribute 'set_xlabel'"
     ]
    },
    {
     "data": {
      "image/png": "[encoded data removed]",
      "text/plain": [
       "<Figure size 432x288 with 1 Axes>"
      ]
     },
     "metadata": {
      "needs_background": "light"
     },
     "output_type": "display_data"
    }
   ],
   "source": [
    "fpath='../../data/SAC_anneal/'\n",
    "fnames=os.listdir(fpath+'RDP/')\n",
    "for fname in fnames:\n",
    "    if '.npz' in fname and 'comRadNumDens' in fname and 'rep1' in fname:\n",
    "        npzfile=np.load(fpath+'RDP/'+fname)\n",
    "        hist,bins=npzfile['hist'],npzfile['bins']\n",
    "        Nrep=1\n",
    "        for index in range(1,11):\n",
    "            fname_rep=fname.replace('rep1','rep{}'.format(index))\n",
    "            if fname_rep in fnames:\n",
    "                repfile=np.load(fpath+'RDP/'+fname_rep)\n",
    "                hist+=repfile['hist']\n",
    "                Nrep+=1\n",
    "\n",
    "        hist=hist/Nrep\n",
    "\n",
    "        plt.plot(bins,hist, '.-',lw=1,)\n",
    "\n",
    "                # print(F,Ta, np.mean(npzfile['hist'][:n1])-p1_eq)\n",
    "\n",
    "    \n",
    "\n",
    "    plt.set_xlabel('Radial position')\n",
    "    plt.set_ylabel('Number density')\n",
    "    "
   ]
  },
  {
   "cell_type": "code",
   "execution_count": 3,
   "id": "661ab3f2",
   "metadata": {},
   "outputs": [
    {
     "ename": "ValueError",
     "evalue": "could not convert string to float: 'rep10'",
     "output_type": "error",
     "traceback": [
      "\u001b[0;31m---------------------------------------------------------------------------\u001b[0m",
      "\u001b[0;31mValueError\u001b[0m                                Traceback (most recent call last)",
      "\u001b[0;32m<ipython-input-3-395c6ece7a5f>\u001b[0m in \u001b[0;36m<module>\u001b[0;34m\u001b[0m\n\u001b[1;32m     26\u001b[0m             \u001b[0;31m# print(fname.split('_'))\u001b[0m\u001b[0;34m\u001b[0m\u001b[0;34m\u001b[0m\u001b[0;34m\u001b[0m\u001b[0m\n\u001b[1;32m     27\u001b[0m             \u001b[0mT\u001b[0m\u001b[0;34m=\u001b[0m \u001b[0mfloat\u001b[0m\u001b[0;34m(\u001b[0m\u001b[0mfname\u001b[0m\u001b[0;34m.\u001b[0m\u001b[0msplit\u001b[0m\u001b[0;34m(\u001b[0m\u001b[0;34m'_'\u001b[0m\u001b[0;34m)\u001b[0m\u001b[0;34m[\u001b[0m\u001b[0mind\u001b[0m\u001b[0;34m]\u001b[0m\u001b[0;34m.\u001b[0m\u001b[0mreplace\u001b[0m\u001b[0;34m(\u001b[0m\u001b[0;34m'T'\u001b[0m\u001b[0;34m,\u001b[0m\u001b[0;34m''\u001b[0m\u001b[0;34m)\u001b[0m\u001b[0;34m)\u001b[0m\u001b[0;34m\u001b[0m\u001b[0;34m\u001b[0m\u001b[0m\n\u001b[0;32m---> 28\u001b[0;31m             \u001b[0mF\u001b[0m\u001b[0;34m=\u001b[0m\u001b[0mfloat\u001b[0m\u001b[0;34m(\u001b[0m\u001b[0mfname\u001b[0m\u001b[0;34m.\u001b[0m\u001b[0msplit\u001b[0m\u001b[0;34m(\u001b[0m\u001b[0;34m'_'\u001b[0m\u001b[0;34m)\u001b[0m\u001b[0;34m[\u001b[0m\u001b[0mind\u001b[0m\u001b[0;34m+\u001b[0m\u001b[0;36m1\u001b[0m\u001b[0;34m]\u001b[0m\u001b[0;34m.\u001b[0m\u001b[0mreplace\u001b[0m\u001b[0;34m(\u001b[0m\u001b[0;34m'F'\u001b[0m\u001b[0;34m,\u001b[0m\u001b[0;34m''\u001b[0m\u001b[0;34m)\u001b[0m\u001b[0;34m)\u001b[0m\u001b[0;34m\u001b[0m\u001b[0;34m\u001b[0m\u001b[0m\n\u001b[0m\u001b[1;32m     29\u001b[0m             \u001b[0mTa\u001b[0m\u001b[0;34m=\u001b[0m\u001b[0mfloat\u001b[0m\u001b[0;34m(\u001b[0m\u001b[0mfname\u001b[0m\u001b[0;34m.\u001b[0m\u001b[0msplit\u001b[0m\u001b[0;34m(\u001b[0m\u001b[0;34m'_'\u001b[0m\u001b[0;34m)\u001b[0m\u001b[0;34m[\u001b[0m\u001b[0mind\u001b[0m\u001b[0;34m+\u001b[0m\u001b[0;36m2\u001b[0m\u001b[0;34m]\u001b[0m\u001b[0;34m.\u001b[0m\u001b[0mreplace\u001b[0m\u001b[0;34m(\u001b[0m\u001b[0;34m'Ta'\u001b[0m\u001b[0;34m,\u001b[0m\u001b[0;34m''\u001b[0m\u001b[0;34m)\u001b[0m\u001b[0;34m)\u001b[0m\u001b[0;34m\u001b[0m\u001b[0;34m\u001b[0m\u001b[0m\n\u001b[1;32m     30\u001b[0m             \u001b[0mkb\u001b[0m\u001b[0;34m=\u001b[0m\u001b[0mfloat\u001b[0m\u001b[0;34m(\u001b[0m\u001b[0mfname\u001b[0m\u001b[0;34m.\u001b[0m\u001b[0msplit\u001b[0m\u001b[0;34m(\u001b[0m\u001b[0;34m'_'\u001b[0m\u001b[0;34m)\u001b[0m\u001b[0;34m[\u001b[0m\u001b[0mind\u001b[0m\u001b[0;34m+\u001b[0m\u001b[0;36m7\u001b[0m\u001b[0;34m]\u001b[0m\u001b[0;34m.\u001b[0m\u001b[0mreplace\u001b[0m\u001b[0;34m(\u001b[0m\u001b[0;34m'kb'\u001b[0m\u001b[0;34m,\u001b[0m\u001b[0;34m''\u001b[0m\u001b[0;34m)\u001b[0m\u001b[0;34m)\u001b[0m\u001b[0;34m\u001b[0m\u001b[0;34m\u001b[0m\u001b[0m\n",
      "\u001b[0;31mValueError\u001b[0m: could not convert string to float: 'rep10'"
     ]
    },
    {
     "data": {
      "image/png": "[encoded data removed]",
      "text/plain": [
       "<Figure size 1080x288 with 3 Axes>"
      ]
     },
     "metadata": {
      "needs_background": "light"
     },
     "output_type": "display_data"
    }
   ],
   "source": [
    "mpl.rcParams.update({'font.size':14, 'text.usetex':True})\n",
    "fig,[ax1,ax2,ax]=plt.subplots(1,3,figsize=(15,4),gridspec_kw={'wspace':0.4, 'hspace':0.4})\n",
    "\n",
    "def func(xi,a,b,c,d,e,f,g):\n",
    "    return a+b*(xi-c)**f+d*(xi-e)**g\n",
    "\n",
    "ind=4\n",
    "fpath='../../data/SAC_anneal/'\n",
    "for (name,tp) in [('low',0.01)]:#,('mid',1.0), ('high',100.)]:\n",
    "    Ts,Fs,Tas=[],[],[]\n",
    "    Rmax=[]\n",
    "    Rp=[]\n",
    "    Rpp=[]\n",
    "    betas=[]\n",
    "    conf=[]\n",
    "    err2=[]\n",
    "\n",
    "    ax.clear()\n",
    "    colors = pl.cm.hot(np.linspace(0,1,15))\n",
    "    colors=['r','c','m','g','b']\n",
    "    count=0\n",
    "    wval=3\n",
    "\n",
    "    for fname in os.listdir(fpath+'RDP/'):\n",
    "        if '.npz' in fname and 'comRadNumDens' in fname:# and 'rep2' in fname:\n",
    "            # print(fname.split('_'))\n",
    "            T= float(fname.split('_')[ind].replace('T',''))\n",
    "            F=float(fname.split('_')[ind+1].replace('F',''))\n",
    "            Ta=float(fname.split('_')[ind+2].replace('Ta',''))\n",
    "            kb=float(fname.split('_')[ind+7].replace('kb',''))\n",
    "            Esoft=float(fname.split('_')[ind+3].replace('Esoft',''))\n",
    "            R0=float(fname.split('_')[ind+4].replace('R0',''))\n",
    "            dt=float(fname.split('_')[ind+8].replace('dt',''))\n",
    "            # print(T,F,Ta,Esoft,R0)\n",
    "            \n",
    "            \n",
    "            if F==0 and Ta==1:\n",
    "                npzfile=np.load(fpath+'RDP/'+fname)\n",
    "                nbins=npzfile['bins'].shape[0]\n",
    "                n0,n1,n2=int(nbins*0.),int(nbins*0.4), int(nbins*0.6)\n",
    "                p1_eq=simps(npzfile['bins'][n0:n1]**2*4*np.pi*npzfile['hist'][n0:n1]/1200,npzfile['bins'][n0:n1])\n",
    "                p2_eq=simps(npzfile['bins'][n1:n2]**2*4*np.pi*npzfile['hist'][n1:n2]/1200,npzfile['bins'][n1:n2])\n",
    "                p3_eq=np.mean(npzfile['hist'][int(0.6*nbins):])\n",
    "\n",
    "                hist_eq=npzfile['hist']\n",
    "                bin_eq=npzfile['bins']\n",
    "                print(npzfile['hist'].shape)\n",
    "\n",
    "                # p1_eq=np.max(npzfile['hist'][n0:n1])\n",
    "\n",
    "    fnames=os.listdir(fpath+'RDP/')\n",
    "    for fname in fnames:\n",
    "        if '.npz' in fname and 'comRadNumDens' in fname and 'rep1' in fname:\n",
    "            # print(fname.split('_'))\n",
    "            T= float(fname.split('_')[ind].replace('T',''))\n",
    "            F=float(fname.split('_')[ind+1].replace('F',''))\n",
    "            Ta=float(fname.split('_')[ind+2].replace('Ta',''))\n",
    "            kb=float(fname.split('_')[ind+7].replace('kb',''))\n",
    "            Esoft=float(fname.split('_')[ind+3].replace('Esoft',''))\n",
    "            R0=float(fname.split('_')[ind+4].replace('R0',''))\n",
    "            dt=float(fname.split('_')[ind+8].replace('dt',''))\n",
    "            # print(T,F,Ta,Esoft,R0)\n",
    "            # if F==0: continue\n",
    "            npzfile=np.load(fpath+'RDP/'+fname)\n",
    "            beta=F**2*Ta/(0.1*T*0.0083)\n",
    "            Ts.append(T)\n",
    "            Tas.append(Ta)\n",
    "            Fs.append(F)\n",
    "            betas.append(beta)\n",
    "            conf.append(F*Ta/(0.1*R0))\n",
    "\n",
    "            # print(npzfile['hist'].shape)\n",
    "\n",
    "            Nrep=1\n",
    "            for index in range(1,11):\n",
    "                fname_rep=fname.replace('rep1','rep{}'.format(index))\n",
    "                if fname_rep in fnames:\n",
    "                    repfile=np.load(fpath+'MSD/'+fname_rep)\n",
    "                    npzfile['hist']+=repfile['hist']\n",
    "                    Nrep+=1\n",
    "\n",
    "            npzfile['hist']=npzfile['hist']/Nrep\n",
    "\n",
    "            dp=np.gradient(npzfile['hist'])/np.gradient(npzfile['bins'])\n",
    "            ddp=np.gradient(dp)/np.gradient(npzfile['bins'])\n",
    "           \n",
    "            # dp=moving_avg(dp,2*wval)\n",
    "            ddp=moving_avg(ddp,2*wval)\n",
    "\n",
    "            Rav=simps(npzfile['bins']**3*4*np.pi*npzfile['hist']/1200,npzfile['bins'])\n",
    "            Rm=npzfile['bins'][np.where(npzfile['hist']==npzfile['hist'].max())][0]\n",
    "\n",
    "            p1=simps(npzfile['bins'][n0:n1]**2*4*np.pi*npzfile['hist'][n0:n1]/1200,npzfile['bins'][n0:n1])\n",
    "            p2=simps(npzfile['bins'][n1:n2]**2*4*np.pi*npzfile['hist'][n1:n2]/1200,npzfile['bins'][n1:n2])\n",
    "            p3=simps(npzfile['bins'][n2:]**2*4*np.pi*npzfile['hist'][n2:]/1200,npzfile['bins'][n2:])\n",
    "\n",
    "            # p1=np.max(npzfile['hist'][n0:n1])\n",
    "            # print(npzfile['hist'].shape)\n",
    "            # err2.append(np.sum((hist_eq-npzfile['hist'][:len(hist_eq)])**2))\n",
    "                \n",
    "\n",
    "            #check at boundary if there is a peak: dp should cross zero once\n",
    "            cross_count_dp=0\n",
    "            for ix in range(n2,len(dp)-1):\n",
    "                if np.sign(dp[ix])!=np.sign(dp[ix+1]):\n",
    "                    cross_count_dp+=1\n",
    "\n",
    "            cross_count_ddp=0\n",
    "            for ix in range(n2,len(ddp)-1):\n",
    "                if np.sign(ddp[ix])!=np.sign(ddp[ix+1]):\n",
    "                    cross_count_ddp+=1\n",
    "            \n",
    "            state=None\n",
    "\n",
    "            # if cross_count_dp==1 and p1>p1_eq: state='center-collapse'\n",
    "\n",
    "            if cross_count_dp==2: state='boundary-peak'\n",
    "            elif cross_count_dp>2: state='coex'\n",
    "\n",
    "            else: state='eq-like'\n",
    "            \n",
    "            # elif cross_count_dp==1 and cross_count_ddp>1 and p1<p1_eq:\n",
    "            #     Rp.append(3)\n",
    "            #     print('yosemite')\n",
    "                \n",
    "            # else: Rp.append(0)\n",
    "\n",
    "            Rp.append(state)\n",
    "            Rpp.append(p1)\n",
    "\n",
    "            if F==0 and Ta==1: \n",
    "                Fs.append(0)\n",
    "                Tas.append(0.01)\n",
    "                Rp.append(state)\n",
    "                Rpp.append(p1)\n",
    "\n",
    "            if (F==0 and Ta==1) or (F==0.3 and Ta==0.1) or (F==2 and Ta==0.3) or (F==1.5 and Ta==2) or (F==2 and Ta==100):\n",
    "                print(F,Ta, p1,p1_eq, cross_count_dp,cross_count_ddp)\n",
    "                # ax1.plot(npzfile['bins'],ddp, '.-',label='$F={:.1f}\\ \\\\tau_a={:.2f}$'.format(F,Ta),lw=2,)\n",
    "                ax2.plot(npzfile['bins'],dp, '.-',label='$F={:.1f}\\ \\\\tau_a={:.2f}$'.format(F,Ta),lw=2,)\n",
    "                \n",
    "                ax1.plot(npzfile['bins'][wval-1:-wval],ddp, '.-',label='$F={:.1f}\\ \\\\tau_a={:.2f}$'.format(F,Ta),lw=2,)\n",
    "                # ax2.plot(npzfile['bins'][wval-1:-wval],dp, '.-',label='$F={:.1f}\\ \\\\tau_a={:.2f}$'.format(F,Ta),lw=2,)\n",
    "                ax.plot(npzfile['bins'],npzfile['hist'], '.-',label='$F={:.1f}\\ \\\\tau_a={:.2f}$'.format(F,Ta),lw=1,)\n",
    "\n",
    "                # print(F,Ta, np.mean(npzfile['hist'][:n1])-p1_eq)\n",
    "\n",
    "    for axi in [ax,ax1,ax2]:\n",
    "        axi.axvline(npzfile['bins'][n0],c='0.2',ls='--',lw=0.7)\n",
    "        axi.axvline(npzfile['bins'][n1],c='0.2',ls='--',lw=0.7)\n",
    "        axi.axvline(npzfile['bins'][n2],c='0.2',ls='--',lw=0.7)\n",
    "        axi.axhline(0, c='k',ls='--', lw=0.7)\n",
    "\n",
    "        axi.set_xlim(0,22)\n",
    "    \n",
    "\n",
    "    ax.set_xlabel('Radial position')\n",
    "    ax.set_ylabel('Number density')\n",
    "    ax.set_ylim(0,0.003)\n",
    "    ax.legend(loc='lower left', bbox_to_anchor=(1,0))\n",
    "    \n",
    "    ax1.set_yscale('SymLog',linthresh=1e-4)\n",
    "    ax2.set_yscale('SymLog',linthresh=1e-4)\n",
    "\n",
    "    # ax.axvline(20)\n",
    "    # ax.axvline(19)\n",
    "    # fig.savefig(fpath+'plots/RDP.png'.format(name), dpi=300, bbox_inches='tight')\n",
    "    # fig.savefig(fpath+'plots/RDP_{}Ta.png'.format(name), dpi=300, bbox_inches='tight')\n"
   ]
  },
  {
   "cell_type": "code",
   "execution_count": 77,
   "id": "175239a8",
   "metadata": {},
   "outputs": [
    {
     "name": "stdout",
     "output_type": "stream",
     "text": [
      "138 138 139\n"
     ]
    },
    {
     "data": {
      "image/png": "[encoded data removed]",
      "text/plain": [
       "<Figure size 360x288 with 2 Axes>"
      ]
     },
     "metadata": {
      "needs_background": "light"
     },
     "output_type": "display_data"
    }
   ],
   "source": [
    "fig,ax=plt.subplots(1,1,figsize=(5,4),gridspec_kw={'wspace':0.4, 'hspace':0.4})\n",
    "ax.clear()\n",
    "print(len(conf), len(betas), len(Rpp))\n",
    "# Xi,Yi=np.meshgrid(np.geomspace(0.01,5,40),np.logspace(-2,3,40))\n",
    "Xi,Yi=np.meshgrid(np.unique(Fs),np.unique(Tas))\n",
    "# Xi,Yi=np.meshgrid(np.unique(conf),np.unique(betas))\n",
    "Xp,Yp=np.meshgrid(np.logspace(-4,1,100), np.logspace(-4,4,100))\n",
    "triang=tri.Triangulation(Fs,Tas)\n",
    "# triang=tri.Triangulation(conf,betas)\n",
    "interpZ=tri.LinearTriInterpolator(triang,np.array(Rpp))\n",
    "Zi=interpZ(Xi,Yi)\n",
    "plt.contourf(Xi, Yi, Zi, levels=np.arange(0.01,0.16,0.002),cmap='gist_rainbow',)\n",
    "plt.colorbar()\n",
    "plt.contour(Xp,Yp,Xp**2*Yp/(0.1*0.0083*200), levels=[1],colors='k',)\n",
    "plt.contour(Xp,Yp,Xp*Yp/(0.1*20), levels=[1],colors='k',)\n",
    "# plt.contour(Xi,Yi,Xi*Yi/(0.1*40), levels=[1],colors='k',alpha=0.3)\n",
    "\n",
    "for ix in range(len(Fs)):\n",
    "    if Rp[ix]=='eq-like':\n",
    "        plt.plot(Fs[ix],Tas[ix],'w+',)\n",
    "    elif Rp[ix]=='boundary-peak':\n",
    "        plt.plot(Fs[ix],Tas[ix],'k.',)\n",
    "    elif Rp[ix]=='coex':\n",
    "        plt.plot(Fs[ix],Tas[ix],'x',c='0.5')\n",
    "    # elif Rp[ix]==3:\n",
    "    #     plt.plot(Fs[ix],Tas[ix],'k.',)\n",
    "\n",
    "# interpZp=tri.LinearTriInterpolator(triang,np.around(np.array(Rpp), 3))\n",
    "# Zp=interpZp(Xi,Yi)\n",
    "# plt.contourf(Xi, Yi, Zp, levels=[0,1,2], hatches=['/','.','////'], colors='None')\n",
    "# plt.colorbar()\n",
    "# plt.contour(Xi, Yi, Zi, levels=[1,], colors='k')\n",
    "# plt.contour(Xi, Yi, Zp, levels=[1.], colors='k')\n",
    "# cs= plt.contour(Xi,Yi,Xi**2*Yi/(0.1*0.0083*T0), colors='k', levels=[1, 10,1e2,1e3],)\n",
    "\n",
    "# plt.clabel(cs, cs.levels, inline=True,fmt=fmt, fontsize=16)\n",
    "# plt.plot(Fs,Tas,'k+',)\n",
    "# for fval,taval,lc in [(0.0,1.0,'r'),(0.3,1,'c'),(2,1,'m'),(2,100,'b'),(0.3,100,'g')]:\n",
    "    # plt.plot(fval,taval,'o',markersize=10,color=lc)\n",
    "\n",
    "plt.xlabel('$F$')\n",
    "plt.ylabel('$\\\\tau_a$')\n",
    "# plt.xlim(1,1e3)\n",
    "\n",
    "plt.loglog()\n",
    "# plt.title('Average radial position $\\\\langle R\\\\rangle/R_{eq}$')\n",
    "plt.xlim(0.01,5)\n",
    "plt.ylim(0.01,1e3)\n",
    "# plt.axhline(10,c='k')\n",
    "plt.savefig(fpath+'plots/RDP_regime_diag.png', dpi=300, bbox_inches='tight')\n"
   ]
  },
  {
   "cell_type": "code",
   "execution_count": 15,
   "id": "d2aaf3d2",
   "metadata": {},
   "outputs": [
    {
     "ename": "NameError",
     "evalue": "name 'cm' is not defined",
     "output_type": "error",
     "traceback": [
      "\u001b[0;31m---------------------------------------------------------------------------\u001b[0m",
      "\u001b[0;31mNameError\u001b[0m                                 Traceback (most recent call last)",
      "\u001b[0;32m<ipython-input-15-92e7d64d7e49>\u001b[0m in \u001b[0;36m<module>\u001b[0;34m\u001b[0m\n\u001b[1;32m      5\u001b[0m \u001b[0;34m\u001b[0m\u001b[0m\n\u001b[1;32m      6\u001b[0m \u001b[0mnorm\u001b[0m \u001b[0;34m=\u001b[0m \u001b[0mmpl\u001b[0m\u001b[0;34m.\u001b[0m\u001b[0mcolors\u001b[0m\u001b[0;34m.\u001b[0m\u001b[0mNormalize\u001b[0m\u001b[0;34m(\u001b[0m\u001b[0mvmin\u001b[0m\u001b[0;34m=\u001b[0m\u001b[0;36m0\u001b[0m\u001b[0;34m,\u001b[0m \u001b[0mvmax\u001b[0m\u001b[0;34m=\u001b[0m\u001b[0;36m0.6\u001b[0m\u001b[0;34m)\u001b[0m\u001b[0;34m\u001b[0m\u001b[0;34m\u001b[0m\u001b[0m\n\u001b[0;32m----> 7\u001b[0;31m \u001b[0mcmap\u001b[0m \u001b[0;34m=\u001b[0m \u001b[0mcm\u001b[0m\u001b[0;34m.\u001b[0m\u001b[0mgist_rainbow\u001b[0m\u001b[0;34m\u001b[0m\u001b[0;34m\u001b[0m\u001b[0m\n\u001b[0m\u001b[1;32m      8\u001b[0m \u001b[0mm\u001b[0m \u001b[0;34m=\u001b[0m \u001b[0mcm\u001b[0m\u001b[0;34m.\u001b[0m\u001b[0mScalarMappable\u001b[0m\u001b[0;34m(\u001b[0m\u001b[0mnorm\u001b[0m\u001b[0;34m=\u001b[0m\u001b[0mnorm\u001b[0m\u001b[0;34m,\u001b[0m \u001b[0mcmap\u001b[0m\u001b[0;34m=\u001b[0m\u001b[0mcmap\u001b[0m\u001b[0;34m)\u001b[0m\u001b[0;34m\u001b[0m\u001b[0;34m\u001b[0m\u001b[0m\n\u001b[1;32m      9\u001b[0m \u001b[0;31m# print(m.to_rgba(x))\u001b[0m\u001b[0;34m\u001b[0m\u001b[0;34m\u001b[0m\u001b[0;34m\u001b[0m\u001b[0m\n",
      "\u001b[0;31mNameError\u001b[0m: name 'cm' is not defined"
     ]
    }
   ],
   "source": [
    "ind=4\n",
    "\n",
    "fmt = ticker.LogFormatterMathtext()\n",
    "fmt.create_dummy_axis()\n",
    "\n",
    "norm = mpl.colors.Normalize(vmin=0, vmax=0.6)\n",
    "cmap = cm.gist_rainbow\n",
    "m = cm.ScalarMappable(norm=norm, cmap=cmap)\n",
    "# print(m.to_rgba(x))\n",
    "Ts,Fs,Tas=[],[],[]\n",
    "Rmax=[]\n",
    "betas=[]\n",
    "T0=200\n",
    "fpath='../../data/SAC_AB/RDP/'\n",
    "\n",
    "for fname in os.listdir(fpath):\n",
    "    if '.npz' in fname and 'RadNumDens_A' in fname and 'rep1' in fname:\n",
    "        # print(fname)#.split('_'))\n",
    "        T= float(fname.split('_')[ind].replace('T',''))\n",
    "        F=float(fname.split('_')[ind+1].replace('F',''))\n",
    "        Ta=float(fname.split('_')[ind+2].replace('Ta',''))\n",
    "        kb=float(fname.split('_')[ind+7].replace('kb',''))\n",
    "        Esoft=float(fname.split('_')[ind+3].replace('Esoft',''))\n",
    "        R0=float(fname.split('_')[ind+4].replace('R0',''))\n",
    "        dt=float(fname.split('_')[ind+8].replace('dt',''))\n",
    "        # print(T,F,Ta,Esoft,R0)\n",
    "        if kb==5: continue\n",
    "        if T==T0:\n",
    "            npzfile=np.load(fpath+fname)\n",
    "       \n",
    "            b_act=F**2*Ta/(0.1*0.0083*T)\n",
    "\n",
    "            betas.append(b_act)\n",
    "            Ts.append(T)\n",
    "            Tas.append(Ta)\n",
    "            Fs.append(F)\n",
    "\n",
    "            Rm=npzfile['bins'][np.where(npzfile['hist']==npzfile['hist'].max())][0]\n",
    "            Rav=simps(npzfile['bins']**3*4*np.pi*npzfile['hist']/1200,npzfile['bins'])\n",
    "            Rsd=np.sqrt(simps((npzfile['bins']-Rav)**2*4*np.pi*npzfile['bins']*npzfile['hist']/1200,npzfile['bins']))\n",
    "            # print(Rav)\n",
    "\n",
    "            Rav=np.mean(npzfile['hist'][1:5])\n",
    "            Rmax.append((F,Ta,b_act,Rav, Rsd**2/Rav))\n",
    "        \n",
    "print(len(Rmax))\n",
    "Xi,Yi=np.meshgrid(np.logspace(-1,1,10),np.logspace(0,3,10))\n",
    "triang=tri.Triangulation(Fs,Tas)\n",
    "interpZ=tri.LinearTriInterpolator(triang,[xx[3] for xx in Rmax])#, kind='geom')\n",
    "Zi=interpZ(Xi,Yi)\n",
    "# plt.contourf(Xi, Yi, Zi, levels=np.arange(0.,0.2,0.01),cmap='RdBu')\n",
    "# plt.colorbar()\n",
    "plt.plot([xx[2] for xx in Rmax],[xx[3] for xx in Rmax],'o')\n",
    "# cs= plt.contour(Xi,Yi,Xi**2*Yi/(0.1*0.0083*T0), colors='k', levels=[10],)\n",
    "\n",
    "# plt.clabel(cs, cs.levels, inline=True,fmt=fmt, fontsize=16)\n",
    "\n",
    "# plt.plot(Fs,Tas,'.',c='b',markersize=5)\n",
    "plt.xlabel('$F$')\n",
    "plt.ylabel('$\\\\tau_a$')\n",
    "plt.title('Average radial position ($T={:.0f}$)'.format(T0))\n",
    "\n",
    "plt.loglog()\n",
    "# plt.savefig('../../plots/Rouse/avg_radial_pos_Ft_T200.png', dpi=300,bbox_inches='tight')"
   ]
  },
  {
   "cell_type": "code",
   "execution_count": 41,
   "id": "b37887bc",
   "metadata": {},
   "outputs": [
    {
     "data": {
      "image/png": "[encoded data removed]",
      "text/plain": [
       "<Figure size 432x288 with 2 Axes>"
      ]
     },
     "metadata": {
      "needs_background": "light"
     },
     "output_type": "display_data"
    }
   ],
   "source": [
    "ind=4\n",
    "# norm = mpl.colors.Normalize(vmin=0, vmax=0.6)\n",
    "# cmap = mpl.colors.gist_rainbow\n",
    "# m = cm.ScalarMappable(norm=norm, cmap=cmap)\n",
    "# print(m.to_rgba(x))\n",
    "Ts,Fs,Tas=[],[],[]\n",
    "Rmax=[]\n",
    "betas=[]\n",
    "T0=100\n",
    "Rav_eq=0\n",
    "fpath='../../data/SAC_exp/RDP/'\n",
    "\n",
    "for fname in os.listdir(fpath):\n",
    "    if '.npz' in fname and 'RadNumDens' in fname:\n",
    "        # print(fname)#.split('_'))\n",
    "        T= float(fname.split('_')[ind].replace('T',''))\n",
    "        F=float(fname.split('_')[ind+1].replace('F',''))\n",
    "        Ta=float(fname.split('_')[ind+2].replace('Ta',''))\n",
    "        kb=float(fname.split('_')[ind+7].replace('kb',''))\n",
    "        Esoft=float(fname.split('_')[ind+3].replace('Esoft',''))\n",
    "        R0=float(fname.split('_')[ind+4].replace('R0',''))\n",
    "        dt=float(fname.split('_')[ind+8].replace('dt',''))\n",
    "        # print(T,F,Ta,Esoft,R0)\n",
    "        \n",
    "        npzfile=np.load(fpath+fname)\n",
    "    \n",
    "        b_act=F**2*Ta/(0.1*0.0083*T)\n",
    "\n",
    "        betas.append(b_act)\n",
    "        Ts.append(T)\n",
    "        Tas.append(Ta)\n",
    "        Fs.append(F)\n",
    "        Rav=simps(npzfile['bins']**3*4*np.pi*npzfile['hist']/1200,npzfile['bins'])\n",
    "        Rm=npzfile['bins'][np.where(npzfile['hist']==npzfile['hist'].max())][0]\n",
    "        Rmax.append(Rav)\n",
    "\n",
    "        if F==0: Rav_eq=Rav\n",
    "\n",
    "Xi,Yi=np.meshgrid(np.geomspace(0.05,5,20),np.logspace(-2,3,15))\n",
    "triang=tri.Triangulation(Fs,Tas)\n",
    "interpZ=tri.LinearTriInterpolator(triang,np.around(np.array(Rmax)/Rav_eq, 2))\n",
    "Zi=interpZ(Xi,Yi)\n",
    "plt.contourf(Xi, Yi, Zi, levels=np.arange(0.9,1.5,0.05),cmap='RdBu')\n",
    "plt.colorbar()\n",
    "plt.contour(Xi, Yi, Zi, levels=[1])\n",
    "# cs= plt.contour(Xi,Yi,Xi**2*Yi/(0.1*0.0083*T0), colors='k', levels=[1, 10,1e2,1e3],)\n",
    "\n",
    "# plt.clabel(cs, cs.levels, inline=True,fmt=fmt, fontsize=16)\n",
    "\n",
    "plt.plot(Fs,Tas,'k+',)\n",
    "plt.xlabel('$F$')\n",
    "plt.ylabel('$\\\\tau_a$')\n",
    "# plt.xlim(1,1e3)\n",
    "\n",
    "plt.loglog()\n",
    "plt.title('Average radial position $\\\\langle R\\\\rangle/R_{eq}$')\n",
    "plt.xlim(0.1,5)\n",
    "plt.ylim(0.1,1e3)\n",
    "plt.savefig('../../data/SAC_exp/plots/normAvgR_contour.png', dpi=300, bbox_inches='tight')"
   ]
  },
  {
   "cell_type": "code",
   "execution_count": 34,
   "id": "51b867f3",
   "metadata": {},
   "outputs": [
    {
     "ename": "KeyboardInterrupt",
     "evalue": "",
     "output_type": "error",
     "traceback": [
      "\u001b[0;31m---------------------------------------------------------------------------\u001b[0m",
      "\u001b[0;31mKeyboardInterrupt\u001b[0m                         Traceback (most recent call last)",
      "\u001b[0;32m<ipython-input-34-a48e1a0e85d2>\u001b[0m in \u001b[0;36m<module>\u001b[0;34m\u001b[0m\n\u001b[1;32m     26\u001b[0m             \u001b[0;31m# print(T,F,Ta,Esoft,R0)\u001b[0m\u001b[0;34m\u001b[0m\u001b[0;34m\u001b[0m\u001b[0;34m\u001b[0m\u001b[0m\n\u001b[1;32m     27\u001b[0m             \u001b[0;32mif\u001b[0m \u001b[0mR0\u001b[0m\u001b[0;34m!=\u001b[0m\u001b[0;36m10\u001b[0m\u001b[0;34m:\u001b[0m \u001b[0;32mcontinue\u001b[0m\u001b[0;34m\u001b[0m\u001b[0;34m\u001b[0m\u001b[0m\n\u001b[0;32m---> 28\u001b[0;31m             \u001b[0mnpzfile\u001b[0m\u001b[0;34m=\u001b[0m\u001b[0mnp\u001b[0m\u001b[0;34m.\u001b[0m\u001b[0mload\u001b[0m\u001b[0;34m(\u001b[0m\u001b[0mfpath\u001b[0m\u001b[0;34m+\u001b[0m\u001b[0mfname\u001b[0m\u001b[0;34m)\u001b[0m\u001b[0;34m\u001b[0m\u001b[0;34m\u001b[0m\u001b[0m\n\u001b[0m\u001b[1;32m     29\u001b[0m             \u001b[0;31m# print(npzfile['bins'].shape)\u001b[0m\u001b[0;34m\u001b[0m\u001b[0;34m\u001b[0m\u001b[0;34m\u001b[0m\u001b[0m\n\u001b[1;32m     30\u001b[0m \u001b[0;34m\u001b[0m\u001b[0m\n",
      "\u001b[0;32m~/anaconda3/envs/newopenmm/lib/python3.7/site-packages/numpy/lib/npyio.py\u001b[0m in \u001b[0;36mload\u001b[0;34m(file, mmap_mode, allow_pickle, fix_imports, encoding)\u001b[0m\n\u001b[1;32m    422\u001b[0m         \u001b[0m_ZIP_SUFFIX\u001b[0m \u001b[0;34m=\u001b[0m \u001b[0;34mb'PK\\x05\\x06'\u001b[0m \u001b[0;31m# empty zip files start with this\u001b[0m\u001b[0;34m\u001b[0m\u001b[0;34m\u001b[0m\u001b[0m\n\u001b[1;32m    423\u001b[0m         \u001b[0mN\u001b[0m \u001b[0;34m=\u001b[0m \u001b[0mlen\u001b[0m\u001b[0;34m(\u001b[0m\u001b[0mformat\u001b[0m\u001b[0;34m.\u001b[0m\u001b[0mMAGIC_PREFIX\u001b[0m\u001b[0;34m)\u001b[0m\u001b[0;34m\u001b[0m\u001b[0;34m\u001b[0m\u001b[0m\n\u001b[0;32m--> 424\u001b[0;31m         \u001b[0mmagic\u001b[0m \u001b[0;34m=\u001b[0m \u001b[0mfid\u001b[0m\u001b[0;34m.\u001b[0m\u001b[0mread\u001b[0m\u001b[0;34m(\u001b[0m\u001b[0mN\u001b[0m\u001b[0;34m)\u001b[0m\u001b[0;34m\u001b[0m\u001b[0;34m\u001b[0m\u001b[0m\n\u001b[0m\u001b[1;32m    425\u001b[0m         \u001b[0;31m# If the file size is less than N, we need to make sure not\u001b[0m\u001b[0;34m\u001b[0m\u001b[0;34m\u001b[0m\u001b[0;34m\u001b[0m\u001b[0m\n\u001b[1;32m    426\u001b[0m         \u001b[0;31m# to seek past the beginning of the file\u001b[0m\u001b[0;34m\u001b[0m\u001b[0;34m\u001b[0m\u001b[0;34m\u001b[0m\u001b[0m\n",
      "\u001b[0;31mKeyboardInterrupt\u001b[0m: "
     ]
    }
   ],
   "source": [
    "ind=4\n",
    "\n",
    "fmt = ticker.LogFormatterMathtext()\n",
    "fmt.create_dummy_axis()\n",
    "\n",
    "norm = mpl.colors.Normalize(vmin=0, vmax=0.6)\n",
    "cmap = cm.gist_rainbow\n",
    "m = cm.ScalarMappable(norm=norm, cmap=cmap)\n",
    "# print(m.to_rgba(x))\n",
    "Ts,Fs,Tas=[],[],[]\n",
    "Rmax=[]\n",
    "betas=[]\n",
    "T0=100\n",
    "for fpath in ['../../data/ROUSE_chain_confined_Ns/']:#,'../../data/ROUSE_chain_confined_Ns/N300/']:\n",
    "\n",
    "    for fname in os.listdir(fpath):\n",
    "        if '.npz' in fname and 'RDP' in fname:\n",
    "            # print(fname)#.split('_'))\n",
    "            T= float(fname.split('_')[ind].replace('T',''))\n",
    "            F=float(fname.split('_')[ind+1].replace('F',''))\n",
    "            Ta=float(fname.split('_')[ind+2].replace('Ta',''))\n",
    "            kb=float(fname.split('_')[ind+7].replace('kb',''))\n",
    "            Esoft=float(fname.split('_')[ind+3].replace('Esoft',''))\n",
    "            R0=float(fname.split('_')[ind+4].replace('R0',''))\n",
    "            dt=float(fname.split('_')[ind+8].replace('dt',''))\n",
    "            # print(T,F,Ta,Esoft,R0)\n",
    "            if R0!=10: continue\n",
    "            npzfile=np.load(fpath+fname)\n",
    "            # print(npzfile['bins'].shape)\n",
    "        \n",
    "            b_act=F**2*Ta/(0.1*T)\n",
    "\n",
    "            betas.append(b_act)\n",
    "            Ts.append(T)\n",
    "            Tas.append(Ta)\n",
    "            Fs.append(F)\n",
    "\n",
    "            Rm=npzfile['bins'][np.where(npzfile['hist'][0]==npzfile['hist'][0].max())][0]\n",
    "            Rmax.append(Rm/R0)\n",
    "\n",
    "Xi,Yi=np.meshgrid(np.logspace(0,3,10),np.logspace(-3,3,20))\n",
    "triang=tri.Triangulation(Tas, betas)\n",
    "interpZ=tri.LinearTriInterpolator(triang,Rmax)\n",
    "Zi=interpZ(Xi,Yi)\n",
    "plt.contourf(Xi, Yi, Zi, levels=np.arange(0.,1.2,0.1),cmap='RdBu')\n",
    "plt.colorbar()\n",
    "\n",
    "# cs= plt.contour(Xi,Yi,Xi**2*Yi/(0.1*0.0083*T0), colors='k', levels=[1, 10,1e2,1e3],)\n",
    "\n",
    "# plt.clabel(cs, cs.levels, inline=True,fmt=fmt, fontsize=16)\n",
    "\n",
    "plt.plot(Tas,betas,'.',c='b',markersize=5)\n",
    "\n",
    "plt.loglog()\n"
   ]
  },
  {
   "cell_type": "code",
   "execution_count": 123,
   "id": "910988fb",
   "metadata": {},
   "outputs": [
    {
     "data": {
      "text/plain": [
       "[<matplotlib.lines.Line2D at 0x7fe8f305d190>]"
      ]
     },
     "execution_count": 123,
     "metadata": {},
     "output_type": "execute_result"
    },
    {
     "data": {
      "image/png": "[encoded data removed]",
      "text/plain": [
       "<Figure size 432x288 with 1 Axes>"
      ]
     },
     "metadata": {
      "needs_background": "light"
     },
     "output_type": "display_data"
    }
   ],
   "source": [
    "plt.semilogx(betas,Rmax,'o')"
   ]
  },
  {
   "cell_type": "code",
   "execution_count": 598,
   "id": "910146d4",
   "metadata": {},
   "outputs": [
    {
     "data": {
      "text/plain": [
       "Text(0, 0.5, '$F^2\\\\tau_a/(\\\\gamma T)$')"
      ]
     },
     "execution_count": 598,
     "metadata": {},
     "output_type": "execute_result"
    },
    {
     "data": {
      "image/png": "[encoded data removed]",
      "text/plain": [
       "<Figure size 432x288 with 2 Axes>"
      ]
     },
     "metadata": {
      "needs_background": "light"
     },
     "output_type": "display_data"
    }
   ],
   "source": [
    "Xi,Yi=np.meshgrid(np.logspace(-3,2,50),np.logspace(-3,4,60))\n",
    "triang=tri.Triangulation(X,Y)\n",
    "interpZ=tri.LinearTriInterpolator(triang,Z)\n",
    "Zi=interpZ(Xi,Yi)\n",
    "plt.contourf(Xi, Yi, Zi, levels=np.linspace(0,0.7,15),cmap='afmhot')#,alpha=0.6)\n",
    "        #ax.contour(Xi, Yi, Zi,colors='k',levels=levels,linewidths=0.3)\n",
    "\n",
    "\n",
    "plt.plot(X,Y,'.',c='b',markersize=5)\n",
    "plt.xscale('log')\n",
    "plt.yscale('log')\n",
    "plt.xlim(1e-2,10)\n",
    "plt.ylim(5e-5,3e2)\n",
    "plt.axhline(1,c='0.5',ls='--',)\n",
    "plt.axvline(1,c='0.5',ls='--',)\n",
    "\n",
    "# plt.grid(True,alpha=0.5,which='both')\n",
    "\n",
    "plt.colorbar()\n",
    "plt.xlabel('$\\\\tau_a/\\\\tau_1$')\n",
    "plt.ylabel('$F^2\\\\tau_a/(\\gamma T)$')\n",
    "# plt.savefig('../plots/Rouse/RC_RDP_phase_diag.png',dpi=300, bbox_inches='tight')\n",
    "\n",
    "#confined_N300 and _N100_new"
   ]
  },
  {
   "cell_type": "code",
   "execution_count": 545,
   "id": "ea8a5f73",
   "metadata": {},
   "outputs": [
    {
     "name": "stdout",
     "output_type": "stream",
     "text": [
      "182.4 1.919 0.197\n"
     ]
    }
   ],
   "source": [
    "f=0.003\n",
    "T=0.8\n",
    "Ta=350\n",
    "t1=tau_p(1,5,300)\n",
    "print('{:.1f} {:.3f} {:.3f}'.format(t1, Ta/t1,f**2*Ta/(0.02*T)))\n"
   ]
  },
  {
   "cell_type": "code",
   "execution_count": 8,
   "id": "75212b4e",
   "metadata": {},
   "outputs": [
    {
     "data": {
      "text/plain": [
       "4"
      ]
     },
     "execution_count": 8,
     "metadata": {},
     "output_type": "execute_result"
    }
   ],
   "source": [
    "a=np.array([1,32,4])\n",
    "b=np.array([4,3,8])\n",
    "\n",
    "a[-1]"
   ]
  },
  {
   "cell_type": "markdown",
   "id": "1af36056",
   "metadata": {},
   "source": []
  }
 ],
 "metadata": {
  "kernelspec": {
   "display_name": "Python 3",
   "language": "python",
   "name": "python3"
  },
  "language_info": {
   "codemirror_mode": {
    "name": "ipython",
    "version": 3
   },
   "file_extension": ".py",
   "mimetype": "text/x-python",
   "name": "python",
   "nbconvert_exporter": "python",
   "pygments_lexer": "ipython3",
   "version": "3.7.10"
  }
 },
 "nbformat": 4,
 "nbformat_minor": 5
}
