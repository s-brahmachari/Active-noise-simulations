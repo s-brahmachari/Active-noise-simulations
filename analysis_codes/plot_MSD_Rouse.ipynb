{
 "cells": [
  {
   "cell_type": "code",
   "execution_count": 2,
   "metadata": {},
   "outputs": [],
   "source": [
    "import numpy as np\n",
    "import matplotlib.pyplot as plt\n",
    "import os\n",
    "from matplotlib import rcParams as rc"
   ]
  },
  {
   "cell_type": "code",
   "execution_count": 3,
   "metadata": {},
   "outputs": [],
   "source": [
    "rc['legend.fontsize']=18\n",
    "rc['axes.titlesize']=18\n",
    "rc['lines.linewidth']=2\n",
    "rc['lines.markersize']=8\n",
    "rc['font.size']=18\n",
    "rc['legend.handletextpad']= 0.2\n",
    "rc['legend.frameon']=False\n",
    "rc['text.usetex']=True\n",
    "#print(rc.keys)"
   ]
  },
  {
   "cell_type": "code",
   "execution_count": 4,
   "metadata": {},
   "outputs": [],
   "source": [
    "def tau_p(p1,k1,Nn):\n",
    "    g=0.1\n",
    "    return g*Nn**2/(np.pi**2*k1*p1**2)\n",
    "\n",
    "def MSD_Rouse(t,T1,F1,ta,Nn,k1):\n",
    "\n",
    "    ps=np.arange(1,Nn+1,1)\n",
    "    g=0.1\n",
    "    tp=tau_p(ps,k1,Nn)\n",
    "    val=(tp*(T1+F1**2*ta*tp**2/(g*(tp**2-ta**2)))*(1-np.exp(-t/tp))/(2*Nn*g)\n",
    "        -(F1*ta*tp)**2*(1-np.exp(-t/ta))/(2*Nn*g**2*(tp**2-ta**2)))*0.5\n",
    "        # *np.cos(ps*np.pi*50/Nn)**2\n",
    "    # print(val.shape)\n",
    "    \n",
    "    ret=(6*(T1+F1**2*ta/g)*t/(Nn*g) - 6*F1**2*ta**2*(1-np.exp(-t/ta))/(Nn*g**2)\n",
    "        + 24*np.sum(val))\n",
    "    return ret\n",
    "\n",
    "def MSD_Rouse_COM(t,T1,F1,ta,Nn):\n",
    "    g=0.1\n",
    "    ret= 6*T1*t/(Nn*g) + 6*F1**2*ta*(t-ta*(1-np.exp(-t/ta)))/(Nn*g**2)\n",
    "    return ret"
   ]
  },
  {
   "cell_type": "code",
   "execution_count": 4,
   "metadata": {},
   "outputs": [
    {
     "data": {
      "text/plain": [
       "33.77372788077926"
      ]
     },
     "execution_count": 4,
     "metadata": {},
     "output_type": "execute_result"
    }
   ],
   "source": [
    "tau_p(1,3,100)\n",
    "# msd=[MSD_Rouse(xx,1,1,10,100,10) for xx in ts]"
   ]
  },
  {
   "cell_type": "code",
   "execution_count": 37,
   "metadata": {},
   "outputs": [
    {
     "name": "stdout",
     "output_type": "stream",
     "text": [
      "10.132118364233778\n",
      "10.132118364233778\n"
     ]
    },
    {
     "data": {
      "text/plain": [
       "<matplotlib.lines.Line2D at 0x7fa29faa3590>"
      ]
     },
     "execution_count": 37,
     "metadata": {},
     "output_type": "execute_result"
    },
    {
     "data": {
      "image/png": "[encoded data removed]",
      "text/plain": [
       "<Figure size 360x360 with 1 Axes>"
      ]
     },
     "metadata": {
      "needs_background": "light"
     },
     "output_type": "display_data"
    }
   ],
   "source": [
    "fig1,axes=plt.subplots(1,1,figsize=(5,5),gridspec_kw={'wspace':0.35, 'hspace':0.4})\n",
    "\n",
    "ax1=axes\n",
    "\n",
    "dt=0.001\n",
    "bl=100\n",
    "tval=np.logspace(-3,5,100)\n",
    "\n",
    "N=100\n",
    "fpath='../../data/ROUSE_chainN100_confinedR0500/'\n",
    "# fpath='../../data/ROUSE_chain_confined_Ns/N300/'\n",
    "ind=4\n",
    "for fname in os.listdir(fpath):\n",
    "    if 'MSD' in fname and 'npy' in fname and 'COM' not in fname:\n",
    "        # print(fname.split('_'))\n",
    "        T= float(fname.split('_')[ind].replace('T',''))\n",
    "        F=float(fname.split('_')[ind+1].replace('F',''))\n",
    "        Ta=float(fname.split('_')[ind+2].replace('Ta',''))\n",
    "        kb=float(fname.split('_')[ind+7].replace('kb',''))\n",
    "        Esoft=float(fname.split('_')[ind+3].replace('Esoft',''))\n",
    "        R0=float(fname.split('_')[ind+4].replace('R0',''))\n",
    "        b_act=F**2*Ta/(0.1*T)\n",
    "        # print(T, F, Ta, kb)\n",
    "        # if (b_act==1 or b_act>100): continue\n",
    "        if R0==500 and T==200 and (F==1.0 or F==0.0) and Ta==1:\n",
    "            # print(T, F, Ta, kb)\n",
    "            msd=np.load(fpath+fname)\n",
    "            # msd=msd['MSD']\n",
    "            \n",
    "            t1=tau_p(1,kb,100)\n",
    "\n",
    "\n",
    "            # if F!=0:\n",
    "            #     t0=T*(t1+Ta)/(F**2*(Ta+2*t1))\n",
    "            #     ax1.axvline(t0,c='g')\n",
    "            # ts=np.arange(0,npzfile['MSD_COM'][0].shape[0],1)*bl*dt\n",
    "            ts=np.arange(0,msd.shape[0],1)*bl*dt\n",
    "            print(t1)\n",
    "            ax1.loglog(ts, msd, '.', label='$\\\\beta_{act}$'+'$={}$ '.format(b_act),alpha=0.6)\n",
    "            ax1.loglog(tval,[MSD_Rouse(xx,0.0084*T,F,Ta,N,kb) for xx in tval],'k--')\n",
    "            # ax1.axvline(t1*np.pi,c='k')\n",
    "            \n",
    "            # ax1.axhline((kb*np.pi**2*Ta/0.1)**0.5,c='k',ls=':')\n",
    "            # ax1.loglog(ts, np.mean(npzfile['MSD_COM'][1:],axis=0), '.', label='$\\\\beta_{act}$'+'$={:.2f}$'.format(b_act),alpha=0.6)\n",
    "            # ax1.loglog(tval,[MSD_Rouse_COM(xx,T,F,Ta,N,kb) for xx in tval],'k--')\n",
    "            ax1.set_title('$T={}$ ($\\\\tau_1={:.1f})$'.format(T,t1))\n",
    "    \n",
    "ax1.loglog([],[],'k--',label='analytic')\n",
    "for axi in [ax1,]:\n",
    "    axi.set_xlabel('lag time $t$')\n",
    "    axi.set_ylabel('MSD $\\\\langle (R(t) - R(0))^2\\\\rangle$')\n",
    "    # axi.axhline(1e4,c='k',ls=':',lw=0.5)\n",
    "    # axi.axvline(10,c='k',ls=':',lw=0.8)\n",
    "    # axi.axvline(tau_p(1,kb,N),c='k',ls=':',lw=0.8)\n",
    "    # handles, labels = axi.get_legend_handles_labels()\n",
    "    # print(labels, handles)\n",
    "    # labels=['$\\\\beta_{act}=0$ ', '$\\\\beta_{act}=10$', '$\\\\beta_{act}=100 (F=0.1, \\\\tau_a=100) $', '$\\\\beta_{act}=100 (F=1, \\\\tau_a=1)$', 'analytic']\n",
    "    # hl = sorted(zip(handles, labels),\n",
    "    #         key=lambda x: float(x[1].split('=')[1].replace('$','')))\n",
    "    # handles2, labels2 = zip(*hl)\n",
    "    # #print(labels2)\n",
    "    # axi.legend(handles, labels,frameon=True,bbox_to_anchor=(1,0.7),framealpha=1,fancybox=False)\n",
    "    axi.legend(loc='upper left')\n",
    "    axi.set_ylim([3e-2,2e6])\n",
    "    # axi.axvline(ts[n])\n",
    "    # axi.set_xlim([5e-2,6e4])\n",
    "    \n",
    "ax1.axvline(10.13,c='k',ls=':',lw=0.8)\n",
    "# ax1.loglog([1e-1,8],0.1*np.array([1e-1,8])**0.5,'k-',lw=1)\n",
    "# ax1.loglog([1e2,1e4],np.array([1e2,1e4])*2e-2,'k-',lw=1)\n",
    "# ax1.loglog([15,1e2],2e-1*np.array([15,1e2])**2,'k-',lw=1)\n",
    "# fig1.savefig('../../plots/Rouse/RC_MSD_various_beta.png', dpi=300, bbox_inches='tight')"
   ]
  },
  {
   "cell_type": "code",
   "execution_count": 20,
   "metadata": {},
   "outputs": [
    {
     "data": {
      "text/plain": [
       "array([1])"
      ]
     },
     "execution_count": 20,
     "metadata": {},
     "output_type": "execute_result"
    }
   ],
   "source": [
    "np.arange(1,2,1)"
   ]
  },
  {
   "cell_type": "code",
   "execution_count": null,
   "metadata": {},
   "outputs": [],
   "source": []
  },
  {
   "cell_type": "code",
   "execution_count": null,
   "metadata": {},
   "outputs": [],
   "source": []
  }
 ],
 "metadata": {
  "interpreter": {
   "hash": "eb908e2ee61974166e0f6210d6d4eb74d980ad50e61ae905e9364c3983814675"
  },
  "kernelspec": {
   "display_name": "Python 3.7.10 64-bit ('newopenmm': conda)",
   "language": "python",
   "name": "python3"
  },
  "language_info": {
   "codemirror_mode": {
    "name": "ipython",
    "version": 3
   },
   "file_extension": ".py",
   "mimetype": "text/x-python",
   "name": "python",
   "nbconvert_exporter": "python",
   "pygments_lexer": "ipython3",
   "version": "3.7.10"
  },
  "orig_nbformat": 4
 },
 "nbformat": 4,
 "nbformat_minor": 2
}
