{
 "cells": [
  {
   "cell_type": "code",
   "execution_count": 1,
   "metadata": {},
   "outputs": [],
   "source": [
    "import numpy as np\n",
    "import matplotlib.pyplot as plt\n",
    "import os\n"
   ]
  },
  {
   "cell_type": "code",
   "execution_count": 3,
   "metadata": {},
   "outputs": [],
   "source": [
    "def tau_p(p1,k1,Nn):\n",
    "    g=0.1\n",
    "    return g*Nn**2/(np.pi**2*k1*p1**2)\n",
    "\n",
    "def Xp2(T1,F1,ta,k1,Nn):\n",
    "    g=0.1\n",
    "    ps=np.arange(1,Nn+1,1)\n",
    "    tp=tau_p(ps,k1,Nn)\n",
    "\n",
    "    return np.mean(T1*tp/(2*Nn*g)+F1**2*ta*tp/(2*Nn*g**2)-F1**2*ta**2/(2*Nn*g**2))"
   ]
  },
  {
   "cell_type": "code",
   "execution_count": 5,
   "metadata": {},
   "outputs": [
    {
     "name": "stdout",
     "output_type": "stream",
     "text": [
      "1.0 0.0 10.0 10.0\n",
      "0.7557759708792197\n",
      "0.008282925200144958\n"
     ]
    },
    {
     "data": {
      "image/png": "[encoded data removed]",
      "text/plain": [
       "<Figure size 720x288 with 2 Axes>"
      ]
     },
     "metadata": {
      "needs_background": "light"
     },
     "output_type": "display_data"
    }
   ],
   "source": [
    "fig1,axes=plt.subplots(1,2,figsize=(10,4),gridspec_kw={'wspace':0.35, 'hspace':0.4})\n",
    "\n",
    "[ax1,ax2]=axes\n",
    "\n",
    "dt=0.001\n",
    "bl=100\n",
    "tval=np.logspace(-2,5,100)\n",
    "\n",
    "N=100\n",
    "fpath='../data/ROUSE_chain_1M/'\n",
    "\n",
    "ind=4\n",
    "for fname in os.listdir(fpath):\n",
    "    if 'RadGyr' in fname and 'npz' in fname:\n",
    "        # print(fname.split('_'))\n",
    "        T= float(fname.split('_')[ind].replace('T',''))\n",
    "        F=float(fname.split('_')[ind+1].replace('F',''))\n",
    "        Ta=float(fname.split('_')[ind+2].replace('Ta',''))\n",
    "        kb=float(fname.split('_')[ind+7].replace('kb',''))\n",
    "        Esoft=float(fname.split('_')[ind+3].replace('Esoft',''))\n",
    "        R0=float(fname.split('_')[ind+4].replace('R0',''))\n",
    "\n",
    "\n",
    "        if (T==1 and F==0):\n",
    "            npzfile=np.load(fpath+fname)\n",
    "            print(T,F,Ta,kb,)\n",
    "            print(npzfile['chrms'].flatten().min())\n",
    "\n",
    "            hist,bin_edges=np.histogram(npzfile['chrms'].flatten(), bins=np.linspace(0,5,200),\n",
    "                                        density=True)\n",
    "            ax1.plot(bin_edges[1:],hist,'.')\n",
    "            mu=np.mean(npzfile['chrms'].flatten())\n",
    "            sig=np.std(npzfile['chrms'].flatten())\n",
    "            ax1.plot(bin_edges[1:],(1/(sig*np.sqrt(2*np.pi)))*np.exp(-0.5*(bin_edges[1:]-mu)**2/sig),'k--')\n",
    "            print(Xp2(T,F,Ta,kb,100))\n",
    "\n",
    "        "
   ]
  },
  {
   "cell_type": "code",
   "execution_count": null,
   "metadata": {},
   "outputs": [],
   "source": []
  },
  {
   "cell_type": "code",
   "execution_count": null,
   "metadata": {},
   "outputs": [],
   "source": []
  }
 ],
 "metadata": {
  "interpreter": {
   "hash": "eb908e2ee61974166e0f6210d6d4eb74d980ad50e61ae905e9364c3983814675"
  },
  "kernelspec": {
   "display_name": "Python 3.7.10 64-bit ('newopenmm': conda)",
   "language": "python",
   "name": "python3"
  },
  "language_info": {
   "codemirror_mode": {
    "name": "ipython",
    "version": 3
   },
   "file_extension": ".py",
   "mimetype": "text/x-python",
   "name": "python",
   "nbconvert_exporter": "python",
   "pygments_lexer": "ipython3",
   "version": "3.7.10"
  },
  "orig_nbformat": 4
 },
 "nbformat": 4,
 "nbformat_minor": 2
}
