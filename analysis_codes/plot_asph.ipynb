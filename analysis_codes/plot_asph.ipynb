{
 "cells": [
  {
   "cell_type": "code",
   "execution_count": 1,
   "metadata": {},
   "outputs": [],
   "source": [
    "import numpy as np\n",
    "import matplotlib as mpl\n",
    "import matplotlib.pyplot as plt\n",
    "import os\n",
    "from scipy.integrate import simps\n",
    "import matplotlib.tri as tri\n",
    "import matplotlib.pylab as pl"
   ]
  },
  {
   "cell_type": "code",
   "execution_count": 2,
   "metadata": {},
   "outputs": [],
   "source": [
    "mpl.rcParams.update({'font.size':16, 'text.usetex':True})"
   ]
  },
  {
   "cell_type": "code",
   "execution_count": 12,
   "metadata": {},
   "outputs": [
    {
     "data": {
      "image/png": "[encoded data removed]",
      "text/plain": [
       "<Figure size 360x288 with 2 Axes>"
      ]
     },
     "metadata": {
      "needs_background": "light"
     },
     "output_type": "display_data"
    }
   ],
   "source": [
    "mpl.rcParams.update({'font.size':16, 'text.usetex':True})\n",
    "# print(mpl.rcParams.keys)\n",
    "fig,ax=plt.subplots(1,1,figsize=(5,4))\n",
    "# ax.set_prop_cycle(cycler('color', plt.cm.RdBu))\n",
    "fpath='../../data/SAC_exp/'\n",
    "ind=4\n",
    "colors = pl.cm.hot(np.linspace(0,1,20))\n",
    "\n",
    "for (name,tp) in [('low',1)]:#,('mid',1.0), ('high',100)]:\n",
    "    rgs=[]\n",
    "    Fs=[]\n",
    "    Tas=[]\n",
    "    rg_eq=0\n",
    "    count=0\n",
    "    ax.clear()\n",
    "    for fname in os.listdir(fpath+'Shape/'):\n",
    "        if 'shape_descriptors' in fname and '.npz' in fname:\n",
    "            T= float(fname.split('_')[ind].replace('T',''))\n",
    "            F=float(fname.split('_')[ind+1].replace('F',''))\n",
    "            Ta=float(fname.split('_')[ind+2].replace('Ta',''))\n",
    "            kb=float(fname.split('_')[ind+7].replace('kb',''))\n",
    "            Esoft=float(fname.split('_')[ind+3].replace('Esoft',''))\n",
    "            R0=float(fname.split('_')[ind+4].replace('R0',''))\n",
    "            dt=float(fname.split('_')[ind+8].replace('dt',''))\n",
    "            # print(T,F,Ta,Esoft,R0)\n",
    "\n",
    "            npzfile=np.load(fpath+'Shape/'+fname)\n",
    "            Fs.append(F)\n",
    "            Tas.append(Ta)\n",
    "            # print(npzfile.files)\n",
    "            rg_avg=simps(npzfile['asph'][0]*npzfile['asph'][1], npzfile['asph'][1])\n",
    "            \n",
    "            rgs.append(rg_avg)\n",
    "            \n",
    "            if F==0 and Ta==1: \n",
    "                rg_eq=rg_avg\n",
    "                Fs.append(0)\n",
    "                Tas.append(0.01)\n",
    "                rgs.append(rg_eq)\n",
    "Xp,Yp=np.meshgrid(np.logspace(-4,1,100), np.logspace(-4,4,100))\n",
    "Xi,Yi=np.meshgrid(np.unique(Fs),np.unique(Tas))\n",
    "triang=tri.Triangulation(Fs,Tas)\n",
    "interpZ=tri.LinearTriInterpolator(triang,np.array(rgs))\n",
    "Zi=interpZ(Xi,Yi)\n",
    "plt.contourf(Xi, Yi, Zi, levels=np.arange(30,130,10),cmap='terrain')\n",
    "plt.colorbar()\n",
    "# plt.contour(Xi, Yi, Zi, levels=[rg_eq],)\n",
    "\n",
    "plt.contour(Xp, Yp, Xp**2*Yp/(0.1*200*0.0083), levels=[1.])\n",
    "# plt.plot(Fs,Tas,'k+')\n",
    "plt.loglog()\n",
    "plt.xlabel('$F$')\n",
    "plt.ylabel('$\\\\tau_a$')\n",
    "plt.xlim(0.01,5)\n",
    "plt.ylim(1e-2,1e3)\n",
    "plt.title('Average Asphericity')\n",
    "plt.savefig(fpath+'/plots/avg_asphericity.png', dpi=300, bbox_inches='tight')"
   ]
  },
  {
   "cell_type": "code",
   "execution_count": null,
   "metadata": {},
   "outputs": [],
   "source": []
  }
 ],
 "metadata": {
  "interpreter": {
   "hash": "eb908e2ee61974166e0f6210d6d4eb74d980ad50e61ae905e9364c3983814675"
  },
  "kernelspec": {
   "display_name": "Python 3.7.10 ('newopenmm')",
   "language": "python",
   "name": "python3"
  },
  "language_info": {
   "codemirror_mode": {
    "name": "ipython",
    "version": 3
   },
   "file_extension": ".py",
   "mimetype": "text/x-python",
   "name": "python",
   "nbconvert_exporter": "python",
   "pygments_lexer": "ipython3",
   "version": "3.7.10"
  },
  "orig_nbformat": 4
 },
 "nbformat": 4,
 "nbformat_minor": 2
}
