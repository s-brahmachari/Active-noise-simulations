{
 "cells": [
  {
   "cell_type": "code",
   "execution_count": null,
   "metadata": {},
   "outputs": [],
   "source": [
    "fig4,axes=plt.subplots(1,2,figsize=(12,5),gridspec_kw={'wspace':0.35, 'hspace':0.4})\n",
    "\n",
    "[ax1,ax2]=axes\n",
    "dt=0.001\n",
    "bl=500\n",
    "ts=np.arange(0,50000,1)*bl*dt\n",
    "g=0.1\n",
    "fpath='../MSD-autocorr-data/'\n",
    "for fname in os.listdir(fpath):\n",
    "    if 'autocorr' in fname and 'npy' in fname and 'COM' not in fname:\n",
    "        T= float(fname.split('_')[2].replace('T',''))\n",
    "        F=float(fname.split('_')[4].replace('F',''))\n",
    "        Ta=float(fname.split('_')[5].replace('Ta',''))\n",
    "        kb=float(fname.split('_')[6].replace('kb',''))\n",
    "        Esoft=float(fname.split('_')[7].replace('Esoft',''))\n",
    "        vf=float(fname.split('_')[8].replace('vf',''))\n",
    "        #print(T,F,Ta,kb,Esoft)\n",
    "        \n",
    "        if F==0.0 and Esoft==0 and Ta==100.0 and vf==0.1:\n",
    "            if T==0.0: continue\n",
    "            ax1.loglog(ts,np.load(fpath+fname), '.', label='$\\\\mathrm T={}$'.format(T))\n",
    "            ax1.set_title('$F={}$ $(E_s={:.0f})$'.format(F,Esoft))\n",
    "            print(fname.split('_'))\n",
    "        if F==0.0 and Ta==100.0 and vf==0.1 and T==300.0:\n",
    "            ax2.loglog(ts,np.load(fpath+fname), '.', label='$E_s={:.0f}$'.format(Esoft))\n",
    "            ax2.set_title('$\\\\mathrm T={:0.0f}$ $F={}$ '.format(T,F))\n",
    "            \n",
    "\n",
    "for axi in axes.flatten():\n",
    "    axi.set_xlabel('lag time $t$')\n",
    "    axi.set_ylabel('Position autocorrelation $\\\\frac{{{\\\\langle r(t_0+t) r(t_0)\\\\rangle}}}{{{\\\\langle |r(t_0)|^2\\\\rangle}}}$')\n",
    "    \n",
    "    handles, labels = axi.get_legend_handles_labels()\n",
    "    #print(labels)\n",
    "    hl = sorted(zip(handles, labels),\n",
    "            key=lambda x: float(x[1].split('=')[1].replace('$','')))\n",
    "    handles2, labels2 = zip(*hl)\n",
    "    #print(labels2)\n",
    "    axi.legend(handles2, labels2)\n",
    "    axi.set_ylim([2e-4,1])\n",
    "    axi.set_xlim([5e-1,4e3])\n",
    "\n",
    "#ax1.set_ylim([2e-5,1])\n",
    "#ax4.legend(ncol=2)\n",
    "\n",
    "fig4.savefig('../plots/Rouse_chain_pos-autocorr_F0_vary_TEs.png', dpi=300, bbox_inches='tight')"
   ]
  }
 ],
 "metadata": {
  "language_info": {
   "name": "python"
  },
  "orig_nbformat": 4
 },
 "nbformat": 4,
 "nbformat_minor": 2
}
