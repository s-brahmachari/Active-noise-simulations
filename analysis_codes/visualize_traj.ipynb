{
 "cells": [
  {
   "cell_type": "code",
   "execution_count": 1,
   "metadata": {},
   "outputs": [],
   "source": [
    "from mpl_toolkits.mplot3d import Axes3D\n",
    "from matplotlib.animation import FuncAnimation\n",
    "import numpy as np\n",
    "import matplotlib.pyplot as plt\n",
    "from matplotlib import rcParams as rc\n",
    "from scipy.spatial import ConvexHull\n",
    "from mpl_toolkits.mplot3d.art3d import Poly3DCollection\n",
    "rc['grid.linewidth']=0\n"
   ]
  },
  {
   "cell_type": "code",
   "execution_count": 2,
   "metadata": {},
   "outputs": [
    {
     "name": "stdout",
     "output_type": "stream",
     "text": [
      "(500, 500, 3)\n"
     ]
    }
   ],
   "source": [
    "# xyz=np.load('../../data/SAC/sample_traj/sample_traj_SAC_AB_T200.0_F1.0_Ta100.0_Esoft4.0_R010_Na500_blocksize100_kb10.0_dt0.001_kr30.0_positions.npy')\n",
    "# xyz=xyz[:,50:200,:]\n",
    "xyz=np.load('../sim_codes/test_out/traj_test_positions.npy')\n",
    "print(xyz.shape)\n"
   ]
  },
  {
   "cell_type": "code",
   "execution_count": 3,
   "metadata": {},
   "outputs": [
    {
     "name": "stdout",
     "output_type": "stream",
     "text": [
      "500\n"
     ]
    }
   ],
   "source": [
    "seq=np.loadtxt('../sim_codes/input_files/chr_seq_AB.txt', dtype=str)\n",
    "colors=[]\n",
    "for val in seq:\n",
    "    if not 49<int(val[0])<200: pass\n",
    "    if val[1]=='A': colors.append('r')\n",
    "    else: colors.append('C0')\n",
    "\n",
    "print(len(colors))"
   ]
  },
  {
   "cell_type": "code",
   "execution_count": 4,
   "metadata": {},
   "outputs": [
    {
     "data": {
      "application/vnd.jupyter.widget-view+json": {
       "model_id": "774abe99b28541caa5589fde15356c4e",
       "version_major": 2,
       "version_minor": 0
      },
      "text/plain": [
       "Canvas(toolbar=Toolbar(toolitems=[('Home', 'Reset original view', 'home', 'home'), ('Back', 'Back to previous …"
      ]
     },
     "metadata": {},
     "output_type": "display_data"
    }
   ],
   "source": [
    "%matplotlib ipympl\n",
    "\n",
    "fig = plt.figure()\n",
    "# ax = fig.add_axes([0.,0.5,0.45,0.45],projection='3d')\n",
    "ax = fig.add_axes([0,0,1,1],projection='3d')\n",
    "\n",
    "N=500\n",
    "\n",
    "R0=10\n",
    "Rx=(-R0,R0)\n",
    "Ry=(-R0,R0)\n",
    "Rz=(-R0,R0)\n",
    "\n",
    "zx=Rx[0]#rcm[0]\n",
    "zy=Ry[1]#rcm[1]\n",
    "zz=Rz[0]#rcm[2]\n",
    "\n",
    "ax.scatter(xyz[0,:N,0],xyz[0,:N,1],xyz[0,:N,2],'o',color=colors)\n",
    "\n",
    "rval=np.linspace(-R0,R0,200)\n",
    "\n",
    "ax.plot(rval,np.sqrt(R0**2-rval**2),'k-',zdir='x', zs=Rx[0],lw=0.5)#,c=val[2])\n",
    "\n",
    "ax.set_xlim(Rx)\n",
    "ax.set_ylim(Ry)\n",
    "ax.set_zlim(Rz)\n",
    "azim=40\n",
    "elev=29\n",
    "ax.view_init(azim,elev)\n",
    "# fig.tight_layout()\n",
    "\n",
    "def update(ii):\n",
    "    fig.clear()\n",
    "    ax = fig.add_axes([0,0,1,1],projection='3d')\n",
    "\n",
    "    p=xyz[ii]\n",
    "    \n",
    "    # for val in [('x',zx,'b', (1,2)),('y',zy,'b',(0,2)),('z',zz,'b',(0,1))]:\n",
    "    #     print(p[:N,val[3][0]].shape, len(colors))\n",
    "    #     ax.scatter(p[:N,val[3][0]],p[:N,val[3][1]], zdir=val[0], zs=val[1], c=colors,s=10)\n",
    "        \n",
    "    #     ax.plot(rval,np.sqrt(R0**2-rval**2),'k-',zdir=val[0], zs=val[1],lw=0.5)#,c=val[2])\n",
    "    #     ax.plot(rval,-np.sqrt(R0**2-rval**2),'k-',zdir=val[0], zs=val[1],lw=0.5)#, c=val[2])\n",
    "    \n",
    "    ax.plot3D(p[:N,0],p[:N,1],p[:N,2],'-',color='k',lw=0.5)\n",
    "    ax.scatter(p[:N,0],p[:N,1],p[:N,2],'o',color=colors,s=120)\n",
    "\n",
    "    ax.set_zlim(Rz)\n",
    "    ax.set_xlim(Rx)\n",
    "    ax.set_ylim(Ry)\n",
    "    ax.text2D(0.05, 0.8, \"{}\".format(ii), transform=ax.transAxes)\n",
    "\n",
    "update(10)\n",
    "ani = FuncAnimation(fig, update, frames=np.arange(1,500,5), interval=200, blit=True,repeat=False)\n",
    "\n",
    "# ani.save('ani_RC100_T0p5_F1_Ta10_kb5_R0100_full.gif', writer='pillow')\n",
    "plt.show()\n"
   ]
  },
  {
   "cell_type": "code",
   "execution_count": 11,
   "metadata": {},
   "outputs": [],
   "source": [
    "poly1=xyz[0,:100,:]\n",
    "hull=ConvexHull(poly1)"
   ]
  },
  {
   "cell_type": "code",
   "execution_count": 17,
   "metadata": {},
   "outputs": [
    {
     "data": {
      "application/vnd.jupyter.widget-view+json": {
       "model_id": "25e68e926c284d4cb65144067397727c",
       "version_major": 2,
       "version_minor": 0
      },
      "text/plain": [
       "Canvas(toolbar=Toolbar(toolitems=[('Home', 'Reset original view', 'home', 'home'), ('Back', 'Back to previous …"
      ]
     },
     "metadata": {},
     "output_type": "display_data"
    },
    {
     "data": {
      "text/plain": [
       "<mpl_toolkits.mplot3d.art3d.Path3DCollection at 0x7fd288d3c910>"
      ]
     },
     "execution_count": 17,
     "metadata": {},
     "output_type": "execute_result"
    }
   ],
   "source": [
    "fig=plt.figure()\n",
    "axi=fig.add_axes([0,0,0.8,0.8],projection='3d')\n",
    "\n",
    "for simplex in hull.simplices:\n",
    "    tri = Poly3DCollection(poly1[simplex])\n",
    "    tri.set_color('b')\n",
    "    tri.set_alpha(0.5)\n",
    "    tri.set_edgecolor('k')\n",
    "    axi.add_collection3d(tri)\n",
    "axi.scatter(poly1[:,0],poly1[:,1],poly1[:,2])"
   ]
  },
  {
   "cell_type": "code",
   "execution_count": 58,
   "metadata": {},
   "outputs": [],
   "source": [
    "def autocorrFFT(x):\n",
    "    N=len(x)\n",
    "    F = np.fft.fft(x,n=2*N)  #2*N because of zero-padding\n",
    "    PSD = F * F.conjugate()\n",
    "    res = np.fft.ifft(PSD)\n",
    "    res= (res[:N]).real   \n",
    "    # n=N*np.ones(N)-np.arange(0,N) #divide res(m) by (N-m)\n",
    "    return res/(N-np.arange(0,N)) #this is the autocorrelation in convention A\n",
    "\n",
    "#r is an (T,3) ndarray: [time stamps,dof]\n",
    "def msd_fft(r):\n",
    "    N=len(r)\n",
    "    D=np.square(r).sum(axis=1)\n",
    "    D=np.append(D,0)\n",
    "    S2=sum([autocorrFFT(r[:, i]) for i in range(r.shape[1])])\n",
    "    Q=2*D.sum()\n",
    "    S1=[]\n",
    "    for m in range(N):\n",
    "        Q=Q-D[m-1]-D[N-m]\n",
    "        S1.append(Q/(N-m))\n",
    "    return np.array(S1) - 2*S2"
   ]
  },
  {
   "cell_type": "code",
   "execution_count": 59,
   "metadata": {},
   "outputs": [
    {
     "name": "stdout",
     "output_type": "stream",
     "text": [
      "[ 0.          1.6366861   2.85522743  3.55156537  4.25256764  4.94496162\n",
      "  5.17026927  5.90420385  7.01804853  8.98931395 10.2192749  11.9409824\n",
      " 13.08291883 14.40406205 15.46976339 17.71912129 18.91299827 16.3943899\n",
      " 13.35601067 12.57748312]\n"
     ]
    }
   ],
   "source": [
    "d1=msd_fft(xyz[:20,0,:])\n",
    "print(d1)"
   ]
  },
  {
   "cell_type": "code",
   "execution_count": 47,
   "metadata": {},
   "outputs": [
    {
     "name": "stdout",
     "output_type": "stream",
     "text": [
      "10 (10,) (10,) (10,)\n",
      "10 (10,) (10,) (10,)\n",
      "10 (10,) (10,) (10,)\n"
     ]
    }
   ],
   "source": [
    "d2=msd_fft(xyz[:10,0,:])"
   ]
  },
  {
   "cell_type": "code",
   "execution_count": 65,
   "metadata": {},
   "outputs": [
    {
     "data": {
      "text/plain": [
       "(100, 1, 3)"
      ]
     },
     "execution_count": 65,
     "metadata": {},
     "output_type": "execute_result"
    }
   ],
   "source": [
    "c=np.array([1,2,3])\n",
    "d=np.tile(c,(100,1,1))\n",
    "d.shape"
   ]
  },
  {
   "cell_type": "code",
   "execution_count": 8,
   "metadata": {},
   "outputs": [
    {
     "data": {
      "text/plain": [
       "499500.0"
      ]
     },
     "execution_count": 8,
     "metadata": {},
     "output_type": "execute_result"
    }
   ],
   "source": []
  },
  {
   "cell_type": "code",
   "execution_count": null,
   "metadata": {},
   "outputs": [],
   "source": []
  }
 ],
 "metadata": {
  "interpreter": {
   "hash": "eb908e2ee61974166e0f6210d6d4eb74d980ad50e61ae905e9364c3983814675"
  },
  "kernelspec": {
   "display_name": "Python 3.7.10 64-bit ('newopenmm': conda)",
   "name": "python3"
  },
  "language_info": {
   "codemirror_mode": {
    "name": "ipython",
    "version": 3
   },
   "file_extension": ".py",
   "mimetype": "text/x-python",
   "name": "python",
   "nbconvert_exporter": "python",
   "pygments_lexer": "ipython3",
   "version": "3.7.10"
  },
  "orig_nbformat": 4
 },
 "nbformat": 4,
 "nbformat_minor": 2
}
