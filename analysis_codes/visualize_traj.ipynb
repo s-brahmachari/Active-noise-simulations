{
 "cells": [
  {
   "cell_type": "code",
   "execution_count": 1,
   "metadata": {},
   "outputs": [],
   "source": [
    "from mpl_toolkits.mplot3d import Axes3D\n",
    "from matplotlib.animation import FuncAnimation\n",
    "import numpy as np\n",
    "import matplotlib.pyplot as plt\n",
    "from matplotlib import rcParams as rc\n",
    "rc['grid.linewidth']=0\n"
   ]
  },
  {
   "cell_type": "code",
   "execution_count": 2,
   "metadata": {},
   "outputs": [
    {
     "name": "stdout",
     "output_type": "stream",
     "text": [
      "(5000, 1200, 3)\n"
     ]
    }
   ],
   "source": [
    "xyz=np.load('../data/trajectory/test_traj_Rouse_chain_T1.0_F0.5_Ta60_Esoft0_R020_Na1200_blocksize100_kb5.0_dt0.001_kr30.0_positions.npy')\n",
    "# xyz=np.load('../data/trajectory/test_traj_Rouse_chain_T1.0_F0.3_Ta180_Esoft0_R020_Na1200_blocksize100_kb10.0_dt0.001_kr30.0_positions.npy')\n",
    "print(xyz.shape)"
   ]
  },
  {
   "cell_type": "code",
   "execution_count": 3,
   "metadata": {},
   "outputs": [
    {
     "data": {
      "application/vnd.jupyter.widget-view+json": {
       "model_id": "b03cc743bcfa4ba686b0ad885d2ff7d1",
       "version_major": 2,
       "version_minor": 0
      },
      "text/plain": [
       "Canvas(toolbar=Toolbar(toolitems=[('Home', 'Reset original view', 'home', 'home'), ('Back', 'Back to previous …"
      ]
     },
     "metadata": {},
     "output_type": "display_data"
    }
   ],
   "source": [
    "%matplotlib ipympl\n",
    "fig = plt.figure()\n",
    "ax = fig.add_axes([0.,0.5,0.45,0.45],projection='3d')\n",
    "# ax = fig.add_axes([0,0,1,1],)\n",
    "# quiver = ax.quiver([],[],[],[])\n",
    "#quiver = ax.quiver([],[],[],[],[],[])\n",
    "R0=23\n",
    "N=300\n",
    "rval=np.linspace(-R0,R0,60)\n",
    "\n",
    "ax.scatter(xyz[0,:N,0],xyz[0,:N,1],xyz[0,:N,2],'o',color='C0')\n",
    "aXY=fig.add_axes([0.5,0.1,0.3,0.3])\n",
    "aYZ=fig.add_axes([0.5,0.5,0.3,0.3])\n",
    "aXZ=fig.add_axes([0.1,0.1,0.3,0.3])\n",
    "# ax.scatter(xyz[0,N:,0],xyz[0,N:,1],xyz[0,N:,2],'o',color='C1')\n",
    "\n",
    "def update(ii):\n",
    "    fig.clear()\n",
    "    ax = fig.add_axes([0.,0.5,0.45,0.45],projection='3d')\n",
    "    aXY=fig.add_axes([0.5,0.1,0.3,0.3])\n",
    "    aYZ=fig.add_axes([0.5,0.5,0.3,0.3])\n",
    "    aXZ=fig.add_axes([0.1,0.1,0.3,0.3])\n",
    "    # ax = fig.add_axes([0,0,1,1],)\n",
    "\n",
    "    p=xyz[ii]\n",
    "    # print(p.shape)\n",
    "    # line.set_data(p[:,0],p[:,1])\n",
    "    # line.set_3d_properties(p[:,2])\n",
    "    # plt.draw()\n",
    "    # ax.plot(p[10:13,0],p[10:13,1],p[10:13,2],'o',color='C0',alpha=1)\n",
    "    ax.scatter(p[:N,0],p[:N,1],p[:N,2],'o',color='C0',alpha=0.5)\n",
    "    aXY.plot(p[:N,0],p[:N,1],'o',color='C0')\n",
    "    aXZ.plot(p[:N,0],p[:N,2],'o',color='C0')\n",
    "    aYZ.plot(p[:N,1],p[:N,2],'o',color='C0')\n",
    "\n",
    "    # ax.plot(p[300:303,0],p[300:303,1],p[300:303,2],'o',color='C1',alpha=1)\n",
    "    # ax.scatter(p[N:,0],p[N:,1],p[N:,2],'o',color='C1',alpha=0.5)\n",
    "    # ax.plot(masked_xyz[:100,0],masked_xyz[:100,1],'go',markersize=3)\n",
    "    \n",
    "    ax.set_zlim(-R0, R0)\n",
    "    ax.set_xlim(-R0, R0)\n",
    "    ax.set_ylim(-R0, R0)\n",
    "\n",
    "    for axi in [aXY,aXZ,aYZ]:\n",
    "    # axX.set_zlim(-R0, R0)\n",
    "        axi.plot(rval,np.sqrt(R0**2-rval**2),'k-')\n",
    "        axi.plot(rval,-np.sqrt(R0**2-rval**2),'k-')\n",
    "        axi.set_xlim(-R0, R0)\n",
    "        axi.set_ylim(-R0, R0)\n",
    "    \n",
    "\n",
    "    # return line,\n",
    "\n",
    "#update(10)\n",
    "ani = FuncAnimation(fig, update, frames=np.arange(1,5000,50), interval=200, blit=True,repeat=False)\n",
    "\n",
    "ani.save('ani_RC300_T1_F0p5_Ta60_kb5_active.gif', writer='pillow')\n",
    "plt.show()\n"
   ]
  },
  {
   "cell_type": "code",
   "execution_count": 2,
   "metadata": {},
   "outputs": [],
   "source": [
    "for ii in range(0): print (ii)"
   ]
  },
  {
   "cell_type": "code",
   "execution_count": null,
   "metadata": {},
   "outputs": [],
   "source": [
    "ff=np.load('../Sim_codes/init_snap800AB-R20.npy')\n",
    "ff.shape"
   ]
  },
  {
   "cell_type": "code",
   "execution_count": null,
   "metadata": {},
   "outputs": [],
   "source": []
  }
 ],
 "metadata": {
  "interpreter": {
   "hash": "eb908e2ee61974166e0f6210d6d4eb74d980ad50e61ae905e9364c3983814675"
  },
  "kernelspec": {
   "display_name": "Python 3.7.10 64-bit ('newopenmm': conda)",
   "name": "python3"
  },
  "language_info": {
   "codemirror_mode": {
    "name": "ipython",
    "version": 3
   },
   "file_extension": ".py",
   "mimetype": "text/x-python",
   "name": "python",
   "nbconvert_exporter": "python",
   "pygments_lexer": "ipython3",
   "version": "3.7.10"
  },
  "orig_nbformat": 4
 },
 "nbformat": 4,
 "nbformat_minor": 2
}
