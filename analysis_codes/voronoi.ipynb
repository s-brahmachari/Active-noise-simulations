{
 "cells": [
  {
   "cell_type": "code",
   "execution_count": 1,
   "metadata": {},
   "outputs": [],
   "source": [
    "import numpy as np\n",
    "from scipy.spatial import Voronoi, ConvexHull\n"
   ]
  },
  {
   "cell_type": "code",
   "execution_count": 2,
   "metadata": {},
   "outputs": [],
   "source": [
    "\n",
    "def compute_VoronoiContacts(xyz, seq_file):\n",
    "    #input xyz as a nd array of dimensions: time_stamps x number of particles x degrees of freedom (3)\n",
    "    #input seq_file as a str with path+filename of the sequence file\n",
    "    seq=np.loadtxt(seq_file,dtype='str')\n",
    "    AA,BB,AB=[],[],[]\n",
    "    for ii, pos in enumerate(xyz):\n",
    "        # if ii%500!=0: continue\n",
    "        if ii%10000==0: print('frame ', ii, flush=True)\n",
    "        vor = Voronoi(pos)\n",
    "        AA_frac,AB_frac,BB_frac=0,0,0\n",
    "        for x,y in vor.ridge_points:\n",
    "            if 'NA' in seq[x][1] or 'NA' in seq[y][1]: continue\n",
    "            if 'A' in seq[x][1] and 'A' in seq[y][1]: AA_frac+=1\n",
    "            elif ('B' in seq[x][1] and 'A' in seq[y][1]) or ('B' in seq[y][1] and 'A' in seq[x][1]): AB_frac+=1\n",
    "            elif 'B' in seq[x][1] and 'B' in seq[y][1]: BB_frac+=1\n",
    "        AA.append(AA_frac/len(vor.ridge_points))\n",
    "        AB.append(AB_frac/len(vor.ridge_points))\n",
    "        BB.append(AA_frac/len(vor.ridge_points))\n",
    "    \n",
    "    return {'AA':(np.mean(AA),np.std(AA)),'AB':(np.mean(AB),np.std(AB)),'BB':(np.mean(BB),np.std(BB))}"
   ]
  },
  {
   "cell_type": "code",
   "execution_count": 3,
   "metadata": {},
   "outputs": [
    {
     "name": "stdout",
     "output_type": "stream",
     "text": [
      "(10000, 100, 3)\n",
      "(1200, 2)\n"
     ]
    }
   ],
   "source": [
    "traj=np.load('../../data/trajectory/sample_traj_Rouse_chain_T1.0_F0.3_Ta200.0_Esoft0_R020_Na1200_blocksize100_kb5.0_dt0.001_kr30.0_positions.npy')\n",
    "print(traj.shape)\n",
    "seqAB=np.loadtxt('../sim_codes/input_files/chr_seq.txt',dtype='str')\n",
    "print(seqAB.shape)\n"
   ]
  },
  {
   "cell_type": "code",
   "execution_count": 4,
   "metadata": {},
   "outputs": [
    {
     "name": "stdout",
     "output_type": "stream",
     "text": [
      "frame  0\n",
      "{'AA': (0.28316894908239876, 0.01801750389752035), 'AB': (0.5146263709057856, 0.01417043311884937), 'BB': (0.28316894908239876, 0.01801750389752035)}\n"
     ]
    }
   ],
   "source": [
    "res=compute_VoronoiContacts(traj,'../sim_codes/input_files/chr_seq.txt')\n",
    "\n",
    "print(res)"
   ]
  },
  {
   "cell_type": "code",
   "execution_count": null,
   "metadata": {},
   "outputs": [],
   "source": []
  }
 ],
 "metadata": {
  "interpreter": {
   "hash": "eb908e2ee61974166e0f6210d6d4eb74d980ad50e61ae905e9364c3983814675"
  },
  "kernelspec": {
   "display_name": "Python 3.7.10 ('newopenmm')",
   "language": "python",
   "name": "python3"
  },
  "language_info": {
   "codemirror_mode": {
    "name": "ipython",
    "version": 3
   },
   "file_extension": ".py",
   "mimetype": "text/x-python",
   "name": "python",
   "nbconvert_exporter": "python",
   "pygments_lexer": "ipython3",
   "version": "3.7.10"
  },
  "orig_nbformat": 4
 },
 "nbformat": 4,
 "nbformat_minor": 2
}
