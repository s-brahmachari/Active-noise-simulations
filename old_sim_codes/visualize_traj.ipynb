{
 "cells": [
  {
   "cell_type": "code",
   "execution_count": 1,
   "metadata": {},
   "outputs": [],
   "source": [
    "from mpl_toolkits.mplot3d import Axes3D\n",
    "from matplotlib.animation import FuncAnimation\n",
    "import numpy as np\n",
    "import matplotlib.pyplot as plt\n",
    "from matplotlib import rcParams as rc\n",
    "rc['grid.linewidth']=0\n"
   ]
  },
  {
   "cell_type": "code",
   "execution_count": 2,
   "metadata": {},
   "outputs": [
    {
     "name": "stdout",
     "output_type": "stream",
     "text": [
      "(500, 1200, 3)\n"
     ]
    }
   ],
   "source": [
    "xyz=np.load('test_out/traj_test_positions.npy')\n",
    "print(xyz.shape)"
   ]
  },
  {
   "cell_type": "code",
   "execution_count": 3,
   "metadata": {},
   "outputs": [
    {
     "data": {
      "application/vnd.jupyter.widget-view+json": {
       "model_id": "3cfe4bd0d0e3457795adbd669101cecf",
       "version_major": 2,
       "version_minor": 0
      },
      "text/plain": [
       "Canvas(toolbar=Toolbar(toolitems=[('Home', 'Reset original view', 'home', 'home'), ('Back', 'Back to previous …"
      ]
     },
     "metadata": {},
     "output_type": "display_data"
    }
   ],
   "source": [
    "%matplotlib ipympl\n",
    "fig = plt.figure()\n",
    "ax = fig.add_axes([0,0,2,2],projection='3d')\n",
    "# ax = fig.add_axes([0,0,1,1],)\n",
    "# quiver = ax.quiver([],[],[],[])\n",
    "#quiver = ax.quiver([],[],[],[],[],[])\n",
    "R0=30\n",
    "N=100\n",
    "\n",
    "ax.scatter(xyz[0,:N,0],xyz[0,:N,1],xyz[0,:N,2],'o',color='C0')\n",
    "ax.scatter(xyz[0,N:,0],xyz[0,N:,1],xyz[0,N:,2],'o',color='C1')\n",
    "\n",
    "def update(ii):\n",
    "    fig.clear()\n",
    "    ax = fig.add_axes([0,0,1,1],projection='3d')\n",
    "    # ax = fig.add_axes([0,0,1,1],)\n",
    "\n",
    "    p=xyz[ii]\n",
    "    # print(p.shape)\n",
    "    # line.set_data(p[:,0],p[:,1])\n",
    "    # line.set_3d_properties(p[:,2])\n",
    "    # plt.draw()\n",
    "    # ax.plot(p[10:13,0],p[10:13,1],p[10:13,2],'o',color='C0',alpha=1)\n",
    "    # ax.scatter(p[:N,0],p[:N,1],p[:N,2],'o',color='C0',alpha=0.5)\n",
    "    ax.scatter(p[:100,0],p[:100,1],p[:100,2],'o',color='C0')\n",
    "    # ax.plot(p[300:303,0],p[300:303,1],p[300:303,2],'o',color='C1',alpha=1)\n",
    "    # ax.scatter(p[N:,0],p[N:,1],p[N:,2],'o',color='C1',alpha=0.5)\n",
    "    # ax.plot(masked_xyz[:100,0],masked_xyz[:100,1],'go',markersize=3)\n",
    "    ax.text(-10,-10,10,ii)\n",
    "    ax.set_zlim(-R0, R0)\n",
    "    ax.set_xlim(-R0, R0)\n",
    "    ax.set_ylim(-R0, R0)\n",
    "    \n",
    "    # return line,\n",
    "\n",
    "#update(10)\n",
    "ani = FuncAnimation(fig, update, frames=np.arange(1,xyz.shape[0],10), interval=200, blit=True,repeat=False)\n",
    "\n",
    "# ani.save('ani_sticky_gas_T0.1_F0.1_Ta10-R20.gif', writer='pillow')\n",
    "plt.show()\n"
   ]
  },
  {
   "cell_type": "code",
   "execution_count": 2,
   "metadata": {},
   "outputs": [],
   "source": [
    "for ii in range(0): print (ii)"
   ]
  },
  {
   "cell_type": "code",
   "execution_count": null,
   "metadata": {},
   "outputs": [],
   "source": [
    "ff=np.load('../Sim_codes/init_snap800AB-R20.npy')\n",
    "ff.shape"
   ]
  },
  {
   "cell_type": "code",
   "execution_count": null,
   "metadata": {},
   "outputs": [],
   "source": []
  }
 ],
 "metadata": {
  "interpreter": {
   "hash": "eb908e2ee61974166e0f6210d6d4eb74d980ad50e61ae905e9364c3983814675"
  },
  "kernelspec": {
   "display_name": "Python 3.7.10 64-bit ('newopenmm': conda)",
   "name": "python3"
  },
  "language_info": {
   "codemirror_mode": {
    "name": "ipython",
    "version": 3
   },
   "file_extension": ".py",
   "mimetype": "text/x-python",
   "name": "python",
   "nbconvert_exporter": "python",
   "pygments_lexer": "ipython3",
   "version": "3.7.10"
  },
  "orig_nbformat": 4
 },
 "nbformat": 4,
 "nbformat_minor": 2
}
