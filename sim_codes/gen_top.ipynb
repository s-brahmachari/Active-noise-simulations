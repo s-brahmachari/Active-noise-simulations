{
 "cells": [
  {
   "cell_type": "code",
   "execution_count": 1,
   "metadata": {},
   "outputs": [],
   "source": [
    "N=100\n",
    "n=100\n",
    "# with open('chr_top.txt', 'w') as f:\n",
    "#     for ii in range(int(N/n)):\n",
    "#         f.write('{} {} 0\\n'.format(ii*n,(ii+1)*n-1))\n",
    "\n",
    "with open('chr_seq.txt', 'w') as f:\n",
    "    for ii in range(N):\n",
    "        if ii<50:\n",
    "            f.write('{} A\\n'.format(ii+1))\n",
    "        else:\n",
    "            f.write('{} B\\n'.format(ii+1))\n"
   ]
  },
  {
   "cell_type": "code",
   "execution_count": 8,
   "metadata": {},
   "outputs": [],
   "source": [
    "import pandas as pd\n",
    "import numpy as np"
   ]
  },
  {
   "cell_type": "code",
   "execution_count": 4,
   "metadata": {},
   "outputs": [],
   "source": [
    "tab = pd.read_csv('type_table.csv', sep=None, engine='python')"
   ]
  },
  {
   "cell_type": "code",
   "execution_count": 5,
   "metadata": {},
   "outputs": [
    {
     "name": "stdout",
     "output_type": "stream",
     "text": [
      "   A    B\n",
      "0 -1 -1.0\n",
      "1 -1 -1.0\n"
     ]
    }
   ],
   "source": [
    "print(tab)"
   ]
  },
  {
   "cell_type": "code",
   "execution_count": 7,
   "metadata": {},
   "outputs": [
    {
     "name": "stdout",
     "output_type": "stream",
     "text": [
      "['A', 'B']\n"
     ]
    }
   ],
   "source": [
    "header_types = list(tab.columns.values)\n",
    "print(header_types)"
   ]
  },
  {
   "cell_type": "code",
   "execution_count": 9,
   "metadata": {},
   "outputs": [
    {
     "name": "stdout",
     "output_type": "stream",
     "text": [
      "[-1.0, -1.0, -1.0, -1.0]\n"
     ]
    }
   ],
   "source": [
    "lambdas = np.triu(tab.values) + np.triu(tab.values, k=1).T\n",
    "lambdas = list(np.ravel(lambdas))\n",
    "print(lambdas)"
   ]
  },
  {
   "cell_type": "code",
   "execution_count": null,
   "metadata": {},
   "outputs": [],
   "source": []
  }
 ],
 "metadata": {
  "interpreter": {
   "hash": "90f72e8778369b9d09aac5344fb767c92475c93923a32da11427c461a596d7d4"
  },
  "kernelspec": {
   "display_name": "Python 3.7.4 64-bit ('base': conda)",
   "language": "python",
   "name": "python3"
  },
  "language_info": {
   "codemirror_mode": {
    "name": "ipython",
    "version": 3
   },
   "file_extension": ".py",
   "mimetype": "text/x-python",
   "name": "python",
   "nbconvert_exporter": "python",
   "pygments_lexer": "ipython3",
   "version": "3.7.10"
  },
  "orig_nbformat": 4
 },
 "nbformat": 4,
 "nbformat_minor": 2
}
