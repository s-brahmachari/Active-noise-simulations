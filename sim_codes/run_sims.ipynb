{
 "cells": [
  {
   "cell_type": "code",
   "execution_count": 1,
   "metadata": {},
   "outputs": [],
   "source": [
    "# from OpenMiChroM.ChromDynamics import MiChroM\n",
    "# from openmmtools import integrators\n",
    "# from simtk import unit\n",
    "# from Custom_integrators import CustomBrownianIntegrator\n",
    "# import Custom_Bonds\n",
    "# import numpy as np\n",
    "# import pandas as pd\n",
    "import ActivePolymer\n",
    "# from mpl_toolkits.mplot3d import Axes3D\n",
    "# import matplotlib.colors as colors\n",
    "# from matplotlib.animation import FuncAnimation\n",
    "# import matplotlib.pyplot as plt\n",
    "# from matplotlib import rcParams as rc"
   ]
  },
  {
   "cell_type": "code",
   "execution_count": 2,
   "metadata": {},
   "outputs": [
    {
     "name": "stdout",
     "output_type": "stream",
     "text": [
      "    ***************************************************************************************     \n",
      "     **** **** *** *** *** *** *** *** OpenMiChroM-1.0.2 *** *** *** *** *** *** **** ****      \n",
      "\n",
      "         OpenMiChroM is a Python library for performing chromatin dynamics simulations.         \n",
      "                            OpenMiChroM uses the OpenMM Python API,                             \n",
      "                employing the MiChroM (Minimal Chromatin Model) energy function.                \n",
      "      The chromatin dynamics simulations generate an ensemble of 3D chromosomal structures      \n",
      "      that are consistent with experimental Hi-C maps, also allows simulations of a single      \n",
      "                 or multiple chromosome chain using High-Performance Computing                  \n",
      "                            in different platforms (GPUs and CPUs).                             \n",
      "         OpenMiChroM documentation is available at https://open-michrom.readthedocs.io          \n",
      "\n",
      "         OpenMiChroM is described in: Oliveira Junior, A. B & Contessoto, V, G et. al.          \n",
      "      A Scalable Computational Approach for Simulating Complexes of Multiple Chromosomes.       \n",
      "                  Journal of Molecular Biology. doi:10.1016/j.jmb.2020.10.034.                  \n",
      "                                              and                                               \n",
      "                                 Oliveira Junior, A. B. et al.                                  \n",
      "     Chromosome Modeling on Downsampled Hi-C Maps Enhances the Compartmentalization Signal.     \n",
      "                        J. Phys. Chem. B, doi:10.1021/acs.jpcb.1c04174.                         \n",
      "\n",
      "                    Copyright (c) 2021, The OpenMiChroM development team at                     \n",
      "                                        Rice University                                         \n",
      "    ***************************************************************************************     \n",
      "\n",
      "        ==================================\n",
      "        ActivePolymer Simulation now set up.\n",
      "        Loaded sequence file: chr_seq.txt\n",
      "        Loaded initial structure: default spiral spring\n",
      "        Active amplitude: 1.0\n",
      "        Active correlation time: 10.0\n",
      "        Total number of active particles: 0\n",
      "        ==================================\n",
      "\n"
     ]
    }
   ],
   "source": [
    "sim=ActivePolymer.ActivePolymer(name='test', time_step=0.001, collision_rate=0.1, temperature=120, \n",
    "        active_corr_time=10.0, activity_amplitude=1.0,\n",
    "        outpath='test_out/', init_struct=None, seq_file='chr_seq.txt', active_particles=[],)"
   ]
  },
  {
   "cell_type": "code",
   "execution_count": 3,
   "metadata": {},
   "outputs": [
    {
     "name": "stdout",
     "output_type": "stream",
     "text": [
      "-------\n",
      "Implementing Flat-Bottom Harmonic confinement:\n",
      "Radius: 100.00 \n",
      "Volume fraction: 0.000 \n",
      "Stiffness: 50.00\n",
      "\n",
      "-------\n",
      "Adding harmonic bonds according to topology defined in chr_top.txt\n",
      "Number of polymer segments: 5\n",
      "\n",
      "Number of exceptions: 90\n",
      "adding force  ActiveForce 0\n",
      "adding force  RadialConfinement 1\n",
      "adding force  HarmonicBond 2\n",
      "Positions... \n",
      " loaded!\n",
      "potential energy is 0.004632\n",
      "bl=1 pos[1]=[8.7 1.3 1.1] dr=1.63 kin=0.00 pot=0.57 Rg=5.439 SPS=9560\n",
      "bl=2 pos[1]=[7.7 -0.1 1.2] dr=1.56 SPS=10349\n",
      "bl=3 pos[1]=[5.4 -1.7 1.5] dr=1.61 SPS=13939\n",
      "bl=4 pos[1]=[5.7 -0.5 -0.3] dr=1.69 SPS=16692\n",
      "bl=5 pos[1]=[5.1 -1.1 -0.7] dr=1.51 SPS=15227\n",
      "bl=6 pos[1]=[5.7 0.5 -1.6] dr=1.45 SPS=18015\n",
      "bl=7 pos[1]=[6.3 0.2 -3.0] dr=1.37 SPS=15303\n",
      "bl=8 pos[1]=[3.9 1.5 -3.8] dr=1.62 SPS=15237\n",
      "bl=9 pos[1]=[4.7 1.9 -2.8] dr=1.62 SPS=13635\n",
      "bl=10 pos[1]=[3.4 1.5 -2.2] dr=1.63 SPS=14017\n",
      "bl=11 pos[1]=[4.3 1.5 -3.3] dr=1.65 SPS=15891\n",
      "bl=12 pos[1]=[6.6 -0.5 -2.0] dr=1.72 SPS=15240\n",
      "bl=13 pos[1]=[5.9 0.2 -0.6] dr=1.63 SPS=16742\n",
      "bl=14 pos[1]=[5.0 -0.1 -1.6] dr=1.61 SPS=11608\n",
      "bl=15 pos[1]=[4.0 0.2 -2.3] dr=1.63 SPS=13337\n",
      "bl=16 pos[1]=[4.4 1.6 -1.3] dr=1.71 SPS=15340\n",
      "bl=17 pos[1]=[5.6 2.2 -2.0] dr=1.60 SPS=13934\n",
      "bl=18 pos[1]=[5.0 2.7 -1.9] dr=1.49 SPS=16770\n",
      "bl=19 pos[1]=[4.3 2.7 -2.1] dr=1.61 SPS=12582\n",
      "bl=20 pos[1]=[4.2 2.9 -1.9] dr=1.52 SPS=17584\n",
      "bl=21 pos[1]=[2.9 3.5 -1.9] dr=1.51 SPS=18189\n",
      "bl=22 pos[1]=[2.7 2.8 0.2] dr=1.60 SPS=16216\n",
      "bl=23 pos[1]=[3.2 2.1 -0.4] dr=1.63 SPS=16736\n",
      "bl=24 pos[1]=[3.1 1.9 -2.1] dr=1.51 SPS=17908\n",
      "bl=25 pos[1]=[4.7 1.1 -1.4] dr=1.55 SPS=16364\n",
      "bl=26 pos[1]=[2.5 3.0 -2.2] dr=1.53 SPS=14732\n",
      "bl=27 pos[1]=[1.7 2.6 -1.5] dr=1.59 SPS=14640\n",
      "bl=28 pos[1]=[2.2 1.6 -2.0] dr=1.48 SPS=17637\n",
      "bl=29 pos[1]=[2.4 3.9 -0.8] dr=1.66 SPS=17498\n",
      "bl=30 pos[1]=[1.7 2.3 0.2] dr=1.66 SPS=18491\n",
      "bl=31 pos[1]=[2.9 3.6 -1.5] dr=1.54 SPS=19271\n",
      "bl=32 pos[1]=[3.2 4.8 -2.1] dr=1.65 SPS=17643\n",
      "bl=33 pos[1]=[3.5 4.4 -2.8] dr=1.56 SPS=14310\n",
      "bl=34 pos[1]=[4.5 3.3 -2.0] dr=1.67 SPS=17921\n",
      "bl=35 pos[1]=[4.1 1.8 -0.0] dr=1.62 SPS=16622\n",
      "bl=36 pos[1]=[4.1 3.1 0.0] dr=1.73 SPS=14182\n",
      "bl=37 pos[1]=[4.5 3.4 -0.6] dr=1.60 SPS=14012\n",
      "bl=38 pos[1]=[4.3 3.4 -0.0] dr=1.72 SPS=18160\n",
      "bl=39 pos[1]=[2.7 3.7 0.1] dr=1.60 SPS=18747\n",
      "bl=40 pos[1]=[3.2 3.4 -0.8] dr=1.68 SPS=15515\n",
      "bl=41 pos[1]=[4.0 3.2 0.4] dr=1.67 SPS=20072\n",
      "bl=42 pos[1]=[4.5 3.0 0.0] dr=1.53 SPS=18921\n",
      "bl=43 pos[1]=[4.7 3.7 -0.9] dr=1.58 SPS=14152\n",
      "bl=44 pos[1]=[5.9 3.1 -1.9] dr=1.76 SPS=16031\n",
      "bl=45 pos[1]=[3.0 4.0 -1.0] dr=1.60 SPS=16445\n",
      "bl=46 pos[1]=[0.8 3.6 -1.8] dr=1.63 SPS=18560\n",
      "bl=47 pos[1]=[1.1 4.1 -1.5] dr=1.63 SPS=17874\n",
      "bl=48 pos[1]=[0.9 2.8 -0.4] dr=1.56 SPS=18041\n",
      "bl=49 pos[1]=[2.2 3.9 -1.1] dr=1.57 SPS=17775\n",
      "bl=50 pos[1]=[2.8 3.9 -2.0] dr=1.61 SPS=12952\n",
      "bl=51 pos[1]=[4.5 4.8 -2.8] dr=1.46 SPS=16868\n",
      "bl=52 pos[1]=[3.9 5.5 -2.4] dr=1.63 SPS=17476\n",
      "bl=53 pos[1]=[4.5 4.2 -2.7] dr=1.63 SPS=18294\n",
      "bl=54 pos[1]=[4.0 5.7 -2.0] dr=1.69 SPS=14148\n",
      "bl=55 pos[1]=[4.9 6.4 -2.6] dr=1.51 SPS=14195\n",
      "bl=56 pos[1]=[5.3 5.1 -1.1] dr=1.45 SPS=12151\n",
      "bl=57 pos[1]=[5.2 5.3 -0.2] dr=1.63 SPS=11898\n",
      "bl=58 pos[1]=[6.2 5.4 1.2] dr=1.71 SPS=17160\n",
      "bl=59 pos[1]=[5.3 5.6 1.2] dr=1.54 SPS=17479\n",
      "bl=60 pos[1]=[5.4 6.7 0.9] dr=1.59 SPS=18737\n",
      "bl=61 pos[1]=[4.7 5.9 0.0] dr=1.59 SPS=17647\n",
      "bl=62 pos[1]=[4.3 6.4 0.9] dr=1.66 SPS=19736\n",
      "bl=63 pos[1]=[3.0 4.2 1.1] dr=1.73 SPS=17501\n",
      "bl=64 pos[1]=[3.5 4.4 -0.0] dr=1.70 SPS=15830\n",
      "bl=65 pos[1]=[3.2 4.3 0.8] dr=1.48 SPS=18801\n",
      "bl=66 pos[1]=[3.1 4.4 1.6] dr=1.53 SPS=18858\n",
      "bl=67 pos[1]=[4.2 3.4 3.6] dr=1.63 SPS=14287\n",
      "bl=68 pos[1]=[2.9 4.1 2.2] dr=1.38 SPS=15286\n",
      "bl=69 pos[1]=[4.1 4.0 1.5] dr=1.58 SPS=18730\n",
      "bl=70 pos[1]=[3.4 3.8 1.1] dr=1.53 SPS=14848\n",
      "bl=71 pos[1]=[3.0 4.6 0.2] dr=1.66 SPS=18038\n",
      "bl=72 pos[1]=[2.9 5.3 -1.1] dr=1.61 SPS=15778\n",
      "bl=73 pos[1]=[2.7 3.7 -2.6] dr=1.66 SPS=15142\n",
      "bl=74 pos[1]=[2.0 2.8 -2.9] dr=1.60 SPS=15568\n",
      "bl=75 pos[1]=[2.8 0.5 -2.3] dr=1.55 SPS=16999\n",
      "bl=76 pos[1]=[2.1 -0.1 -1.5] dr=1.68 SPS=18515\n",
      "bl=77 pos[1]=[2.8 1.4 -3.1] dr=1.63 SPS=13376\n",
      "bl=78 pos[1]=[2.6 1.3 -2.5] dr=1.46 SPS=13663\n",
      "bl=79 pos[1]=[2.3 3.1 -1.8] dr=1.63 SPS=18221\n",
      "bl=80 pos[1]=[3.2 2.8 -1.0] dr=1.69 SPS=19387\n",
      "bl=81 pos[1]=[1.7 2.7 -0.2] dr=1.71 SPS=19009\n",
      "bl=82 pos[1]=[1.4 4.0 1.0] dr=1.55 SPS=16750\n",
      "bl=83 pos[1]=[0.4 3.9 -0.1] dr=1.75 SPS=18626\n",
      "bl=84 pos[1]=[2.0 5.2 1.3] dr=1.66 SPS=17440\n",
      "bl=85 pos[1]=[-0.0 4.1 1.3] dr=1.62 SPS=18365\n",
      "bl=86 pos[1]=[0.7 4.2 2.3] dr=1.48 SPS=15267\n",
      "bl=87 pos[1]=[2.1 5.9 1.6] dr=1.63 SPS=12485\n",
      "bl=88 pos[1]=[2.9 4.2 3.5] dr=1.62 SPS=14641\n",
      "bl=89 pos[1]=[2.6 2.8 2.0] dr=1.45 SPS=15221\n",
      "bl=90 pos[1]=[3.5 3.1 1.3] dr=1.54 SPS=17129\n",
      "bl=91 pos[1]=[2.4 3.3 2.9] dr=1.54 SPS=17892\n",
      "bl=92 pos[1]=[2.6 3.3 2.6] dr=1.62 SPS=18622\n",
      "bl=93 pos[1]=[3.1 4.8 5.3] dr=1.72 SPS=18143\n",
      "bl=94 pos[1]=[3.6 4.9 5.6] dr=1.70 SPS=15908\n",
      "bl=95 pos[1]=[4.6 4.6 6.2] dr=1.59 SPS=18619\n",
      "bl=96 pos[1]=[3.6 5.5 6.2] dr=1.55 SPS=13468\n",
      "bl=97 pos[1]=[2.1 5.8 7.3] dr=1.48 SPS=13862\n",
      "bl=98 pos[1]=[2.5 5.2 7.2] dr=1.74 SPS=18512\n",
      "bl=99 pos[1]=[2.1 6.6 6.2] dr=1.59 SPS=17924\n",
      "\n",
      "Statistics for the simulation test, number of particles: 100,  number of chains: 1\n",
      "\n",
      "Statistics for particle position\n",
      "     mean position is:  [-0.10336393 -0.15784384  3.01256728]   Rg =  10.143896\n",
      "     median bond size is  1.2220960928145375\n",
      "     three shortest/longest (<10)/ bonds are  [0.60338833 0.65525305 0.66786839]    [1.70957578 1.74555676 1.77615498]\n",
      "longest 10 bonds are [ 1.77615498 22.98909089 24.8430592  25.85279371 36.07266502 36.98239475\n",
      " 37.60132673 38.06702845 41.09997601 41.49752678]\n",
      "     95 percentile of distance to center is:    11.836259749730075\n",
      "     density of closest 95% monomers is:    0.013677021640900549\n",
      "     density of the core monomers is:    0.01108299777892422\n",
      "     min/median/mean/max coordinates are: \n",
      "     x: -9.40, 1.92, -0.10, 16.72\n",
      "     y: -37.34, 1.85, -0.16, 7.38\n",
      "     z: -14.99, 3.39, 3.01, 29.39\n",
      "\n",
      "Statistics for velocities:\n",
      "     mean kinetic energy is:  0.0 should be: 1.5\n",
      "     fastest particles are (in kT):  [0. 0. 0. 0. 0.]\n",
      "\n",
      "Statistics for the system:\n",
      "     Forces are:  ['ActiveForce', 'RadialConfinement', 'HarmonicBond']\n",
      "     Number of exceptions:   90\n",
      "\n",
      "Potential Energy Ep =  0.5686313247680664\n",
      "bl=100 pos[1]=[2.5 5.0 5.6] dr=1.61 SPS=6506\n",
      "bl=101 pos[1]=[2.5 4.5 5.5] dr=1.57 kin=0.00 pot=0.61 Rg=9.991 SPS=17076\n",
      "bl=102 pos[1]=[2.5 5.0 3.2] dr=1.62 SPS=13881\n",
      "bl=103 pos[1]=[3.3 5.9 0.2] dr=1.70 SPS=13708\n",
      "bl=104 pos[1]=[3.3 6.3 -0.6] dr=1.72 SPS=8668\n",
      "bl=105 pos[1]=[4.6 7.2 2.2] dr=1.65 SPS=16134\n",
      "bl=106 pos[1]=[3.3 6.2 1.0] dr=1.53 SPS=13312\n",
      "bl=107 pos[1]=[6.4 5.6 2.6] dr=1.61 SPS=13957\n",
      "bl=108 pos[1]=[4.5 5.3 2.2] dr=1.56 SPS=17513\n",
      "bl=109 pos[1]=[6.6 6.7 1.9] dr=1.65 SPS=18106\n",
      "bl=110 pos[1]=[5.5 6.6 0.8] dr=1.61 SPS=15328\n",
      "bl=111 pos[1]=[5.9 5.2 0.8] dr=1.62 SPS=16923\n",
      "bl=112 pos[1]=[6.2 4.9 0.3] dr=1.54 SPS=15288\n",
      "bl=113 pos[1]=[5.9 4.0 1.1] dr=1.45 SPS=15317\n",
      "bl=114 pos[1]=[4.6 4.6 0.1] dr=1.62 SPS=16145\n",
      "bl=115 pos[1]=[4.9 3.9 0.0] dr=1.56 SPS=17964\n",
      "bl=116 pos[1]=[5.4 4.5 1.3] dr=1.63 SPS=15451\n",
      "bl=117 pos[1]=[5.6 4.4 -0.7] dr=1.71 SPS=15216\n",
      "bl=118 pos[1]=[5.7 3.6 -1.1] dr=1.56 SPS=17800\n",
      "bl=119 pos[1]=[3.9 4.7 -1.5] dr=1.53 SPS=14413\n",
      "bl=120 pos[1]=[3.9 2.1 -0.6] dr=1.58 SPS=18247\n",
      "bl=121 pos[1]=[3.6 3.9 0.6] dr=1.57 SPS=17721\n",
      "bl=122 pos[1]=[5.0 3.1 -1.6] dr=1.44 SPS=16816\n",
      "bl=123 pos[1]=[3.0 1.9 -1.0] dr=1.65 SPS=18814\n",
      "bl=124 pos[1]=[2.9 1.9 -1.8] dr=1.57 SPS=16697\n",
      "bl=125 pos[1]=[3.3 0.6 -1.9] dr=1.65 SPS=17251\n",
      "bl=126 pos[1]=[1.4 1.7 -0.1] dr=1.67 SPS=14468\n",
      "bl=127 pos[1]=[1.0 2.2 -0.5] dr=1.69 SPS=18093\n",
      "bl=128 pos[1]=[1.6 2.3 0.1] dr=1.45 SPS=17367\n",
      "bl=129 pos[1]=[0.4 2.5 1.0] dr=1.64 SPS=17680\n",
      "bl=130 pos[1]=[-1.6 2.9 1.1] dr=1.58 SPS=19200\n",
      "bl=131 pos[1]=[-1.3 2.9 0.7] dr=1.57 SPS=13964\n",
      "bl=132 pos[1]=[0.6 3.6 0.4] dr=1.63 SPS=15995\n",
      "bl=133 pos[1]=[1.0 3.7 0.9] dr=1.40 SPS=15660\n",
      "bl=134 pos[1]=[0.2 3.2 0.4] dr=1.57 SPS=18398\n",
      "bl=135 pos[1]=[0.3 3.2 -0.9] dr=1.72 SPS=14003\n",
      "bl=136 pos[1]=[2.0 5.0 -1.0] dr=1.64 SPS=16872\n",
      "bl=137 pos[1]=[3.5 4.4 -1.0] dr=1.51 SPS=16589\n",
      "bl=138 pos[1]=[3.1 3.8 -0.2] dr=1.55 SPS=11760\n",
      "bl=139 pos[1]=[2.4 4.3 0.4] dr=1.58 SPS=17709\n",
      "bl=140 pos[1]=[1.8 5.9 -1.5] dr=1.53 SPS=15998\n",
      "bl=141 pos[1]=[1.2 5.2 -2.8] dr=1.59 SPS=15516\n",
      "bl=142 pos[1]=[0.3 3.9 -1.2] dr=1.73 SPS=17947\n",
      "bl=143 pos[1]=[0.7 4.6 -1.0] dr=1.65 SPS=17259\n",
      "bl=144 pos[1]=[1.6 4.5 -0.6] dr=1.62 SPS=15785\n",
      "bl=145 pos[1]=[0.8 4.7 -1.0] dr=1.59 SPS=17662\n",
      "bl=146 pos[1]=[0.1 4.3 -0.8] dr=1.65 SPS=10101\n",
      "bl=147 pos[1]=[-0.3 4.8 -1.6] dr=1.67 SPS=13452\n",
      "bl=148 pos[1]=[0.4 6.8 -1.1] dr=1.54 SPS=11317\n",
      "bl=149 pos[1]=[-0.8 5.7 -0.8] dr=1.50 SPS=12172\n",
      "bl=150 pos[1]=[1.4 6.6 -1.7] dr=1.47 SPS=11342\n",
      "bl=151 pos[1]=[1.5 7.2 -1.5] dr=1.56 SPS=18427\n",
      "bl=152 pos[1]=[1.2 6.4 -0.2] dr=1.51 SPS=17067\n",
      "bl=153 pos[1]=[0.7 6.6 -0.9] dr=1.65 SPS=14120\n",
      "bl=154 pos[1]=[2.3 6.6 -0.6] dr=1.56 SPS=12533\n",
      "bl=155 pos[1]=[1.2 8.0 0.4] dr=1.55 SPS=16906\n",
      "bl=156 pos[1]=[2.5 6.8 -0.8] dr=1.40 SPS=16812\n",
      "bl=157 pos[1]=[2.4 6.4 0.9] dr=1.62 SPS=15503\n",
      "bl=158 pos[1]=[3.0 6.3 0.1] dr=1.57 SPS=17437\n",
      "bl=159 pos[1]=[1.7 5.5 1.4] dr=1.47 SPS=16917\n",
      "bl=160 pos[1]=[2.5 7.4 1.7] dr=1.58 SPS=15321\n",
      "bl=161 pos[1]=[2.5 8.5 0.6] dr=1.50 SPS=16779\n",
      "bl=162 pos[1]=[3.1 8.1 0.7] dr=1.63 SPS=16098\n",
      "bl=163 pos[1]=[3.5 7.1 0.6] dr=1.53 SPS=14397\n",
      "bl=164 pos[1]=[2.6 7.8 1.3] dr=1.52 SPS=15760\n",
      "bl=165 pos[1]=[2.3 7.6 0.4] dr=1.67 SPS=15820\n",
      "bl=166 pos[1]=[3.5 7.6 1.6] dr=1.66 SPS=12577\n",
      "bl=167 pos[1]=[2.5 5.7 1.3] dr=1.51 SPS=19448\n",
      "bl=168 pos[1]=[2.8 6.9 1.9] dr=1.52 SPS=17976\n",
      "bl=169 pos[1]=[2.3 7.4 3.7] dr=1.58 SPS=18440\n",
      "bl=170 pos[1]=[1.3 7.7 2.8] dr=1.59 SPS=17364\n",
      "bl=171 pos[1]=[1.0 7.3 2.2] dr=1.62 SPS=18762\n",
      "bl=172 pos[1]=[0.7 8.3 2.3] dr=1.66 SPS=15684\n",
      "bl=173 pos[1]=[1.2 8.1 1.0] dr=1.45 SPS=15830\n",
      "bl=174 pos[1]=[0.9 9.9 0.1] dr=1.55 SPS=14704\n",
      "bl=175 pos[1]=[1.4 9.5 0.2] dr=1.57 SPS=14180\n",
      "bl=176 pos[1]=[1.1 10.0 0.9] dr=1.56 SPS=12631\n",
      "bl=177 pos[1]=[0.4 9.6 1.5] dr=1.48 SPS=19586\n",
      "bl=178 pos[1]=[0.8 7.8 0.8] dr=1.61 SPS=19817\n",
      "bl=179 pos[1]=[-0.0 6.9 2.1] dr=1.51 SPS=16463\n",
      "bl=180 pos[1]=[-1.4 5.5 1.1] dr=1.60 SPS=17385\n",
      "bl=181 pos[1]=[-1.9 5.9 1.6] dr=1.64 SPS=19331\n",
      "bl=182 pos[1]=[-1.8 6.0 1.1] dr=1.55 SPS=16000\n",
      "bl=183 pos[1]=[-3.8 5.4 0.7] dr=1.65 SPS=13786\n",
      "bl=184 pos[1]=[-3.2 5.3 1.1] dr=1.46 SPS=19088\n",
      "bl=185 pos[1]=[-2.4 5.8 -0.1] dr=1.58 SPS=17816\n",
      "bl=186 pos[1]=[-2.4 7.1 0.9] dr=1.55 SPS=14411\n",
      "bl=187 pos[1]=[-4.1 8.6 0.3] dr=1.60 SPS=19280\n",
      "bl=188 pos[1]=[-4.4 9.5 2.3] dr=1.59 SPS=15603\n",
      "bl=189 pos[1]=[-3.1 9.2 2.5] dr=1.69 SPS=5576\n",
      "bl=190 pos[1]=[-2.0 7.0 2.2] dr=1.60 SPS=11768\n",
      "bl=191 pos[1]=[-2.1 7.6 0.7] dr=1.57 SPS=11430\n",
      "bl=192 pos[1]=[-1.6 6.6 1.2] dr=1.59 SPS=11382\n",
      "bl=193 pos[1]=[-1.7 8.3 4.4] dr=1.65 SPS=10373\n",
      "bl=194 pos[1]=[-0.9 7.9 3.4] dr=1.59 SPS=11466\n",
      "bl=195 pos[1]=[-0.5 8.5 1.9] dr=1.63 SPS=11095\n",
      "bl=196 pos[1]=[-1.5 8.1 1.8] dr=1.60 SPS=10114\n",
      "bl=197 pos[1]=[0.8 8.6 1.8] dr=1.60 SPS=10695\n",
      "bl=198 pos[1]=[1.5 9.1 3.8] dr=1.67 SPS=10319\n",
      "bl=199 pos[1]=[0.9 8.0 3.7] dr=1.63 SPS=11950\n",
      "\n",
      "Statistics for the simulation test, number of particles: 100,  number of chains: 1\n",
      "\n",
      "Statistics for particle position\n",
      "     mean position is:  [1.12803236 4.39750159 2.43419317]   Rg =  10.573642\n",
      "     median bond size is  1.2552967879508612\n",
      "     three shortest/longest (<10)/ bonds are  [0.39805017 0.40905694 0.54785949]    [1.74583475 1.76747366 1.8227005 ]\n",
      "longest 10 bonds are [ 1.8227005  33.53864738 34.27089866 38.12740283 38.3893717  38.65087322\n",
      " 40.0245828  42.49902541 44.7580948  50.55793906]\n",
      "     95 percentile of distance to center is:    12.58710444354067\n",
      "     density of closest 95% monomers is:    0.011372540404306977\n",
      "     density of the core monomers is:    0.03175329119912759\n",
      "     min/median/mean/max coordinates are: \n",
      "     x: -5.95, 1.53, 1.13, 18.50\n",
      "     y: -36.24, 6.28, 4.40, 9.11\n",
      "     z: -21.49, 1.75, 2.43, 24.39\n",
      "\n",
      "Statistics for velocities:\n",
      "     mean kinetic energy is:  0.0 should be: 1.5\n",
      "     fastest particles are (in kT):  [0. 0. 0. 0. 0.]\n",
      "\n",
      "Statistics for the system:\n",
      "     Forces are:  ['ActiveForce', 'RadialConfinement', 'HarmonicBond']\n",
      "     Number of exceptions:   90\n",
      "\n",
      "Potential Energy Ep =  0.6263946533203125\n",
      "bl=200 pos[1]=[1.1 8.7 2.9] dr=1.59 SPS=4671\n"
     ]
    }
   ],
   "source": [
    "ActivePolymer.addRadialConfinement(sim, R0=100, method='FlatBottomHarmonic', kr=50)\n",
    "ActivePolymer.addHarmonicBonds(sim,top_file='chr_top.txt', kb=10.0, d=1.0)\n",
    "ActivePolymer.runSims(sim, nblocks=200, blocksize=100, )"
   ]
  },
  {
   "cell_type": "code",
   "execution_count": 6,
   "metadata": {},
   "outputs": [
    {
     "name": "stdout",
     "output_type": "stream",
     "text": [
      "Number of exceptions: 90\n",
      "adding force  ActiveForce 0\n",
      "adding force  RadialConfinement 1\n",
      "adding force  HarmonicBond 2\n",
      "Positions... \n",
      " loaded!\n",
      "potential energy is 0.004632\n",
      "bl=1 pos[1]=[7.9 -0.2 -0.5] dr=1.71 t=0.0ps kin=0.00 pot=0.69 Rg=5.526 SPS=1169 \n",
      "saved\n",
      "bl=2 pos[1]=[7.0 0.6 0.2] dr=1.69 t=0.0ps kin=0.00 pot=0.48 Rg=5.338 SPS=1382 \n",
      "saved\n",
      "bl=3 pos[1]=[8.1 0.7 0.3] dr=1.54 t=0.0ps kin=0.00 pot=0.57 Rg=5.272 SPS=1497 \n",
      "saved\n",
      "bl=4 pos[1]=[6.6 0.0 -0.2] dr=1.67 t=0.0ps kin=0.00 pot=0.58 Rg=5.520 SPS=1720 \n",
      "saved\n",
      "bl=5 pos[1]=[6.6 1.2 0.7] dr=1.58 t=0.0ps kin=0.00 pot=0.63 Rg=5.524 SPS=1871 \n",
      "saved\n",
      "bl=6 pos[1]=[7.9 -0.3 1.1] dr=1.57 t=0.0ps kin=0.00 pot=0.43 Rg=5.489 SPS=2012 \n",
      "saved\n",
      "bl=7 pos[1]=[8.9 1.5 -0.5] dr=1.65 t=0.0ps kin=0.00 pot=0.68 Rg=5.583 SPS=2124 \n",
      "saved\n",
      "bl=8 pos[1]=[6.2 2.1 -0.9] dr=1.67 t=0.0ps kin=0.00 pot=0.54 Rg=5.562 SPS=2185 \n",
      "saved\n",
      "bl=9 pos[1]=[6.3 1.3 0.6] dr=1.66 t=0.0ps kin=0.00 pot=0.48 Rg=5.449 SPS=2365 \n",
      "saved\n",
      "bl=10 pos[1]=[5.2 1.9 0.1] dr=1.63 t=0.0ps kin=0.00 pot=0.55 Rg=5.301 SPS=2400 \n",
      "saved\n"
     ]
    }
   ],
   "source": []
  },
  {
   "cell_type": "code",
   "execution_count": 4,
   "metadata": {},
   "outputs": [
    {
     "data": {
      "text/plain": [
       "(200, 100, 3)"
      ]
     },
     "execution_count": 4,
     "metadata": {},
     "output_type": "execute_result"
    }
   ],
   "source": [
    "import numpy as np\n",
    "xyz=np.load('test_out/traj_test_positions.npy')\n",
    "xyz.shape"
   ]
  },
  {
   "cell_type": "code",
   "execution_count": 5,
   "metadata": {},
   "outputs": [
    {
     "data": {
      "text/plain": [
       "array([[[ 8.67017174e+00,  1.33691466e+00,  1.12948263e+00],\n",
       "        [ 8.60504913e+00,  1.05779195e+00,  3.64164084e-01],\n",
       "        [ 7.63701868e+00,  2.74364710e-01,  3.71498615e-02],\n",
       "        ...,\n",
       "        [ 4.67253399e+00, -5.94215870e+00, -1.48991734e-01],\n",
       "        [ 4.65362215e+00, -6.16635227e+00,  1.31385875e+00],\n",
       "        [ 3.85304117e+00, -2.97825313e+00,  9.28509653e-01]],\n",
       "\n",
       "       [[ 7.68447590e+00, -1.16902903e-01,  1.17539227e+00],\n",
       "        [ 7.42833424e+00,  6.52471304e-01,  7.57015586e-01],\n",
       "        [ 6.58730888e+00, -4.95166600e-01,  8.42438221e-01],\n",
       "        ...,\n",
       "        [ 3.65362835e+00, -5.26214647e+00,  1.37817308e-01],\n",
       "        [ 4.23938322e+00, -4.62346983e+00,  1.13456205e-01],\n",
       "        [ 4.82662964e+00, -4.40746927e+00,  1.38863862e+00]],\n",
       "\n",
       "       [[ 5.43753290e+00, -1.74330282e+00,  1.50971997e+00],\n",
       "        [ 5.84177637e+00, -3.32687199e-02,  1.97463143e+00],\n",
       "        [ 5.85813713e+00, -7.17284679e-01,  9.65597034e-01],\n",
       "        ...,\n",
       "        [ 3.81106400e+00, -4.89067125e+00, -3.57350588e-01],\n",
       "        [ 2.68182874e+00, -5.09410906e+00, -1.23179182e-02],\n",
       "        [ 3.42793012e+00, -4.64286995e+00,  1.54448676e+00]],\n",
       "\n",
       "       ...,\n",
       "\n",
       "       [[ 1.52475250e+00,  9.08909130e+00,  3.75812745e+00],\n",
       "        [ 1.56858230e+00,  8.99078178e+00,  2.45491934e+00],\n",
       "        [ 5.02065659e-01,  9.50076675e+00,  1.38530302e+00],\n",
       "        ...,\n",
       "        [ 4.32607365e+00,  6.84639931e+00, -2.01572442e+00],\n",
       "        [ 3.39612031e+00,  6.04846478e+00, -2.77068186e+00],\n",
       "        [ 1.47786856e+00, -3.97996140e+01,  2.36067066e+01]],\n",
       "\n",
       "       [[ 9.12628531e-01,  7.97845125e+00,  3.72753906e+00],\n",
       "        [ 1.37600851e+00,  8.48171997e+00,  3.52267146e+00],\n",
       "        [ 5.18000066e-01,  8.12631226e+00,  3.01000047e+00],\n",
       "        ...,\n",
       "        [ 3.69917536e+00,  5.07185984e+00, -3.96719527e+00],\n",
       "        [ 4.24849415e+00,  5.90216541e+00, -3.28426647e+00],\n",
       "        [ 5.51867604e-01, -3.62444763e+01,  2.43942585e+01]],\n",
       "\n",
       "       [[ 1.11589980e+00,  8.66536808e+00,  2.89640641e+00],\n",
       "        [ 7.17427373e-01,  8.61010361e+00,  3.42759109e+00],\n",
       "        [-6.76835477e-01,  8.02613258e+00,  3.22602129e+00],\n",
       "        ...,\n",
       "        [ 5.15763140e+00,  4.45108223e+00, -3.26078129e+00],\n",
       "        [ 4.55309677e+00,  5.22829247e+00, -2.58785510e+00],\n",
       "        [ 8.79147351e-01, -3.68600655e+01,  2.50444336e+01]]])"
      ]
     },
     "execution_count": 5,
     "metadata": {},
     "output_type": "execute_result"
    }
   ],
   "source": [
    "xyz"
   ]
  },
  {
   "cell_type": "code",
   "execution_count": null,
   "metadata": {},
   "outputs": [],
   "source": [
    "nSims(sim, nblocks=10, blocksize=100)"
   ]
  },
  {
   "cell_type": "code",
   "execution_count": 33,
   "metadata": {},
   "outputs": [
    {
     "name": "stdout",
     "output_type": "stream",
     "text": [
      "    ***************************************************************************************     \n",
      "     **** **** *** *** *** *** *** *** OpenMiChroM-1.0.2 *** *** *** *** *** *** **** ****      \n",
      "\n",
      "         OpenMiChroM is a Python library for performing chromatin dynamics simulations.         \n",
      "                            OpenMiChroM uses the OpenMM Python API,                             \n",
      "                employing the MiChroM (Minimal Chromatin Model) energy function.                \n",
      "      The chromatin dynamics simulations generate an ensemble of 3D chromosomal structures      \n",
      "      that are consistent with experimental Hi-C maps, also allows simulations of a single      \n",
      "                 or multiple chromosome chain using High-Performance Computing                  \n",
      "                            in different platforms (GPUs and CPUs).                             \n",
      "         OpenMiChroM documentation is available at https://open-michrom.readthedocs.io          \n",
      "\n",
      "         OpenMiChroM is described in: Oliveira Junior, A. B & Contessoto, V, G et. al.          \n",
      "      A Scalable Computational Approach for Simulating Complexes of Multiple Chromosomes.       \n",
      "                  Journal of Molecular Biology. doi:10.1016/j.jmb.2020.10.034.                  \n",
      "                                              and                                               \n",
      "                                 Oliveira Junior, A. B. et al.                                  \n",
      "     Chromosome Modeling on Downsampled Hi-C Maps Enhances the Compartmentalization Signal.     \n",
      "                        J. Phys. Chem. B, doi:10.1021/acs.jpcb.1c04174.                         \n",
      "\n",
      "                    Copyright (c) 2021, The OpenMiChroM development team at                     \n",
      "                                        Rice University                                         \n",
      "    ***************************************************************************************     \n",
      "0.2\n"
     ]
    }
   ],
   "source": [
    "#==========================#\n",
    "#Initialize Michrom Class  #\n",
    "#==========================#\n",
    "sim=MiChroM(name=savename, velocity_reinitialize=False,temperature=T)\n",
    "\n",
    "#Specify integrator\n",
    "integrator=CustomBrownianIntegrator(\n",
    "                    timestep=dt * unit.picoseconds, \n",
    "                    collision_rate=gamma / unit.picoseconds,\n",
    "                    temperature=T * unit.kelvin,measure_heat=False,\n",
    "                    noise_corr=Ta * unit.picoseconds,\n",
    "                    )\n",
    "\n",
    "sim.setup(platform=\"opencl\",integrator=integrator,)\n",
    "sim.saveFolder(opath)\n",
    "\n",
    "#Initial structure (spiral by default)\n",
    "if '.npy' not in finit:\n",
    "    chrm=sim.create_springSpiral(ChromSeq=fseq)\n",
    "else:\n",
    "    chrm=np.load(finit)\n",
    "sim.loadStructure(chrm,center=True)\n",
    "sim._translate_type(fseq)\n",
    "\n",
    "sim.timestep=0.2\n",
    "print(sim.timestep)"
   ]
  },
  {
   "cell_type": "code",
   "execution_count": 26,
   "metadata": {},
   "outputs": [
    {
     "name": "stdout",
     "output_type": "stream",
     "text": [
      "Implementing Flat-Bottom Harmonic confinement:\n",
      " Radius: 50.00 \n",
      " Volume fraction: 0.000 \n",
      " Stiffness: 50.00\n"
     ]
    },
    {
     "data": {
      "text/plain": [
       "True"
      ]
     },
     "execution_count": 26,
     "metadata": {},
     "output_type": "execute_result"
    }
   ],
   "source": [
    "Custom_Bonds.set_activity(sim,F_act=1, particle_list=range(50))\n",
    "\n",
    "\n",
    "##---------#\n",
    "##polymers #\n",
    "##---------#\n",
    "\n",
    "#chromosome topology\n",
    "chrm_top=np.loadtxt(ftop, delimiter=' ', dtype=int)\n",
    "# sim.forceDict['HarmonicBond']=sim.mm.HarmonicBondForce()\n",
    "##add bonds between nearest neighbors\n",
    "for ii in range(sim.N-1):\n",
    "    #skip bonds between different chromosomes\n",
    "    if ii in chrm_top[:,1]: continue\n",
    "    Custom_Bonds.addFENEBond(sim, ii, ii+1,kfb=20)\n",
    "    # Custom_Bonds.addTanhHarmonicBond(sim, ii, ii+1, eh=20, kb=kb)\n",
    "    # print(ii)\n",
    "    # sim.forceDict['HarmonicBond'].addBond(ii,ii+1, 2, 1)\n",
    "    # sim.bondsForException.append((int(ii), int(ii+1)))\n",
    "    # Custom_Bonds.addHarmonicBond(sim, ii, ii+1, kb=kb, d=2) \n",
    "\n",
    "Custom_Bonds.addRadialConfinement(sim, R0=R0, FlatBottomHarmonic=True, kr=50)\n",
    "\n",
    "#=====================#\n",
    "# Soft-core repulsion #\n",
    "#=====================#\n",
    "# Custom_Bonds.addTanhRepulsion(sim, es=4,rc=1)\n",
    "\n",
    "#=========================#\n",
    "# Inter-monomer adhesion  #\n",
    "#=========================#\n",
    "# sim.addCustomTypes(mu=3, rc=1, TypesTable='type_table.csv')\n",
    "# Custom_Bonds.LJRepulsion(sim)\n",
    "# Custom_Bonds.HarmonicRepulsion(sim,k0=30,r0=1.)\n",
    "# Custom_Bonds.TypesAdhesionGaussian(sim,rc=1.,TypesTable='type_table.csv')\n",
    "# Custom_Bonds.addCustomTypes(sim,rc=2,TypesTable='type_table.csv')\n"
   ]
  },
  {
   "cell_type": "code",
   "execution_count": 27,
   "metadata": {},
   "outputs": [
    {
     "name": "stdout",
     "output_type": "stream",
     "text": [
      "ActiveForce 0\n",
      "FENEBond 0\n",
      "RadialConfinement 0\n"
     ]
    }
   ],
   "source": [
    "for key in sim.forceDict:\n",
    "    print(key, sim.forceDict[key].getForceGroup())#,sim.forceDict[key].getNumParticles(),)\n",
    "#     sim.forceDict[key].getNumPerParticleParameters(),sim.forceDict[key].getParticleParameters(70))\n",
    "# print(sim.forceDict['CustomTypes'].getParticleParameters(200))\n",
    "# print(sim.forceDict['ActiveForce'].getNumParticles())\n",
    "# sim.forceDict['HarmonicBond'].getGlobalParameterDefaultValue(1,)\n",
    "# sim.forceDict['HarmonicBond'].getNumBonds()\n",
    "# sim.forceDict['HarmonicBond'].getNumGlobalParameters()\n",
    "# print(chrm_top.shape)"
   ]
  },
  {
   "cell_type": "code",
   "execution_count": 28,
   "metadata": {},
   "outputs": [
    {
     "name": "stdout",
     "output_type": "stream",
     "text": [
      "Number of exceptions: 0\n",
      "adding force  ActiveForce 0\n",
      "adding force  FENEBond 1\n",
      "adding force  RadialConfinement 2\n",
      "Positions... \n",
      " loaded!\n",
      "potential energy is 7.781780\n",
      "bl=1 pos[1]=[4.5 2.3 1.2] dr=2.74 t=0.0ps kin=3.18 pot=-0.89 Rg=5.577 SPS=1477 \n",
      "bl=2 pos[1]=[5.3 1.7 -1.3] dr=2.12 t=0.0ps kin=7.00 pot=-0.98 Rg=6.180 SPS=2456 \n",
      "bl=3 pos[1]=[5.9 3.0 -2.5] dr=1.44 t=0.0ps kin=9.16 pot=-1.11 Rg=6.462 SPS=2483 \n",
      "bl=4 pos[1]=[5.0 5.4 -2.1] dr=1.71 t=0.0ps kin=11.60 pot=-2.12 Rg=6.703 SPS=2477 \n",
      "bl=5 pos[1]=[6.8 5.7 -0.0] dr=1.95 t=0.0ps kin=14.61 pot=-2.49 Rg=6.769 SPS=2512 \n",
      "bl=6 pos[1]=[6.4 4.9 -1.1] dr=1.70 t=0.0ps kin=18.74 pot=-2.13 Rg=6.533 SPS=2549 \n",
      "bl=7 pos[1]=[6.9 4.5 -1.1] dr=1.56 t=0.0ps kin=21.23 pot=-2.60 Rg=7.006 SPS=2538 \n",
      "bl=8 pos[1]=[4.8 4.7 -2.6] dr=1.28 t=0.0ps kin=24.24 pot=-1.94 Rg=6.638 SPS=2523 \n",
      "bl=9 pos[1]=[6.7 4.3 -3.6] dr=1.54 t=0.0ps kin=24.93 pot=-1.85 Rg=6.565 SPS=2545 \n",
      "bl=10 pos[1]=[5.2 4.4 -4.2] dr=1.99 t=0.0ps kin=28.15 pot=-2.45 Rg=6.416 SPS=2533 \n",
      "bl=11 pos[1]=[5.6 4.1 -5.6] dr=2.04 t=0.0ps kin=30.27 pot=-2.24 Rg=6.571 SPS=2474 \n",
      "bl=12 pos[1]=[4.5 2.9 -4.3] dr=1.84 t=0.0ps kin=31.98 pot=-1.91 Rg=6.002 SPS=2547 \n",
      "bl=13 pos[1]=[3.7 5.0 -4.3] dr=1.66 t=0.0ps kin=33.41 pot=-2.28 Rg=6.057 SPS=2553 \n",
      "bl=14 pos[1]=[2.0 4.5 -4.4] dr=1.99 t=0.0ps kin=36.39 pot=-2.45 Rg=5.838 SPS=2557 \n",
      "bl=15 pos[1]=[1.8 4.5 -6.1] dr=1.56 t=0.0ps kin=34.20 pot=-1.38 Rg=6.499 SPS=2445 \n",
      "bl=16 pos[1]=[2.4 3.4 -5.6] dr=1.65 t=0.0ps kin=37.98 pot=-1.36 Rg=6.487 SPS=2557 \n",
      "bl=17 pos[1]=[0.2 4.0 -5.9] dr=1.46 t=0.0ps kin=40.08 pot=-1.36 Rg=6.697 SPS=2558 \n",
      "bl=18 pos[1]=[1.1 5.3 -6.5] dr=1.75 t=0.0ps kin=45.01 pot=-1.19 Rg=7.086 SPS=2576 \n",
      "bl=19 pos[1]=[-0.7 6.2 -6.2] dr=1.69 t=0.0ps kin=47.71 pot=-1.64 Rg=7.585 SPS=2528 \n",
      "bl=20 pos[1]=[-1.0 7.1 -4.2] dr=1.53 t=0.0ps kin=46.29 pot=-2.05 Rg=7.111 SPS=2545 \n",
      "bl=21 pos[1]=[-0.7 6.9 -5.0] dr=2.06 t=0.0ps kin=50.18 pot=-1.98 Rg=8.000 SPS=2580 \n",
      "bl=22 pos[1]=[-2.5 6.8 -5.5] dr=1.39 t=0.0ps kin=57.48 pot=-1.82 Rg=8.036 SPS=2557 \n",
      "bl=23 pos[1]=[-0.8 7.0 -6.4] dr=1.87 t=0.0ps kin=59.68 pot=-2.29 Rg=8.344 SPS=2593 \n",
      "bl=24 pos[1]=[-1.7 6.4 -5.4] dr=1.48 t=0.0ps kin=61.87 pot=-1.79 Rg=8.418 SPS=2645 \n",
      "bl=25 pos[1]=[-2.4 5.6 -6.4] dr=1.69 t=0.0ps kin=67.00 pot=-1.69 Rg=8.898 SPS=2657 \n",
      "bl=26 pos[1]=[-2.6 4.4 -7.2] dr=1.68 t=0.0ps kin=73.86 pot=-1.65 Rg=8.411 SPS=2665 \n",
      "bl=27 pos[1]=[-5.0 7.2 -8.5] dr=2.27 t=0.0ps kin=78.04 pot=-1.45 Rg=9.592 SPS=2671 \n",
      "bl=28 pos[1]=[-5.7 6.4 -8.2] dr=1.38 t=0.0ps kin=82.66 pot=-1.54 Rg=9.330 SPS=2667 \n",
      "bl=29 pos[1]=[-6.0 6.6 -9.2] dr=1.70 t=0.0ps kin=81.34 pot=-1.90 Rg=10.062 SPS=2659 \n",
      "bl=30 pos[1]=[-5.9 7.6 -7.2] dr=1.87 t=0.0ps kin=79.49 pot=-2.72 Rg=10.193 SPS=2665 \n",
      "bl=31 pos[1]=[-7.5 5.6 -6.5] dr=1.97 t=0.0ps kin=79.38 pot=-2.45 Rg=10.846 SPS=2662 \n",
      "bl=32 pos[1]=[-8.2 5.3 -6.1] dr=1.84 t=0.0ps kin=84.60 pot=-3.67 Rg=11.090 SPS=2674 \n",
      "bl=33 pos[1]=[-7.4 6.7 -6.4] dr=1.55 t=0.0ps kin=89.76 pot=-4.02 Rg=11.137 SPS=2681 \n",
      "bl=34 pos[1]=[-9.9 6.8 -6.6] dr=1.84 t=0.0ps kin=94.53 pot=-3.20 Rg=11.705 SPS=2662 \n",
      "bl=35 pos[1]=[-9.5 6.5 -6.4] dr=1.91 t=0.0ps kin=94.74 pot=-3.73 Rg=11.999 SPS=2674 \n",
      "bl=36 pos[1]=[-9.4 6.3 -6.7] dr=1.96 t=0.0ps kin=96.32 pot=-3.81 Rg=13.264 SPS=2663 \n",
      "bl=37 pos[1]=[-9.1 6.1 -6.2] dr=1.84 t=0.0ps kin=100.42 pot=-3.92 Rg=13.116 SPS=2576 \n",
      "bl=38 pos[1]=[-9.1 5.5 -6.0] dr=1.82 t=0.0ps kin=101.57 pot=-4.49 Rg=14.142 SPS=2641 \n",
      "bl=39 pos[1]=[-10.9 6.0 -4.1] dr=2.12 t=0.0ps kin=104.93 pot=-4.74 Rg=15.001 SPS=1764 \n",
      "bl=40 pos[1]=[-12.3 6.1 -3.9] dr=1.56 t=0.0ps kin=108.55 pot=-5.24 Rg=15.297 SPS=2182 \n",
      "bl=41 pos[1]=[-11.7 6.1 -4.5] dr=1.83 t=0.0ps kin=111.48 pot=-5.88 Rg=15.936 SPS=2593 \n",
      "bl=42 pos[1]=[-14.7 6.9 -3.9] dr=2.13 t=0.0ps kin=109.28 pot=-5.99 Rg=17.061 SPS=2612 \n",
      "bl=43 pos[1]=[-13.7 6.3 -3.7] dr=1.58 t=0.0ps kin=108.90 pot=-6.71 Rg=17.579 SPS=1947 \n",
      "bl=44 pos[1]=[-14.2 7.8 -4.9] dr=1.88 t=0.0ps kin=107.45 pot=-7.81 Rg=18.531 SPS=2528 \n",
      "bl=45 pos[1]=[-15.5 6.7 -4.2] dr=1.59 t=0.0ps kin=103.35 pot=-7.92 Rg=18.844 SPS=2620 \n",
      "bl=46 pos[1]=[-14.4 7.6 -2.4] dr=1.56 t=0.0ps kin=106.42 pot=-8.46 Rg=18.489 SPS=2283 \n",
      "bl=47 pos[1]=[-12.7 7.5 -4.0] dr=1.45 t=0.0ps kin=108.36 pot=-8.75 Rg=18.914 SPS=1773 \n",
      "bl=48 pos[1]=[-13.9 9.4 -4.0] dr=1.90 t=0.0ps kin=112.06 pot=-9.00 Rg=19.874 SPS=2638 \n",
      "bl=49 pos[1]=[-16.6 9.3 -3.1] dr=1.82 t=0.0ps kin=112.54 pot=-9.65 Rg=20.797 SPS=2627 \n",
      "\n",
      "Statistics for the simulation test, number of particles: 100,  number of chains: 1\n",
      "\n",
      "Statistics for particle position\n",
      "     mean position is:  [ 8.14385851 -0.4954015   8.09129012]   Rg =  20.797203\n",
      "     median bond size is  0.3544905676739484\n",
      "     three shortest/longest (<10)/ bonds are  [0.05517124 0.07837065 0.07978325]    [0.66481159 0.664825   0.67509624]\n",
      "longest 10 bonds are [ 0.61900234  0.62737724  0.64553353  0.66481159  0.664825    0.67509624\n",
      " 14.12164931 21.04498577 24.1109338  59.58179967]\n",
      "     95 percentile of distance to center is:    32.65467469831219\n",
      "     density of closest 95% monomers is:    0.0006513267436528667\n",
      "     density of the core monomers is:    0.006260103048340047\n",
      "     min/median/mean/max coordinates are: \n",
      "     x: -16.58, 9.46, 8.14, 34.64\n",
      "     y: -7.81, -3.35, -0.50, 10.05\n",
      "     z: -3.34, 4.62, 8.09, 27.06\n",
      "\n",
      "Statistics for velocities:\n",
      "     mean kinetic energy is:  112.5371668816403 should be: 1.5\n",
      "     fastest particles are (in kT):  [410.79862776 453.44858822 546.36548193 589.874691   641.7292142 ]\n",
      "\n",
      "Statistics for the system:\n",
      "     Forces are:  ['ActiveForce', 'FENEBond', 'RadialConfinement']\n",
      "     Number of exceptions:   0\n",
      "\n",
      "Potential Energy Ep =  -9.653195190429688\n",
      "bl=50 pos[1]=[-17.2 9.4 -3.1] dr=2.06 t=0.0ps kin=109.94 pot=-10.43 Rg=21.743 SPS=2641 \n",
      "bl=51 pos[1]=[-17.3 10.5 -2.4] dr=1.65 t=0.0ps kin=114.36 pot=-10.52 Rg=22.120 SPS=2651 \n",
      "bl=52 pos[1]=[-16.8 11.1 -2.5] dr=1.79 t=0.0ps kin=117.81 pot=-11.55 Rg=22.510 SPS=2627 \n",
      "bl=53 pos[1]=[-16.5 13.3 -2.9] dr=2.26 t=0.0ps kin=121.66 pot=-12.30 Rg=23.121 SPS=2633 \n",
      "bl=54 pos[1]=[-16.8 15.9 -4.6] dr=2.20 t=0.0ps kin=123.10 pot=-13.06 Rg=24.108 SPS=2624 \n",
      "bl=55 pos[1]=[-15.0 15.4 -4.3] dr=1.96 t=0.0ps kin=127.92 pot=-14.29 Rg=24.842 SPS=2639 \n",
      "bl=56 pos[1]=[-16.1 16.7 -5.5] dr=1.59 t=0.0ps kin=125.84 pot=-13.79 Rg=25.091 SPS=2558 \n",
      "bl=57 pos[1]=[-17.0 17.8 -3.9] dr=1.95 t=0.0ps kin=128.79 pot=-14.36 Rg=25.635 SPS=2187 \n",
      "bl=58 pos[1]=[-18.1 19.4 -5.5] dr=1.92 t=0.0ps kin=134.42 pot=-14.85 Rg=26.304 SPS=1635 \n",
      "bl=59 pos[1]=[-19.6 21.3 -6.1] dr=2.16 t=0.0ps kin=134.41 pot=-14.99 Rg=27.474 SPS=2077 \n",
      "bl=60 pos[1]=[-21.3 22.1 -7.3] dr=1.72 t=0.0ps kin=131.82 pot=-15.24 Rg=28.477 SPS=2663 \n",
      "bl=61 pos[1]=[-20.5 23.0 -9.0] dr=1.92 t=0.0ps kin=135.29 pot=-15.07 Rg=29.059 SPS=2384 \n",
      "bl=62 pos[1]=[-19.7 25.9 -9.5] dr=1.57 t=0.0ps kin=139.73 pot=-15.77 Rg=29.311 SPS=2403 \n",
      "bl=63 pos[1]=[-21.8 26.5 -9.4] dr=1.67 t=0.0ps kin=140.11 pot=-16.01 Rg=29.564 SPS=2645 \n",
      "bl=64 pos[1]=[-22.4 25.9 -8.6] dr=1.29 t=0.0ps kin=141.12 pot=-15.62 Rg=30.076 SPS=2647 \n",
      "bl=65 pos[1]=[-24.9 25.4 -11.9] dr=2.14 t=0.0ps kin=144.87 pot=-15.20 Rg=31.054 SPS=2644 \n",
      "bl=66 pos[1]=[-24.4 25.4 -12.6] dr=1.05 t=0.0ps kin=147.72 pot=-15.81 Rg=31.369 SPS=2629 \n",
      "bl=67 pos[1]=[-25.4 26.7 -11.2] dr=1.56 t=0.0ps kin=151.84 pot=-15.97 Rg=31.861 SPS=2163 \n",
      "bl=68 pos[1]=[-23.8 27.6 -13.6] dr=1.50 t=0.0ps kin=150.69 pot=-15.92 Rg=32.224 SPS=2279 \n",
      "bl=69 pos[1]=[-25.3 30.0 -14.6] dr=1.73 t=0.0ps kin=152.25 pot=-16.55 Rg=32.802 SPS=2591 \n",
      "bl=70 pos[1]=[-25.1 31.4 -15.9] dr=1.89 t=0.0ps kin=149.81 pot=-16.59 Rg=33.290 SPS=2605 \n",
      "bl=71 pos[1]=[-26.3 32.6 -17.2] dr=2.13 t=0.0ps kin=157.68 pot=-16.29 Rg=33.960 SPS=1729 \n",
      "bl=72 pos[1]=[-25.7 34.1 -17.7] dr=1.38 t=0.0ps kin=162.23 pot=-16.50 Rg=34.173 SPS=2647 \n",
      "bl=73 pos[1]=[-25.2 34.8 -19.0] dr=1.85 t=0.0ps kin=161.39 pot=-17.39 Rg=34.624 SPS=2658 \n",
      "bl=74 pos[1]=[-26.1 34.4 -18.3] dr=1.63 t=0.0ps kin=164.90 pot=-16.88 Rg=34.541 SPS=2657 \n",
      "bl=75 pos[1]=[-24.4 34.2 -20.0] dr=1.86 t=0.0ps kin=170.92 pot=-17.00 Rg=34.831 SPS=2621 \n",
      "bl=76 pos[1]=[-25.5 34.9 -20.2] dr=1.83 t=0.0ps kin=172.55 pot=-17.25 Rg=35.164 SPS=2623 \n",
      "bl=77 pos[1]=[-26.5 35.4 -19.3] dr=1.33 t=0.0ps kin=175.86 pot=-17.51 Rg=35.545 SPS=2528 \n",
      "bl=78 pos[1]=[-25.7 33.4 -20.2] dr=1.61 t=0.0ps kin=176.41 pot=-17.77 Rg=35.591 SPS=2610 \n",
      "bl=79 pos[1]=[-25.9 34.3 -20.5] dr=1.52 t=0.0ps kin=181.90 pot=-17.50 Rg=35.806 SPS=2609 \n",
      "bl=80 pos[1]=[-26.4 35.6 -20.9] dr=1.69 t=0.0ps kin=183.25 pot=-18.56 Rg=35.846 SPS=2620 \n",
      "bl=81 pos[1]=[-27.1 35.2 -19.6] dr=1.71 t=0.0ps kin=185.58 pot=-18.75 Rg=35.659 SPS=2658 \n",
      "bl=82 pos[1]=[-27.0 36.6 -18.7] dr=1.51 t=0.0ps kin=188.31 pot=-19.45 Rg=35.878 SPS=2414 \n",
      "bl=83 pos[1]=[-25.5 37.9 -20.2] dr=1.98 t=0.0ps kin=194.01 pot=-19.64 Rg=35.406 SPS=2254 \n",
      "bl=84 pos[1]=[-23.5 38.3 -21.4] dr=1.53 t=0.0ps kin=196.98 pot=-19.51 Rg=35.492 SPS=2443 \n",
      "bl=85 pos[1]=[-23.1 37.6 -21.1] dr=1.52 t=0.0ps kin=199.34 pot=-19.72 Rg=35.361 SPS=2630 \n",
      "bl=86 pos[1]=[-23.9 37.4 -22.3] dr=1.66 t=0.0ps kin=199.89 pot=-19.34 Rg=35.557 SPS=2284 \n",
      "bl=87 pos[1]=[-22.0 38.0 -22.0] dr=1.62 t=0.0ps kin=202.85 pot=-19.81 Rg=35.194 SPS=2454 \n",
      "bl=88 pos[1]=[-22.2 38.4 -21.6] dr=1.49 t=0.0ps kin=206.30 pot=-20.13 Rg=34.955 SPS=2663 \n",
      "bl=89 pos[1]=[-21.5 38.1 -23.6] dr=1.11 t=0.0ps kin=207.66 pot=-19.94 Rg=35.055 SPS=2646 \n",
      "bl=90 pos[1]=[-20.6 37.5 -23.1] dr=1.46 t=0.0ps kin=207.08 pot=-20.26 Rg=34.970 SPS=2635 \n",
      "bl=91 pos[1]=[-19.1 39.8 -23.0] dr=1.64 t=0.0ps kin=211.70 pot=-21.00 Rg=35.152 SPS=2643 \n",
      "bl=92 pos[1]=[-19.2 38.9 -24.2] dr=1.03 t=0.0ps kin=218.00 pot=-20.67 Rg=35.271 SPS=2656 \n",
      "bl=93 pos[1]=[-19.6 39.9 -23.0] dr=1.58 t=0.0ps kin=225.49 pot=-20.73 Rg=35.493 SPS=2680 \n",
      "bl=94 pos[1]=[-19.7 40.1 -22.2] dr=1.52 t=0.0ps kin=225.69 pot=-20.27 Rg=35.414 SPS=2647 \n",
      "bl=95 pos[1]=[-20.8 38.8 -22.7] dr=1.53 t=0.0ps kin=224.41 pot=-20.32 Rg=35.512 SPS=2640 \n",
      "bl=96 pos[1]=[-20.7 39.4 -22.5] dr=2.07 t=0.0ps kin=227.02 pot=-20.64 Rg=35.842 SPS=2640 \n",
      "bl=97 pos[1]=[-20.8 38.6 -22.4] dr=1.59 t=0.0ps kin=229.31 pot=-20.39 Rg=35.468 SPS=2650 \n",
      "bl=98 pos[1]=[-21.0 39.0 -23.0] dr=1.85 t=0.0ps kin=228.85 pot=-20.19 Rg=35.588 SPS=2651 \n",
      "bl=99 pos[1]=[-20.0 38.9 -23.1] dr=1.68 t=0.0ps kin=234.45 pot=-20.17 Rg=35.655 SPS=2660 \n",
      "\n",
      "Statistics for the simulation test, number of particles: 100,  number of chains: 1\n",
      "\n",
      "Statistics for particle position\n",
      "     mean position is:  [ 9.25697976 10.93773861  8.29905932]   Rg =  35.655445\n",
      "     median bond size is  0.38907923592245003\n",
      "     three shortest/longest (<10)/ bonds are  [0.10403357 0.10632717 0.13647095]    [0.7895641  0.86547407 0.90160692]\n",
      "longest 10 bonds are [ 0.68264111  0.73294832  0.74756821  0.7895641   0.86547407  0.90160692\n",
      " 29.46969021 38.47692416 57.86214069 75.62537498]\n",
      "     95 percentile of distance to center is:    50.98206467481787\n",
      "     density of closest 95% monomers is:    0.00017115229903868554\n",
      "     density of the core monomers is:    0.12728746440641928\n",
      "     min/median/mean/max coordinates are: \n",
      "     x: -20.51, 9.20, 9.26, 43.37\n",
      "     y: -10.19, 8.69, 10.94, 40.31\n",
      "     z: -23.40, 7.99, 8.30, 39.77\n",
      "\n",
      "Statistics for velocities:\n",
      "     mean kinetic energy is:  234.45303151529754 should be: 1.5\n",
      "     fastest particles are (in kT):  [1166.81298618 1282.56264311 1386.42228588 1721.55794444 2118.5451732 ]\n",
      "\n",
      "Statistics for the system:\n",
      "     Forces are:  ['ActiveForce', 'FENEBond', 'RadialConfinement']\n",
      "     Number of exceptions:   0\n",
      "\n",
      "Potential Energy Ep =  -20.170794677734374\n",
      "bl=100 pos[1]=[-21.2 38.9 -21.7] dr=1.82 t=0.0ps kin=234.26 pot=-20.00 Rg=35.637 SPS=2663 \n"
     ]
    }
   ],
   "source": [
    "positions=[]\n",
    "for ii, _ in enumerate(range(nblocks)):\n",
    "    sim.runSimBlock(blocksize)\n",
    "    #sim.saveStructure()\n",
    "\n",
    "    state = sim.context.getState(getPositions=True,\n",
    "            getVelocities=False, getEnergy=False)\n",
    "    #vel = state.getVelocities(asNumpy=True)#/unit.sqrt(unit.kilojoule_per_mole / mass)\n",
    "    positions.append(state.getPositions(asNumpy=True))\n",
    "#     sim.printForces()\n",
    "#     print(sim.state.getPotentialEnergy(), sim.kB*T*unit.kelvin)\n",
    "    \n",
    "    # if ii%int(args.nblocks*0.1)==0 and ii>0==0:\n",
    "    if ii==500:\n",
    "        np.save(opath+'traj_'+savename+'_positions.npy',np.array(positions))\n",
    "        print('saved')\n",
    "#save cndb file\n",
    "#sim.storage[0].close()\n",
    "\n",
    "#np.save(args.opath+savename+'_velocities.npy',Velocities)\n",
    "np.save(opath+'traj_'+savename+'_positions.npy',np.array(positions))"
   ]
  },
  {
   "cell_type": "code",
   "execution_count": 42,
   "metadata": {},
   "outputs": [
    {
     "name": "stdout",
     "output_type": "stream",
     "text": [
      "(100, 100, 3)\n"
     ]
    }
   ],
   "source": [
    "xyz=np.load(opath+'traj_'+savename+'_positions.npy')\n",
    "print(xyz.shape)"
   ]
  },
  {
   "cell_type": "code",
   "execution_count": 61,
   "metadata": {},
   "outputs": [],
   "source": [
    "np.savetxt('snap.csv',xyz[-1])"
   ]
  },
  {
   "cell_type": "code",
   "execution_count": 7,
   "metadata": {},
   "outputs": [
    {
     "data": {
      "application/vnd.jupyter.widget-view+json": {
       "model_id": "49792175c4c34d4f8f39a95956846ad8",
       "version_major": 2,
       "version_minor": 0
      },
      "text/plain": [
       "Canvas(toolbar=Toolbar(toolitems=[('Home', 'Reset original view', 'home', 'home'), ('Back', 'Back to previous …"
      ]
     },
     "metadata": {},
     "output_type": "display_data"
    }
   ],
   "source": [
    "%matplotlib ipympl\n",
    "fig = plt.figure()\n",
    "ax = fig.add_axes([0,0,2,2],projection='3d')\n",
    "# ax = fig.add_axes([0,0,1,1],)\n",
    "# quiver = ax.quiver([],[],[],[])\n",
    "#quiver = ax.quiver([],[],[],[],[],[])\n",
    "R0=100\n",
    "Na=400\n",
    "ax.scatter(xyz[0,:Na,0],xyz[0,:Na,1],xyz[0,:Na,2],'o',color='C0')\n",
    "ax.scatter(xyz[0,Na:,0],xyz[0,Na:,1],xyz[0,Na:,2],'o',color='C1')\n",
    "# c=['r','g','b']\n",
    "def update(ii):\n",
    "    fig.clear()\n",
    "    ax = fig.add_axes([0,0,1,1],projection='3d')\n",
    "    # ax = fig.add_axes([0,0,1,1],)\n",
    "\n",
    "    p=xyz[ii]\n",
    "    # print(p.shape)\n",
    "    # line.set_data(p[:,0],p[:,1])\n",
    "    # line.set_3d_properties(p[:,2])\n",
    "    # plt.draw()\n",
    "    # ax.plot(p[10:13,0],p[10:13,1],p[10:13,2],'o',color='C0',alpha=1)\n",
    "    ax.scatter(p[:Na,0],p[:Na,1],p[:Na,2],'o',color='C0',alpha=0.5)\n",
    "\n",
    "    # ax.plot(p[300:303,0],p[300:303,1],p[300:303,2],'o',color='C1',alpha=1)\n",
    "    ax.scatter(p[Na:,0],p[Na:,1],p[Na:,2],'o',color='C1',)\n",
    "    ax.plot(p[Na:,0],p[Na:,1],p[Na:,2],'-',color='k',)\n",
    "    # ax.plot(masked_xyz[:100,0],masked_xyz[:100,1],'go',markersize=3)\n",
    "    \n",
    "    ax.set_zlim(-R0, R0)\n",
    "    ax.set_xlim(-R0, R0)\n",
    "    ax.set_ylim(-R0, R0)\n",
    "    \n",
    "    # return line,\n",
    "\n",
    "#update(10)\n",
    "ani = FuncAnimation(fig, update, frames=np.arange(1,xyz.shape[0],5), interval=200, blit=True,repeat=False)\n",
    "\n",
    "# ani.save('ani_sticky_gas_T0.1_F0.1_Ta10-R20.gif', writer='pillow')\n",
    "plt.show()\n"
   ]
  },
  {
   "cell_type": "code",
   "execution_count": 87,
   "metadata": {},
   "outputs": [],
   "source": [
    "def autocorrFFT(x):\n",
    "    Nx=len(x)\n",
    "    F = np.fft.fft(x, n=2*Nx)  #2*N because of zero-padding\n",
    "    PSD = F * F.conjugate()\n",
    "    res = np.fft.ifft(PSD)\n",
    "    res= (res[:Nx]).real   #now we have the autocorrelation in convention B\n",
    "    n=Nx*np.ones(Nx)-np.arange(0,Nx) #divide res(m) by (N-m)\n",
    "    return res/n #this is the autocorrelation in convention A\n",
    "    \n",
    "def msd_fft(r):\n",
    "    Nx=len(r)\n",
    "    D=np.square(r).sum(axis=1) \n",
    "    D=np.append(D,0) \n",
    "    S2=sum([autocorrFFT(r[:, i]) for i in range(r.shape[1])])\n",
    "    Q=2*D.sum()\n",
    "    S1=np.zeros(Nx)\n",
    "    for m in range(Nx):\n",
    "        Q=Q-D[m-1]-D[Nx-m]\n",
    "        S1[m]=Q/(Nx-m)\n",
    "    return S1,S2\n",
    "\n",
    "def tau_p(p1,k1,Nn):\n",
    "    g=0.1\n",
    "    return g*Nn**2/(np.pi**2*k1*p1**2)\n",
    "    \n",
    "def tau_charac(k1):\n",
    "    g=0.1\n",
    "    return g/(np.pi**2*k1)\n",
    "\n",
    "def XP_autocorr(t,p1,T1,F1,ta,k1,Nn):\n",
    "    g=0.1\n",
    "    tp=tau_p(p1,k1,Nn)\n",
    "    r=1-ta**2/tp**2\n",
    "    ret = ((3*tp/(2*Nn*g))*(T1+F1**2*ta/(g*r))*np.exp(-t/tp) \n",
    "            - (3*F1**2*ta**2/(2*Nn*g**2*r))*np.exp(-t/ta))\n",
    "    # ret=((3*temp*tp/(2*Nn*g))*np.exp(-t/tp)\n",
    "    #         + (3*(F1*tp*ta)**2/(2*Nn*g**2*(tp**2-ta**2)))*(tp*np.exp(-t/tp)/ta + np.exp(-t/ta)))\n",
    "    return ret\n",
    "\n",
    "def Rot_corr(t,T1,F1,ta,k1,Nn):\n",
    "    #scalar t\n",
    "    ps=np.arange(1,Nn,1)\n",
    "    ret=XP_autocorr(t,ps,T1,F1,ta,k1,Nn)*(1+np.cos(ps*np.pi/Nn)**2-2*np.cos(ps*np.pi)*np.cos(np.pi*ps/Nn))\n",
    "    return np.mean(ret)\n",
    "\n",
    "def dXp_autocorr(t,p1,T1,F1,ta,k1,Nn):\n",
    "    #scalar t\n",
    "    c=0\n",
    "    tp=tau_p(p1,k1,Nn)\n",
    "    g=0.1\n",
    "    if t<1e-8: c=T1/(Nn*g)\n",
    "\n",
    "    # ret=c-T1*np.exp(-t/tp)/(2*Nn*g*tp)\n",
    "    ret=(c+XP_autocorr(t,p1,T1,F1,ta,k1,Nn)/tp**2-T1*np.exp(-t/tp)/(Nn*g*tp)\n",
    "            +(F1**2*(ta**2+tp**2)*np.exp(-t/ta) -2*F1**2*ta*tp*np.exp(-t/tp))/(2*Nn*g**2*(tp**2-ta**2)))\n",
    "    return ret\n",
    "    "
   ]
  },
  {
   "cell_type": "code",
   "execution_count": 88,
   "metadata": {},
   "outputs": [
    {
     "name": "stdout",
     "output_type": "stream",
     "text": [
      "0.025330295910584444\n"
     ]
    },
    {
     "data": {
      "text/plain": [
       "(0.0, 0.001)"
      ]
     },
     "execution_count": 88,
     "metadata": {},
     "output_type": "execute_result"
    },
    {
     "data": {
      "image/png": "[encoded data removed]",
      "text/plain": [
       "<Figure size 432x288 with 1 Axes>"
      ]
     },
     "metadata": {
      "needs_background": "light"
     },
     "output_type": "display_data"
    }
   ],
   "source": [
    "\n",
    "ts=np.arange(0,xyz.shape[0],1)*blocksize*dt\n",
    "k=16#chrm_top.shape[0]\n",
    "N=50#int(sim.N/k)\n",
    "p=10\n",
    "for d in [1]:\n",
    "    SXp=[]\n",
    "    print(tau_p(p,kb,50))\n",
    "    for pol in range(k):\n",
    "        # print(pol*N,(pol+1)*N)\n",
    "        Xp=(1/N)*np.einsum('ijk,j->ik',xyz[:,pol*N:(pol+1)*N,:],np.cos((p*np.pi/N)*(np.arange(1,N+1,1)+0.5)))\n",
    "        # print(Xp.shape)\n",
    "        dXp=(Xp[d:,:]-Xp[:-d,:])/(blocksize*dt)\n",
    "        \n",
    "        SXp.append(msd_fft(dXp)[1])\n",
    "    \n",
    "    SXp=np.mean(np.array(SXp),axis=0)\n",
    "\n",
    "    plt.semilogx(ts[:-d], SXp/SXp[0],'.')\n",
    "    # if p==0: continue\n",
    "    # plt.semilogx(ts,XP_autocorr(t=ts,p1=p,T1=T,F1=F,ta=Ta,k1=kb,Nn=50),'k--')\n",
    "    plt.plot(ts,[dXp_autocorr(xx,p1=p,T1=T,F1=F,ta=Ta,k1=kb,Nn=50)/dXp_autocorr(0,p1=p,T1=T,F1=F,ta=Ta,k1=kb,Nn=50) for xx in ts],'k--')\n",
    "\n",
    "# plt.loglog()\n",
    "plt.xscale('linear')\n",
    "# print(SXp.shape)\n",
    "plt.xlim(0,0.001)\n",
    "# plt.ylim(-100,200)"
   ]
  },
  {
   "cell_type": "code",
   "execution_count": 44,
   "metadata": {},
   "outputs": [
    {
     "data": {
      "text/plain": [
       "array([0.001, 0.001, 0.001, ..., 0.001, 0.001, 0.001])"
      ]
     },
     "execution_count": 44,
     "metadata": {},
     "output_type": "execute_result"
    }
   ],
   "source": [
    "np.gradient(ts)"
   ]
  },
  {
   "cell_type": "code",
   "execution_count": 14,
   "metadata": {},
   "outputs": [
    {
     "data": {
      "text/plain": [
       "(1e-05, 100.0)"
      ]
     },
     "execution_count": 14,
     "metadata": {},
     "output_type": "execute_result"
    },
    {
     "data": {
      "image/png": "[encoded data removed]",
      "text/plain": [
       "<Figure size 432x288 with 1 Axes>"
      ]
     },
     "metadata": {
      "needs_background": "light"
     },
     "output_type": "display_data"
    }
   ],
   "source": [
    "%matplotlib inline\n",
    "P1=np.array([xyz[:,(xx+1)*50-1,:]-xyz[:,xx*50,:] for xx in range(16)])\n",
    "# print(P1.shape)\n",
    "ts=np.arange(0,P1.shape[1],1)\n",
    "Pav=np.mean([msd_fft(P1[xx])[1] for xx in range(16)],axis=0)\n",
    "# print(Pav.shape)\n",
    "plt.loglog(ts,Pav)\n",
    "plt.loglog(np.logspace(0,3,20),[Rot_corr(xx,1,0,10,10,100) for xx in np.logspace(0,3,20)])\n",
    "\n",
    "plt.ylim(1e-5,1e2)\n",
    "# Rot_corr(10,1,1,10,10,100)"
   ]
  },
  {
   "cell_type": "code",
   "execution_count": 54,
   "metadata": {},
   "outputs": [
    {
     "name": "stdout",
     "output_type": "stream",
     "text": [
      "(100, 1)\n"
     ]
    }
   ],
   "source": [
    "s=pd.read_table('chr_seq.txt', header=None)\n",
    "# s.shape\n",
    "print(s.shape)"
   ]
  },
  {
   "cell_type": "code",
   "execution_count": 62,
   "metadata": {},
   "outputs": [
    {
     "name": "stdout",
     "output_type": "stream",
     "text": [
      "(100, 3)\n"
     ]
    }
   ],
   "source": [
    "init=np.loadtxt('snap.csv',)\n",
    "print(init.shape)"
   ]
  },
  {
   "cell_type": "code",
   "execution_count": 64,
   "metadata": {},
   "outputs": [],
   "source": [
    "chrm_top=np.loadtxt(ftop, delimiter=' ', dtype=int)"
   ]
  },
  {
   "cell_type": "code",
   "execution_count": 65,
   "metadata": {},
   "outputs": [
    {
     "data": {
      "text/plain": [
       "(5, 3)"
      ]
     },
     "execution_count": 65,
     "metadata": {},
     "output_type": "execute_result"
    }
   ],
   "source": [
    "chrm_top.shape"
   ]
  },
  {
   "cell_type": "code",
   "execution_count": 66,
   "metadata": {},
   "outputs": [
    {
     "name": "stdout",
     "output_type": "stream",
     "text": [
      "[ 0 19  0]\n",
      "[20 39  0]\n",
      "[40 59  0]\n",
      "[60 79  0]\n",
      "[80 99  0]\n"
     ]
    }
   ],
   "source": [
    "for row in chrm_top:\n",
    "    print(row[0])"
   ]
  },
  {
   "cell_type": "code",
   "execution_count": 9,
   "metadata": {},
   "outputs": [
    {
     "name": "stdout",
     "output_type": "stream",
     "text": [
      "0\n",
      "1\n",
      "2\n"
     ]
    }
   ],
   "source": [
    "steps=10\n",
    "num = steps // 5 + 1\n",
    "for _ in range(steps // num):\n",
    "    print(_)\n"
   ]
  },
  {
   "cell_type": "code",
   "execution_count": 8,
   "metadata": {},
   "outputs": [
    {
     "name": "stdout",
     "output_type": "stream",
     "text": [
      "3\n"
     ]
    }
   ],
   "source": [
    "if 1e-3: print(3)"
   ]
  },
  {
   "cell_type": "code",
   "execution_count": null,
   "metadata": {},
   "outputs": [],
   "source": []
  }
 ],
 "metadata": {
  "interpreter": {
   "hash": "90f72e8778369b9d09aac5344fb767c92475c93923a32da11427c461a596d7d4"
  },
  "kernelspec": {
   "display_name": "Python 3.7.4 64-bit ('base': conda)",
   "language": "python",
   "name": "python3"
  },
  "language_info": {
   "codemirror_mode": {
    "name": "ipython",
    "version": 3
   },
   "file_extension": ".py",
   "mimetype": "text/x-python",
   "name": "python",
   "nbconvert_exporter": "python",
   "pygments_lexer": "ipython3",
   "version": "3.7.10"
  },
  "orig_nbformat": 4
 },
 "nbformat": 4,
 "nbformat_minor": 2
}
