{
 "cells": [
  {
   "cell_type": "code",
   "execution_count": 1,
   "metadata": {},
   "outputs": [],
   "source": [
    "from OpenMiChroM.ChromDynamics import MiChroM\n",
    "from openmmtools import integrators\n",
    "from simtk import unit\n",
    "from Custom_integrators import CustomBrownianIntegrator\n",
    "import Custom_Bonds\n",
    "import numpy as np\n",
    "from mpl_toolkits.mplot3d import Axes3D\n",
    "import matplotlib.colors as colors\n",
    "from matplotlib.animation import FuncAnimation\n",
    "import matplotlib.pyplot as plt\n",
    "from matplotlib import rcParams as rc"
   ]
  },
  {
   "cell_type": "code",
   "execution_count": 6,
   "metadata": {},
   "outputs": [],
   "source": [
    "# ftop='chr_top.txt'\n",
    "fseq='chr_seq.txt'\n",
    "finit=''#'snap_1000AB.npy'\n",
    "t='changes made in phase sep branch'\n",
    "Ta=10\n",
    "Na=0\n",
    "T=120\n",
    "F=0.0\n",
    "Esoft=10\n",
    "\n",
    "R0=100\n",
    "gamma=0.1\n",
    "kb=1\n",
    "dt=0.001\n",
    "nblocks=100\n",
    "blocksize=1000\n",
    "opath='test_out/'\n",
    "savename='test'"
   ]
  },
  {
   "cell_type": "code",
   "execution_count": 7,
   "metadata": {},
   "outputs": [
    {
     "name": "stdout",
     "output_type": "stream",
     "text": [
      "    ***************************************************************************************     \n",
      "     **** **** *** *** *** *** *** *** OpenMiChroM-1.0.2 *** *** *** *** *** *** **** ****      \n",
      "\n",
      "         OpenMiChroM is a Python library for performing chromatin dynamics simulations.         \n",
      "                            OpenMiChroM uses the OpenMM Python API,                             \n",
      "                employing the MiChroM (Minimal Chromatin Model) energy function.                \n",
      "      The chromatin dynamics simulations generate an ensemble of 3D chromosomal structures      \n",
      "      that are consistent with experimental Hi-C maps, also allows simulations of a single      \n",
      "                 or multiple chromosome chain using High-Performance Computing                  \n",
      "                            in different platforms (GPUs and CPUs).                             \n",
      "         OpenMiChroM documentation is available at https://open-michrom.readthedocs.io          \n",
      "\n",
      "         OpenMiChroM is described in: Oliveira Junior, A. B & Contessoto, V, G et. al.          \n",
      "      A Scalable Computational Approach for Simulating Complexes of Multiple Chromosomes.       \n",
      "                  Journal of Molecular Biology. doi:10.1016/j.jmb.2020.10.034.                  \n",
      "                                              and                                               \n",
      "                                 Oliveira Junior, A. B. et al.                                  \n",
      "     Chromosome Modeling on Downsampled Hi-C Maps Enhances the Compartmentalization Signal.     \n",
      "                        J. Phys. Chem. B, doi:10.1021/acs.jpcb.1c04174.                         \n",
      "\n",
      "                    Copyright (c) 2021, The OpenMiChroM development team at                     \n",
      "                                        Rice University                                         \n",
      "    ***************************************************************************************     \n"
     ]
    }
   ],
   "source": [
    "#==========================#\n",
    "#Initialize Michrom Class  #\n",
    "#==========================#\n",
    "sim=MiChroM(name=savename, velocity_reinitialize=False,temperature=T)\n",
    "\n",
    "#Specify integrator\n",
    "integrator=CustomBrownianIntegrator(\n",
    "                    timestep=dt * unit.picoseconds, \n",
    "                    collision_rate=gamma / unit.picoseconds,\n",
    "                    temperature=T * unit.kelvin,measure_heat=False,\n",
    "                    noise_corr=Ta * unit.picoseconds,\n",
    "                    )\n",
    "\n",
    "sim.setup(platform=\"opencl\",integrator=integrator,)\n",
    "sim.saveFolder(opath)\n",
    "\n",
    "#Initial structure (spiral by default)\n",
    "if '.npy' not in finit:\n",
    "    chrm=sim.create_springSpiral(ChromSeq=fseq)\n",
    "else:\n",
    "    chrm=np.load(finit)\n",
    "sim.loadStructure(chrm,center=True)\n",
    "sim._translate_type(fseq)\n"
   ]
  },
  {
   "cell_type": "code",
   "execution_count": 8,
   "metadata": {},
   "outputs": [],
   "source": [
    "Custom_Bonds.set_activity(sim,F_act=0, particle_list=[])\n",
    "\n",
    "\n",
    "##---------#\n",
    "##polymers #\n",
    "##---------#\n",
    "\n",
    "#chromosome topology\n",
    "# chrm_top=np.loadtxt(ftop, delimiter=' ', dtype=int)\n",
    "# sim.forceDict['HarmonicBond']=sim.mm.HarmonicBondForce()\n",
    "##add bonds between nearest neighbors\n",
    "# for ii in range(sim.N-1):\n",
    "    #skip bonds between different chromosomes\n",
    "    # if ii in chrm_top[:,1]: continue\n",
    "    # Custom_Bonds.addTanhHarmonicBond(sim, ii, ii+1, eh=20, kb=kb)\n",
    "    # print(ii)\n",
    "    # sim.forceDict['HarmonicBond'].addBond(ii,ii+1, 2, 1)\n",
    "    # sim.bondsForException.append((int(ii), int(ii+1)))\n",
    "    # Custom_Bonds.addHarmonicBond(sim, ii, ii+1, kb=kb, d=2) \n",
    "\n",
    "# Custom_Bonds.addRadialConfinement(sim, R0=100, FlatBottomHarmonic=True, kr=20)\n",
    "\n",
    "#=====================#\n",
    "# Soft-core repulsion #\n",
    "#=====================#\n",
    "# Custom_Bonds.addTanhRepulsion(sim, es=4,rc=1)\n",
    "\n",
    "#=========================#\n",
    "# Inter-monomer adhesion  #\n",
    "#=========================#\n",
    "# sim.addCustomTypes(mu=3, rc=1, TypesTable='type_table.csv')\n",
    "Custom_Bonds.addCustomTypes(sim,rc=2,TypesTable='type_table.csv')\n"
   ]
  },
  {
   "cell_type": "code",
   "execution_count": 10,
   "metadata": {},
   "outputs": [],
   "source": [
    "# for key in sim.forceDict:\n",
    "#     print(key, sim.forceDict[key].getForceGroup(),sim.forceDict[key].getNumParticles(),\n",
    "#     sim.forceDict[key].getNumPerParticleParameters(),sim.forceDict[key].getParticleParameters(70))\n",
    "# print(sim.forceDict['CustomTypes'].getParticleParameters(200))\n",
    "# print(sim.forceDict['ActiveForce'].getNumParticles())\n",
    "# sim.forceDict['HarmonicBond'].getGlobalParameterDefaultValue(1,)\n",
    "# sim.forceDict['HarmonicBond'].getNumBonds()\n",
    "# sim.forceDict['HarmonicBond'].getNumGlobalParameters()\n",
    "# print(chrm_top.shape)"
   ]
  },
  {
   "cell_type": "code",
   "execution_count": 9,
   "metadata": {},
   "outputs": [
    {
     "name": "stdout",
     "output_type": "stream",
     "text": [
      "Number of exceptions: 0\n",
      "adding force  ActiveForce 0\n",
      "Add exclusions for CustomTypes force\n",
      "adding force  CustomTypes 1\n",
      "Positions... \n",
      " loaded!\n",
      "potential energy is -0.842665\n",
      "bl=1 pos[1]=[20.5 4.9 -6.6] dr=4.40 t=0.0ps kin=0.00 pot=-7.82 Rg=5.611 SPS=643 \n",
      "bl=2 pos[1]=[25.1 11.5 -2.7] dr=2.66 t=0.0ps kin=0.00 pot=-8.49 Rg=5.860 SPS=947 \n",
      "bl=3 pos[1]=[27.9 5.5 1.0] dr=1.93 t=0.0ps kin=0.00 pot=-8.98 Rg=5.755 SPS=960 \n",
      "bl=4 pos[1]=[31.2 1.0 -7.1] dr=2.97 t=0.0ps kin=0.00 pot=-9.13 Rg=5.671 SPS=948 \n",
      "bl=5 pos[1]=[27.9 4.1 -7.6] dr=1.94 t=0.0ps kin=0.00 pot=-10.40 Rg=5.995 SPS=977 \n",
      "bl=6 pos[1]=[22.1 -5.5 -16.5] dr=2.07 t=0.0ps kin=0.00 pot=-9.52 Rg=5.808 SPS=986 \n",
      "bl=7 pos[1]=[22.4 -8.0 -9.2] dr=1.81 t=0.0ps kin=0.00 pot=-9.81 Rg=5.379 SPS=977 \n",
      "bl=8 pos[1]=[29.0 -5.9 -9.1] dr=1.86 t=0.0ps kin=0.00 pot=-10.50 Rg=5.409 SPS=885 \n",
      "bl=9 pos[1]=[24.4 -4.3 -7.9] dr=2.23 t=0.0ps kin=0.00 pot=-10.44 Rg=5.762 SPS=939 \n",
      "bl=10 pos[1]=[24.6 -3.0 -7.5] dr=1.70 t=0.0ps kin=0.00 pot=-11.09 Rg=6.033 SPS=976 \n",
      "bl=11 pos[1]=[26.5 -5.2 -5.8] dr=1.50 t=0.0ps kin=0.00 pot=-9.88 Rg=5.727 SPS=949 \n",
      "bl=12 pos[1]=[20.1 1.2 0.8] dr=2.05 t=0.0ps kin=0.00 pot=-9.59 Rg=5.730 SPS=669 \n",
      "bl=13 pos[1]=[18.5 -3.1 2.4] dr=1.58 t=0.0ps kin=0.00 pot=-9.47 Rg=5.919 SPS=952 \n",
      "bl=14 pos[1]=[18.6 -3.4 3.5] dr=1.46 t=0.0ps kin=0.00 pot=-10.31 Rg=6.545 SPS=988 \n",
      "bl=15 pos[1]=[18.8 -6.7 -6.6] dr=2.13 t=0.0ps kin=0.00 pot=-10.36 Rg=6.635 SPS=866 \n",
      "bl=16 pos[1]=[12.7 -8.0 -7.1] dr=1.45 t=0.0ps kin=0.00 pot=-10.64 Rg=6.365 SPS=960 \n",
      "bl=17 pos[1]=[9.3 -2.5 -7.9] dr=1.98 t=0.0ps kin=0.00 pot=-9.45 Rg=6.304 SPS=965 \n",
      "bl=18 pos[1]=[7.1 -3.3 -8.2] dr=1.76 t=0.0ps kin=0.00 pot=-9.91 Rg=5.440 SPS=925 \n",
      "bl=19 pos[1]=[7.1 1.2 -2.8] dr=1.68 t=0.0ps kin=0.00 pot=-10.48 Rg=5.487 SPS=977 \n",
      "bl=20 pos[1]=[6.5 4.2 -3.1] dr=2.47 t=0.0ps kin=0.00 pot=-10.23 Rg=4.671 SPS=979 \n",
      "bl=21 pos[1]=[7.1 7.0 -0.9] dr=1.97 t=0.0ps kin=0.00 pot=-9.95 Rg=5.086 SPS=1002 \n",
      "bl=22 pos[1]=[3.0 11.7 1.6] dr=1.66 t=0.0ps kin=0.00 pot=-10.02 Rg=4.401 SPS=1002 \n",
      "bl=23 pos[1]=[1.3 13.6 0.9] dr=1.57 t=0.0ps kin=0.00 pot=-9.45 Rg=4.755 SPS=983 \n",
      "bl=24 pos[1]=[4.4 15.0 0.8] dr=1.82 t=0.0ps kin=0.00 pot=-10.80 Rg=5.455 SPS=1009 \n",
      "bl=25 pos[1]=[2.6 14.5 3.2] dr=1.77 t=0.0ps kin=0.00 pot=-10.87 Rg=5.771 SPS=1013 \n",
      "bl=26 pos[1]=[1.3 8.5 4.3] dr=2.10 t=0.0ps kin=0.00 pot=-9.65 Rg=6.161 SPS=934 \n",
      "bl=27 pos[1]=[3.3 6.1 6.1] dr=1.54 t=0.0ps kin=0.00 pot=-10.97 Rg=6.438 SPS=1013 \n",
      "bl=28 pos[1]=[4.6 5.9 10.4] dr=1.91 t=0.0ps kin=0.00 pot=-11.64 Rg=6.738 SPS=965 \n",
      "bl=29 pos[1]=[12.3 5.5 5.6] dr=1.71 t=0.0ps kin=0.00 pot=-10.31 Rg=6.992 SPS=955 \n",
      "bl=30 pos[1]=[15.6 3.7 -1.5] dr=1.58 t=0.0ps kin=0.00 pot=-11.31 Rg=7.402 SPS=943 \n",
      "bl=31 pos[1]=[18.2 11.2 3.5] dr=1.76 t=0.0ps kin=0.00 pot=-10.16 Rg=7.140 SPS=1025 \n",
      "bl=32 pos[1]=[19.9 13.3 0.8] dr=1.96 t=0.0ps kin=0.00 pot=-9.97 Rg=7.560 SPS=1017 \n",
      "bl=33 pos[1]=[17.7 14.5 9.6] dr=1.93 t=0.0ps kin=0.00 pot=-9.75 Rg=8.298 SPS=1009 \n",
      "bl=34 pos[1]=[13.1 18.2 5.8] dr=1.85 t=0.0ps kin=0.00 pot=-10.81 Rg=8.285 SPS=1026 \n",
      "bl=35 pos[1]=[13.9 19.4 3.1] dr=1.60 t=0.0ps kin=0.00 pot=-10.78 Rg=8.991 SPS=1010 \n",
      "bl=36 pos[1]=[12.1 18.9 7.6] dr=1.66 t=0.0ps kin=0.00 pot=-10.18 Rg=9.175 SPS=952 \n",
      "bl=37 pos[1]=[4.6 26.9 7.2] dr=1.82 t=0.0ps kin=0.00 pot=-9.05 Rg=9.408 SPS=947 \n",
      "bl=38 pos[1]=[5.1 27.7 3.8] dr=1.55 t=0.0ps kin=0.00 pot=-8.90 Rg=8.573 SPS=1026 \n",
      "bl=39 pos[1]=[2.3 24.8 3.4] dr=1.34 t=0.0ps kin=0.00 pot=-9.65 Rg=8.436 SPS=751 \n",
      "bl=40 pos[1]=[6.8 22.8 1.9] dr=1.96 t=0.0ps kin=0.00 pot=-10.70 Rg=7.637 SPS=798 \n",
      "bl=41 pos[1]=[8.9 28.6 0.7] dr=1.75 t=0.0ps kin=0.00 pot=-11.15 Rg=8.018 SPS=1003 \n",
      "bl=42 pos[1]=[12.2 28.1 -2.3] dr=1.87 t=0.0ps kin=0.00 pot=-10.87 Rg=8.643 SPS=1031 \n",
      "bl=43 pos[1]=[8.0 25.7 -9.0] dr=1.48 t=0.0ps kin=0.00 pot=-11.36 Rg=8.599 SPS=1037 \n",
      "bl=44 pos[1]=[3.3 32.8 -4.4] dr=1.66 t=0.0ps kin=0.00 pot=-10.24 Rg=9.077 SPS=1037 \n",
      "bl=45 pos[1]=[8.9 28.5 -9.5] dr=1.90 t=0.0ps kin=0.00 pot=-11.25 Rg=8.406 SPS=1013 \n",
      "bl=46 pos[1]=[4.1 25.5 -16.5] dr=2.05 t=0.0ps kin=0.00 pot=-9.28 Rg=8.736 SPS=827 \n",
      "bl=47 pos[1]=[-1.1 21.7 -15.0] dr=1.88 t=0.0ps kin=0.00 pot=-9.88 Rg=8.506 SPS=783 \n",
      "bl=48 pos[1]=[-0.8 24.1 -7.4] dr=1.67 t=0.0ps kin=0.00 pot=-9.96 Rg=8.139 SPS=1010 \n",
      "bl=49 pos[1]=[-7.2 28.2 -5.3] dr=1.60 t=0.0ps kin=0.00 pot=-11.18 Rg=7.855 SPS=889 \n",
      "\n",
      "Statistics for the simulation test, number of particles: 100,  number of chains: 1\n",
      "\n",
      "Statistics for particle position\n",
      "     mean position is:  [-5.56817418  2.06604673  0.90187183]   Rg =  7.855016\n",
      "     median bond size is  1.0303511019049034\n",
      "     three shortest/longest (<10)/ bonds are  [0.16786676 0.18598519 0.32320224]    [8.89356364 8.98220076 9.14407267]\n",
      "longest 10 bonds are [ 8.37373649  8.53758379  8.89356364  8.98220076  9.14407267 10.2507955\n",
      " 10.52710692 22.71971051 61.51272977 61.9048947 ]\n",
      "     95 percentile of distance to center is:    5.491295538353764\n",
      "     density of closest 95% monomers is:    0.1369652966723885\n",
      "     density of the core monomers is:    0.018982670365865876\n",
      "     min/median/mean/max coordinates are: \n",
      "     x: -11.48, -5.52, -5.57, -4.38\n",
      "     y: -46.19, 5.85, 2.07, 28.22\n",
      "     z: -5.30, 0.44, 0.90, 31.98\n",
      "\n",
      "Statistics for velocities:\n",
      "     mean kinetic energy is:  0.0 should be: 1.5\n",
      "     fastest particles are (in kT):  [0. 0. 0. 0. 0.]\n",
      "\n",
      "Statistics for the system:\n",
      "     Forces are:  ['ActiveForce', 'CustomTypes']\n",
      "     Number of exceptions:   0\n",
      "\n",
      "Potential Energy Ep =  -11.184012451171876\n",
      "bl=50 pos[1]=[-12.9 31.3 -10.7] dr=1.70 t=0.0ps kin=0.00 pot=-10.69 Rg=7.558 SPS=980 \n",
      "bl=51 pos[1]=[-16.2 30.7 -9.3] dr=1.73 t=0.0ps kin=0.00 pot=-9.82 Rg=7.909 SPS=950 \n",
      "bl=52 pos[1]=[-11.2 29.4 -15.4] dr=1.95 t=0.0ps kin=0.00 pot=-10.18 Rg=7.746 SPS=983 \n",
      "bl=53 pos[1]=[-4.6 29.3 -14.9] dr=1.74 t=0.0ps kin=0.00 pot=-11.53 Rg=7.413 SPS=599 \n",
      "bl=54 pos[1]=[-5.9 35.0 -13.9] dr=2.05 t=0.0ps kin=0.00 pot=-10.06 Rg=7.805 SPS=606 \n",
      "bl=55 pos[1]=[-2.7 42.6 -16.1] dr=1.64 t=0.0ps kin=0.00 pot=-11.11 Rg=8.142 SPS=969 \n",
      "bl=56 pos[1]=[-7.7 39.0 -24.0] dr=1.94 t=0.0ps kin=0.00 pot=-10.15 Rg=8.033 SPS=969 \n",
      "bl=57 pos[1]=[-5.4 47.2 -25.5] dr=2.29 t=0.0ps kin=0.00 pot=-9.28 Rg=8.122 SPS=1017 \n",
      "bl=58 pos[1]=[-0.1 49.7 -26.5] dr=1.55 t=0.0ps kin=0.00 pot=-11.28 Rg=8.077 SPS=993 \n",
      "bl=59 pos[1]=[2.2 52.7 -28.1] dr=2.39 t=0.0ps kin=0.00 pot=-14.33 Rg=7.649 SPS=732 \n",
      "bl=60 pos[1]=[-0.4 51.0 -28.9] dr=1.42 t=0.0ps kin=0.00 pot=-17.10 Rg=7.477 SPS=908 \n",
      "bl=61 pos[1]=[2.1 48.9 -28.1] dr=1.65 t=0.0ps kin=0.00 pot=-17.76 Rg=7.794 SPS=977 \n",
      "bl=62 pos[1]=[-1.9 52.3 -25.0] dr=1.45 t=0.0ps kin=0.00 pot=-16.51 Rg=8.002 SPS=772 \n",
      "bl=63 pos[1]=[-7.0 58.9 -24.7] dr=1.41 t=0.0ps kin=0.00 pot=-17.79 Rg=8.495 SPS=939 \n",
      "bl=64 pos[1]=[-2.3 63.2 -20.5] dr=1.45 t=0.0ps kin=0.00 pot=-17.72 Rg=8.422 SPS=834 \n",
      "bl=65 pos[1]=[-4.9 58.5 -15.4] dr=1.82 t=0.0ps kin=0.00 pot=-16.12 Rg=7.995 SPS=979 \n",
      "bl=66 pos[1]=[-7.4 66.5 -14.1] dr=1.50 t=0.0ps kin=0.00 pot=-15.74 Rg=9.054 SPS=978 \n",
      "bl=67 pos[1]=[-9.1 62.5 -19.7] dr=1.61 t=0.0ps kin=0.00 pot=-16.64 Rg=8.414 SPS=977 \n",
      "bl=68 pos[1]=[-11.6 63.8 -16.2] dr=1.67 t=0.0ps kin=0.00 pot=-16.73 Rg=8.366 SPS=979 \n",
      "bl=69 pos[1]=[-14.4 59.7 -18.5] dr=1.28 t=0.0ps kin=0.00 pot=-20.06 Rg=8.377 SPS=795 \n",
      "bl=70 pos[1]=[-13.4 62.0 -22.7] dr=1.60 t=0.0ps kin=0.00 pot=-17.91 Rg=8.224 SPS=637 \n",
      "bl=71 pos[1]=[-11.8 54.4 -29.8] dr=1.45 t=0.0ps kin=0.00 pot=-15.99 Rg=8.006 SPS=500 \n",
      "bl=72 pos[1]=[-20.3 49.6 -29.7] dr=1.96 t=0.0ps kin=0.00 pot=-16.07 Rg=7.413 SPS=1014 \n",
      "bl=73 pos[1]=[-24.8 47.5 -31.3] dr=1.47 t=0.0ps kin=0.00 pot=-17.70 Rg=7.176 SPS=978 \n",
      "bl=74 pos[1]=[-29.7 53.6 -30.9] dr=1.72 t=0.0ps kin=0.00 pot=-16.63 Rg=7.729 SPS=958 \n",
      "bl=75 pos[1]=[-33.4 50.9 -21.3] dr=1.67 t=0.0ps kin=0.00 pot=-16.38 Rg=7.249 SPS=1034 \n",
      "bl=76 pos[1]=[-31.4 62.2 -20.1] dr=1.63 t=0.0ps kin=0.00 pot=-17.00 Rg=8.104 SPS=650 \n",
      "bl=77 pos[1]=[-33.2 66.5 -21.4] dr=1.49 t=0.0ps kin=0.00 pot=-18.29 Rg=8.982 SPS=840 \n",
      "bl=78 pos[1]=[-33.3 64.0 -21.2] dr=1.41 t=0.0ps kin=0.00 pot=-20.21 Rg=9.188 SPS=1243 \n",
      "bl=79 pos[1]=[-30.8 61.1 -23.4] dr=1.53 t=0.0ps kin=0.00 pot=-19.47 Rg=9.224 SPS=1241 \n",
      "bl=80 pos[1]=[-38.3 62.1 -25.1] dr=2.53 t=0.0ps kin=0.00 pot=-17.39 Rg=10.237 SPS=1253 \n",
      "bl=81 pos[1]=[-38.6 58.5 -24.6] dr=1.51 t=0.0ps kin=0.00 pot=-17.66 Rg=9.738 SPS=1243 \n",
      "bl=82 pos[1]=[-36.5 61.3 -16.6] dr=1.98 t=0.0ps kin=0.00 pot=-17.95 Rg=8.956 SPS=1241 \n",
      "bl=83 pos[1]=[-41.2 59.8 -21.1] dr=1.52 t=0.0ps kin=0.00 pot=-17.68 Rg=9.411 SPS=1244 \n",
      "bl=84 pos[1]=[-30.6 66.8 -28.7] dr=1.95 t=0.0ps kin=0.00 pot=-15.90 Rg=9.743 SPS=1244 \n",
      "bl=85 pos[1]=[-29.8 60.6 -31.6] dr=1.31 t=0.0ps kin=0.00 pot=-17.39 Rg=9.640 SPS=1231 \n",
      "bl=86 pos[1]=[-27.3 60.1 -27.8] dr=1.87 t=0.0ps kin=0.00 pot=-17.84 Rg=9.781 SPS=1252 \n",
      "bl=87 pos[1]=[-30.0 61.9 -24.0] dr=1.24 t=0.0ps kin=0.00 pot=-16.24 Rg=9.675 SPS=1227 \n",
      "bl=88 pos[1]=[-29.5 59.3 -33.7] dr=1.61 t=0.0ps kin=0.00 pot=-16.27 Rg=9.615 SPS=1197 \n",
      "bl=89 pos[1]=[-21.6 58.6 -30.1] dr=1.55 t=0.0ps kin=0.00 pot=-18.65 Rg=9.239 SPS=1184 \n",
      "bl=90 pos[1]=[-20.9 66.8 -34.6] dr=1.41 t=0.0ps kin=0.00 pot=-16.40 Rg=9.642 SPS=1246 \n",
      "bl=91 pos[1]=[-21.4 64.8 -35.6] dr=1.47 t=0.0ps kin=0.00 pot=-16.52 Rg=9.707 SPS=1258 \n",
      "bl=92 pos[1]=[-24.0 63.8 -34.0] dr=1.36 t=0.0ps kin=0.00 pot=-15.05 Rg=9.351 SPS=1243 \n",
      "bl=93 pos[1]=[-23.0 59.1 -29.6] dr=1.59 t=0.0ps kin=0.00 pot=-17.07 Rg=8.932 SPS=1242 \n",
      "bl=94 pos[1]=[-17.2 65.1 -28.8] dr=1.42 t=0.0ps kin=0.00 pot=-15.84 Rg=9.187 SPS=892 \n",
      "bl=95 pos[1]=[-18.9 67.6 -36.9] dr=1.95 t=0.0ps kin=0.00 pot=-17.35 Rg=9.198 SPS=1008 \n",
      "bl=96 pos[1]=[-21.2 70.0 -35.8] dr=1.28 t=0.0ps kin=0.00 pot=-16.86 Rg=9.110 SPS=876 \n",
      "bl=97 pos[1]=[-21.1 75.1 -31.5] dr=1.48 t=0.0ps kin=0.00 pot=-17.47 Rg=9.490 SPS=788 \n",
      "bl=98 pos[1]=[-20.3 69.9 -32.0] dr=1.58 t=0.0ps kin=0.00 pot=-18.79 Rg=9.043 SPS=793 \n",
      "bl=99 pos[1]=[-24.7 73.2 -36.0] dr=1.37 t=0.0ps kin=0.00 pot=-16.56 Rg=9.578 SPS=1171 \n",
      "\n",
      "Statistics for the simulation test, number of particles: 100,  number of chains: 1\n",
      "\n",
      "Statistics for particle position\n",
      "     mean position is:  [-6.26810691  6.76993221  2.0182821 ]   Rg =  9.577702\n",
      "     median bond size is  0.8473309604856871\n",
      "     three shortest/longest (<10)/ bonds are  [0.1203859  0.20987776 0.28411225]    [1.51865861 1.58421921 1.62962711]\n",
      "longest 10 bonds are [ 1.38979326  1.4019251   1.46267439  1.46796479  1.51865861  1.58421921\n",
      "  1.62962711 53.6290543  53.90887484 78.83597692]\n",
      "     95 percentile of distance to center is:    1.1391425887593707\n",
      "     density of closest 95% monomers is:    15.34266240291802\n",
      "     density of the core monomers is:    24.8609761913962\n",
      "     min/median/mean/max coordinates are: \n",
      "     x: -24.73, -6.04, -6.27, -4.91\n",
      "     y: -39.66, 6.49, 6.77, 73.16\n",
      "     z: -35.96, 2.16, 2.02, 29.01\n",
      "\n",
      "Statistics for velocities:\n",
      "     mean kinetic energy is:  0.0 should be: 1.5\n",
      "     fastest particles are (in kT):  [0. 0. 0. 0. 0.]\n",
      "\n",
      "Statistics for the system:\n",
      "     Forces are:  ['ActiveForce', 'CustomTypes']\n",
      "     Number of exceptions:   0\n",
      "\n",
      "Potential Energy Ep =  -16.559718017578124\n",
      "bl=100 pos[1]=[-31.0 76.3 -28.0] dr=1.87 t=0.0ps kin=0.00 pot=-14.83 Rg=9.961 SPS=920 \n"
     ]
    }
   ],
   "source": [
    "positions=[]\n",
    "for ii, _ in enumerate(range(nblocks)):\n",
    "    sim.runSimBlock(blocksize)\n",
    "    #sim.saveStructure()\n",
    "\n",
    "    state = sim.context.getState(getPositions=True,\n",
    "            getVelocities=False, getEnergy=False)\n",
    "    #vel = state.getVelocities(asNumpy=True)#/unit.sqrt(unit.kilojoule_per_mole / mass)\n",
    "    positions.append(state.getPositions(asNumpy=True))\n",
    "#     sim.printForces()\n",
    "#     print(sim.state.getPotentialEnergy(), sim.kB*T*unit.kelvin)\n",
    "    \n",
    "    # if ii%int(args.nblocks*0.1)==0 and ii>0==0:\n",
    "    if ii==500:\n",
    "        np.save(opath+'traj_'+savename+'_positions.npy',np.array(positions))\n",
    "        print('saved')\n",
    "#save cndb file\n",
    "#sim.storage[0].close()\n",
    "\n",
    "#np.save(args.opath+savename+'_velocities.npy',Velocities)\n",
    "np.save(opath+'traj_'+savename+'_positions.npy',np.array(positions))"
   ]
  },
  {
   "cell_type": "code",
   "execution_count": 27,
   "metadata": {},
   "outputs": [
    {
     "name": "stdout",
     "output_type": "stream",
     "text": [
      "(1000, 1000, 3)\n"
     ]
    }
   ],
   "source": [
    "xyz=np.load(opath+'traj_'+savename+'_positions.npy')\n",
    "print(xyz.shape)"
   ]
  },
  {
   "cell_type": "code",
   "execution_count": 27,
   "metadata": {},
   "outputs": [],
   "source": [
    "np.save('snap_1000AB.npy',xyz[-1])"
   ]
  },
  {
   "cell_type": "code",
   "execution_count": 7,
   "metadata": {},
   "outputs": [
    {
     "data": {
      "application/vnd.jupyter.widget-view+json": {
       "model_id": "49792175c4c34d4f8f39a95956846ad8",
       "version_major": 2,
       "version_minor": 0
      },
      "text/plain": [
       "Canvas(toolbar=Toolbar(toolitems=[('Home', 'Reset original view', 'home', 'home'), ('Back', 'Back to previous …"
      ]
     },
     "metadata": {},
     "output_type": "display_data"
    }
   ],
   "source": [
    "%matplotlib ipympl\n",
    "fig = plt.figure()\n",
    "ax = fig.add_axes([0,0,2,2],projection='3d')\n",
    "# ax = fig.add_axes([0,0,1,1],)\n",
    "# quiver = ax.quiver([],[],[],[])\n",
    "#quiver = ax.quiver([],[],[],[],[],[])\n",
    "R0=100\n",
    "Na=400\n",
    "ax.scatter(xyz[0,:Na,0],xyz[0,:Na,1],xyz[0,:Na,2],'o',color='C0')\n",
    "ax.scatter(xyz[0,Na:,0],xyz[0,Na:,1],xyz[0,Na:,2],'o',color='C1')\n",
    "# c=['r','g','b']\n",
    "def update(ii):\n",
    "    fig.clear()\n",
    "    ax = fig.add_axes([0,0,1,1],projection='3d')\n",
    "    # ax = fig.add_axes([0,0,1,1],)\n",
    "\n",
    "    p=xyz[ii]\n",
    "    # print(p.shape)\n",
    "    # line.set_data(p[:,0],p[:,1])\n",
    "    # line.set_3d_properties(p[:,2])\n",
    "    # plt.draw()\n",
    "    # ax.plot(p[10:13,0],p[10:13,1],p[10:13,2],'o',color='C0',alpha=1)\n",
    "    ax.scatter(p[:Na,0],p[:Na,1],p[:Na,2],'o',color='C0',alpha=0.5)\n",
    "\n",
    "    # ax.plot(p[300:303,0],p[300:303,1],p[300:303,2],'o',color='C1',alpha=1)\n",
    "    ax.scatter(p[Na:,0],p[Na:,1],p[Na:,2],'o',color='C1',)\n",
    "    ax.plot(p[Na:,0],p[Na:,1],p[Na:,2],'-',color='k',)\n",
    "    # ax.plot(masked_xyz[:100,0],masked_xyz[:100,1],'go',markersize=3)\n",
    "    \n",
    "    ax.set_zlim(-R0, R0)\n",
    "    ax.set_xlim(-R0, R0)\n",
    "    ax.set_ylim(-R0, R0)\n",
    "    \n",
    "    # return line,\n",
    "\n",
    "#update(10)\n",
    "ani = FuncAnimation(fig, update, frames=np.arange(1,xyz.shape[0],5), interval=200, blit=True,repeat=False)\n",
    "\n",
    "# ani.save('ani_sticky_gas_T0.1_F0.1_Ta10-R20.gif', writer='pillow')\n",
    "plt.show()\n"
   ]
  },
  {
   "cell_type": "code",
   "execution_count": 87,
   "metadata": {},
   "outputs": [],
   "source": [
    "def autocorrFFT(x):\n",
    "    Nx=len(x)\n",
    "    F = np.fft.fft(x, n=2*Nx)  #2*N because of zero-padding\n",
    "    PSD = F * F.conjugate()\n",
    "    res = np.fft.ifft(PSD)\n",
    "    res= (res[:Nx]).real   #now we have the autocorrelation in convention B\n",
    "    n=Nx*np.ones(Nx)-np.arange(0,Nx) #divide res(m) by (N-m)\n",
    "    return res/n #this is the autocorrelation in convention A\n",
    "    \n",
    "def msd_fft(r):\n",
    "    Nx=len(r)\n",
    "    D=np.square(r).sum(axis=1) \n",
    "    D=np.append(D,0) \n",
    "    S2=sum([autocorrFFT(r[:, i]) for i in range(r.shape[1])])\n",
    "    Q=2*D.sum()\n",
    "    S1=np.zeros(Nx)\n",
    "    for m in range(Nx):\n",
    "        Q=Q-D[m-1]-D[Nx-m]\n",
    "        S1[m]=Q/(Nx-m)\n",
    "    return S1,S2\n",
    "\n",
    "def tau_p(p1,k1,Nn):\n",
    "    g=0.1\n",
    "    return g*Nn**2/(np.pi**2*k1*p1**2)\n",
    "    \n",
    "def tau_charac(k1):\n",
    "    g=0.1\n",
    "    return g/(np.pi**2*k1)\n",
    "\n",
    "def XP_autocorr(t,p1,T1,F1,ta,k1,Nn):\n",
    "    g=0.1\n",
    "    tp=tau_p(p1,k1,Nn)\n",
    "    r=1-ta**2/tp**2\n",
    "    ret = ((3*tp/(2*Nn*g))*(T1+F1**2*ta/(g*r))*np.exp(-t/tp) \n",
    "            - (3*F1**2*ta**2/(2*Nn*g**2*r))*np.exp(-t/ta))\n",
    "    # ret=((3*temp*tp/(2*Nn*g))*np.exp(-t/tp)\n",
    "    #         + (3*(F1*tp*ta)**2/(2*Nn*g**2*(tp**2-ta**2)))*(tp*np.exp(-t/tp)/ta + np.exp(-t/ta)))\n",
    "    return ret\n",
    "\n",
    "def Rot_corr(t,T1,F1,ta,k1,Nn):\n",
    "    #scalar t\n",
    "    ps=np.arange(1,Nn,1)\n",
    "    ret=XP_autocorr(t,ps,T1,F1,ta,k1,Nn)*(1+np.cos(ps*np.pi/Nn)**2-2*np.cos(ps*np.pi)*np.cos(np.pi*ps/Nn))\n",
    "    return np.mean(ret)\n",
    "\n",
    "def dXp_autocorr(t,p1,T1,F1,ta,k1,Nn):\n",
    "    #scalar t\n",
    "    c=0\n",
    "    tp=tau_p(p1,k1,Nn)\n",
    "    g=0.1\n",
    "    if t<1e-8: c=T1/(Nn*g)\n",
    "\n",
    "    # ret=c-T1*np.exp(-t/tp)/(2*Nn*g*tp)\n",
    "    ret=(c+XP_autocorr(t,p1,T1,F1,ta,k1,Nn)/tp**2-T1*np.exp(-t/tp)/(Nn*g*tp)\n",
    "            +(F1**2*(ta**2+tp**2)*np.exp(-t/ta) -2*F1**2*ta*tp*np.exp(-t/tp))/(2*Nn*g**2*(tp**2-ta**2)))\n",
    "    return ret\n",
    "    "
   ]
  },
  {
   "cell_type": "code",
   "execution_count": 88,
   "metadata": {},
   "outputs": [
    {
     "name": "stdout",
     "output_type": "stream",
     "text": [
      "0.025330295910584444\n"
     ]
    },
    {
     "data": {
      "text/plain": [
       "(0.0, 0.001)"
      ]
     },
     "execution_count": 88,
     "metadata": {},
     "output_type": "execute_result"
    },
    {
     "data": {
      "image/png": "[encoded data removed]",
      "text/plain": [
       "<Figure size 432x288 with 1 Axes>"
      ]
     },
     "metadata": {
      "needs_background": "light"
     },
     "output_type": "display_data"
    }
   ],
   "source": [
    "\n",
    "ts=np.arange(0,xyz.shape[0],1)*blocksize*dt\n",
    "k=16#chrm_top.shape[0]\n",
    "N=50#int(sim.N/k)\n",
    "p=10\n",
    "for d in [1]:\n",
    "    SXp=[]\n",
    "    print(tau_p(p,kb,50))\n",
    "    for pol in range(k):\n",
    "        # print(pol*N,(pol+1)*N)\n",
    "        Xp=(1/N)*np.einsum('ijk,j->ik',xyz[:,pol*N:(pol+1)*N,:],np.cos((p*np.pi/N)*(np.arange(1,N+1,1)+0.5)))\n",
    "        # print(Xp.shape)\n",
    "        dXp=(Xp[d:,:]-Xp[:-d,:])/(blocksize*dt)\n",
    "        \n",
    "        SXp.append(msd_fft(dXp)[1])\n",
    "    \n",
    "    SXp=np.mean(np.array(SXp),axis=0)\n",
    "\n",
    "    plt.semilogx(ts[:-d], SXp/SXp[0],'.')\n",
    "    # if p==0: continue\n",
    "    # plt.semilogx(ts,XP_autocorr(t=ts,p1=p,T1=T,F1=F,ta=Ta,k1=kb,Nn=50),'k--')\n",
    "    plt.plot(ts,[dXp_autocorr(xx,p1=p,T1=T,F1=F,ta=Ta,k1=kb,Nn=50)/dXp_autocorr(0,p1=p,T1=T,F1=F,ta=Ta,k1=kb,Nn=50) for xx in ts],'k--')\n",
    "\n",
    "# plt.loglog()\n",
    "plt.xscale('linear')\n",
    "# print(SXp.shape)\n",
    "plt.xlim(0,0.001)\n",
    "# plt.ylim(-100,200)"
   ]
  },
  {
   "cell_type": "code",
   "execution_count": 44,
   "metadata": {},
   "outputs": [
    {
     "data": {
      "text/plain": [
       "array([0.001, 0.001, 0.001, ..., 0.001, 0.001, 0.001])"
      ]
     },
     "execution_count": 44,
     "metadata": {},
     "output_type": "execute_result"
    }
   ],
   "source": [
    "np.gradient(ts)"
   ]
  },
  {
   "cell_type": "code",
   "execution_count": 14,
   "metadata": {},
   "outputs": [
    {
     "data": {
      "text/plain": [
       "(1e-05, 100.0)"
      ]
     },
     "execution_count": 14,
     "metadata": {},
     "output_type": "execute_result"
    },
    {
     "data": {
      "image/png": "[encoded data removed]",
      "text/plain": [
       "<Figure size 432x288 with 1 Axes>"
      ]
     },
     "metadata": {
      "needs_background": "light"
     },
     "output_type": "display_data"
    }
   ],
   "source": [
    "%matplotlib inline\n",
    "P1=np.array([xyz[:,(xx+1)*50-1,:]-xyz[:,xx*50,:] for xx in range(16)])\n",
    "# print(P1.shape)\n",
    "ts=np.arange(0,P1.shape[1],1)\n",
    "Pav=np.mean([msd_fft(P1[xx])[1] for xx in range(16)],axis=0)\n",
    "# print(Pav.shape)\n",
    "plt.loglog(ts,Pav)\n",
    "plt.loglog(np.logspace(0,3,20),[Rot_corr(xx,1,0,10,10,100) for xx in np.logspace(0,3,20)])\n",
    "\n",
    "plt.ylim(1e-5,1e2)\n",
    "# Rot_corr(10,1,1,10,10,100)"
   ]
  },
  {
   "cell_type": "code",
   "execution_count": 109,
   "metadata": {},
   "outputs": [
    {
     "name": "stdout",
     "output_type": "stream",
     "text": [
      "0.025330295910584444 100000.0\n"
     ]
    }
   ],
   "source": [
    "T=2e6*100*1e-3\n",
    "print(tau_p(20,10,100),T/2)"
   ]
  },
  {
   "cell_type": "code",
   "execution_count": 17,
   "metadata": {},
   "outputs": [
    {
     "data": {
      "text/plain": [
       "array([8, 4, 4])"
      ]
     },
     "execution_count": 17,
     "metadata": {},
     "output_type": "execute_result"
    }
   ],
   "source": [
    "import numpy as np\n",
    "b=np.array([np.array([1,2,3]),np.array([7,2,1])])\n",
    "b[1]\n",
    "np.sum(b,axis=0)"
   ]
  },
  {
   "cell_type": "code",
   "execution_count": null,
   "metadata": {},
   "outputs": [],
   "source": []
  }
 ],
 "metadata": {
  "interpreter": {
   "hash": "90f72e8778369b9d09aac5344fb767c92475c93923a32da11427c461a596d7d4"
  },
  "kernelspec": {
   "display_name": "Python 3.7.4 64-bit ('base': conda)",
   "language": "python",
   "name": "python3"
  },
  "language_info": {
   "codemirror_mode": {
    "name": "ipython",
    "version": 3
   },
   "file_extension": ".py",
   "mimetype": "text/x-python",
   "name": "python",
   "nbconvert_exporter": "python",
   "pygments_lexer": "ipython3",
   "version": "3.7.10"
  },
  "orig_nbformat": 4
 },
 "nbformat": 4,
 "nbformat_minor": 2
}
