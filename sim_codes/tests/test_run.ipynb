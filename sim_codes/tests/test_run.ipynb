{
 "cells": [
  {
   "cell_type": "code",
   "execution_count": 1,
   "metadata": {},
   "outputs": [],
   "source": [
    "import sys\n",
    "sys.path.append('../')\n",
    "import ActivePolymer as AP\n",
    "import numpy as np"
   ]
  },
  {
   "cell_type": "code",
   "execution_count": 2,
   "metadata": {},
   "outputs": [
    {
     "name": "stdout",
     "output_type": "stream",
     "text": [
      "    ***************************************************************************************     \n",
      "     **** **** *** *** *** *** *** *** OpenMiChroM-1.0.2 *** *** *** *** *** *** **** ****      \n",
      "\n",
      "         OpenMiChroM is a Python library for performing chromatin dynamics simulations.         \n",
      "                            OpenMiChroM uses the OpenMM Python API,                             \n",
      "                employing the MiChroM (Minimal Chromatin Model) energy function.                \n",
      "      The chromatin dynamics simulations generate an ensemble of 3D chromosomal structures      \n",
      "      that are consistent with experimental Hi-C maps, also allows simulations of a single      \n",
      "                 or multiple chromosome chain using High-Performance Computing                  \n",
      "                            in different platforms (GPUs and CPUs).                             \n",
      "         OpenMiChroM documentation is available at https://open-michrom.readthedocs.io          \n",
      "\n",
      "         OpenMiChroM is described in: Oliveira Junior, A. B & Contessoto, V, G et. al.          \n",
      "      A Scalable Computational Approach for Simulating Complexes of Multiple Chromosomes.       \n",
      "                  Journal of Molecular Biology. doi:10.1016/j.jmb.2020.10.034.                  \n",
      "                                              and                                               \n",
      "                                 Oliveira Junior, A. B. et al.                                  \n",
      "     Chromosome Modeling on Downsampled Hi-C Maps Enhances the Compartmentalization Signal.     \n",
      "                        J. Phys. Chem. B, doi:10.1021/acs.jpcb.1c04174.                         \n",
      "\n",
      "                    Copyright (c) 2021, The OpenMiChroM development team at                     \n",
      "                                        Rice University                                         \n",
      "    ***************************************************************************************     \n",
      "\n",
      "        ==================================\n",
      "        ActivePolymer Simulation now set up.\n",
      "        Loaded sequence file: 500\n",
      "        Loaded initial structure: random\n",
      "        Active amplitude: 1.0\n",
      "        Active correlation time: 30\n",
      "        Total number of active particles: 500\n",
      "        ==================================\n",
      "\n"
     ]
    }
   ],
   "source": [
    "sim_object=AP.ActivePolymer(active_corr_time=30,seq_file=500, activity_amplitude=1.0,temperature=120)"
   ]
  },
  {
   "cell_type": "code",
   "execution_count": 3,
   "metadata": {},
   "outputs": [],
   "source": [
    "AP.addCylindricalConfinement(sim_object,z_conf=10, r_conf=3)\n",
    "# AP.addRadialConfinement(sim_object ,R0=10)\n",
    "# AP.runSims(sim_object, nblocks=15, blocksize=500)"
   ]
  },
  {
   "cell_type": "code",
   "execution_count": 4,
   "metadata": {},
   "outputs": [
    {
     "name": "stdout",
     "output_type": "stream",
     "text": [
      "-------\n",
      "Adding harmonic bonds according to topology defined in top.txt\n",
      "Number of polymer segments: 2\n",
      "\n"
     ]
    }
   ],
   "source": [
    "AP.addHarmonicBonds(sim_object,top_file='top.txt',kb=50., d=1.0)\n",
    "# AP.addSelfAvoidance(sim_object)"
   ]
  },
  {
   "cell_type": "code",
   "execution_count": 5,
   "metadata": {},
   "outputs": [
    {
     "name": "stdout",
     "output_type": "stream",
     "text": [
      "Number of exceptions: 500\n",
      "adding force  ActiveForce 0\n",
      "adding force  CylindricalConfinement 1\n",
      "adding force  HarmonicBond 2\n",
      "Positions... \n",
      " loaded!\n",
      "potential energy is 3152.628000\n",
      "bl=1 pos[1]=[0.2 -0.5 -2.1] dr=8.27 kin=49.77 pot=1.33 Rg=2.186 SPS=19112\n",
      "\n",
      "Statistics for the simulation ActivePolymer, number of particles: 500,  number of chains: 1\n",
      "\n",
      "Statistics for particle position\n",
      "     mean position is:  [-0.37045198 -0.34182933  1.00025818]   Rg =  6.5038395\n",
      "     median bond size is  1.069362451913702\n",
      "     three shortest/longest (<10)/ bonds are  [0.34568974 0.44720069 0.48241689]    [1.60661072 1.62246777 1.66282216]\n",
      "longest 10 bonds are [ 1.48941507  1.51281394  1.51388418  1.52368844  1.53801545  1.54677261\n",
      "  1.60661072  1.62246777  1.66282216 13.46489386]\n",
      "     95 percentile of distance to center is:    9.518782231906272\n",
      "     density of closest 95% monomers is:    0.13148034244084514\n",
      "     density of the core monomers is:    0.4751274978879082\n",
      "     min/median/mean/max coordinates are: \n",
      "     x: -3.10, -0.67, -0.37, 3.18\n",
      "     y: -3.10, -0.51, -0.34, 3.21\n",
      "     z: -9.73, 1.12, 1.00, 10.39\n",
      "\n",
      "Statistics for velocities:\n",
      "     mean kinetic energy is:  1464.095358751475 should be: 1.5\n",
      "     fastest particles are (in kT):  [5249.42648898 5752.69703536 6166.20810437 6385.01294957 8549.3974406 ]\n",
      "\n",
      "Statistics for the system:\n",
      "     Forces are:  ['ActiveForce', 'CylindricalConfinement', 'HarmonicBond']\n",
      "     Number of exceptions:   500\n",
      "\n",
      "Potential Energy Ep =  1.006751953125\n",
      "bl=101 pos[1]=[2.3 -1.5 -4.8] dr=1.83 kin=1496.24 pot=0.62 Rg=6.339 SPS=20341\n",
      "\n",
      "Statistics for the simulation ActivePolymer, number of particles: 500,  number of chains: 1\n",
      "\n",
      "Statistics for particle position\n",
      "     mean position is:  [-0.53748922 -0.56566888  2.24858557]   Rg =  7.1518126\n",
      "     median bond size is  1.0421700829662321\n",
      "     three shortest/longest (<10)/ bonds are  [0.3889748  0.39840135 0.44590123]    [1.60960524 1.8172295  9.6390361 ]\n",
      "     95 percentile of distance to center is:    10.669720060450391\n",
      "     density of closest 95% monomers is:    0.0933567931606233\n",
      "     density of the core monomers is:    0.5755367271648617\n",
      "     min/median/mean/max coordinates are: \n",
      "     x: -3.07, -0.74, -0.54, 3.04\n",
      "     y: -3.32, -0.81, -0.57, 3.22\n",
      "     z: -9.35, 4.84, 2.25, 10.24\n",
      "\n",
      "Statistics for velocities:\n",
      "     mean kinetic energy is:  1481.7861251392872 should be: 1.5\n",
      "     fastest particles are (in kT):  [5143.5291023  5242.84370834 6490.37509071 6540.15373508 7031.72029596]\n",
      "\n",
      "Statistics for the system:\n",
      "     Forces are:  ['ActiveForce', 'CylindricalConfinement', 'HarmonicBond']\n",
      "     Number of exceptions:   500\n",
      "\n",
      "Potential Energy Ep =  0.21156011962890625\n",
      "bl=201 pos[1]=[0.6 -2.0 -1.8] dr=1.66 kin=1526.58 pot=0.23 Rg=7.196 SPS=23272\n",
      "\n",
      "Statistics for the simulation ActivePolymer, number of particles: 500,  number of chains: 1\n",
      "\n",
      "Statistics for particle position\n",
      "     mean position is:  [ 0.18220506 -0.36168698 -2.37184101]   Rg =  6.2082796\n",
      "     median bond size is  1.0402729762486007\n",
      "     three shortest/longest (<10)/ bonds are  [0.40812373 0.42097053 0.46331631]    [1.69083657 1.82478599 4.05353094]\n",
      "     95 percentile of distance to center is:    11.946042167253845\n",
      "     density of closest 95% monomers is:    0.06651703314199968\n",
      "     density of the core monomers is:    0.8501583333153163\n",
      "     min/median/mean/max coordinates are: \n",
      "     x: -3.22, 0.11, 0.18, 3.23\n",
      "     y: -3.31, -0.40, -0.36, 3.14\n",
      "     z: -9.49, -4.37, -2.37, 10.45\n",
      "\n",
      "Statistics for velocities:\n",
      "     mean kinetic energy is:  1468.5299402999788 should be: 1.5\n",
      "     fastest particles are (in kT):  [5154.52507461 5239.35598231 5358.64661313 5442.36099984 5712.23724656]\n",
      "\n",
      "Statistics for the system:\n",
      "     Forces are:  ['ActiveForce', 'CylindricalConfinement', 'HarmonicBond']\n",
      "     Number of exceptions:   500\n",
      "\n",
      "Potential Energy Ep =  3.8901181640625\n",
      "bl=301 pos[1]=[0.5 -1.6 -6.1] dr=1.82 kin=1459.06 pot=4.16 Rg=6.135 SPS=20234\n",
      "\n",
      "Statistics for the simulation ActivePolymer, number of particles: 500,  number of chains: 1\n",
      "\n",
      "Statistics for particle position\n",
      "     mean position is:  [-0.10474681 -0.0986041   3.25607031]   Rg =  6.3625474\n",
      "     median bond size is  1.0766185522790617\n",
      "     three shortest/longest (<10)/ bonds are  [0.3820578  0.41718708 0.46919749]    [1.61519174 1.68926633 1.89434023]\n",
      "longest 10 bonds are [ 1.51428313  1.52713989  1.53647932  1.5408024   1.55859385  1.57478163\n",
      "  1.61519174  1.68926633  1.89434023 15.83840368]\n",
      "     95 percentile of distance to center is:    11.829990962754792\n",
      "     density of closest 95% monomers is:    0.06849387892550836\n",
      "     density of the core monomers is:    0.9360069132380046\n",
      "     min/median/mean/max coordinates are: \n",
      "     x: -3.13, -0.23, -0.10, 3.48\n",
      "     y: -3.25, -0.26, -0.10, 3.17\n",
      "     z: -9.80, 5.17, 3.26, 10.40\n",
      "\n",
      "Statistics for velocities:\n",
      "     mean kinetic energy is:  1574.8990406694306 should be: 1.5\n",
      "     fastest particles are (in kT):  [6050.89097559 6738.09864821 7617.66845568 8501.48466074 9358.41222231]\n",
      "\n",
      "Statistics for the system:\n",
      "     Forces are:  ['ActiveForce', 'CylindricalConfinement', 'HarmonicBond']\n",
      "     Number of exceptions:   500\n",
      "\n",
      "Potential Energy Ep =  -1.6470703125000001\n",
      "bl=401 pos[1]=[1.5 -0.2 5.4] dr=1.71 kin=1560.53 pot=-1.57 Rg=6.250 SPS=21699\n",
      "\n",
      "Statistics for the simulation ActivePolymer, number of particles: 500,  number of chains: 1\n",
      "\n",
      "Statistics for particle position\n",
      "     mean position is:  [-0.10963241 -0.30170687  1.10079555]   Rg =  6.738021\n",
      "     median bond size is  1.0502324886160481\n",
      "     three shortest/longest (<10)/ bonds are  [0.40712951 0.44315859 0.47688742]    [1.66361537 1.67973209 1.71517799]\n",
      "longest 10 bonds are [ 1.52999554  1.55851741  1.56527439  1.57345691  1.61805409  1.64112586\n",
      "  1.66361537  1.67973209  1.71517799 10.20754034]\n",
      "     95 percentile of distance to center is:    9.629552749899208\n",
      "     density of closest 95% monomers is:    0.12699500827572086\n",
      "     density of the core monomers is:    0.4312257710270686\n",
      "     min/median/mean/max coordinates are: \n",
      "     x: -3.11, -0.13, -0.11, 3.03\n",
      "     y: -3.16, -0.29, -0.30, 3.34\n",
      "     z: -9.51, 1.75, 1.10, 10.41\n",
      "\n",
      "Statistics for velocities:\n",
      "     mean kinetic energy is:  1540.4854488554936 should be: 1.5\n",
      "     fastest particles are (in kT):  [5296.25871627 5468.80033318 5909.4003009  6708.44981103 7028.87338655]\n",
      "\n",
      "Statistics for the system:\n",
      "     Forces are:  ['ActiveForce', 'CylindricalConfinement', 'HarmonicBond']\n",
      "     Number of exceptions:   500\n",
      "\n",
      "Potential Energy Ep =  0.701440185546875\n"
     ]
    }
   ],
   "source": [
    "AP.runSims(sim_object, nblocks=500, blocksize=500, check_every=100)"
   ]
  },
  {
   "cell_type": "code",
   "execution_count": 11,
   "metadata": {},
   "outputs": [
    {
     "data": {
      "text/plain": [
       "1.0"
      ]
     },
     "execution_count": 11,
     "metadata": {},
     "output_type": "execute_result"
    }
   ],
   "source": [
    "sim_object.forceDict['HarmonicBond'].getGlobalParameterDefaultValue(1)"
   ]
  },
  {
   "cell_type": "code",
   "execution_count": 12,
   "metadata": {},
   "outputs": [
    {
     "data": {
      "text/plain": [
       "[0, 1, ()]"
      ]
     },
     "execution_count": 12,
     "metadata": {},
     "output_type": "execute_result"
    }
   ],
   "source": [
    "sim_object.forceDict['HarmonicBond'].getBondParameters(0)"
   ]
  },
  {
   "cell_type": "code",
   "execution_count": 10,
   "metadata": {},
   "outputs": [
    {
     "data": {
      "text/plain": [
       "'0.5 * k_har * (r - r0_har)^2'"
      ]
     },
     "execution_count": 10,
     "metadata": {},
     "output_type": "execute_result"
    }
   ],
   "source": [
    "sim_object.forceDict['HarmonicBond'].getEnergyFunction()"
   ]
  },
  {
   "cell_type": "code",
   "execution_count": 8,
   "metadata": {},
   "outputs": [
    {
     "name": "stdout",
     "output_type": "stream",
     "text": [
      "<class 'numpy.ndarray'>\n"
     ]
    }
   ],
   "source": [
    "s=np.zeros((3,3))\n",
    "print(type(s))"
   ]
  },
  {
   "cell_type": "code",
   "execution_count": null,
   "metadata": {},
   "outputs": [],
   "source": []
  }
 ],
 "metadata": {
  "interpreter": {
   "hash": "eb908e2ee61974166e0f6210d6d4eb74d980ad50e61ae905e9364c3983814675"
  },
  "kernelspec": {
   "display_name": "Python 3.7.10 ('newopenmm')",
   "language": "python",
   "name": "python3"
  },
  "language_info": {
   "codemirror_mode": {
    "name": "ipython",
    "version": 3
   },
   "file_extension": ".py",
   "mimetype": "text/x-python",
   "name": "python",
   "nbconvert_exporter": "python",
   "pygments_lexer": "ipython3",
   "version": "3.7.10"
  },
  "orig_nbformat": 4
 },
 "nbformat": 4,
 "nbformat_minor": 2
}
