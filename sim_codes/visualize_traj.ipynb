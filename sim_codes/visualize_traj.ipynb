{
 "cells": [
  {
   "cell_type": "code",
   "execution_count": 6,
   "metadata": {},
   "outputs": [],
   "source": [
    "from mpl_toolkits.mplot3d import Axes3D\n",
    "from matplotlib.animation import FuncAnimation\n",
    "import numpy as np\n",
    "from scipy import spatial as spatial\n",
    "import matplotlib.pyplot as plt\n",
    "from matplotlib import rcParams as rc\n",
    "rc['grid.linewidth']=0\n"
   ]
  },
  {
   "cell_type": "code",
   "execution_count": 112,
   "metadata": {},
   "outputs": [
    {
     "name": "stdout",
     "output_type": "stream",
     "text": [
      "(20, 100, 3)\n"
     ]
    }
   ],
   "source": [
    "xyz=np.load('test_out/traj_test_positions.npy')\n",
    "print(xyz.shape)"
   ]
  },
  {
   "cell_type": "code",
   "execution_count": 113,
   "metadata": {},
   "outputs": [
    {
     "data": {
      "application/vnd.jupyter.widget-view+json": {
       "model_id": "80ed15bc37dc4b02b1123b0d2b0ef886",
       "version_major": 2,
       "version_minor": 0
      },
      "text/plain": [
       "Canvas(toolbar=Toolbar(toolitems=[('Home', 'Reset original view', 'home', 'home'), ('Back', 'Back to previous …"
      ]
     },
     "metadata": {},
     "output_type": "display_data"
    }
   ],
   "source": [
    "%matplotlib ipympl\n",
    "fig = plt.figure()\n",
    "ax = fig.add_axes([0,0,2,2],projection='3d')\n",
    "# ax = fig.add_axes([0,0,1,1],)\n",
    "# quiver = ax.quiver([],[],[],[])\n",
    "#quiver = ax.quiver([],[],[],[],[],[])\n",
    "R0=10\n",
    "N=50\n",
    "\n",
    "ax.scatter(xyz[0,:N,0],xyz[0,:N,1],xyz[0,:N,2],'o',color='C0')\n",
    "ax.scatter(xyz[0,N:,0],xyz[0,N:,1],xyz[0,N:,2],'o',color='C1')\n",
    "ax.set_zlim(-R0, R0)\n",
    "ax.set_xlim(-R0, R0)\n",
    "ax.set_ylim(-R0, R0)\n",
    "\n",
    "s = 25#((ax.get_window_extent().width  / (2*R0) * 72./fig.dpi) ** 2)\n",
    "\n",
    "def update(ii):\n",
    "    fig.clear()\n",
    "    ax = fig.add_axes([0,0,1,1],projection='3d')\n",
    "    # ax = fig.add_axes([0,0,1,1],)\n",
    "\n",
    "    p=xyz[ii]\n",
    "    # print(p.shape)\n",
    "    # line.set_data(p[:,0],p[:,1])\n",
    "    # line.set_3d_properties(p[:,2])\n",
    "    # plt.draw()\n",
    "    # ax.plot(p[10:13,0],p[10:13,1],p[10:13,2],'o',color='C0',alpha=1)\n",
    "    ax.scatter(p[:N,0],p[:N,1],p[:N,2],'o',color='C0',s=s)\n",
    "    # ax.scatter(p[:,0],p[:,1],p[:,2],'o',color='C0')\n",
    "    # ax.plot(p[300:303,0],p[300:303,1],p[300:303,2],'o',color='C1',alpha=1)\n",
    "    ax.scatter(p[N:,0],p[N:,1],p[N:,2],'o',color='C1',s=s)\n",
    "    # ax.plot(masked_xyz[:100,0],masked_xyz[:100,1],'go',markersize=3)\n",
    "    ax.text(-10,-10,10,ii)\n",
    "    ax.set_zlim(-R0, R0)\n",
    "    ax.set_xlim(-R0, R0)\n",
    "    ax.set_ylim(-R0, R0)\n",
    "    \n",
    "    # return line,\n",
    "\n",
    "#update(10)\n",
    "ani = FuncAnimation(fig, update, frames=np.arange(1,xyz.shape[0],1), interval=200, blit=True,repeat=False)\n",
    "\n",
    "# ani.save('ani_sticky_gas_T0.1_F0.1_Ta10-R20.gif', writer='pillow')\n",
    "plt.show()\n"
   ]
  },
  {
   "cell_type": "code",
   "execution_count": 57,
   "metadata": {},
   "outputs": [
    {
     "name": "stderr",
     "output_type": "stream",
     "text": [
      "/Users/sumitabha/anaconda3/envs/newopenmm/lib/python3.7/site-packages/ipykernel_launcher.py:6: RuntimeWarning: divide by zero encountered in true_divide\n",
      "  \n",
      "/Users/sumitabha/anaconda3/envs/newopenmm/lib/python3.7/site-packages/ipykernel_launcher.py:7: RuntimeWarning: divide by zero encountered in true_divide\n",
      "  import sys\n",
      "/Users/sumitabha/anaconda3/envs/newopenmm/lib/python3.7/site-packages/ipykernel_launcher.py:8: RuntimeWarning: invalid value encountered in subtract\n",
      "  \n"
     ]
    },
    {
     "data": {
      "text/plain": [
       "(-25.0, 15.0)"
      ]
     },
     "execution_count": 57,
     "metadata": {},
     "output_type": "execute_result"
    },
    {
     "data": {
      "image/png": "[encoded data removed]",
      "text/plain": [
       "<Figure size 432x288 with 1 Axes>"
      ]
     },
     "metadata": {
      "needs_background": "light"
     },
     "output_type": "display_data"
    }
   ],
   "source": [
    "%matplotlib inline\n",
    "rs=np.linspace(0.0,3,100)\n",
    "\n",
    "epsi=1\n",
    "alp=-10\n",
    "LJ_r12=4*epsi/rs**12\n",
    "LJ_r6=4*epsi/rs**6\n",
    "LJ=LJ_r12-LJ_r6\n",
    "mu=4\n",
    "r_repel=1.\n",
    "r_well=1.\n",
    "Gaus_well=alp*np.exp(-mu*(rs-r_well)**2)\n",
    "\n",
    "Harm_repel=0.5*100*(rs-r_repel)**2*np.heaviside(r_repel-rs,0.0)\n",
    "\n",
    "\n",
    "# Etype=alp*0.5*(1+np.tanh(mu*(rc-rs)))*np.heaviside(rs-rc1,0.5)\n",
    "# plt.plot(rs, LJ_r12,'r--')\n",
    "plt.plot(rs,Harm_repel)\n",
    "# plt.plot(rs, 0.5*LJ_r12,'g--')\n",
    "# plt.plot(rs,-np.gradient(LJ)/np.gradient(rs),'r-')\n",
    "# plt.plot(rs,-0.5*np.gradient(LJ)/np.gradient(rs),'g-')\n",
    "#  plt.plot(rs,LJ_r6,'g--')\n",
    "# plt.plot(rs,Etype,'y--')\n",
    "plt.plot(rs,Gaus_well,'y--')\n",
    "plt.plot(rs,Gaus_well+Harm_repel,'k--')\n",
    "plt.plot(rs,-np.gradient(Gaus_well+Harm_repel)/np.gradient(rs),'m.-')\n",
    "# plt.plot(rs,Etype+Harm_repel,'k--')\n",
    "# plt.plot(rs,-np.gradient(Etype+Harm_repel)/np.gradient(rs),'m-')\n",
    "# plt.plot(rs, LJ_r12-LJ_r6,'k:')\n",
    "plt.ylim(-25,15)\n",
    "# plt.yscale('SymLog')\n",
    "# plt.axvline(1.5)\n",
    "# plt.axhline(0)"
   ]
  },
  {
   "cell_type": "code",
   "execution_count": 114,
   "metadata": {},
   "outputs": [
    {
     "name": "stdout",
     "output_type": "stream",
     "text": [
      "(200000,)\n"
     ]
    },
    {
     "data": {
      "text/plain": [
       "<matplotlib.lines.Line2D at 0x7fd959a04f10>"
      ]
     },
     "execution_count": 114,
     "metadata": {},
     "output_type": "execute_result"
    },
    {
     "data": {
      "image/png": "[encoded data removed]",
      "text/plain": [
       "<Figure size 432x288 with 1 Axes>"
      ]
     },
     "metadata": {
      "needs_background": "light"
     },
     "output_type": "display_data"
    }
   ],
   "source": [
    "%matplotlib inline\n",
    "distances=[]\n",
    "for t in range(xyz.shape[0]):\n",
    "    d=spatial.distance.cdist(xyz[t],xyz[t],metric='euclidean')\n",
    "    np.fill_diagonal(d,1e5)\n",
    "    distances.append(np.ravel(d))\n",
    "distances=np.ravel(distances)\n",
    "print(distances.shape)\n",
    "hist,bin_edges=np.histogram(distances, bins=np.linspace(0,20,300), density=True)\n",
    "\n",
    "plt.plot(bin_edges[:-1],hist,'.-')\n",
    "# plt.xlim(0,10)\n",
    "plt.axvline(1.)\n",
    "# plt.semilogx()"
   ]
  },
  {
   "cell_type": "code",
   "execution_count": 66,
   "metadata": {},
   "outputs": [
    {
     "name": "stdout",
     "output_type": "stream",
     "text": [
      "None\n"
     ]
    }
   ],
   "source": [
    "d=spatial.distance.cdist(xyz[0],xyz[0],metric='euclidean')\n",
    "print(np.fill_diagonal(d,1))"
   ]
  },
  {
   "cell_type": "code",
   "execution_count": 44,
   "metadata": {},
   "outputs": [
    {
     "data": {
      "text/plain": [
       "[<matplotlib.lines.Line2D at 0x7fbb980812d0>]"
      ]
     },
     "execution_count": 44,
     "metadata": {},
     "output_type": "execute_result"
    },
    {
     "data": {
      "image/png": "[encoded data removed]",
      "text/plain": [
       "<Figure size 432x288 with 1 Axes>"
      ]
     },
     "metadata": {
      "needs_background": "light"
     },
     "output_type": "display_data"
    }
   ],
   "source": []
  },
  {
   "cell_type": "code",
   "execution_count": 62,
   "metadata": {},
   "outputs": [
    {
     "data": {
      "text/plain": [
       "0.1"
      ]
     },
     "execution_count": 62,
     "metadata": {},
     "output_type": "execute_result"
    }
   ],
   "source": [
    "100/(8*5**3)"
   ]
  },
  {
   "cell_type": "code",
   "execution_count": null,
   "metadata": {},
   "outputs": [],
   "source": []
  }
 ],
 "metadata": {
  "interpreter": {
   "hash": "eb908e2ee61974166e0f6210d6d4eb74d980ad50e61ae905e9364c3983814675"
  },
  "kernelspec": {
   "display_name": "Python 3.7.10 64-bit ('newopenmm': conda)",
   "name": "python3"
  },
  "language_info": {
   "codemirror_mode": {
    "name": "ipython",
    "version": 3
   },
   "file_extension": ".py",
   "mimetype": "text/x-python",
   "name": "python",
   "nbconvert_exporter": "python",
   "pygments_lexer": "ipython3",
   "version": "3.7.10"
  },
  "orig_nbformat": 4
 },
 "nbformat": 4,
 "nbformat_minor": 2
}
