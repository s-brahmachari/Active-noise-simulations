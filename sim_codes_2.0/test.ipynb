{
 "cells": [
  {
   "cell_type": "code",
   "execution_count": 1,
   "metadata": {},
   "outputs": [],
   "source": [
    "import ActiveMonomerModule as AMM\n",
    "from OpenMiChroM.ChromDynamics import MiChroM\n",
    "import numpy as np"
   ]
  },
  {
   "cell_type": "code",
   "execution_count": 2,
   "metadata": {},
   "outputs": [
    {
     "name": "stdout",
     "output_type": "stream",
     "text": [
      "    ***************************************************************************************     \n",
      "     **** **** *** *** *** *** *** *** OpenMiChroM-1.0.2 *** *** *** *** *** *** **** ****      \n",
      "\n",
      "         OpenMiChroM is a Python library for performing chromatin dynamics simulations.         \n",
      "                            OpenMiChroM uses the OpenMM Python API,                             \n",
      "                employing the MiChroM (Minimal Chromatin Model) energy function.                \n",
      "      The chromatin dynamics simulations generate an ensemble of 3D chromosomal structures      \n",
      "      that are consistent with experimental Hi-C maps, also allows simulations of a single      \n",
      "                 or multiple chromosome chain using High-Performance Computing                  \n",
      "                            in different platforms (GPUs and CPUs).                             \n",
      "         OpenMiChroM documentation is available at https://open-michrom.readthedocs.io          \n",
      "\n",
      "         OpenMiChroM is described in: Oliveira Junior, A. B & Contessoto, V, G et. al.          \n",
      "      A Scalable Computational Approach for Simulating Complexes of Multiple Chromosomes.       \n",
      "                  Journal of Molecular Biology. doi:10.1016/j.jmb.2020.10.034.                  \n",
      "                                              and                                               \n",
      "                                 Oliveira Junior, A. B. et al.                                  \n",
      "     Chromosome Modeling on Downsampled Hi-C Maps Enhances the Compartmentalization Signal.     \n",
      "                        J. Phys. Chem. B, doi:10.1021/acs.jpcb.1c04174.                         \n",
      "\n",
      "                    Copyright (c) 2021, The OpenMiChroM development team at                     \n",
      "                                        Rice University                                         \n",
      "    ***************************************************************************************     \n"
     ]
    }
   ],
   "source": [
    "micsim=MiChroM(name='test_int',time_step=0.01)\n",
    "micsim.setup(platform=\"opencl\")#, integrator=AMM.PersistentBrownianIntegrator(timestep=0.001, temperature=120, persistent_time=10.0))"
   ]
  },
  {
   "cell_type": "code",
   "execution_count": 3,
   "metadata": {},
   "outputs": [],
   "source": [
    "micsim.saveFolder('output')\n",
    "\n",
    "Chrom10 = micsim.create_springSpiral(ChromSeq='./inputs/chr10_beads.txt', isRing=False)\n",
    "# Chrom10 = micsim.create_springSpiral(ChromSeq='./inputs/10chrseq.txt', isRing=False)\n",
    "micsim.loadStructure(Chrom10, center=True)\n",
    "micsim.saveStructure(mode = 'auto')\n"
   ]
  },
  {
   "cell_type": "code",
   "execution_count": 4,
   "metadata": {},
   "outputs": [],
   "source": [
    "\n",
    "micsim.addFENEBonds(kfb=30.0)\n",
    "# AMM.addNLBonds(micsim, kfb=500)\n",
    "\n",
    "micsim.addAngles(ka=2.0)\n",
    "micsim.addRepulsiveSoftCore(Ecut=4.0)\n",
    "\n",
    "micsim.addTypetoType(mu=3.22, rc = 1.78)\n",
    "# micsim.addIdealChromosome(mu=3.22, rc = 1.78, dinit=3, dend=500)\n",
    "\n",
    "micsim.addFlatBottomHarmonic( kr=5e-3, n_rad=10.0)"
   ]
  },
  {
   "cell_type": "code",
   "execution_count": 6,
   "metadata": {},
   "outputs": [
    {
     "name": "stdout",
     "output_type": "stream",
     "text": [
      "bl=0 pos[1]=[11.1 -0.6 -0.2] dr=1.75 t=0.0ps kin=1.50 pot=20.18 Rg=9.749 SPS=391 \n",
      "bl=0 pos[1]=[10.5 -1.7 -0.2] dr=1.31 t=0.0ps kin=1.48 pot=20.19 Rg=9.734 SPS=464 \n",
      "bl=0 pos[1]=[10.5 -2.8 -1.2] dr=1.33 t=0.0ps kin=1.48 pot=20.21 Rg=9.706 SPS=526 \n",
      "bl=0 pos[1]=[10.0 -1.5 0.8] dr=1.32 t=0.0ps kin=1.51 pot=20.20 Rg=9.681 SPS=566 \n",
      "bl=0 pos[1]=[11.9 -2.1 2.6] dr=1.31 t=0.0ps kin=1.54 pot=20.14 Rg=9.542 SPS=588 \n"
     ]
    }
   ],
   "source": [
    "for _ in range(5):\n",
    "    micsim.runSimBlock(1000, increment=False)\n",
    "\n",
    "micsim.saveStructure(mode = 'pdb')"
   ]
  },
  {
   "cell_type": "code",
   "execution_count": 6,
   "metadata": {},
   "outputs": [
    {
     "data": {
      "text/plain": [
       "dict_keys(['FENEBond'])"
      ]
     },
     "execution_count": 6,
     "metadata": {},
     "output_type": "execute_result"
    }
   ],
   "source": [
    "micsim.forceDict.keys()"
   ]
  },
  {
   "cell_type": "code",
   "execution_count": null,
   "metadata": {},
   "outputs": [],
   "source": [
    "micsim.N\n",
    "micsim.state = micsim.context.getState(getPositions=True,getEnergy=True, getForces=True, getVelocities=True)\n",
    "veli = micsim.state.getVelocities(asNumpy=True)#/unit.sqrt(unit.kilojoule_per_mole / mass)\n",
    "forcei=micsim.state.getForces(asNumpy=True)\n",
    "posi=micsim.state.getPositions(asNumpy=True)\n",
    "\n",
    "print(veli,posi,forcei)\n",
    "print(micsim.state.getPotentialEnergy()/micsim.N)"
   ]
  },
  {
   "cell_type": "code",
   "execution_count": 17,
   "metadata": {},
   "outputs": [
    {
     "data": {
      "text/plain": [
       "0.9709071576829801"
      ]
     },
     "execution_count": 17,
     "metadata": {},
     "output_type": "execute_result"
    }
   ],
   "source": [
    "np.mean(np.linalg.norm(posi[1:]-posi[:-1], axis=1))"
   ]
  },
  {
   "cell_type": "code",
   "execution_count": null,
   "metadata": {},
   "outputs": [],
   "source": [
    "micsim.removeFlatBottomharmonic()"
   ]
  },
  {
   "cell_type": "code",
   "execution_count": null,
   "metadata": {},
   "outputs": [],
   "source": [
    "for _ in range(500):\n",
    "    micsim.runSimBlock(100, increment=True) #perform 1 block of the simulation\n",
    "\n",
    "micsim.saveStructure(mode = 'pdb')"
   ]
  },
  {
   "cell_type": "code",
   "execution_count": 12,
   "metadata": {},
   "outputs": [
    {
     "name": "stdout",
     "output_type": "stream",
     "text": [
      "    ***************************************************************************************     \n",
      "     **** **** *** *** *** *** *** *** OpenMiChroM-1.0.2 *** *** *** *** *** *** **** ****      \n",
      "\n",
      "         OpenMiChroM is a Python library for performing chromatin dynamics simulations.         \n",
      "                            OpenMiChroM uses the OpenMM Python API,                             \n",
      "                employing the MiChroM (Minimal Chromatin Model) energy function.                \n",
      "      The chromatin dynamics simulations generate an ensemble of 3D chromosomal structures      \n",
      "      that are consistent with experimental Hi-C maps, also allows simulations of a single      \n",
      "                 or multiple chromosome chain using High-Performance Computing                  \n",
      "                            in different platforms (GPUs and CPUs).                             \n",
      "         OpenMiChroM documentation is available at https://open-michrom.readthedocs.io          \n",
      "\n",
      "         OpenMiChroM is described in: Oliveira Junior, A. B & Contessoto, V, G et. al.          \n",
      "      A Scalable Computational Approach for Simulating Complexes of Multiple Chromosomes.       \n",
      "                  Journal of Molecular Biology. doi:10.1016/j.jmb.2020.10.034.                  \n",
      "                                              and                                               \n",
      "                                 Oliveira Junior, A. B. et al.                                  \n",
      "     Chromosome Modeling on Downsampled Hi-C Maps Enhances the Compartmentalization Signal.     \n",
      "                        J. Phys. Chem. B, doi:10.1021/acs.jpcb.1c04174.                         \n",
      "\n",
      "                    Copyright (c) 2021, The OpenMiChroM development team at                     \n",
      "                                        Rice University                                         \n",
      "    ***************************************************************************************     \n",
      "\n",
      "        ==================================\n",
      "        ActiveMonomer now set up.\n",
      "        Active correlation time: 1.0\n",
      "        Total number of active particles: 10\n",
      "        ==================================\n",
      "\n"
     ]
    }
   ],
   "source": [
    "sim=AMM.ActiveMonomer(time_step=1e-5, collision_rate=0.1, temperature=120.0,\n",
    "        name=\"test\", active_corr_time=1.0, act_seq=np.zeros(10),\n",
    "        outpath='output/', platform=\"opencl\")"
   ]
  },
  {
   "cell_type": "code",
   "execution_count": 13,
   "metadata": {},
   "outputs": [
    {
     "name": "stdout",
     "output_type": "stream",
     "text": [
      "Chains:  [(0, 2711, 0)]\n",
      "(2712, 3)\n"
     ]
    }
   ],
   "source": [
    "# Chrom10 = sim.create_springSpiral(ChromSeq='./inputs/10chrseq.txt', isRing=False)\n",
    "Chrom10=sim.loadPDB(PDBfiles=['./output/test_int_0_block0.pdb'])\n",
    "print(Chrom10.shape)"
   ]
  },
  {
   "cell_type": "code",
   "execution_count": 14,
   "metadata": {},
   "outputs": [],
   "source": [
    "sim.loadStructure(Chrom10, center=True)"
   ]
  },
  {
   "cell_type": "code",
   "execution_count": 15,
   "metadata": {},
   "outputs": [],
   "source": [
    "sim.addFENEBonds(kfb=30.0)\n",
    "# AMM.addNLBonds(sim, kfb=50)\n",
    "sim.addAngles(ka=2.0)\n",
    "sim.addRepulsiveSoftCore(Ecut=4.0)\n",
    "\n",
    "sim.addTypetoType(mu=3.22, rc = 1.78)\n",
    "sim.addIdealChromosome(mu=3.22, rc = 1.78, dinit=3, dend=500)\n",
    "\n",
    "sim.addFlatBottomHarmonic( kr=5e-3, n_rad=10.0)"
   ]
  },
  {
   "cell_type": "code",
   "execution_count": 13,
   "metadata": {},
   "outputs": [
    {
     "name": "stdout",
     "output_type": "stream",
     "text": [
      "Number of exceptions: 9\n",
      "adding force  ActiveForce 0\n",
      "adding force  NLBond 1\n",
      "Add exclusions for RepulsiveSoftCore force\n",
      "adding force  RepulsiveSoftCore 2\n",
      "Add exclusions for TypetoType force\n",
      "adding force  TypetoType 3\n",
      "adding force  FlatBottomHarmonic 4\n",
      "Positions... \n",
      " loaded!\n",
      "potential energy is 1.129271\n"
     ]
    }
   ],
   "source": [
    "sim._applyForces()"
   ]
  },
  {
   "cell_type": "code",
   "execution_count": 14,
   "metadata": {},
   "outputs": [
    {
     "name": "stdout",
     "output_type": "stream",
     "text": [
      "[[-0.39316165  0.32137281 -0.45901629]\n",
      " [ 0.12032376 -0.55920929  0.45770285]\n",
      " [-0.56422275  0.17755438  0.61881423]\n",
      " [-0.47043914 -0.37230593  0.29535344]\n",
      " [-0.10663323 -0.45203409 -0.00459053]\n",
      " [ 0.20230743  0.11976825  0.38849646]\n",
      " [ 0.12808192  0.08423617 -0.47339043]\n",
      " [-0.26949808  0.42709732  0.32531589]\n",
      " [-0.31029192  0.0648133   0.17022416]\n",
      " [ 0.21775159 -0.60088497  0.65866381]] nm/ps [[ 1.27425742 -1.13632369  0.37277904]\n",
      " [ 1.58691823 -0.19770241  0.22704759]\n",
      " [ 1.27426255  0.74092352  0.08134104]\n",
      " [ 0.4837724   1.29000843 -0.04680696]\n",
      " [-0.42733783  1.2609067  -0.14191093]\n",
      " [-1.08995175  0.74157733 -0.19252175]\n",
      " [-1.30319118  0.01139416 -0.19252604]\n",
      " [-1.0903585  -0.63093442 -0.14191502]\n",
      " [-0.62167019 -1.00487149 -0.04681335]\n",
      " [-0.08666919 -1.07497823  0.08133747]] nm [[ -0.46199548   0.41049704  -0.15953031]\n",
      " [ -0.61929607   0.13560532  -0.09426676]\n",
      " [  0.68275893  -1.12872815   0.18992235]\n",
      " [  2.73873162   0.39728898   0.26149091]\n",
      " [  2.19968867   4.00903702   0.0910579 ]\n",
      " [ -2.20436954   6.11503744  -0.37044951]\n",
      " [ -7.87478542   3.69907188  -1.11691058]\n",
      " [-10.1093359   -2.69226742  -1.90131927]\n",
      " [ -6.08048344  -8.76283646  -2.03561878]\n",
      " [ 21.72908783  -2.18270564   5.13562393]] kJ/(nm mol)\n",
      "1.1292705535888672 kJ/mol\n"
     ]
    }
   ],
   "source": [
    "sim.state = sim.context.getState(getPositions=True,getEnergy=True, getForces=True, getVelocities=True)\n",
    "veli = sim.state.getVelocities(asNumpy=True)#/unit.sqrt(unit.kilojoule_per_mole / mass)\n",
    "forcei=sim.state.getForces(asNumpy=True)\n",
    "posi=sim.state.getPositions(asNumpy=True)\n",
    "\n",
    "print(veli,posi,forcei)\n",
    "print(sim.state.getPotentialEnergy()/sim.N)"
   ]
  },
  {
   "cell_type": "code",
   "execution_count": 18,
   "metadata": {},
   "outputs": [
    {
     "data": {
      "text/plain": [
       "Quantity(value=120.00000000000001, unit=kelvin)"
      ]
     },
     "execution_count": 18,
     "metadata": {},
     "output_type": "execute_result"
    }
   ],
   "source": [
    "sim.integrator.step(1)\n",
    "sim.integrator.getTemperature()"
   ]
  },
  {
   "cell_type": "code",
   "execution_count": 19,
   "metadata": {},
   "outputs": [
    {
     "name": "stdout",
     "output_type": "stream",
     "text": [
      "[[-0.3923761   0.32073072 -0.45809919]\n",
      " [ 0.12008335 -0.558092    0.45678836]\n",
      " [-0.56309545  0.17719962  0.61757779]\n",
      " [-0.46949917 -0.37156206  0.2947633 ]\n",
      " [-0.10642017 -0.45113093 -0.00458135]\n",
      " [ 0.20190322  0.11952895  0.38772026]\n",
      " [ 0.12782601  0.08406787 -0.47244456]\n",
      " [-0.26895964  0.42624396  0.3246659 ]\n",
      " [-0.30967194  0.0646838   0.16988404]\n",
      " [ 0.21731652 -0.59968442  0.6573478 ]] nm/ps [[ 0.97953284 -0.79583055  0.3667278 ]\n",
      " [ 1.56337976 -0.00617982  0.05395188]\n",
      " [ 1.17898858  0.43321985 -0.13770373]\n",
      " [ 0.45663458  1.40855682 -0.26086438]\n",
      " [-0.46885648  1.06819582 -0.31768996]\n",
      " [-1.30775177  0.72536385 -0.11764055]\n",
      " [-0.95754433 -0.05005051  0.34313437]\n",
      " [-1.42743683 -0.44085562 -0.40114456]\n",
      " [-0.812199   -1.09912944  0.11480728]\n",
      " [ 0.10567337 -0.84113532  0.17568107]] nm [[  1.36257923   1.37521172  -0.3387953 ]\n",
      " [ 10.53172398 -14.80732441   6.42723131]\n",
      " [-19.34423637  22.32069969  -7.03958511]\n",
      " [  6.88575649  -9.24610901   1.3120544 ]\n",
      " [  2.90609694   0.18596452  -0.6494171 ]\n",
      " [ -3.27996445  -0.39992768   0.03143906]\n",
      " [  1.5423497    2.66812277   2.7497344 ]\n",
      " [  0.84551746  -1.65017748  -0.3073203 ]\n",
      " [ -2.50121951  -1.99211335  -1.7776444 ]\n",
      " [  1.05139506   1.54565334  -0.40769726]] kJ/(nm mol)\n",
      "0.6628196239471436 kJ/mol\n"
     ]
    }
   ],
   "source": [
    "sim.state = sim.context.getState(getPositions=True,getEnergy=True, getForces=True, getVelocities=True)\n",
    "velf = sim.state.getVelocities(asNumpy=True)#/unit.sqrt(unit.kilojoule_per_mole / mass)\n",
    "forcef=sim.state.getForces(asNumpy=True)\n",
    "posf=sim.state.getPositions(asNumpy=True)\n",
    "\n",
    "print(velf,posf,forcef)\n",
    "print(sim.state.getPotentialEnergy()/sim.N)\n",
    "\n",
    "# dif=np.linalg.norm(posf-posi,axis=1)\n",
    "# print(posf-posi)"
   ]
  },
  {
   "cell_type": "code",
   "execution_count": 17,
   "metadata": {},
   "outputs": [
    {
     "name": "stdout",
     "output_type": "stream",
     "text": [
      "bl=11 pos[1]=[12.2 -2.0 2.5] dr=0.19 t=0.0ps kin=1.46 pot=20.01 Rg=9.537 SPS=197 \n",
      "bl=12 pos[1]=[12.3 -2.2 2.3] dr=0.19 t=0.0ps kin=1.46 pot=20.03 Rg=9.537 SPS=294 \n",
      "bl=13 pos[1]=[12.3 -2.2 2.3] dr=0.19 t=0.0ps kin=1.46 pot=20.01 Rg=9.535 SPS=298 \n",
      "bl=14 pos[1]=[12.5 -2.1 2.7] dr=0.19 t=0.0ps kin=1.45 pot=20.03 Rg=9.538 SPS=302 \n",
      "bl=15 pos[1]=[12.3 -2.0 2.6] dr=0.19 t=0.0ps kin=1.45 pot=20.02 Rg=9.539 SPS=302 \n",
      "bl=16 pos[1]=[12.1 -1.7 2.6] dr=0.19 t=0.0ps kin=1.45 pot=19.99 Rg=9.539 SPS=300 \n",
      "bl=17 pos[1]=[12.2 -1.9 2.7] dr=0.19 t=0.0ps kin=1.45 pot=20.00 Rg=9.534 SPS=303 \n",
      "bl=18 pos[1]=[12.4 -1.9 2.7] dr=0.19 t=0.0ps kin=1.44 pot=20.01 Rg=9.535 SPS=299 \n",
      "bl=19 pos[1]=[12.4 -1.8 2.8] dr=0.19 t=0.0ps kin=1.44 pot=20.03 Rg=9.535 SPS=302 \n",
      "bl=20 pos[1]=[12.4 -1.9 2.8] dr=0.19 t=0.0ps kin=1.44 pot=20.00 Rg=9.533 SPS=303 \n",
      "bl=21 pos[1]=[12.5 -1.8 2.7] dr=0.19 t=0.0ps kin=1.43 pot=20.06 Rg=9.527 SPS=294 \n",
      "bl=22 pos[1]=[12.3 -1.8 2.8] dr=0.19 t=0.0ps kin=1.43 pot=20.00 Rg=9.527 SPS=302 \n",
      "bl=23 pos[1]=[12.4 -1.6 2.8] dr=0.19 t=0.0ps kin=1.43 pot=20.02 Rg=9.526 SPS=302 \n",
      "bl=24 pos[1]=[12.6 -1.4 2.8] dr=0.19 t=0.0ps kin=1.42 pot=20.05 Rg=9.525 SPS=300 \n",
      "bl=25 pos[1]=[12.5 -1.5 2.8] dr=0.19 t=0.0ps kin=1.42 pot=20.02 Rg=9.523 SPS=302 \n",
      "bl=26 pos[1]=[12.5 -1.4 2.6] dr=0.19 t=0.0ps kin=1.42 pot=20.01 Rg=9.525 SPS=302 \n",
      "bl=27 pos[1]=[12.6 -1.4 2.7] dr=0.19 t=0.0ps kin=1.42 pot=20.03 Rg=9.524 SPS=294 \n",
      "bl=28 pos[1]=[12.6 -1.5 2.8] dr=0.19 t=0.0ps kin=1.41 pot=20.03 Rg=9.530 SPS=296 \n",
      "bl=29 pos[1]=[12.4 -1.4 2.8] dr=0.19 t=0.0ps kin=1.41 pot=20.03 Rg=9.531 SPS=301 \n",
      "bl=30 pos[1]=[12.2 -1.2 2.7] dr=0.19 t=0.0ps kin=1.41 pot=20.07 Rg=9.528 SPS=299 \n",
      "bl=31 pos[1]=[12.2 -1.2 2.6] dr=0.19 t=0.0ps kin=1.41 pot=20.04 Rg=9.529 SPS=298 \n",
      "bl=32 pos[1]=[12.2 -1.0 2.5] dr=0.19 t=0.0ps kin=1.40 pot=20.05 Rg=9.531 SPS=297 \n",
      "bl=33 pos[1]=[12.3 -1.1 2.7] dr=0.19 t=0.0ps kin=1.40 pot=20.05 Rg=9.536 SPS=294 \n",
      "bl=34 pos[1]=[12.3 -1.1 2.5] dr=0.19 t=0.0ps kin=1.40 pot=20.01 Rg=9.534 SPS=300 \n",
      "bl=35 pos[1]=[12.2 -1.2 2.5] dr=0.19 t=0.0ps kin=1.39 pot=20.01 Rg=9.531 SPS=303 \n",
      "bl=36 pos[1]=[12.1 -1.1 2.6] dr=0.19 t=0.0ps kin=1.39 pot=20.01 Rg=9.531 SPS=301 \n",
      "bl=37 pos[1]=[11.9 -1.0 2.7] dr=0.19 t=0.0ps kin=1.39 pot=20.04 Rg=9.529 SPS=298 \n",
      "bl=38 pos[1]=[12.2 -1.1 2.8] dr=0.19 t=0.0ps kin=1.39 pot=20.02 Rg=9.527 SPS=295 \n",
      "bl=39 pos[1]=[12.3 -1.1 2.7] dr=0.19 t=0.0ps kin=1.38 pot=20.04 Rg=9.529 SPS=303 \n",
      "bl=40 pos[1]=[12.4 -1.1 3.0] dr=0.19 t=0.0ps kin=1.38 pot=20.02 Rg=9.529 SPS=301 \n",
      "bl=41 pos[1]=[12.4 -1.2 3.0] dr=0.19 t=0.0ps kin=1.38 pot=20.05 Rg=9.529 SPS=303 \n",
      "bl=42 pos[1]=[12.5 -1.2 3.0] dr=0.19 t=0.0ps kin=1.37 pot=20.01 Rg=9.531 SPS=306 \n",
      "bl=43 pos[1]=[12.3 -1.2 3.0] dr=0.19 t=0.0ps kin=1.37 pot=20.02 Rg=9.534 SPS=298 \n",
      "bl=44 pos[1]=[12.2 -1.1 3.0] dr=0.19 t=0.0ps kin=1.37 pot=20.01 Rg=9.533 SPS=288 \n",
      "bl=45 pos[1]=[12.0 -1.0 3.2] dr=0.19 t=0.0ps kin=1.37 pot=19.99 Rg=9.532 SPS=297 \n",
      "bl=46 pos[1]=[12.0 -1.1 3.0] dr=0.19 t=0.0ps kin=1.36 pot=20.02 Rg=9.529 SPS=304 \n",
      "bl=47 pos[1]=[12.2 -1.1 3.1] dr=0.19 t=0.0ps kin=1.36 pot=20.02 Rg=9.527 SPS=303 \n",
      "bl=48 pos[1]=[12.4 -1.0 3.1] dr=0.19 t=0.0ps kin=1.36 pot=20.02 Rg=9.526 SPS=298 \n",
      "bl=49 pos[1]=[12.6 -0.9 3.1] dr=0.19 t=0.0ps kin=1.36 pot=20.03 Rg=9.528 SPS=302 \n",
      "\n",
      "Statistics for the simulation test, number of particles: 2712,  number of chains: 1\n",
      "\n",
      "Statistics for particle position\n",
      "     mean position is:  [-0.02911499  0.0192787   0.01011041]   Rg =  9.527649\n",
      "     median bond size is  0.9655582985334006\n",
      "     three shortest/longest (<10)/ bonds are  [0.86211434 0.8671626  0.86934987]    [1.09002902 1.09816245 1.11075181]\n",
      "     95 percentile of distance to center is:    13.64411331377253\n",
      "     density of closest 95% monomers is:    0.24215237256371305\n",
      "     density of the core monomers is:    0.48815961278432235\n",
      "     min/median/mean/max coordinates are: \n",
      "     x: -11.69, -0.66, -0.03, 14.44\n",
      "     y: -15.70, 1.09, 0.02, 15.47\n",
      "     z: -9.83, 0.06, 0.01, 8.44\n",
      "\n",
      "Statistics for velocities:\n",
      "     mean kinetic energy is:  1.3553789669639886 should be: 1.5\n",
      "     fastest particles are (in kT):  [6.75360555 6.89258037 7.12342623 7.33012862 9.6765206 ]\n",
      "\n",
      "Statistics for the system:\n",
      "     Forces are:  ['ActiveForce', 'FENEBond', 'AngleForce', 'RepulsiveSoftCore', 'TypetoType', 'IdealChromosome', 'FlatBottomHarmonic']\n",
      "     Number of exceptions:   2711\n",
      "\n",
      "Potential Energy Ep =  20.030794846976402\n",
      "bl=50 pos[1]=[12.7 -0.9 3.1] dr=0.19 t=0.0ps kin=1.35 pot=20.02 Rg=9.527 SPS=302 \n",
      "bl=51 pos[1]=[12.4 -0.9 3.2] dr=0.19 t=0.0ps kin=1.35 pot=20.03 Rg=9.529 SPS=297 \n",
      "bl=52 pos[1]=[12.6 -1.0 3.2] dr=0.19 t=0.0ps kin=1.35 pot=20.03 Rg=9.529 SPS=299 \n",
      "bl=53 pos[1]=[12.7 -0.9 3.2] dr=0.19 t=0.0ps kin=1.34 pot=20.04 Rg=9.526 SPS=301 \n",
      "bl=54 pos[1]=[12.7 -0.8 3.2] dr=0.19 t=0.0ps kin=1.34 pot=20.02 Rg=9.523 SPS=302 \n",
      "bl=55 pos[1]=[12.8 -0.8 3.1] dr=0.19 t=0.0ps kin=1.34 pot=20.04 Rg=9.522 SPS=303 \n",
      "bl=56 pos[1]=[12.7 -0.8 3.2] dr=0.19 t=0.0ps kin=1.34 pot=20.04 Rg=9.525 SPS=300 \n",
      "bl=57 pos[1]=[12.6 -1.0 3.0] dr=0.19 t=0.0ps kin=1.33 pot=20.04 Rg=9.522 SPS=302 \n",
      "bl=58 pos[1]=[12.8 -0.9 2.9] dr=0.19 t=0.0ps kin=1.33 pot=20.02 Rg=9.526 SPS=303 \n",
      "bl=59 pos[1]=[12.9 -0.8 2.8] dr=0.19 t=0.0ps kin=1.33 pot=19.98 Rg=9.529 SPS=302 \n",
      "bl=60 pos[1]=[13.0 -0.9 2.7] dr=0.19 t=0.0ps kin=1.33 pot=20.02 Rg=9.532 SPS=302 \n",
      "bl=61 pos[1]=[13.0 -0.9 2.9] dr=0.19 t=0.0ps kin=1.32 pot=20.03 Rg=9.534 SPS=303 \n",
      "bl=62 pos[1]=[13.1 -0.7 3.1] dr=0.19 t=0.0ps kin=1.32 pot=20.01 Rg=9.537 SPS=303 \n",
      "bl=63 pos[1]=[13.0 -0.7 3.2] dr=0.19 t=0.0ps kin=1.32 pot=20.02 Rg=9.536 SPS=300 \n",
      "bl=64 pos[1]=[13.3 -0.6 3.2] dr=0.19 t=0.0ps kin=1.32 pot=20.02 Rg=9.536 SPS=301 \n",
      "bl=65 pos[1]=[13.4 -0.7 3.3] dr=0.19 t=0.0ps kin=1.31 pot=20.02 Rg=9.536 SPS=300 \n",
      "bl=66 pos[1]=[13.3 -0.7 3.2] dr=0.19 t=0.0ps kin=1.31 pot=20.02 Rg=9.533 SPS=295 \n",
      "bl=67 pos[1]=[13.6 -0.7 3.0] dr=0.19 t=0.0ps kin=1.31 pot=20.01 Rg=9.533 SPS=301 \n",
      "bl=68 pos[1]=[13.7 -0.6 2.9] dr=0.19 t=0.0ps kin=1.30 pot=20.04 Rg=9.534 SPS=303 \n",
      "bl=69 pos[1]=[13.7 -0.6 2.9] dr=0.19 t=0.0ps kin=1.30 pot=20.05 Rg=9.539 SPS=302 \n",
      "bl=70 pos[1]=[13.6 -0.5 2.8] dr=0.19 t=0.0ps kin=1.30 pot=20.00 Rg=9.536 SPS=303 \n",
      "bl=71 pos[1]=[13.6 -0.5 3.0] dr=0.19 t=0.0ps kin=1.30 pot=20.00 Rg=9.533 SPS=300 \n",
      "bl=72 pos[1]=[13.6 -0.4 2.9] dr=0.19 t=0.0ps kin=1.29 pot=20.04 Rg=9.532 SPS=297 \n",
      "bl=73 pos[1]=[13.8 -0.5 2.9] dr=0.19 t=0.0ps kin=1.29 pot=20.03 Rg=9.530 SPS=299 \n",
      "bl=74 pos[1]=[13.6 -0.7 3.0] dr=0.19 t=0.0ps kin=1.29 pot=20.05 Rg=9.525 SPS=299 \n",
      "bl=75 pos[1]=[13.6 -0.5 2.9] dr=0.19 t=0.0ps kin=1.29 pot=20.04 Rg=9.526 SPS=304 \n",
      "bl=76 pos[1]=[13.4 -0.5 2.9] dr=0.19 t=0.0ps kin=1.28 pot=20.00 Rg=9.530 SPS=300 \n",
      "bl=77 pos[1]=[13.2 -0.3 3.0] dr=0.19 t=0.0ps kin=1.28 pot=20.04 Rg=9.528 SPS=302 \n",
      "bl=78 pos[1]=[13.3 -0.3 3.1] dr=0.19 t=0.0ps kin=1.28 pot=20.04 Rg=9.524 SPS=295 \n",
      "bl=79 pos[1]=[13.0 -0.2 3.0] dr=0.19 t=0.0ps kin=1.28 pot=20.01 Rg=9.529 SPS=302 \n",
      "bl=80 pos[1]=[13.2 -0.2 3.1] dr=0.19 t=0.0ps kin=1.27 pot=20.04 Rg=9.532 SPS=302 \n",
      "bl=81 pos[1]=[13.4 -0.2 3.1] dr=0.19 t=0.0ps kin=1.27 pot=20.01 Rg=9.533 SPS=297 \n",
      "bl=82 pos[1]=[13.5 -0.2 2.9] dr=0.19 t=0.0ps kin=1.27 pot=19.99 Rg=9.534 SPS=305 \n",
      "bl=83 pos[1]=[13.4 0.1 2.9] dr=0.19 t=0.0ps kin=1.27 pot=20.01 Rg=9.537 SPS=300 \n",
      "bl=84 pos[1]=[13.3 0.1 3.1] dr=0.19 t=0.0ps kin=1.26 pot=19.99 Rg=9.534 SPS=296 \n",
      "bl=85 pos[1]=[13.1 0.3 3.1] dr=0.19 t=0.0ps kin=1.26 pot=20.03 Rg=9.535 SPS=297 \n",
      "bl=86 pos[1]=[13.1 0.3 3.0] dr=0.19 t=0.0ps kin=1.26 pot=20.01 Rg=9.540 SPS=302 \n",
      "bl=87 pos[1]=[12.9 0.4 2.9] dr=0.19 t=0.0ps kin=1.26 pot=19.99 Rg=9.538 SPS=302 \n",
      "bl=88 pos[1]=[13.2 0.3 2.9] dr=0.19 t=0.0ps kin=1.25 pot=20.00 Rg=9.542 SPS=301 \n",
      "bl=89 pos[1]=[13.3 0.3 2.9] dr=0.19 t=0.0ps kin=1.25 pot=20.01 Rg=9.538 SPS=301 \n",
      "bl=90 pos[1]=[13.6 0.4 2.8] dr=0.19 t=0.0ps kin=1.25 pot=20.02 Rg=9.535 SPS=304 \n",
      "bl=91 pos[1]=[13.6 0.1 2.7] dr=0.19 t=0.0ps kin=1.25 pot=20.03 Rg=9.533 SPS=299 \n",
      "bl=92 pos[1]=[13.5 0.2 2.6] dr=0.19 t=0.0ps kin=1.24 pot=20.04 Rg=9.533 SPS=306 \n",
      "bl=93 pos[1]=[13.8 0.3 2.6] dr=0.19 t=0.0ps kin=1.24 pot=20.06 Rg=9.534 SPS=298 \n",
      "bl=94 pos[1]=[14.0 0.4 2.4] dr=0.19 t=0.0ps kin=1.24 pot=20.02 Rg=9.532 SPS=301 \n",
      "bl=95 pos[1]=[13.9 0.3 2.3] dr=0.19 t=0.0ps kin=1.24 pot=20.01 Rg=9.531 SPS=305 \n",
      "bl=96 pos[1]=[13.7 0.4 2.4] dr=0.19 t=0.0ps kin=1.23 pot=20.02 Rg=9.526 SPS=300 \n",
      "bl=97 pos[1]=[13.7 0.5 2.6] dr=0.19 t=0.0ps kin=1.23 pot=20.04 Rg=9.525 SPS=304 \n",
      "bl=98 pos[1]=[13.7 0.3 2.5] dr=0.19 t=0.0ps kin=1.23 pot=20.04 Rg=9.519 SPS=296 \n",
      "bl=99 pos[1]=[13.8 0.2 2.6] dr=0.19 t=0.0ps kin=1.23 pot=19.99 Rg=9.522 SPS=304 \n",
      "\n",
      "Statistics for the simulation test, number of particles: 2712,  number of chains: 1\n",
      "\n",
      "Statistics for particle position\n",
      "     mean position is:  [-0.0534899   0.00328864  0.03913021]   Rg =  9.522419\n",
      "     median bond size is  0.965362550136814\n",
      "     three shortest/longest (<10)/ bonds are  [0.85966112 0.87368396 0.87449448]    [1.08512531 1.09601217 1.10753789]\n",
      "     95 percentile of distance to center is:    13.5760379109398\n",
      "     density of closest 95% monomers is:    0.2458134006307424\n",
      "     density of the core monomers is:    0.4971537556028215\n",
      "     min/median/mean/max coordinates are: \n",
      "     x: -11.31, -0.65, -0.05, 14.85\n",
      "     y: -14.94, 1.08, 0.00, 14.44\n",
      "     z: -9.39, 0.14, 0.04, 8.65\n",
      "\n",
      "Statistics for velocities:\n",
      "     mean kinetic energy is:  1.2262319532753843 should be: 1.5\n",
      "     fastest particles are (in kT):  [6.11008125 6.23580683 6.44467917 6.63175536 8.75447066]\n",
      "\n",
      "Statistics for the system:\n",
      "     Forces are:  ['ActiveForce', 'FENEBond', 'AngleForce', 'RepulsiveSoftCore', 'TypetoType', 'IdealChromosome', 'FlatBottomHarmonic']\n",
      "     Number of exceptions:   2711\n",
      "\n",
      "Potential Energy Ep =  19.988471377212388\n",
      "bl=100 pos[1]=[13.5 0.0 2.8] dr=0.19 t=0.0ps kin=1.22 pot=20.00 Rg=9.527 SPS=298 \n",
      "bl=101 pos[1]=[13.4 0.1 2.8] dr=0.19 t=0.0ps kin=1.22 pot=20.00 Rg=9.526 SPS=295 \n",
      "bl=102 pos[1]=[13.5 0.2 2.7] dr=0.19 t=0.0ps kin=1.22 pot=20.04 Rg=9.529 SPS=298 \n",
      "bl=103 pos[1]=[13.2 0.2 2.7] dr=0.19 t=0.0ps kin=1.22 pot=20.00 Rg=9.525 SPS=303 \n",
      "bl=104 pos[1]=[13.1 0.3 2.6] dr=0.19 t=0.0ps kin=1.21 pot=20.02 Rg=9.517 SPS=300 \n",
      "bl=105 pos[1]=[13.2 0.3 2.5] dr=0.19 t=0.0ps kin=1.21 pot=20.03 Rg=9.521 SPS=300 \n",
      "bl=106 pos[1]=[13.1 0.2 2.6] dr=0.19 t=0.0ps kin=1.21 pot=20.01 Rg=9.516 SPS=292 \n",
      "bl=107 pos[1]=[13.0 0.2 2.5] dr=0.19 t=0.0ps kin=1.21 pot=20.00 Rg=9.515 SPS=300 \n",
      "bl=108 pos[1]=[13.1 0.1 2.7] dr=0.19 t=0.0ps kin=1.20 pot=20.00 Rg=9.514 SPS=293 \n",
      "bl=109 pos[1]=[13.0 0.2 2.8] dr=0.19 t=0.0ps kin=1.20 pot=19.99 Rg=9.515 SPS=286 \n",
      "bl=110 pos[1]=[13.4 0.2 2.5] dr=0.19 t=0.0ps kin=1.20 pot=20.01 Rg=9.516 SPS=302 \n"
     ]
    }
   ],
   "source": [
    "Positions=[]\n",
    "Velocities=[]\n",
    "for _ in range(100):\n",
    "    sim.runSimBlock(100, increment=True)\n",
    "    state = sim.context.getState(getPositions=True,getForces=True,\n",
    "            getVelocities=True, getEnergy=False)\n",
    "    vel = state.getVelocities(asNumpy=True)#/unit.sqrt(unit.kilojoule_per_mole / mass)\n",
    "    force=state.getForces(asNumpy=True)\n",
    "    pos=state.getPositions(asNumpy=True)\n",
    "    # print(force,vel, pos)\n",
    "    Velocities.append(vel)\n",
    "    Positions.append(pos)\n",
    "\n",
    "Positions=np.array(Positions)\n",
    "Velocities=np.array(Velocities)"
   ]
  },
  {
   "cell_type": "code",
   "execution_count": 16,
   "metadata": {},
   "outputs": [
    {
     "data": {
      "text/plain": [
       "dict_keys(['ActiveForce', 'NLBond', 'AngleForce', 'RepulsiveSoftCore', 'TypetoType', 'IdealChromosome', 'FlatBottomHarmonic'])"
      ]
     },
     "execution_count": 16,
     "metadata": {},
     "output_type": "execute_result"
    }
   ],
   "source": [
    "sim.forceDict.keys()"
   ]
  },
  {
   "cell_type": "code",
   "execution_count": 17,
   "metadata": {},
   "outputs": [],
   "source": [
    "def _autocorrFFT(x):\n",
    "        N=len(x)\n",
    "        F = np.fft.fft(x, n=2*N)  #2*N because of zero-padding\n",
    "        PSD = F * F.conjugate()\n",
    "        res = np.fft.ifft(PSD)\n",
    "        res= (res[:N]).real   #now we have the autocorrelation in convention B\n",
    "        n=N*np.ones(N)-np.arange(0,N) #divide res(m) by (N-m)\n",
    "        return res/n #this is the autocorrelation in convention A\n",
    "\n",
    "def _msd_fft(r):\n",
    "    #r is an (T,3) ndarray: [time stamps,dof]\n",
    "    N=len(r)\n",
    "    D=np.square(r).sum(axis=1)\n",
    "    D=np.append(D,0)\n",
    "    S2=sum([ _autocorrFFT(r[:, i]) for i in range(r.shape[1])])\n",
    "    Q=2*D.sum()\n",
    "    S1=np.zeros(N)\n",
    "    for m in range(N):\n",
    "        Q=Q-D[m-1]-D[N-m]\n",
    "        S1[m]=Q/(N-m)\n",
    "    return S1, S2"
   ]
  },
  {
   "cell_type": "code",
   "execution_count": 18,
   "metadata": {},
   "outputs": [],
   "source": [
    "msd=[]\n",
    "for p in range(Positions.shape[1]):\n",
    "    s1,s2 = _msd_fft(Positions[:,p,:])\n",
    "    # Pos_autocorr.append(2*S2/S1)\n",
    "    msd.append(s1-2*s2)\n",
    "\n",
    "msd=np.array(msd)\n",
    "# Pos_autocorr=np.array(Pos_autocorr)\n",
    "\n",
    "#average over all particles\n",
    "msd_av=np.mean(msd,axis=0)"
   ]
  },
  {
   "cell_type": "code",
   "execution_count": 19,
   "metadata": {},
   "outputs": [],
   "source": [
    "import matplotlib.pyplot as plt"
   ]
  },
  {
   "cell_type": "code",
   "execution_count": 20,
   "metadata": {},
   "outputs": [
    {
     "data": {
      "text/plain": [
       "(1, 100000.0)"
      ]
     },
     "execution_count": 20,
     "metadata": {},
     "output_type": "execute_result"
    },
    {
     "data": {
      "image/png": "[encoded data removed]",
      "text/plain": [
       "<Figure size 432x288 with 1 Axes>"
      ]
     },
     "metadata": {
      "needs_background": "light"
     },
     "output_type": "display_data"
    }
   ],
   "source": [
    "ts=np.arange(1,len(msd_av)+1,1)*0.001*100\n",
    "plt.plot(ts, msd_av,'.-')\n",
    "plt.loglog([0,100], 5*np.array([0,100]))\n",
    "plt.loglog([1,100], np.array([1,100])**2)\n",
    "plt.ylim(1,1e5)"
   ]
  },
  {
   "cell_type": "code",
   "execution_count": 21,
   "metadata": {},
   "outputs": [
    {
     "name": "stderr",
     "output_type": "stream",
     "text": [
      "/Users/sumitabha/anaconda3/envs/newopenmm/lib/python3.7/site-packages/ipykernel_launcher.py:5: RuntimeWarning: invalid value encountered in true_divide\n",
      "  \"\"\"\n"
     ]
    },
    {
     "data": {
      "text/plain": [
       "(0.001, 2)"
      ]
     },
     "execution_count": 21,
     "metadata": {},
     "output_type": "execute_result"
    },
    {
     "data": {
      "image/png": "[encoded data removed]",
      "text/plain": [
       "<Figure size 432x288 with 1 Axes>"
      ]
     },
     "metadata": {
      "needs_background": "light"
     },
     "output_type": "display_data"
    }
   ],
   "source": [
    "corr=[]\n",
    "for p in range(Velocities.shape[1]):\n",
    "    s1,s2 = _msd_fft(Velocities[:,p,:])\n",
    "    # Pos_autocorr.append(2*S2/S1)\n",
    "    corr.append(2*s2/s1)\n",
    "\n",
    "corr=np.array(corr)\n",
    "# Pos_autocorr=np.array(Pos_autocorr)\n",
    "\n",
    "#average over all particles\n",
    "corr_av=np.mean(corr,axis=0)\n",
    "\n",
    "\n",
    "plt.loglog(ts, corr_av,'.')\n",
    "plt.loglog(ts,np.exp(-ts))\n",
    "plt.ylim(1e-3,2)"
   ]
  },
  {
   "cell_type": "code",
   "execution_count": null,
   "metadata": {},
   "outputs": [
    {
     "name": "stdout",
     "output_type": "stream",
     "text": [
      "[[[-0.09963844  0.48503911  0.85878438]\n",
      "  [-0.93995714  0.16494466  1.08742094]]\n",
      "\n",
      " [[-1.45103502 -1.13024354  2.64610696]\n",
      "  [-0.40987158  2.05301476  0.78479499]]\n",
      "\n",
      " [[ 0.65801215 -1.34704769  3.31465244]\n",
      "  [ 0.27658051  0.13392256  0.25594124]]\n",
      "\n",
      " [[-0.94370216 -0.90841603  4.26900911]\n",
      "  [-0.16673514 -1.33306813 -2.59681845]]\n",
      "\n",
      " [[ 0.04852555  1.0308938   4.69286013]\n",
      "  [ 1.93814504 -1.11801875 -4.1868825 ]]]\n"
     ]
    }
   ],
   "source": [
    "print(Positions)"
   ]
  },
  {
   "cell_type": "code",
   "execution_count": 20,
   "metadata": {},
   "outputs": [
    {
     "ename": "ValueError",
     "evalue": "list.remove(x): x not in list",
     "output_type": "error",
     "traceback": [
      "\u001b[0;31m---------------------------------------------------------------------------\u001b[0m",
      "\u001b[0;31mValueError\u001b[0m                                Traceback (most recent call last)",
      "\u001b[0;32m<ipython-input-20-cc8b5ab38aab>\u001b[0m in \u001b[0;36m<module>\u001b[0;34m\u001b[0m\n\u001b[1;32m      1\u001b[0m \u001b[0ma\u001b[0m\u001b[0;34m=\u001b[0m\u001b[0;34m[\u001b[0m\u001b[0;36m1\u001b[0m\u001b[0;34m,\u001b[0m\u001b[0;36m2\u001b[0m\u001b[0;34m,\u001b[0m\u001b[0;36m34\u001b[0m\u001b[0;34m]\u001b[0m\u001b[0;34m\u001b[0m\u001b[0;34m\u001b[0m\u001b[0m\n\u001b[0;32m----> 2\u001b[0;31m \u001b[0ma\u001b[0m\u001b[0;34m.\u001b[0m\u001b[0mremove\u001b[0m\u001b[0;34m(\u001b[0m\u001b[0;36m23\u001b[0m\u001b[0;34m)\u001b[0m\u001b[0;34m\u001b[0m\u001b[0;34m\u001b[0m\u001b[0m\n\u001b[0m\u001b[1;32m      3\u001b[0m \u001b[0mprint\u001b[0m\u001b[0;34m(\u001b[0m\u001b[0ma\u001b[0m\u001b[0;34m)\u001b[0m\u001b[0;34m\u001b[0m\u001b[0;34m\u001b[0m\u001b[0m\n",
      "\u001b[0;31mValueError\u001b[0m: list.remove(x): x not in list"
     ]
    }
   ],
   "source": [
    "a=[1,2,34]\n",
    "a.remove(23)\n",
    "print(a)"
   ]
  },
  {
   "cell_type": "code",
   "execution_count": null,
   "metadata": {},
   "outputs": [],
   "source": []
  }
 ],
 "metadata": {
  "interpreter": {
   "hash": "eb908e2ee61974166e0f6210d6d4eb74d980ad50e61ae905e9364c3983814675"
  },
  "kernelspec": {
   "display_name": "Python 3.7.10 ('newopenmm')",
   "language": "python",
   "name": "python3"
  },
  "language_info": {
   "codemirror_mode": {
    "name": "ipython",
    "version": 3
   },
   "file_extension": ".py",
   "mimetype": "text/x-python",
   "name": "python",
   "nbconvert_exporter": "python",
   "pygments_lexer": "ipython3",
   "version": "3.7.10"
  },
  "orig_nbformat": 4
 },
 "nbformat": 4,
 "nbformat_minor": 2
}
