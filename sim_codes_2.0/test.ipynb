{
 "cells": [
  {
   "cell_type": "code",
   "execution_count": 1,
   "metadata": {},
   "outputs": [],
   "source": [
    "import ActiveMonomerModule as AMM\n",
    "from OpenMiChroM.ChromDynamics import MiChroM\n",
    "import numpy as np"
   ]
  },
  {
   "cell_type": "code",
   "execution_count": 34,
   "metadata": {},
   "outputs": [
    {
     "name": "stdout",
     "output_type": "stream",
     "text": [
      "    ***************************************************************************************     \n",
      "     **** **** *** *** *** *** *** *** OpenMiChroM-1.0.2 *** *** *** *** *** *** **** ****      \n",
      "\n",
      "         OpenMiChroM is a Python library for performing chromatin dynamics simulations.         \n",
      "                            OpenMiChroM uses the OpenMM Python API,                             \n",
      "                employing the MiChroM (Minimal Chromatin Model) energy function.                \n",
      "      The chromatin dynamics simulations generate an ensemble of 3D chromosomal structures      \n",
      "      that are consistent with experimental Hi-C maps, also allows simulations of a single      \n",
      "                 or multiple chromosome chain using High-Performance Computing                  \n",
      "                            in different platforms (GPUs and CPUs).                             \n",
      "         OpenMiChroM documentation is available at https://open-michrom.readthedocs.io          \n",
      "\n",
      "         OpenMiChroM is described in: Oliveira Junior, A. B & Contessoto, V, G et. al.          \n",
      "      A Scalable Computational Approach for Simulating Complexes of Multiple Chromosomes.       \n",
      "                  Journal of Molecular Biology. doi:10.1016/j.jmb.2020.10.034.                  \n",
      "                                              and                                               \n",
      "                                 Oliveira Junior, A. B. et al.                                  \n",
      "     Chromosome Modeling on Downsampled Hi-C Maps Enhances the Compartmentalization Signal.     \n",
      "                        J. Phys. Chem. B, doi:10.1021/acs.jpcb.1c04174.                         \n",
      "\n",
      "                    Copyright (c) 2021, The OpenMiChroM development team at                     \n",
      "                                        Rice University                                         \n",
      "    ***************************************************************************************     \n",
      "\n",
      "        ==================================\n",
      "        ActiveMonomer now set up.\n",
      "        Active correlation time: 1.0\n",
      "        Total number of active particles: 2712\n",
      "        ==================================\n",
      "\n"
     ]
    }
   ],
   "source": [
    "micsim=AMM.ActiveMonomer(time_step=1e-3, collision_rate=10.0, temperature=120.0,\n",
    "        name=\"test\", active_corr_time=1.0, act_seq=np.zeros(2712),\n",
    "        outpath='output/', platform=\"opencl\")\n",
    "\n",
    "# micsim=MiChroM(name='test_int',time_step=0.01)\n",
    "# micsim.setup(platform=\"opencl\")#, integrator=AMM.PersistentBrownianIntegrator(timestep=1e-5, temperature=120, persistent_time=1.0))"
   ]
  },
  {
   "cell_type": "code",
   "execution_count": 35,
   "metadata": {},
   "outputs": [
    {
     "name": "stdout",
     "output_type": "stream",
     "text": [
      "Chains:  [(0, 2711, 0)]\n"
     ]
    }
   ],
   "source": [
    "micsim.saveFolder('output')\n",
    "\n",
    "# Chrom10 = micsim.create_springSpiral(ChromSeq='./inputs/chr10_beads.txt', isRing=False)\n",
    "# Chrom10 = micsim.create_springSpiral(ChromSeq='./inputs/10chrseq.txt', isRing=False)\n",
    "Chrom10=micsim.loadPDB(PDBfiles=['./output/test_int_0_block0.pdb'])\n",
    "micsim.loadStructure(Chrom10, center=True)\n",
    "micsim.saveStructure(mode = 'auto')\n"
   ]
  },
  {
   "cell_type": "code",
   "execution_count": 36,
   "metadata": {},
   "outputs": [],
   "source": [
    "\n",
    "micsim.addFENEBonds(kfb=30.0)\n",
    "# AMM.addNLBonds(micsim, kfb=500)\n",
    "\n",
    "micsim.addAngles(ka=2.0)\n",
    "micsim.addRepulsiveSoftCore(Ecut=4.0)\n",
    "\n",
    "micsim.addTypetoType(mu=3.22, rc = 1.78)\n",
    "# micsim.addIdealChromosome(mu=3.22, rc = 1.78, dinit=3, dend=500)\n",
    "\n",
    "micsim.addFlatBottomHarmonic( kr=5e-3, n_rad=10.0)"
   ]
  },
  {
   "cell_type": "code",
   "execution_count": 37,
   "metadata": {},
   "outputs": [
    {
     "name": "stdout",
     "output_type": "stream",
     "text": [
      "Number of exceptions: 2711\n",
      "adding force  ActiveForce 0\n",
      "adding force  FENEBond 1\n",
      "adding force  AngleForce 2\n",
      "Add exclusions for RepulsiveSoftCore force\n",
      "adding force  RepulsiveSoftCore 3\n",
      "Add exclusions for TypetoType force\n",
      "adding force  TypetoType 4\n",
      "adding force  FlatBottomHarmonic 5\n",
      "Positions... \n",
      " loaded!\n",
      "potential energy is 22.214124\n"
     ]
    },
    {
     "data": {
      "text/plain": [
       "dict_keys(['ActiveForce', 'FENEBond', 'AngleForce', 'RepulsiveSoftCore', 'TypetoType', 'FlatBottomHarmonic'])"
      ]
     },
     "execution_count": 37,
     "metadata": {},
     "output_type": "execute_result"
    }
   ],
   "source": [
    "micsim._applyForces()\n",
    "micsim.forceDict.keys()"
   ]
  },
  {
   "cell_type": "code",
   "execution_count": 43,
   "metadata": {},
   "outputs": [
    {
     "name": "stdout",
     "output_type": "stream",
     "text": [
      "2712\n",
      "[[ 0.10970185 -0.19333424  0.25292894]\n",
      " [ 0.11460591  0.42053416  0.28326887]\n",
      " [ 0.14367613 -0.48211157 -0.16721119]\n",
      " ...\n",
      " [-0.43464434  0.34825233 -0.24998619]\n",
      " [ 0.34940383  0.45790842  0.14756438]\n",
      " [ 0.07570662 -0.1227172  -0.05834418]] nm/ps [[12.19128513 -2.01001382  2.22894859]\n",
      " [12.52663898 -1.07675397  1.73127866]\n",
      " [12.71537495 -0.45446751  1.04130733]\n",
      " ...\n",
      " [ 3.93695927 -5.87342215  0.12627825]\n",
      " [ 4.40241909 -5.11870098 -0.09662075]\n",
      " [ 3.97783232 -4.28608227 -0.20380156]] nm [[ 22.33936501  61.72199631 -32.46146774]\n",
      " [-26.05516815 -67.67240906  41.81381226]\n",
      " [ 19.01429749 -30.5179081  -17.36508179]\n",
      " ...\n",
      " [-39.39321518 -62.73357773   9.15397835]\n",
      " [ 39.37593842  31.20220947 -12.434865  ]\n",
      " [-10.8721714   19.62906456  -2.64211369]] kJ/(nm mol)\n",
      "20.61767434089233 kJ/mol\n"
     ]
    }
   ],
   "source": [
    "print(micsim.N)\n",
    "micsim.state = micsim.context.getState(getPositions=True,getEnergy=True, getForces=True, getVelocities=True)\n",
    "veli = micsim.state.getVelocities(asNumpy=True)#/unit.sqrt(unit.kilojoule_per_mole / mass)\n",
    "forcei=micsim.state.getForces(asNumpy=True)\n",
    "posi=micsim.state.getPositions(asNumpy=True)\n",
    "\n",
    "print(veli,posi,forcei)\n",
    "print(micsim.state.getPotentialEnergy()/micsim.N)"
   ]
  },
  {
   "cell_type": "code",
   "execution_count": 44,
   "metadata": {},
   "outputs": [],
   "source": [
    "\n",
    "micsim.integrator.step(1)\n",
    "\n"
   ]
  },
  {
   "cell_type": "code",
   "execution_count": 45,
   "metadata": {},
   "outputs": [
    {
     "name": "stdout",
     "output_type": "stream",
     "text": [
      "[[ 0.1095922  -0.193141    0.25267613]\n",
      " [ 0.11449136  0.42011383  0.28298575]\n",
      " [ 0.14353253 -0.4816297  -0.16704406]\n",
      " ...\n",
      " [-0.43420991  0.34790424 -0.24973632]\n",
      " [ 0.3490546   0.45745075  0.14741689]\n",
      " [ 0.07563096 -0.12259454 -0.05828587]] nm/ps [[12.18957043 -2.01471949  2.24249363]\n",
      " [12.52686214 -1.09361064  1.74750102]\n",
      " [12.7208786  -0.48611358  1.05269885]\n",
      " ...\n",
      " [ 3.92035866 -5.87270737  0.13906191]\n",
      " [ 4.41171789 -5.0960288  -0.09609292]\n",
      " [ 3.9954102  -4.29791069 -0.19780219]] nm [[ 21.69537544  58.82899094 -31.13884354]\n",
      " [-26.78057861 -68.57273102  45.05411911]\n",
      " [ 13.93460464 -10.96515942 -17.75462723]\n",
      " ...\n",
      " [-20.43791962 -29.55225945  -7.38799953]\n",
      " [ 40.59387207 -64.65264893   6.91961193]\n",
      " [-38.49829483  72.35954285  -9.40611458]] kJ/(nm mol)\n",
      "20.601762709716077 kJ/mol\n",
      "0.9977355141783886 kJ/mol\n"
     ]
    }
   ],
   "source": [
    "micsim.state = micsim.context.getState(getPositions=True,getEnergy=True, getForces=True, getVelocities=True)\n",
    "velf = micsim.state.getVelocities(asNumpy=True)#/unit.sqrt(unit.kilojoule_per_mole / mass)\n",
    "forcef=micsim.state.getForces(asNumpy=True)\n",
    "posf=micsim.state.getPositions(asNumpy=True)\n",
    "\n",
    "print(velf,posf,forcef)\n",
    "print(micsim.state.getPotentialEnergy()/micsim.N)\n",
    "\n",
    "print(micsim.integrator.kT)"
   ]
  },
  {
   "cell_type": "code",
   "execution_count": 49,
   "metadata": {},
   "outputs": [
    {
     "name": "stdout",
     "output_type": "stream",
     "text": [
      "44.56912118097344\n"
     ]
    }
   ],
   "source": [
    "bonds=np.mean(np.linalg.norm(posf[1:,:]-posf[:-1,:], axis=1))\n",
    "fav=np.mean(np.linalg.norm(forcei,axis=1))\n",
    "print(fav)"
   ]
  },
  {
   "cell_type": "code",
   "execution_count": 18,
   "metadata": {},
   "outputs": [
    {
     "name": "stdout",
     "output_type": "stream",
     "text": [
      "Number of exceptions: 2711\n",
      "adding force  ActiveForce 0\n",
      "adding force  FENEBond 1\n",
      "adding force  AngleForce 2\n",
      "Add exclusions for RepulsiveSoftCore force\n",
      "adding force  RepulsiveSoftCore 3\n",
      "Add exclusions for TypetoType force\n",
      "adding force  TypetoType 4\n",
      "adding force  FlatBottomHarmonic 5\n",
      "Positions... \n",
      " loaded!\n",
      "potential energy is 22.208109\n",
      "bl=0 pos[1]=[10.5 -5.3 2.9] eK=1.5333766880991888, eP=nan, trying one more time at step 0 \n",
      "bl=0 pos[1]=[11.8 -2.7 2.0] eK=1.4878519333920999, eP=nan, trying one more time at step 0 \n",
      "bl=0 pos[1]=[12.4 -2.0 2.1] eK=1.4955717103671184, eP=nan, trying one more time at step 0 \n",
      "bl=0 pos[1]=[12.3 -2.0 2.1] eK=1.4970117079473175, eP=nan, trying one more time at step 0 \n",
      "bl=0 pos[1]=[7.8 -22.8 3.8] eK=1.481396880473359, eP=nan, trying one more time at step 0 \n",
      "bl=0 pos[1]=[12.7 -1.2 1.7] eK=1.4974420148011154, eP=nan, trying one more time at step 0 \n",
      "bl=0 pos[1]=[-5.4 -47.2 5.5] eK=1.4784740346722898, eP=nan, trying one more time at step 0 \n",
      "bl=0 pos[1]=[12.2 -2.4 2.5] eK=1.4970061265613477, eP=nan, trying one more time at step 0 \n",
      "bl=0 pos[1]=[12.2 -3.8 2.7] eK=1.5455788581420538, eP=nan, trying one more time at step 0 \n",
      "bl=0 pos[1]=[12.9 1.6 0.9] eK=1.474471910864906, eP=nan, trying one more time at step 0 \n",
      "bl=0 pos[1]=[12.4 -1.7 2.4] eK=1.4925483095962389, eP=nan, trying one more time at step 0 \n",
      "bl=0 pos[1]=[5.7 -28.0 15.3] eK=1.5177360242095317, eP=nan, trying one more time at step 0 \n",
      "bl=0 pos[1]=[12.3 -2.0 2.1] eK=1.476499664396663, eP=nan, trying one more time at step 0 \n",
      "bl=0 pos[1]=[12.2 -4.5 -2.6] eK=1.4734026253399244, eP=nan, trying one more time at step 0 \n",
      "bl=0 pos[1]=[11.2 -4.3 3.0] eK=1.4464471417542404, eP=nan, trying one more time at step 0 \n",
      "bl=0 pos[1]=[12.4 -1.9 2.2] eK=1.485526475934504, eP=nan, trying one more time at step 0 \n",
      "bl=0 pos[1]=[11.2 -3.4 2.8] eK=1.474835601176484, eP=nan, trying one more time at step 0 \n",
      "bl=0 pos[1]=[7.3 -9.2 -2.5] eK=1.4895605576776825, eP=nan, trying one more time at step 0 \n",
      "bl=0 pos[1]=[7.8 -33.6 -5.7] eK=1.4665875730261337, eP=nan, trying one more time at step 0 \n",
      "bl=0 pos[1]=[12.0 -2.6 2.3] eK=1.5101224736126475, eP=nan, trying one more time at step 0 \n",
      "bl=0 pos[1]=[12.1 -3.5 1.9] eK=1.5184769081858407, eP=nan, trying one more time at step 0 \n",
      "bl=0 pos[1]=[12.2 -2.0 2.3] eK=1.5136529703055863, eP=nan, trying one more time at step 0 \n",
      "bl=0 pos[1]=[12.5 -2.6 2.6] eK=1.4751444678742625, eP=nan, trying one more time at step 0 \n",
      "bl=0 pos[1]=[11.6 -3.6 2.4] eK=1.478621041176945, eP=nan, trying one more time at step 0 \n",
      "bl=0 pos[1]=[12.1 -2.6 2.0] eK=1.5323821211283186, eP=nan, trying one more time at step 0 \n",
      "bl=0 pos[1]=[3587.7 -8177.1 -3602.6] eK=1.4924078747234513, eP=nan, trying one more time at step 0 \n",
      "bl=0 pos[1]=[10.9 -9.0 3.4] eK=1.4796443252788531, eP=nan, trying one more time at step 0 \n",
      "bl=0 pos[1]=[12.4 -1.7 2.0] eK=1.460349473981379, eP=nan, trying one more time at step 0 \n",
      "bl=0 pos[1]=[10.9 -7.0 1.0] eK=1.4731418305793695, eP=nan, trying one more time at step 0 \n",
      "bl=0 pos[1]=[12.3 -1.8 2.0] eK=1.5390340529360251, eP=nan, trying one more time at step 0 \n",
      "bl=0 pos[1]=[11.0 -6.4 3.2] eK=1.4716274745344764, eP=nan, trying one more time at step 0 \n",
      "bl=0 pos[1]=[11.2 -5.8 4.2] eK=1.4698623162103612, eP=nan, trying one more time at step 0 \n",
      "bl=0 pos[1]=[12.2 -1.7 2.1] eK=1.4681666551438053, eP=nan, trying one more time at step 0 \n",
      "bl=0 pos[1]=[12.1 -2.5 2.7] eK=1.5456714011223267, eP=nan, trying one more time at step 0 \n",
      "bl=0 pos[1]=[-1357.5 -2506.0 -497.6] eK=1.4642632858591444, eP=nan, trying one more time at step 0 \n",
      "bl=0 pos[1]=[10.8 -4.0 2.8] eK=1.5194505899705015, eP=nan, trying one more time at step 0 \n",
      "bl=0 pos[1]=[11.2 -3.8 3.4] eK=1.4899046231160122, eP=nan, trying one more time at step 0 \n",
      "bl=0 pos[1]=[11.9 -2.4 2.5] eK=1.516687983960177, eP=nan, trying one more time at step 0 \n",
      "bl=0 pos[1]=[12.7 -5.2 -0.6] eK=1.4588705867441003, eP=nan, trying one more time at step 0 \n",
      "bl=0 pos[1]=[2147452.8 2147438.5 -2147437.5] eK=1.4980078052982115, eP=nan, trying one more time at step 0 \n",
      "bl=0 pos[1]=[11.7 -4.2 2.7] eK=1.4910428657644266, eP=nan, trying one more time at step 0 \n",
      "bl=0 pos[1]=[12.3 -1.8 2.2] eK=1.4880947236817847, eP=nan, trying one more time at step 0 \n",
      "bl=0 pos[1]=[11.8 -2.7 2.7] eK=1.4907332788878134, eP=nan, trying one more time at step 0 \n",
      "bl=0 pos[1]=[11.7 -2.7 2.3] eK=1.5069286605249816, eP=nan, trying one more time at step 0 \n",
      "bl=0 pos[1]=[12.4 -1.9 2.2] eK=1.49692051530236, eP=nan, trying one more time at step 0 \n",
      "bl=0 pos[1]=[11.0 -5.2 1.9] eK=1.4809744055643896, eP=nan, trying one more time at step 0 \n",
      "bl=0 pos[1]=[12.0 -2.8 1.8] eK=1.4933924492129886, eP=nan, trying one more time at step 0 \n",
      "bl=0 pos[1]=[12.1 -1.9 2.0] eK=1.5018470786665745, eP=nan, trying one more time at step 0 \n",
      "bl=0 pos[1]=[12.0 -3.8 1.9] eK=1.494961268782264, eP=nan, trying one more time at step 0 \n",
      "bl=0 pos[1]=[11.7 -4.8 2.8] eK=1.5128073003088127, eP=nan, trying one more time at step 0 \n",
      "bl=0 pos[1]=[12.4 -2.1 2.2] eK=1.5129761822455752, eP=nan, trying one more time at step 0 \n",
      "bl=0 pos[1]=[-145.9 -337.7 -133.2] eK=1.4720921699276364, eP=nan, trying one more time at step 0 \n",
      "bl=0 pos[1]=[12.1 -2.4 1.7] eK=1.515740948792404, eP=nan, trying one more time at step 0 \n",
      "bl=0 pos[1]=[12.3 -1.9 2.1] eK=1.4468490915664178, eP=nan, trying one more time at step 0 \n",
      "bl=0 pos[1]=[44129.3 -158630.5 -434119.8] eK=1.5275875305355826, eP=nan, trying one more time at step 0 \n",
      "bl=0 pos[1]=[7.0 -6.4 1.6] eK=1.5259068131798488, eP=nan, trying one more time at step 0 \n",
      "bl=0 pos[1]=[12.3 -2.0 1.9] eK=1.513785483211191, eP=nan, trying one more time at step 0 \n",
      "bl=0 pos[1]=[-54.4 -34.4 -175.5] eK=1.4759763644508204, eP=nan, trying one more time at step 0 \n",
      "bl=0 pos[1]=[11.6 -2.7 2.0] eK=1.5031741882144174, eP=nan, trying one more time at step 0 \n",
      "bl=0 pos[1]=[12.5 -2.9 1.4] eK=1.4879010855975756, eP=nan, trying one more time at step 0 \n",
      "bl=0 pos[1]=[12.2 -5.7 4.0] eK=1.516092756153208, eP=nan, trying one more time at step 0 \n",
      "bl=0 pos[1]=[12.0 -2.8 2.4] eK=1.564610304030697, eP=nan, trying one more time at step 0 \n",
      "bl=0 pos[1]=[15.9 -6.2 -0.9] eK=1.5504780547105457, eP=nan, trying one more time at step 0 \n",
      "bl=0 pos[1]=[14.0 -5.9 3.3] eK=1.494883309423396, eP=nan, trying one more time at step 0 \n",
      "bl=0 pos[1]=[12.1 -2.6 2.0] eK=1.5162085249009034, eP=nan, trying one more time at step 0 \n",
      "bl=0 pos[1]=[12.5 -2.3 1.0] eK=1.5180548833886431, eP=nan, trying one more time at step 0 \n",
      "bl=0 pos[1]=[12.5 -2.1 1.9] eK=1.4986289595432338, eP=nan, trying one more time at step 0 \n",
      "bl=0 pos[1]=[12.2 -2.4 2.3] eK=1.4873584308455476, eP=nan, trying one more time at step 0 \n",
      "bl=0 pos[1]=[-24.1 -104.0 20.6] eK=1.4691519498121774, eP=nan, trying one more time at step 0 \n",
      "bl=0 pos[1]=[10.9 -23.5 1.0] eK=1.5434901594764012, eP=nan, trying one more time at step 0 \n",
      "bl=0 pos[1]=[12.1 -3.5 3.5] eK=1.4777150562027563, eP=nan, trying one more time at step 0 \n",
      "bl=0 pos[1]=[12.6 -2.4 2.2] eK=1.4628937757824023, eP=nan, trying one more time at step 0 \n",
      "bl=0 pos[1]=[12.1 -3.9 3.2] eK=1.5336948270994653, eP=nan, trying one more time at step 0 \n",
      "bl=0 pos[1]=[11.9 -2.3 2.5] eK=1.4905858222713864, eP=nan, trying one more time at step 0 \n",
      "bl=0 pos[1]=[12.1 -2.5 2.2] eK=1.5463181217159845, eP=nan, trying one more time at step 0 \n",
      "bl=0 pos[1]=[12.2 -1.9 2.0] eK=1.5027181349672751, eP=nan, trying one more time at step 0 \n",
      "bl=0 pos[1]=[11.8 -3.5 3.1] eK=1.4829486858176621, eP=nan, trying one more time at step 0 \n",
      "bl=0 pos[1]=[10.3 -22.3 2.0] eK=1.513966248098728, eP=nan, trying one more time at step 0 \n",
      "bl=0 pos[1]=[12.4 -1.9 1.9] eK=1.4874598860389012, eP=nan, trying one more time at step 0 \n",
      "bl=0 pos[1]=[12.1 -2.5 2.4] eK=1.4798376032736449, eP=nan, trying one more time at step 0 \n",
      "bl=0 pos[1]=[12.2 -7.5 0.1] eK=1.474449315253964, eP=nan, trying one more time at step 0 \n",
      "bl=0 pos[1]=[12.4 -2.2 1.2] eK=1.495440097685057, eP=nan, trying one more time at step 0 \n",
      "bl=0 pos[1]=[212.8 -425.5 -214.5] eK=1.5115619310587205, eP=nan, trying one more time at step 0 \n",
      "bl=0 pos[1]=[12.3 -1.5 1.6] eK=1.490242296967183, eP=nan, trying one more time at step 0 \n",
      "bl=0 pos[1]=[12.2 -2.6 1.8] eK=1.4924938460718566, eP=nan, trying one more time at step 0 \n",
      "bl=0 pos[1]=[13.8 -17.7 -2.7] eK=1.4632571960269174, eP=nan, trying one more time at step 0 \n",
      "bl=0 pos[1]=[-6.3 -77.3 13.0] eK=1.4842455478544432, eP=nan, trying one more time at step 0 \n",
      "bl=0 pos[1]=[8.4 -8.9 0.9] eK=1.4924161567800516, eP=nan, trying one more time at step 0 \n",
      "bl=0 pos[1]=[12.5 -2.4 2.4] eK=1.4703016252995944, eP=nan, trying one more time at step 0 \n",
      "bl=0 pos[1]=[12.1 -2.8 2.3] eK=1.4792179794086466, eP=nan, trying one more time at step 0 \n",
      "bl=0 pos[1]=[12.1 -2.0 2.1] eK=1.5384438663808997, eP=nan, trying one more time at step 0 \n",
      "bl=0 pos[1]=[11.8 -2.7 2.2] eK=1.4730602703263274, eP=nan, trying one more time at step 0 \n",
      "bl=0 pos[1]=[10.5 -6.1 3.3] eK=1.4712580227922198, eP=nan, trying one more time at step 0 \n",
      "bl=0 pos[1]=[12.2 -1.8 2.1] eK=1.5348667381084071, eP=nan, trying one more time at step 0 \n",
      "bl=0 pos[1]=[12.5 -2.0 2.1] eK=1.4979911511626567, eP=nan, trying one more time at step 0 \n",
      "bl=0 pos[1]=[9.3 48.9 -116.8] eK=1.4780980112981656, eP=nan, trying one more time at step 0 \n",
      "bl=0 pos[1]=[12.4 -1.9 2.1] eK=1.4562037645188053, eP=nan, trying one more time at step 0 \n",
      "bl=0 pos[1]=[12.1 -1.9 2.1] eK=1.49872240274705, eP=nan, trying one more time at step 0 \n",
      "bl=0 pos[1]=[14.6 -8.3 -0.7] eK=1.4819977796886523, eP=nan, trying one more time at step 0 \n",
      "bl=0 pos[1]=[12.3 -3.1 2.3] eK=1.5259294988131453, eP=nan, trying one more time at step 0 \n",
      "bl=0 pos[1]=[12.2 -2.7 1.9] eK=1.4977256752396755, eP=nan, trying one more time at step 0 \n",
      "bl=0 pos[1]=[11.8 -2.4 2.1] eK=1.4938076323112555, eP=nan, trying one more time at step 0 \n",
      "bl=0 pos[1]=[11.9 -2.3 2.5] eK=1.4793494120459993, eP=nan, trying one more time at step 0 \n",
      "bl=0 pos[1]=[12.5 -18.1 -11.0] eK=1.469892203632006, eP=nan, trying one more time at step 0 \n",
      "bl=0 pos[1]=[-538731.7 82783.9 -1311061.4] eK=1.4714094403922382, eP=nan, trying one more time at step 0 \n",
      "bl=0 pos[1]=[12.2 -2.5 1.4] eK=1.531049430194506, eP=nan, trying one more time at step 0 \n",
      "bl=0 pos[1]=[12.3 -2.0 2.2] eK=1.5199444526064712, eP=nan, trying one more time at step 0 \n",
      "bl=0 pos[1]=[11.9 -2.3 2.5] eK=1.5029619155028577, eP=nan, trying one more time at step 0 \n",
      "bl=0 pos[1]=[11.3 -4.6 2.8] eK=1.4961471332561302, eP=nan, trying one more time at step 0 \n",
      "bl=0 pos[1]=[12.2 -3.2 2.1] eK=1.4790020157805586, eP=nan, trying one more time at step 0 \n",
      "bl=0 pos[1]=[11.5 -3.4 2.6] eK=1.4812135949599003, eP=nan, trying one more time at step 0 \n",
      "bl=0 pos[1]=[12.1 -1.8 2.2] eK=1.518825474741888, eP=nan, trying one more time at step 0 \n",
      "bl=0 pos[1]=[12.4 -2.3 2.3] eK=1.4667266575636062, eP=nan, trying one more time at step 0 \n",
      "bl=0 pos[1]=[12.2 -4.3 1.4] eK=1.4649575382558997, eP=nan, trying one more time at step 0 \n",
      "bl=0 pos[1]=[12.2 -1.9 2.0] eK=1.461591422382006, eP=nan, trying one more time at step 0 \n",
      "bl=0 pos[1]=[11.4 -3.8 3.1] eK=1.4555788293349003, eP=nan, trying one more time at step 0 \n",
      "bl=0 pos[1]=[12.5 -2.8 1.8] eK=1.489998966543372, eP=nan, trying one more time at step 0 \n",
      "bl=0 pos[1]=[-1219.8 -2213.4 -2407.2] eK=1.4984288398495114, eP=nan, trying one more time at step 0 \n",
      "bl=0 pos[1]=[17.7 56.6 7.5] eK=1.5052171555240597, eP=nan, trying one more time at step 0 \n",
      "bl=0 pos[1]=[12.1 -2.4 2.2] eK=1.4982541964820704, eP=nan, trying one more time at step 0 \n",
      "bl=0 pos[1]=[-31.3 -97.5 13.7] eK=1.499268118259126, eP=nan, trying one more time at step 0 \n",
      "bl=0 pos[1]=[12.3 -2.2 2.0] eK=1.4990025523137906, eP=nan, trying one more time at step 0 \n",
      "bl=0 pos[1]=[12.5 -1.8 2.0] eK=1.4789650165929202, eP=nan, trying one more time at step 0 \n",
      "bl=0 pos[1]=[12.1 -2.4 2.3] eK=1.4560928569782448, eP=nan, trying one more time at step 0 \n",
      "bl=0 pos[1]=[11.9 -3.5 3.0] eK=1.4755999809872788, eP=nan, trying one more time at step 0 \n",
      "bl=0 pos[1]=[-1216286.0 -85287.7 -469794.2] eK=1.4646221149635876, eP=nan, trying one more time at step 0 \n",
      "bl=0 pos[1]=[12.4 -1.5 1.8] eK=1.5598718873870758, eP=nan, trying one more time at step 0 \n",
      "bl=0 pos[1]=[-870210.1 -1565755.4 -1404324.0] eK=1.4985840383884126, eP=nan, trying one more time at step 0 \n",
      "bl=0 pos[1]=[12.6 -2.7 2.3] eK=1.524110687165837, eP=nan, trying one more time at step 0 \n",
      "bl=0 pos[1]=[12.4 -1.6 1.8] eK=1.5218062949391593, eP=nan, trying one more time at step 0 \n",
      "bl=0 pos[1]=[-633.6 -2086.1 -303.1] eK=1.4767339925850387, eP=nan, trying one more time at step 0 \n",
      "bl=0 pos[1]=[20.3 -65.8 8.1] eK=1.489494031157817, eP=nan, trying one more time at step 0 \n",
      "bl=0 pos[1]=[12.5 -4.3 3.4] eK=1.4918486558582227, eP=nan, trying one more time at step 0 \n",
      "bl=0 pos[1]=[12.2 -1.8 2.1] eK=1.4895266192500922, eP=nan, trying one more time at step 0 \n",
      "bl=0 pos[1]=[12.2 -2.4 2.4] eK=1.4760720582134956, eP=nan, trying one more time at step 0 \n",
      "bl=0 pos[1]=[12.1 -2.8 2.0] eK=1.5002455809826696, eP=nan, trying one more time at step 0 \n",
      "bl=0 pos[1]=[12.0 -2.2 2.1] eK=1.545913561255531, eP=nan, trying one more time at step 0 \n",
      "bl=0 pos[1]=[12.2 -2.4 2.6] eK=1.5268677117901917, eP=nan, trying one more time at step 0 \n",
      "bl=0 pos[1]=[12.4 -1.8 2.0] eK=1.5058753989790745, eP=nan, trying one more time at step 0 \n",
      "bl=0 pos[1]=[11.6 -4.8 1.7] eK=1.4965070426288256, eP=nan, trying one more time at step 0 \n",
      "bl=0 pos[1]=[12.3 -2.4 2.1] eK=1.4938016908358684, eP=nan, trying one more time at step 0 \n",
      "bl=0 pos[1]=[12.1 -1.9 2.4] eK=1.497360094458656, eP=nan, trying one more time at step 0 \n",
      "bl=0 pos[1]=[12.2 -2.1 2.2] eK=1.4710755474799502, eP=nan, trying one more time at step 0 \n",
      "bl=0 pos[1]=[6.2 -12.8 4.8] eK=1.4927835380081582, eP=nan, trying one more time at step 0 \n",
      "bl=0 pos[1]=[12.2 -2.4 2.3] eK=1.4698470124101217, eP=nan, trying one more time at step 0 \n",
      "bl=0 pos[1]=[12.2 -1.8 2.1] eK=1.465330230802913, eP=nan, trying one more time at step 0 \n",
      "bl=0 pos[1]=[23.5 33.3 -78.5] eK=1.4897331305309733, eP=nan, trying one more time at step 0 \n",
      "bl=0 pos[1]=[12.2 -2.9 2.7] eK=1.5117875270787242, eP=nan, trying one more time at step 0 \n",
      "bl=0 pos[1]=[12.0 -5.5 -0.6] eK=1.5301337228060472, eP=nan, trying one more time at step 0 \n",
      "bl=0 pos[1]=[12.6 -0.6 1.5] eK=1.5471931390002764, eP=nan, trying one more time at step 0 \n",
      "bl=0 pos[1]=[10.5 -6.3 1.5] eK=1.5356906226954277, eP=nan, trying one more time at step 0 \n",
      "bl=0 pos[1]=[-1208.0 -1797.8 324.2] eK=1.567886217505531, eP=nan, trying one more time at step 0 \n",
      "bl=0 pos[1]=[-118.2 -2341.8 -553.7] eK=1.4606422266777286, eP=nan, trying one more time at step 0 \n",
      "bl=0 pos[1]=[12.2 -1.9 1.9] eK=1.5273513118777655, eP=nan, trying one more time at step 0 \n",
      "bl=0 pos[1]=[-124.2 -149.7 -281.0] eK=1.469876809809412, eP=nan, trying one more time at step 0 \n",
      "bl=0 pos[1]=[12.3 -2.1 1.6] eK=1.510882982462205, eP=nan, trying one more time at step 0 \n",
      "bl=0 pos[1]=[12.4 -1.6 1.8] eK=1.5083383205717644, eP=nan, trying one more time at step 0 \n",
      "bl=0 pos[1]=[11.9 -3.2 2.2] eK=1.496817169639565, eP=nan, trying one more time at step 0 \n",
      "bl=0 pos[1]=[12.3 -1.8 1.9] eK=1.455250967920354, eP=nan, trying one more time at step 0 \n",
      "bl=0 pos[1]=[9.3 -18.7 7.2] eK=1.4924239887248802, eP=nan, trying one more time at step 0 \n",
      "bl=0 pos[1]=[12.1 -1.8 2.3] eK=1.4805335660951326, eP=nan, trying one more time at step 0 \n",
      "bl=0 pos[1]=[11.9 -3.3 1.7] eK=1.4891984877684827, eP=nan, trying one more time at step 0 \n",
      "bl=0 pos[1]=[12.1 -2.3 2.4] eK=1.4843967854097528, eP=nan, trying one more time at step 0 \n",
      "bl=0 pos[1]=[12.4 -2.6 2.4] eK=1.505016945807983, eP=nan, trying one more time at step 0 \n",
      "bl=0 pos[1]=[12.1 -3.4 2.7] eK=1.4806652687995483, eP=nan, trying one more time at step 0 \n",
      "bl=0 pos[1]=[12.0 -2.4 2.5] eK=1.4797157130058536, eP=nan, trying one more time at step 0 \n",
      "bl=0 pos[1]=[11.4 -4.0 -1.7] eK=1.497377288728337, eP=nan, trying one more time at step 0 \n",
      "bl=0 pos[1]=[13.1 0.3 -1.1] eK=1.444061279296875, eP=nan, trying one more time at step 0 \n",
      "bl=0 pos[1]=[12.5 -2.0 1.9] eK=1.5124176835591814, eP=nan, trying one more time at step 0 \n",
      "bl=0 pos[1]=[12.2 -2.0 2.0] eK=1.5524596267745205, eP=nan, trying one more time at step 0 \n",
      "bl=0 pos[1]=[10.5 -6.5 2.5] eK=1.4414743068998894, eP=nan, trying one more time at step 0 \n",
      "bl=0 pos[1]=[21.1 -17.5 -41.2] eK=1.4957855134587021, eP=nan, trying one more time at step 0 \n",
      "bl=0 pos[1]=[11.7 -4.1 3.3] eK=1.484217280835177, eP=nan, trying one more time at step 0 \n",
      "bl=0 pos[1]=[11.7 -2.6 2.1] eK=1.4700382198907633, eP=nan, trying one more time at step 0 \n",
      "bl=0 pos[1]=[983.1 -4756.1 -844.1] eK=1.4888303863615413, eP=nan, trying one more time at step 0 \n",
      "bl=0 pos[1]=[12.0 -2.2 2.4] eK=1.5056042516477692, eP=nan, trying one more time at step 0 \n",
      "bl=0 pos[1]=[12.3 -2.4 2.6] eK=1.4647722722506453, eP=nan, trying one more time at step 0 \n",
      "bl=0 pos[1]=[12.1 -2.6 2.3] eK=1.4889773028438422, eP=nan, trying one more time at step 0 \n",
      "bl=0 pos[1]=[12.1 -2.6 2.2] eK=1.545010096907264, eP=nan, trying one more time at step 0 \n",
      "bl=0 pos[1]=[12.6 -1.8 2.1] eK=1.508093819857347, eP=nan, trying one more time at step 0 \n",
      "bl=0 pos[1]=[12.4 -3.2 2.4] eK=1.491572287230365, eP=nan, trying one more time at step 0 \n",
      "bl=0 pos[1]=[12.2 -2.0 2.1] eK=1.5162882847068584, eP=nan, trying one more time at step 0 \n",
      "bl=0 pos[1]=[4.1 -17.9 4.4] eK=1.472239266454646, eP=nan, trying one more time at step 0 \n",
      "bl=0 pos[1]=[142.5 857.5 -1190.1] eK=1.4586802794870022, eP=nan, trying one more time at step 0 \n",
      "bl=0 pos[1]=[11.6 -3.0 2.2] eK=1.460360996842736, eP=nan, trying one more time at step 0 \n",
      "bl=0 pos[1]=[12.2 -2.4 2.6] eK=1.4988212472921276, eP=nan, trying one more time at step 0 \n",
      "bl=0 pos[1]=[11.4 -3.0 2.8] eK=1.5287628623939897, eP=nan, trying one more time at step 0 \n",
      "bl=0 pos[1]=[11.7 -2.7 2.0] eK=1.4965535841860251, eP=nan, trying one more time at step 0 \n",
      "bl=0 pos[1]=[12.3 -2.4 2.0] eK=1.4928353908842644, eP=nan, trying one more time at step 0 \n",
      "bl=0 pos[1]=[12.4 -9.2 2.3] eK=1.5128109012029867, eP=nan, trying one more time at step 0 \n",
      "bl=0 pos[1]=[7.8 -22.3 -1.1] eK=1.5148518880208333, eP=nan, trying one more time at step 0 \n",
      "bl=0 pos[1]=[12.1 -2.8 2.7] eK=1.4905849220478429, eP=nan, trying one more time at step 0 \n",
      "bl=0 pos[1]=[11.9 -3.2 2.1] eK=1.5135760912149705, eP=nan, trying one more time at step 0 \n",
      "bl=0 pos[1]=[12.3 -2.4 2.3] eK=1.5594774094303097, eP=nan, trying one more time at step 0 \n",
      "bl=0 pos[1]=[11.1 -6.6 1.9] eK=1.4858894460672474, eP=nan, trying one more time at step 0 \n",
      "bl=0 pos[1]=[12.1 -2.1 2.0] eK=1.483649239779222, eP=nan, trying one more time at step 0 \n",
      "bl=0 pos[1]=[-38017.6 -71340.7 -130826.4] eK=1.519834085200037, eP=nan, trying one more time at step 0 \n",
      "bl=0 pos[1]=[11.8 -2.6 2.1] eK=1.535252393874447, eP=nan, trying one more time at step 0 \n",
      "bl=0 pos[1]=[422.6 -461.0 -126.8] eK=1.503606745627074, eP=nan, trying one more time at step 0 \n",
      "bl=0 pos[1]=[11.0 -4.6 3.6] eK=1.49959841027724, eP=nan, trying one more time at step 0 \n",
      "bl=0 pos[1]=[12.2 -2.0 2.1] eK=1.4870891739836836, eP=nan, trying one more time at step 0 \n",
      "bl=0 pos[1]=[12.2 -4.3 2.0] eK=1.4913135629839602, eP=nan, trying one more time at step 0 \n",
      "bl=0 pos[1]=[0.9 -44.4 6.7] eK=1.462726244180955, eP=nan, trying one more time at step 0 \n",
      "bl=0 pos[1]=[-83.8 -250.5 -10.7] eK=1.4739143124020557, eP=nan, trying one more time at step 0 \n",
      "bl=0 pos[1]=[11.9 -2.6 2.7] eK=1.4896643534522493, eP=nan, trying one more time at step 0 \n",
      "bl=0 pos[1]=[12.5 -2.4 2.3] eK=1.492768864364399, eP=nan, trying one more time at step 0 \n",
      "bl=0 pos[1]=[8.0 -33.6 1.8] eK=1.469386548067616, eP=nan, trying one more time at step 0 \n",
      "bl=0 pos[1]=[12.2 -2.0 2.2] eK=1.491361184809412, eP=nan, trying one more time at step 0 \n",
      "bl=0 pos[1]=[9.1 -5.3 2.6] eK=1.482021275523138, eP=nan, trying one more time at step 0 \n",
      "bl=0 pos[1]=[-97850.7 -381675.6 -96578.4] eK=1.509452527251567, eP=nan, trying one more time at step 0 \n",
      "bl=0 pos[1]=[12.5 -2.0 2.3] eK=1.480670580118455, eP=nan, trying one more time at step 0 \n",
      "bl=0 pos[1]=[12.3 -1.8 1.4] eK=1.50241367936486, eP=nan, trying one more time at step 0 \n",
      "bl=0 pos[1]=[12.3 -1.8 2.1] eK=1.5330129977876106, eP=nan, trying one more time at step 0 \n",
      "bl=0 pos[1]=[11.9 -2.5 2.4] eK=1.4989853580441095, eP=nan, trying one more time at step 0 \n",
      "bl=0 pos[1]=[12.4 -1.9 2.0] eK=1.5249394329599926, eP=nan, trying one more time at step 0 \n",
      "bl=0 pos[1]=[12.1 -2.1 2.0] eK=1.5398248092966444, eP=nan, trying one more time at step 0 \n",
      "bl=0 pos[1]=[12.4 -1.9 2.0] eK=1.4836741759713772, eP=nan, trying one more time at step 0 \n",
      "bl=0 pos[1]=[12.2 -2.4 2.5] eK=1.5061834554756637, eP=nan, trying one more time at step 0 \n",
      "bl=0 pos[1]=[11.9 -3.0 2.5] eK=1.479616058259587, eP=nan, trying one more time at step 0 \n",
      "bl=0 pos[1]=[10.9 -5.6 3.9] eK=1.4730001353936208, eP=nan, trying one more time at step 0 \n",
      "bl=0 pos[1]=[12.3 -2.0 2.1] eK=1.4787883927336836, eP=nan, trying one more time at step 0 \n",
      "bl=0 pos[1]=[12.4 -2.1 2.1] eK=1.5217765875622233, eP=nan, trying one more time at step 0 \n",
      "bl=0 pos[1]=[9.6 -6.9 -3.4] eK=1.5404339005461836, eP=nan, trying one more time at step 0 \n",
      "bl=0 pos[1]=[12.4 -2.0 2.3] eK=1.4665005214094764, eP=nan, trying one more time at step 0 \n",
      "bl=0 pos[1]=[12.2 -2.5 2.1] eK=1.5461731857254792, eP=nan, trying one more time at step 0 \n",
      "bl=0 pos[1]=[12.1 -2.7 2.1] eK=1.487754529204692, eP=nan, trying one more time at step 0 \n",
      "bl=0 pos[1]=[11.9 -3.3 2.3] eK=1.4657776419040376, eP=nan, trying one more time at step 0 \n",
      "bl=0 pos[1]=[12.4 -1.7 2.2] eK=1.4860674202617994, eP=nan, trying one more time at step 0 \n",
      "bl=0 pos[1]=[11.6 -4.6 2.3] eK=1.5095344475940264, eP=nan, trying one more time at step 0 \n",
      "bl=0 pos[1]=[12.5 -1.8 2.0] eK=1.4852493871278116, eP=nan, trying one more time at step 0 \n",
      "bl=0 pos[1]=[11.9 -2.5 2.3] eK=1.500536983343704, eP=nan, trying one more time at step 0 \n",
      "bl=0 pos[1]=[11.9 -2.3 2.1] eK=1.4861538417219764, eP=nan, trying one more time at step 0 \n",
      "bl=0 pos[1]=[12.3 -1.8 2.2] eK=1.438346300153254, eP=nan, trying one more time at step 0 \n",
      "bl=0 pos[1]=[12.4 -2.1 2.0] eK=1.5200024270026733, eP=nan, trying one more time at step 0 \n",
      "bl=0 pos[1]=[11.8 -2.9 2.8] eK=1.5247185181024152, eP=nan, trying one more time at step 0 \n",
      "bl=0 pos[1]=[11.5 -3.5 2.0] eK=1.5257388314666298, eP=nan, trying one more time at step 0 \n",
      "bl=0 pos[1]=[12.2 -1.9 2.2] eK=1.4932332896904958, eP=nan, trying one more time at step 0 \n",
      "bl=0 pos[1]=[12.5 -2.7 2.5] eK=1.486516901877074, eP=nan, trying one more time at step 0 \n",
      "bl=0 pos[1]=[-46.8 -186.7 -99.1] eK=1.4960828572951235, eP=nan, trying one more time at step 0 \n",
      "bl=0 pos[1]=[12.7 -10.6 4.0] eK=1.514050689067109, eP=nan, trying one more time at step 0 \n",
      "bl=0 pos[1]=[12.2 -2.2 2.7] eK=1.5321777703839417, eP=nan, trying one more time at step 0 \n",
      "bl=0 pos[1]=[11.5 -3.9 -1.8] eK=1.473498409124954, eP=nan, trying one more time at step 0 \n",
      "bl=0 pos[1]=[12.2 -2.3 2.1] eK=1.4978058851574023, eP=nan, trying one more time at step 0 \n",
      "bl=0 pos[1]=[12.8 -7.8 4.1] eK=1.5211183441072087, eP=nan, trying one more time at step 0 \n",
      "bl=0 pos[1]=[11.9 -9.7 1.7] eK=1.5054741693457319, eP=nan, trying one more time at step 0 \n",
      "bl=0 pos[1]=[-34.5 -366.9 50.0] eK=1.4888797186117257, eP=nan, trying one more time at step 0 \n",
      "bl=0 pos[1]=[12.0 -2.6 2.3] eK=1.461081625789316, eP=nan, trying one more time at step 0 \n",
      "bl=0 pos[1]=[11.3 -4.9 3.3] eK=1.4943944880392699, eP=nan, trying one more time at step 0 \n",
      "bl=0 pos[1]=[292.7 -22.9 -382.3] eK=1.4717723205026272, eP=nan, trying one more time at step 0 \n",
      "bl=0 pos[1]=[-6.7 -26.3 -56.3] eK=1.4884364485389012, eP=nan, trying one more time at step 0 \n",
      "bl=0 pos[1]=[12.2 -1.9 2.2] eK=1.5035933322962758, eP=nan, trying one more time at step 0 \n",
      "bl=0 pos[1]=[12.2 -1.8 2.3] eK=1.5052940346146755, eP=nan, trying one more time at step 0 \n",
      "bl=0 pos[1]=[11.6 -4.1 2.4] eK=1.501007080078125, eP=nan, trying one more time at step 0 \n",
      "bl=0 pos[1]=[12.2 -2.7 2.1] eK=1.4983019083298765, eP=nan, trying one more time at step 0 \n",
      "bl=0 pos[1]=[11.7 -3.8 2.2] eK=1.4660884890936117, eP=nan, trying one more time at step 0 \n",
      "bl=0 pos[1]=[11.4 -4.9 2.1] eK=1.4996654769312316, eP=nan, trying one more time at step 0 \n",
      "bl=0 "
     ]
    },
    {
     "ename": "KeyboardInterrupt",
     "evalue": "",
     "output_type": "error",
     "traceback": [
      "\u001b[0;31m---------------------------------------------------------------------------\u001b[0m",
      "\u001b[0;31mKeyboardInterrupt\u001b[0m                         Traceback (most recent call last)",
      "\u001b[0;32m<ipython-input-18-7a521872e1e3>\u001b[0m in \u001b[0;36m<module>\u001b[0;34m\u001b[0m\n\u001b[1;32m      1\u001b[0m \u001b[0;32mfor\u001b[0m \u001b[0m_\u001b[0m \u001b[0;32min\u001b[0m \u001b[0mrange\u001b[0m\u001b[0;34m(\u001b[0m\u001b[0;36m50\u001b[0m\u001b[0;34m)\u001b[0m\u001b[0;34m:\u001b[0m\u001b[0;34m\u001b[0m\u001b[0;34m\u001b[0m\u001b[0m\n\u001b[0;32m----> 2\u001b[0;31m     \u001b[0mmicsim\u001b[0m\u001b[0;34m.\u001b[0m\u001b[0mrunSimBlock\u001b[0m\u001b[0;34m(\u001b[0m\u001b[0;36m10\u001b[0m\u001b[0;34m,\u001b[0m \u001b[0mincrement\u001b[0m\u001b[0;34m=\u001b[0m\u001b[0;32mFalse\u001b[0m\u001b[0;34m)\u001b[0m\u001b[0;34m\u001b[0m\u001b[0;34m\u001b[0m\u001b[0m\n\u001b[0m\u001b[1;32m      3\u001b[0m \u001b[0;34m\u001b[0m\u001b[0m\n\u001b[1;32m      4\u001b[0m \u001b[0mmicsim\u001b[0m\u001b[0;34m.\u001b[0m\u001b[0msaveStructure\u001b[0m\u001b[0;34m(\u001b[0m\u001b[0mmode\u001b[0m \u001b[0;34m=\u001b[0m \u001b[0;34m'pdb'\u001b[0m\u001b[0;34m)\u001b[0m\u001b[0;34m\u001b[0m\u001b[0;34m\u001b[0m\u001b[0m\n",
      "\u001b[0;32m~/anaconda3/envs/newopenmm/lib/python3.7/site-packages/OpenMiChroM/ChromDynamics.py\u001b[0m in \u001b[0;36mrunSimBlock\u001b[0;34m(self, steps, increment, num)\u001b[0m\n\u001b[1;32m   1480\u001b[0m                 \u001b[0;32mif\u001b[0m \u001b[0mself\u001b[0m\u001b[0;34m.\u001b[0m\u001b[0mverbose\u001b[0m\u001b[0;34m:\u001b[0m\u001b[0;34m\u001b[0m\u001b[0;34m\u001b[0m\u001b[0m\n\u001b[1;32m   1481\u001b[0m                     \u001b[0mprint\u001b[0m\u001b[0;34m(\u001b[0m\u001b[0;34m\"performing integration\"\u001b[0m\u001b[0;34m)\u001b[0m\u001b[0;34m\u001b[0m\u001b[0;34m\u001b[0m\u001b[0m\n\u001b[0;32m-> 1482\u001b[0;31m                 \u001b[0mself\u001b[0m\u001b[0;34m.\u001b[0m\u001b[0mintegrator\u001b[0m\u001b[0;34m.\u001b[0m\u001b[0mstep\u001b[0m\u001b[0;34m(\u001b[0m\u001b[0mnum\u001b[0m\u001b[0;34m)\u001b[0m  \u001b[0;31m# integrate!\u001b[0m\u001b[0;34m\u001b[0m\u001b[0;34m\u001b[0m\u001b[0m\n\u001b[0m\u001b[1;32m   1483\u001b[0m                 \u001b[0mstdout\u001b[0m\u001b[0;34m.\u001b[0m\u001b[0mflush\u001b[0m\u001b[0;34m(\u001b[0m\u001b[0;34m)\u001b[0m\u001b[0;34m\u001b[0m\u001b[0;34m\u001b[0m\u001b[0m\n\u001b[1;32m   1484\u001b[0m             \u001b[0;32mif\u001b[0m \u001b[0;34m(\u001b[0m\u001b[0msteps\u001b[0m \u001b[0;34m%\u001b[0m \u001b[0mnum\u001b[0m\u001b[0;34m)\u001b[0m \u001b[0;34m>\u001b[0m \u001b[0;36m0\u001b[0m\u001b[0;34m:\u001b[0m\u001b[0;34m\u001b[0m\u001b[0;34m\u001b[0m\u001b[0m\n",
      "\u001b[0;32m~/anaconda3/envs/newopenmm/lib/python3.7/site-packages/simtk/openmm/openmm.py\u001b[0m in \u001b[0;36mstep\u001b[0;34m(self, steps)\u001b[0m\n\u001b[1;32m  13777\u001b[0m             \u001b[0mthe\u001b[0m \u001b[0mnumber\u001b[0m \u001b[0mof\u001b[0m \u001b[0mtime\u001b[0m \u001b[0msteps\u001b[0m \u001b[0mto\u001b[0m \u001b[0mtake\u001b[0m\u001b[0;34m\u001b[0m\u001b[0;34m\u001b[0m\u001b[0m\n\u001b[1;32m  13778\u001b[0m         \"\"\"\n\u001b[0;32m> 13779\u001b[0;31m         \u001b[0;32mreturn\u001b[0m \u001b[0m_openmm\u001b[0m\u001b[0;34m.\u001b[0m\u001b[0mCustomIntegrator_step\u001b[0m\u001b[0;34m(\u001b[0m\u001b[0mself\u001b[0m\u001b[0;34m,\u001b[0m \u001b[0msteps\u001b[0m\u001b[0;34m)\u001b[0m\u001b[0;34m\u001b[0m\u001b[0;34m\u001b[0m\u001b[0m\n\u001b[0m\u001b[1;32m  13780\u001b[0m \u001b[0;34m\u001b[0m\u001b[0m\n\u001b[1;32m  13781\u001b[0m     \u001b[0;32mdef\u001b[0m \u001b[0mgetPerDofVariable\u001b[0m\u001b[0;34m(\u001b[0m\u001b[0mself\u001b[0m\u001b[0;34m,\u001b[0m \u001b[0;34m*\u001b[0m\u001b[0margs\u001b[0m\u001b[0;34m)\u001b[0m\u001b[0;34m:\u001b[0m\u001b[0;34m\u001b[0m\u001b[0;34m\u001b[0m\u001b[0m\n",
      "\u001b[0;31mKeyboardInterrupt\u001b[0m: "
     ]
    }
   ],
   "source": [
    "for _ in range(50):\n",
    "    micsim.runSimBlock(10, increment=False)\n",
    "\n",
    "micsim.saveStructure(mode = 'pdb')"
   ]
  },
  {
   "cell_type": "code",
   "execution_count": 6,
   "metadata": {},
   "outputs": [
    {
     "data": {
      "text/plain": [
       "dict_keys(['FENEBond'])"
      ]
     },
     "execution_count": 6,
     "metadata": {},
     "output_type": "execute_result"
    }
   ],
   "source": [
    "micsim.forceDict.keys()"
   ]
  },
  {
   "cell_type": "code",
   "execution_count": null,
   "metadata": {},
   "outputs": [],
   "source": [
    "micsim.N\n",
    "micsim.state = micsim.context.getState(getPositions=True,getEnergy=True, getForces=True, getVelocities=True)\n",
    "veli = micsim.state.getVelocities(asNumpy=True)#/unit.sqrt(unit.kilojoule_per_mole / mass)\n",
    "forcei=micsim.state.getForces(asNumpy=True)\n",
    "posi=micsim.state.getPositions(asNumpy=True)\n",
    "\n",
    "print(veli,posi,forcei)\n",
    "print(micsim.state.getPotentialEnergy()/micsim.N)"
   ]
  },
  {
   "cell_type": "code",
   "execution_count": 17,
   "metadata": {},
   "outputs": [
    {
     "data": {
      "text/plain": [
       "0.9709071576829801"
      ]
     },
     "execution_count": 17,
     "metadata": {},
     "output_type": "execute_result"
    }
   ],
   "source": [
    "np.mean(np.linalg.norm(posi[1:]-posi[:-1], axis=1))"
   ]
  },
  {
   "cell_type": "code",
   "execution_count": null,
   "metadata": {},
   "outputs": [],
   "source": [
    "micsim.removeFlatBottomharmonic()"
   ]
  },
  {
   "cell_type": "code",
   "execution_count": null,
   "metadata": {},
   "outputs": [],
   "source": [
    "for _ in range(500):\n",
    "    micsim.runSimBlock(100, increment=True) #perform 1 block of the simulation\n",
    "\n",
    "micsim.saveStructure(mode = 'pdb')"
   ]
  },
  {
   "cell_type": "code",
   "execution_count": 12,
   "metadata": {},
   "outputs": [
    {
     "name": "stdout",
     "output_type": "stream",
     "text": [
      "    ***************************************************************************************     \n",
      "     **** **** *** *** *** *** *** *** OpenMiChroM-1.0.2 *** *** *** *** *** *** **** ****      \n",
      "\n",
      "         OpenMiChroM is a Python library for performing chromatin dynamics simulations.         \n",
      "                            OpenMiChroM uses the OpenMM Python API,                             \n",
      "                employing the MiChroM (Minimal Chromatin Model) energy function.                \n",
      "      The chromatin dynamics simulations generate an ensemble of 3D chromosomal structures      \n",
      "      that are consistent with experimental Hi-C maps, also allows simulations of a single      \n",
      "                 or multiple chromosome chain using High-Performance Computing                  \n",
      "                            in different platforms (GPUs and CPUs).                             \n",
      "         OpenMiChroM documentation is available at https://open-michrom.readthedocs.io          \n",
      "\n",
      "         OpenMiChroM is described in: Oliveira Junior, A. B & Contessoto, V, G et. al.          \n",
      "      A Scalable Computational Approach for Simulating Complexes of Multiple Chromosomes.       \n",
      "                  Journal of Molecular Biology. doi:10.1016/j.jmb.2020.10.034.                  \n",
      "                                              and                                               \n",
      "                                 Oliveira Junior, A. B. et al.                                  \n",
      "     Chromosome Modeling on Downsampled Hi-C Maps Enhances the Compartmentalization Signal.     \n",
      "                        J. Phys. Chem. B, doi:10.1021/acs.jpcb.1c04174.                         \n",
      "\n",
      "                    Copyright (c) 2021, The OpenMiChroM development team at                     \n",
      "                                        Rice University                                         \n",
      "    ***************************************************************************************     \n",
      "\n",
      "        ==================================\n",
      "        ActiveMonomer now set up.\n",
      "        Active correlation time: 1.0\n",
      "        Total number of active particles: 10\n",
      "        ==================================\n",
      "\n"
     ]
    }
   ],
   "source": [
    "sim=AMM.ActiveMonomer(time_step=1e-5, collision_rate=0.1, temperature=120.0,\n",
    "        name=\"test\", active_corr_time=1.0, act_seq=np.zeros(10),\n",
    "        outpath='output/', platform=\"opencl\")"
   ]
  },
  {
   "cell_type": "code",
   "execution_count": 13,
   "metadata": {},
   "outputs": [
    {
     "name": "stdout",
     "output_type": "stream",
     "text": [
      "Chains:  [(0, 2711, 0)]\n",
      "(2712, 3)\n"
     ]
    }
   ],
   "source": [
    "# Chrom10 = sim.create_springSpiral(ChromSeq='./inputs/10chrseq.txt', isRing=False)\n",
    "Chrom10=sim.loadPDB(PDBfiles=['./output/test_int_0_block0.pdb'])\n",
    "print(Chrom10.shape)"
   ]
  },
  {
   "cell_type": "code",
   "execution_count": 14,
   "metadata": {},
   "outputs": [],
   "source": [
    "sim.loadStructure(Chrom10, center=True)"
   ]
  },
  {
   "cell_type": "code",
   "execution_count": 15,
   "metadata": {},
   "outputs": [],
   "source": [
    "sim.addFENEBonds(kfb=30.0)\n",
    "# AMM.addNLBonds(sim, kfb=50)\n",
    "sim.addAngles(ka=2.0)\n",
    "sim.addRepulsiveSoftCore(Ecut=4.0)\n",
    "\n",
    "sim.addTypetoType(mu=3.22, rc = 1.78)\n",
    "sim.addIdealChromosome(mu=3.22, rc = 1.78, dinit=3, dend=500)\n",
    "\n",
    "sim.addFlatBottomHarmonic( kr=5e-3, n_rad=10.0)"
   ]
  },
  {
   "cell_type": "code",
   "execution_count": 13,
   "metadata": {},
   "outputs": [
    {
     "name": "stdout",
     "output_type": "stream",
     "text": [
      "Number of exceptions: 9\n",
      "adding force  ActiveForce 0\n",
      "adding force  NLBond 1\n",
      "Add exclusions for RepulsiveSoftCore force\n",
      "adding force  RepulsiveSoftCore 2\n",
      "Add exclusions for TypetoType force\n",
      "adding force  TypetoType 3\n",
      "adding force  FlatBottomHarmonic 4\n",
      "Positions... \n",
      " loaded!\n",
      "potential energy is 1.129271\n"
     ]
    }
   ],
   "source": [
    "sim._applyForces()"
   ]
  },
  {
   "cell_type": "code",
   "execution_count": 14,
   "metadata": {},
   "outputs": [
    {
     "name": "stdout",
     "output_type": "stream",
     "text": [
      "[[-0.39316165  0.32137281 -0.45901629]\n",
      " [ 0.12032376 -0.55920929  0.45770285]\n",
      " [-0.56422275  0.17755438  0.61881423]\n",
      " [-0.47043914 -0.37230593  0.29535344]\n",
      " [-0.10663323 -0.45203409 -0.00459053]\n",
      " [ 0.20230743  0.11976825  0.38849646]\n",
      " [ 0.12808192  0.08423617 -0.47339043]\n",
      " [-0.26949808  0.42709732  0.32531589]\n",
      " [-0.31029192  0.0648133   0.17022416]\n",
      " [ 0.21775159 -0.60088497  0.65866381]] nm/ps [[ 1.27425742 -1.13632369  0.37277904]\n",
      " [ 1.58691823 -0.19770241  0.22704759]\n",
      " [ 1.27426255  0.74092352  0.08134104]\n",
      " [ 0.4837724   1.29000843 -0.04680696]\n",
      " [-0.42733783  1.2609067  -0.14191093]\n",
      " [-1.08995175  0.74157733 -0.19252175]\n",
      " [-1.30319118  0.01139416 -0.19252604]\n",
      " [-1.0903585  -0.63093442 -0.14191502]\n",
      " [-0.62167019 -1.00487149 -0.04681335]\n",
      " [-0.08666919 -1.07497823  0.08133747]] nm [[ -0.46199548   0.41049704  -0.15953031]\n",
      " [ -0.61929607   0.13560532  -0.09426676]\n",
      " [  0.68275893  -1.12872815   0.18992235]\n",
      " [  2.73873162   0.39728898   0.26149091]\n",
      " [  2.19968867   4.00903702   0.0910579 ]\n",
      " [ -2.20436954   6.11503744  -0.37044951]\n",
      " [ -7.87478542   3.69907188  -1.11691058]\n",
      " [-10.1093359   -2.69226742  -1.90131927]\n",
      " [ -6.08048344  -8.76283646  -2.03561878]\n",
      " [ 21.72908783  -2.18270564   5.13562393]] kJ/(nm mol)\n",
      "1.1292705535888672 kJ/mol\n"
     ]
    }
   ],
   "source": [
    "sim.state = sim.context.getState(getPositions=True,getEnergy=True, getForces=True, getVelocities=True)\n",
    "veli = sim.state.getVelocities(asNumpy=True)#/unit.sqrt(unit.kilojoule_per_mole / mass)\n",
    "forcei=sim.state.getForces(asNumpy=True)\n",
    "posi=sim.state.getPositions(asNumpy=True)\n",
    "\n",
    "print(veli,posi,forcei)\n",
    "print(sim.state.getPotentialEnergy()/sim.N)"
   ]
  },
  {
   "cell_type": "code",
   "execution_count": 18,
   "metadata": {},
   "outputs": [
    {
     "data": {
      "text/plain": [
       "Quantity(value=120.00000000000001, unit=kelvin)"
      ]
     },
     "execution_count": 18,
     "metadata": {},
     "output_type": "execute_result"
    }
   ],
   "source": [
    "sim.integrator.step(1)\n",
    "sim.integrator.getTemperature()"
   ]
  },
  {
   "cell_type": "code",
   "execution_count": 19,
   "metadata": {},
   "outputs": [
    {
     "name": "stdout",
     "output_type": "stream",
     "text": [
      "[[-0.3923761   0.32073072 -0.45809919]\n",
      " [ 0.12008335 -0.558092    0.45678836]\n",
      " [-0.56309545  0.17719962  0.61757779]\n",
      " [-0.46949917 -0.37156206  0.2947633 ]\n",
      " [-0.10642017 -0.45113093 -0.00458135]\n",
      " [ 0.20190322  0.11952895  0.38772026]\n",
      " [ 0.12782601  0.08406787 -0.47244456]\n",
      " [-0.26895964  0.42624396  0.3246659 ]\n",
      " [-0.30967194  0.0646838   0.16988404]\n",
      " [ 0.21731652 -0.59968442  0.6573478 ]] nm/ps [[ 0.97953284 -0.79583055  0.3667278 ]\n",
      " [ 1.56337976 -0.00617982  0.05395188]\n",
      " [ 1.17898858  0.43321985 -0.13770373]\n",
      " [ 0.45663458  1.40855682 -0.26086438]\n",
      " [-0.46885648  1.06819582 -0.31768996]\n",
      " [-1.30775177  0.72536385 -0.11764055]\n",
      " [-0.95754433 -0.05005051  0.34313437]\n",
      " [-1.42743683 -0.44085562 -0.40114456]\n",
      " [-0.812199   -1.09912944  0.11480728]\n",
      " [ 0.10567337 -0.84113532  0.17568107]] nm [[  1.36257923   1.37521172  -0.3387953 ]\n",
      " [ 10.53172398 -14.80732441   6.42723131]\n",
      " [-19.34423637  22.32069969  -7.03958511]\n",
      " [  6.88575649  -9.24610901   1.3120544 ]\n",
      " [  2.90609694   0.18596452  -0.6494171 ]\n",
      " [ -3.27996445  -0.39992768   0.03143906]\n",
      " [  1.5423497    2.66812277   2.7497344 ]\n",
      " [  0.84551746  -1.65017748  -0.3073203 ]\n",
      " [ -2.50121951  -1.99211335  -1.7776444 ]\n",
      " [  1.05139506   1.54565334  -0.40769726]] kJ/(nm mol)\n",
      "0.6628196239471436 kJ/mol\n"
     ]
    }
   ],
   "source": [
    "sim.state = sim.context.getState(getPositions=True,getEnergy=True, getForces=True, getVelocities=True)\n",
    "velf = sim.state.getVelocities(asNumpy=True)#/unit.sqrt(unit.kilojoule_per_mole / mass)\n",
    "forcef=sim.state.getForces(asNumpy=True)\n",
    "posf=sim.state.getPositions(asNumpy=True)\n",
    "\n",
    "print(velf,posf,forcef)\n",
    "print(sim.state.getPotentialEnergy()/sim.N)\n",
    "\n",
    "# dif=np.linalg.norm(posf-posi,axis=1)\n",
    "# print(posf-posi)"
   ]
  },
  {
   "cell_type": "code",
   "execution_count": 17,
   "metadata": {},
   "outputs": [
    {
     "name": "stdout",
     "output_type": "stream",
     "text": [
      "bl=11 pos[1]=[12.2 -2.0 2.5] dr=0.19 t=0.0ps kin=1.46 pot=20.01 Rg=9.537 SPS=197 \n",
      "bl=12 pos[1]=[12.3 -2.2 2.3] dr=0.19 t=0.0ps kin=1.46 pot=20.03 Rg=9.537 SPS=294 \n",
      "bl=13 pos[1]=[12.3 -2.2 2.3] dr=0.19 t=0.0ps kin=1.46 pot=20.01 Rg=9.535 SPS=298 \n",
      "bl=14 pos[1]=[12.5 -2.1 2.7] dr=0.19 t=0.0ps kin=1.45 pot=20.03 Rg=9.538 SPS=302 \n",
      "bl=15 pos[1]=[12.3 -2.0 2.6] dr=0.19 t=0.0ps kin=1.45 pot=20.02 Rg=9.539 SPS=302 \n",
      "bl=16 pos[1]=[12.1 -1.7 2.6] dr=0.19 t=0.0ps kin=1.45 pot=19.99 Rg=9.539 SPS=300 \n",
      "bl=17 pos[1]=[12.2 -1.9 2.7] dr=0.19 t=0.0ps kin=1.45 pot=20.00 Rg=9.534 SPS=303 \n",
      "bl=18 pos[1]=[12.4 -1.9 2.7] dr=0.19 t=0.0ps kin=1.44 pot=20.01 Rg=9.535 SPS=299 \n",
      "bl=19 pos[1]=[12.4 -1.8 2.8] dr=0.19 t=0.0ps kin=1.44 pot=20.03 Rg=9.535 SPS=302 \n",
      "bl=20 pos[1]=[12.4 -1.9 2.8] dr=0.19 t=0.0ps kin=1.44 pot=20.00 Rg=9.533 SPS=303 \n",
      "bl=21 pos[1]=[12.5 -1.8 2.7] dr=0.19 t=0.0ps kin=1.43 pot=20.06 Rg=9.527 SPS=294 \n",
      "bl=22 pos[1]=[12.3 -1.8 2.8] dr=0.19 t=0.0ps kin=1.43 pot=20.00 Rg=9.527 SPS=302 \n",
      "bl=23 pos[1]=[12.4 -1.6 2.8] dr=0.19 t=0.0ps kin=1.43 pot=20.02 Rg=9.526 SPS=302 \n",
      "bl=24 pos[1]=[12.6 -1.4 2.8] dr=0.19 t=0.0ps kin=1.42 pot=20.05 Rg=9.525 SPS=300 \n",
      "bl=25 pos[1]=[12.5 -1.5 2.8] dr=0.19 t=0.0ps kin=1.42 pot=20.02 Rg=9.523 SPS=302 \n",
      "bl=26 pos[1]=[12.5 -1.4 2.6] dr=0.19 t=0.0ps kin=1.42 pot=20.01 Rg=9.525 SPS=302 \n",
      "bl=27 pos[1]=[12.6 -1.4 2.7] dr=0.19 t=0.0ps kin=1.42 pot=20.03 Rg=9.524 SPS=294 \n",
      "bl=28 pos[1]=[12.6 -1.5 2.8] dr=0.19 t=0.0ps kin=1.41 pot=20.03 Rg=9.530 SPS=296 \n",
      "bl=29 pos[1]=[12.4 -1.4 2.8] dr=0.19 t=0.0ps kin=1.41 pot=20.03 Rg=9.531 SPS=301 \n",
      "bl=30 pos[1]=[12.2 -1.2 2.7] dr=0.19 t=0.0ps kin=1.41 pot=20.07 Rg=9.528 SPS=299 \n",
      "bl=31 pos[1]=[12.2 -1.2 2.6] dr=0.19 t=0.0ps kin=1.41 pot=20.04 Rg=9.529 SPS=298 \n",
      "bl=32 pos[1]=[12.2 -1.0 2.5] dr=0.19 t=0.0ps kin=1.40 pot=20.05 Rg=9.531 SPS=297 \n",
      "bl=33 pos[1]=[12.3 -1.1 2.7] dr=0.19 t=0.0ps kin=1.40 pot=20.05 Rg=9.536 SPS=294 \n",
      "bl=34 pos[1]=[12.3 -1.1 2.5] dr=0.19 t=0.0ps kin=1.40 pot=20.01 Rg=9.534 SPS=300 \n",
      "bl=35 pos[1]=[12.2 -1.2 2.5] dr=0.19 t=0.0ps kin=1.39 pot=20.01 Rg=9.531 SPS=303 \n",
      "bl=36 pos[1]=[12.1 -1.1 2.6] dr=0.19 t=0.0ps kin=1.39 pot=20.01 Rg=9.531 SPS=301 \n",
      "bl=37 pos[1]=[11.9 -1.0 2.7] dr=0.19 t=0.0ps kin=1.39 pot=20.04 Rg=9.529 SPS=298 \n",
      "bl=38 pos[1]=[12.2 -1.1 2.8] dr=0.19 t=0.0ps kin=1.39 pot=20.02 Rg=9.527 SPS=295 \n",
      "bl=39 pos[1]=[12.3 -1.1 2.7] dr=0.19 t=0.0ps kin=1.38 pot=20.04 Rg=9.529 SPS=303 \n",
      "bl=40 pos[1]=[12.4 -1.1 3.0] dr=0.19 t=0.0ps kin=1.38 pot=20.02 Rg=9.529 SPS=301 \n",
      "bl=41 pos[1]=[12.4 -1.2 3.0] dr=0.19 t=0.0ps kin=1.38 pot=20.05 Rg=9.529 SPS=303 \n",
      "bl=42 pos[1]=[12.5 -1.2 3.0] dr=0.19 t=0.0ps kin=1.37 pot=20.01 Rg=9.531 SPS=306 \n",
      "bl=43 pos[1]=[12.3 -1.2 3.0] dr=0.19 t=0.0ps kin=1.37 pot=20.02 Rg=9.534 SPS=298 \n",
      "bl=44 pos[1]=[12.2 -1.1 3.0] dr=0.19 t=0.0ps kin=1.37 pot=20.01 Rg=9.533 SPS=288 \n",
      "bl=45 pos[1]=[12.0 -1.0 3.2] dr=0.19 t=0.0ps kin=1.37 pot=19.99 Rg=9.532 SPS=297 \n",
      "bl=46 pos[1]=[12.0 -1.1 3.0] dr=0.19 t=0.0ps kin=1.36 pot=20.02 Rg=9.529 SPS=304 \n",
      "bl=47 pos[1]=[12.2 -1.1 3.1] dr=0.19 t=0.0ps kin=1.36 pot=20.02 Rg=9.527 SPS=303 \n",
      "bl=48 pos[1]=[12.4 -1.0 3.1] dr=0.19 t=0.0ps kin=1.36 pot=20.02 Rg=9.526 SPS=298 \n",
      "bl=49 pos[1]=[12.6 -0.9 3.1] dr=0.19 t=0.0ps kin=1.36 pot=20.03 Rg=9.528 SPS=302 \n",
      "\n",
      "Statistics for the simulation test, number of particles: 2712,  number of chains: 1\n",
      "\n",
      "Statistics for particle position\n",
      "     mean position is:  [-0.02911499  0.0192787   0.01011041]   Rg =  9.527649\n",
      "     median bond size is  0.9655582985334006\n",
      "     three shortest/longest (<10)/ bonds are  [0.86211434 0.8671626  0.86934987]    [1.09002902 1.09816245 1.11075181]\n",
      "     95 percentile of distance to center is:    13.64411331377253\n",
      "     density of closest 95% monomers is:    0.24215237256371305\n",
      "     density of the core monomers is:    0.48815961278432235\n",
      "     min/median/mean/max coordinates are: \n",
      "     x: -11.69, -0.66, -0.03, 14.44\n",
      "     y: -15.70, 1.09, 0.02, 15.47\n",
      "     z: -9.83, 0.06, 0.01, 8.44\n",
      "\n",
      "Statistics for velocities:\n",
      "     mean kinetic energy is:  1.3553789669639886 should be: 1.5\n",
      "     fastest particles are (in kT):  [6.75360555 6.89258037 7.12342623 7.33012862 9.6765206 ]\n",
      "\n",
      "Statistics for the system:\n",
      "     Forces are:  ['ActiveForce', 'FENEBond', 'AngleForce', 'RepulsiveSoftCore', 'TypetoType', 'IdealChromosome', 'FlatBottomHarmonic']\n",
      "     Number of exceptions:   2711\n",
      "\n",
      "Potential Energy Ep =  20.030794846976402\n",
      "bl=50 pos[1]=[12.7 -0.9 3.1] dr=0.19 t=0.0ps kin=1.35 pot=20.02 Rg=9.527 SPS=302 \n",
      "bl=51 pos[1]=[12.4 -0.9 3.2] dr=0.19 t=0.0ps kin=1.35 pot=20.03 Rg=9.529 SPS=297 \n",
      "bl=52 pos[1]=[12.6 -1.0 3.2] dr=0.19 t=0.0ps kin=1.35 pot=20.03 Rg=9.529 SPS=299 \n",
      "bl=53 pos[1]=[12.7 -0.9 3.2] dr=0.19 t=0.0ps kin=1.34 pot=20.04 Rg=9.526 SPS=301 \n",
      "bl=54 pos[1]=[12.7 -0.8 3.2] dr=0.19 t=0.0ps kin=1.34 pot=20.02 Rg=9.523 SPS=302 \n",
      "bl=55 pos[1]=[12.8 -0.8 3.1] dr=0.19 t=0.0ps kin=1.34 pot=20.04 Rg=9.522 SPS=303 \n",
      "bl=56 pos[1]=[12.7 -0.8 3.2] dr=0.19 t=0.0ps kin=1.34 pot=20.04 Rg=9.525 SPS=300 \n",
      "bl=57 pos[1]=[12.6 -1.0 3.0] dr=0.19 t=0.0ps kin=1.33 pot=20.04 Rg=9.522 SPS=302 \n",
      "bl=58 pos[1]=[12.8 -0.9 2.9] dr=0.19 t=0.0ps kin=1.33 pot=20.02 Rg=9.526 SPS=303 \n",
      "bl=59 pos[1]=[12.9 -0.8 2.8] dr=0.19 t=0.0ps kin=1.33 pot=19.98 Rg=9.529 SPS=302 \n",
      "bl=60 pos[1]=[13.0 -0.9 2.7] dr=0.19 t=0.0ps kin=1.33 pot=20.02 Rg=9.532 SPS=302 \n",
      "bl=61 pos[1]=[13.0 -0.9 2.9] dr=0.19 t=0.0ps kin=1.32 pot=20.03 Rg=9.534 SPS=303 \n",
      "bl=62 pos[1]=[13.1 -0.7 3.1] dr=0.19 t=0.0ps kin=1.32 pot=20.01 Rg=9.537 SPS=303 \n",
      "bl=63 pos[1]=[13.0 -0.7 3.2] dr=0.19 t=0.0ps kin=1.32 pot=20.02 Rg=9.536 SPS=300 \n",
      "bl=64 pos[1]=[13.3 -0.6 3.2] dr=0.19 t=0.0ps kin=1.32 pot=20.02 Rg=9.536 SPS=301 \n",
      "bl=65 pos[1]=[13.4 -0.7 3.3] dr=0.19 t=0.0ps kin=1.31 pot=20.02 Rg=9.536 SPS=300 \n",
      "bl=66 pos[1]=[13.3 -0.7 3.2] dr=0.19 t=0.0ps kin=1.31 pot=20.02 Rg=9.533 SPS=295 \n",
      "bl=67 pos[1]=[13.6 -0.7 3.0] dr=0.19 t=0.0ps kin=1.31 pot=20.01 Rg=9.533 SPS=301 \n",
      "bl=68 pos[1]=[13.7 -0.6 2.9] dr=0.19 t=0.0ps kin=1.30 pot=20.04 Rg=9.534 SPS=303 \n",
      "bl=69 pos[1]=[13.7 -0.6 2.9] dr=0.19 t=0.0ps kin=1.30 pot=20.05 Rg=9.539 SPS=302 \n",
      "bl=70 pos[1]=[13.6 -0.5 2.8] dr=0.19 t=0.0ps kin=1.30 pot=20.00 Rg=9.536 SPS=303 \n",
      "bl=71 pos[1]=[13.6 -0.5 3.0] dr=0.19 t=0.0ps kin=1.30 pot=20.00 Rg=9.533 SPS=300 \n",
      "bl=72 pos[1]=[13.6 -0.4 2.9] dr=0.19 t=0.0ps kin=1.29 pot=20.04 Rg=9.532 SPS=297 \n",
      "bl=73 pos[1]=[13.8 -0.5 2.9] dr=0.19 t=0.0ps kin=1.29 pot=20.03 Rg=9.530 SPS=299 \n",
      "bl=74 pos[1]=[13.6 -0.7 3.0] dr=0.19 t=0.0ps kin=1.29 pot=20.05 Rg=9.525 SPS=299 \n",
      "bl=75 pos[1]=[13.6 -0.5 2.9] dr=0.19 t=0.0ps kin=1.29 pot=20.04 Rg=9.526 SPS=304 \n",
      "bl=76 pos[1]=[13.4 -0.5 2.9] dr=0.19 t=0.0ps kin=1.28 pot=20.00 Rg=9.530 SPS=300 \n",
      "bl=77 pos[1]=[13.2 -0.3 3.0] dr=0.19 t=0.0ps kin=1.28 pot=20.04 Rg=9.528 SPS=302 \n",
      "bl=78 pos[1]=[13.3 -0.3 3.1] dr=0.19 t=0.0ps kin=1.28 pot=20.04 Rg=9.524 SPS=295 \n",
      "bl=79 pos[1]=[13.0 -0.2 3.0] dr=0.19 t=0.0ps kin=1.28 pot=20.01 Rg=9.529 SPS=302 \n",
      "bl=80 pos[1]=[13.2 -0.2 3.1] dr=0.19 t=0.0ps kin=1.27 pot=20.04 Rg=9.532 SPS=302 \n",
      "bl=81 pos[1]=[13.4 -0.2 3.1] dr=0.19 t=0.0ps kin=1.27 pot=20.01 Rg=9.533 SPS=297 \n",
      "bl=82 pos[1]=[13.5 -0.2 2.9] dr=0.19 t=0.0ps kin=1.27 pot=19.99 Rg=9.534 SPS=305 \n",
      "bl=83 pos[1]=[13.4 0.1 2.9] dr=0.19 t=0.0ps kin=1.27 pot=20.01 Rg=9.537 SPS=300 \n",
      "bl=84 pos[1]=[13.3 0.1 3.1] dr=0.19 t=0.0ps kin=1.26 pot=19.99 Rg=9.534 SPS=296 \n",
      "bl=85 pos[1]=[13.1 0.3 3.1] dr=0.19 t=0.0ps kin=1.26 pot=20.03 Rg=9.535 SPS=297 \n",
      "bl=86 pos[1]=[13.1 0.3 3.0] dr=0.19 t=0.0ps kin=1.26 pot=20.01 Rg=9.540 SPS=302 \n",
      "bl=87 pos[1]=[12.9 0.4 2.9] dr=0.19 t=0.0ps kin=1.26 pot=19.99 Rg=9.538 SPS=302 \n",
      "bl=88 pos[1]=[13.2 0.3 2.9] dr=0.19 t=0.0ps kin=1.25 pot=20.00 Rg=9.542 SPS=301 \n",
      "bl=89 pos[1]=[13.3 0.3 2.9] dr=0.19 t=0.0ps kin=1.25 pot=20.01 Rg=9.538 SPS=301 \n",
      "bl=90 pos[1]=[13.6 0.4 2.8] dr=0.19 t=0.0ps kin=1.25 pot=20.02 Rg=9.535 SPS=304 \n",
      "bl=91 pos[1]=[13.6 0.1 2.7] dr=0.19 t=0.0ps kin=1.25 pot=20.03 Rg=9.533 SPS=299 \n",
      "bl=92 pos[1]=[13.5 0.2 2.6] dr=0.19 t=0.0ps kin=1.24 pot=20.04 Rg=9.533 SPS=306 \n",
      "bl=93 pos[1]=[13.8 0.3 2.6] dr=0.19 t=0.0ps kin=1.24 pot=20.06 Rg=9.534 SPS=298 \n",
      "bl=94 pos[1]=[14.0 0.4 2.4] dr=0.19 t=0.0ps kin=1.24 pot=20.02 Rg=9.532 SPS=301 \n",
      "bl=95 pos[1]=[13.9 0.3 2.3] dr=0.19 t=0.0ps kin=1.24 pot=20.01 Rg=9.531 SPS=305 \n",
      "bl=96 pos[1]=[13.7 0.4 2.4] dr=0.19 t=0.0ps kin=1.23 pot=20.02 Rg=9.526 SPS=300 \n",
      "bl=97 pos[1]=[13.7 0.5 2.6] dr=0.19 t=0.0ps kin=1.23 pot=20.04 Rg=9.525 SPS=304 \n",
      "bl=98 pos[1]=[13.7 0.3 2.5] dr=0.19 t=0.0ps kin=1.23 pot=20.04 Rg=9.519 SPS=296 \n",
      "bl=99 pos[1]=[13.8 0.2 2.6] dr=0.19 t=0.0ps kin=1.23 pot=19.99 Rg=9.522 SPS=304 \n",
      "\n",
      "Statistics for the simulation test, number of particles: 2712,  number of chains: 1\n",
      "\n",
      "Statistics for particle position\n",
      "     mean position is:  [-0.0534899   0.00328864  0.03913021]   Rg =  9.522419\n",
      "     median bond size is  0.965362550136814\n",
      "     three shortest/longest (<10)/ bonds are  [0.85966112 0.87368396 0.87449448]    [1.08512531 1.09601217 1.10753789]\n",
      "     95 percentile of distance to center is:    13.5760379109398\n",
      "     density of closest 95% monomers is:    0.2458134006307424\n",
      "     density of the core monomers is:    0.4971537556028215\n",
      "     min/median/mean/max coordinates are: \n",
      "     x: -11.31, -0.65, -0.05, 14.85\n",
      "     y: -14.94, 1.08, 0.00, 14.44\n",
      "     z: -9.39, 0.14, 0.04, 8.65\n",
      "\n",
      "Statistics for velocities:\n",
      "     mean kinetic energy is:  1.2262319532753843 should be: 1.5\n",
      "     fastest particles are (in kT):  [6.11008125 6.23580683 6.44467917 6.63175536 8.75447066]\n",
      "\n",
      "Statistics for the system:\n",
      "     Forces are:  ['ActiveForce', 'FENEBond', 'AngleForce', 'RepulsiveSoftCore', 'TypetoType', 'IdealChromosome', 'FlatBottomHarmonic']\n",
      "     Number of exceptions:   2711\n",
      "\n",
      "Potential Energy Ep =  19.988471377212388\n",
      "bl=100 pos[1]=[13.5 0.0 2.8] dr=0.19 t=0.0ps kin=1.22 pot=20.00 Rg=9.527 SPS=298 \n",
      "bl=101 pos[1]=[13.4 0.1 2.8] dr=0.19 t=0.0ps kin=1.22 pot=20.00 Rg=9.526 SPS=295 \n",
      "bl=102 pos[1]=[13.5 0.2 2.7] dr=0.19 t=0.0ps kin=1.22 pot=20.04 Rg=9.529 SPS=298 \n",
      "bl=103 pos[1]=[13.2 0.2 2.7] dr=0.19 t=0.0ps kin=1.22 pot=20.00 Rg=9.525 SPS=303 \n",
      "bl=104 pos[1]=[13.1 0.3 2.6] dr=0.19 t=0.0ps kin=1.21 pot=20.02 Rg=9.517 SPS=300 \n",
      "bl=105 pos[1]=[13.2 0.3 2.5] dr=0.19 t=0.0ps kin=1.21 pot=20.03 Rg=9.521 SPS=300 \n",
      "bl=106 pos[1]=[13.1 0.2 2.6] dr=0.19 t=0.0ps kin=1.21 pot=20.01 Rg=9.516 SPS=292 \n",
      "bl=107 pos[1]=[13.0 0.2 2.5] dr=0.19 t=0.0ps kin=1.21 pot=20.00 Rg=9.515 SPS=300 \n",
      "bl=108 pos[1]=[13.1 0.1 2.7] dr=0.19 t=0.0ps kin=1.20 pot=20.00 Rg=9.514 SPS=293 \n",
      "bl=109 pos[1]=[13.0 0.2 2.8] dr=0.19 t=0.0ps kin=1.20 pot=19.99 Rg=9.515 SPS=286 \n",
      "bl=110 pos[1]=[13.4 0.2 2.5] dr=0.19 t=0.0ps kin=1.20 pot=20.01 Rg=9.516 SPS=302 \n"
     ]
    }
   ],
   "source": [
    "Positions=[]\n",
    "Velocities=[]\n",
    "for _ in range(100):\n",
    "    sim.runSimBlock(100, increment=True)\n",
    "    state = sim.context.getState(getPositions=True,getForces=True,\n",
    "            getVelocities=True, getEnergy=False)\n",
    "    vel = state.getVelocities(asNumpy=True)#/unit.sqrt(unit.kilojoule_per_mole / mass)\n",
    "    force=state.getForces(asNumpy=True)\n",
    "    pos=state.getPositions(asNumpy=True)\n",
    "    # print(force,vel, pos)\n",
    "    Velocities.append(vel)\n",
    "    Positions.append(pos)\n",
    "\n",
    "Positions=np.array(Positions)\n",
    "Velocities=np.array(Velocities)"
   ]
  },
  {
   "cell_type": "code",
   "execution_count": 16,
   "metadata": {},
   "outputs": [
    {
     "data": {
      "text/plain": [
       "dict_keys(['ActiveForce', 'NLBond', 'AngleForce', 'RepulsiveSoftCore', 'TypetoType', 'IdealChromosome', 'FlatBottomHarmonic'])"
      ]
     },
     "execution_count": 16,
     "metadata": {},
     "output_type": "execute_result"
    }
   ],
   "source": [
    "sim.forceDict.keys()"
   ]
  },
  {
   "cell_type": "code",
   "execution_count": 17,
   "metadata": {},
   "outputs": [],
   "source": [
    "def _autocorrFFT(x):\n",
    "        N=len(x)\n",
    "        F = np.fft.fft(x, n=2*N)  #2*N because of zero-padding\n",
    "        PSD = F * F.conjugate()\n",
    "        res = np.fft.ifft(PSD)\n",
    "        res= (res[:N]).real   #now we have the autocorrelation in convention B\n",
    "        n=N*np.ones(N)-np.arange(0,N) #divide res(m) by (N-m)\n",
    "        return res/n #this is the autocorrelation in convention A\n",
    "\n",
    "def _msd_fft(r):\n",
    "    #r is an (T,3) ndarray: [time stamps,dof]\n",
    "    N=len(r)\n",
    "    D=np.square(r).sum(axis=1)\n",
    "    D=np.append(D,0)\n",
    "    S2=sum([ _autocorrFFT(r[:, i]) for i in range(r.shape[1])])\n",
    "    Q=2*D.sum()\n",
    "    S1=np.zeros(N)\n",
    "    for m in range(N):\n",
    "        Q=Q-D[m-1]-D[N-m]\n",
    "        S1[m]=Q/(N-m)\n",
    "    return S1, S2"
   ]
  },
  {
   "cell_type": "code",
   "execution_count": 18,
   "metadata": {},
   "outputs": [],
   "source": [
    "msd=[]\n",
    "for p in range(Positions.shape[1]):\n",
    "    s1,s2 = _msd_fft(Positions[:,p,:])\n",
    "    # Pos_autocorr.append(2*S2/S1)\n",
    "    msd.append(s1-2*s2)\n",
    "\n",
    "msd=np.array(msd)\n",
    "# Pos_autocorr=np.array(Pos_autocorr)\n",
    "\n",
    "#average over all particles\n",
    "msd_av=np.mean(msd,axis=0)"
   ]
  },
  {
   "cell_type": "code",
   "execution_count": 19,
   "metadata": {},
   "outputs": [],
   "source": [
    "import matplotlib.pyplot as plt"
   ]
  },
  {
   "cell_type": "code",
   "execution_count": 20,
   "metadata": {},
   "outputs": [
    {
     "data": {
      "text/plain": [
       "(1, 100000.0)"
      ]
     },
     "execution_count": 20,
     "metadata": {},
     "output_type": "execute_result"
    },
    {
     "data": {
      "image/png": "[encoded data removed]",
      "text/plain": [
       "<Figure size 432x288 with 1 Axes>"
      ]
     },
     "metadata": {
      "needs_background": "light"
     },
     "output_type": "display_data"
    }
   ],
   "source": [
    "ts=np.arange(1,len(msd_av)+1,1)*0.001*100\n",
    "plt.plot(ts, msd_av,'.-')\n",
    "plt.loglog([0,100], 5*np.array([0,100]))\n",
    "plt.loglog([1,100], np.array([1,100])**2)\n",
    "plt.ylim(1,1e5)"
   ]
  },
  {
   "cell_type": "code",
   "execution_count": 21,
   "metadata": {},
   "outputs": [
    {
     "name": "stderr",
     "output_type": "stream",
     "text": [
      "/Users/sumitabha/anaconda3/envs/newopenmm/lib/python3.7/site-packages/ipykernel_launcher.py:5: RuntimeWarning: invalid value encountered in true_divide\n",
      "  \"\"\"\n"
     ]
    },
    {
     "data": {
      "text/plain": [
       "(0.001, 2)"
      ]
     },
     "execution_count": 21,
     "metadata": {},
     "output_type": "execute_result"
    },
    {
     "data": {
      "image/png": "[encoded data removed]",
      "text/plain": [
       "<Figure size 432x288 with 1 Axes>"
      ]
     },
     "metadata": {
      "needs_background": "light"
     },
     "output_type": "display_data"
    }
   ],
   "source": [
    "corr=[]\n",
    "for p in range(Velocities.shape[1]):\n",
    "    s1,s2 = _msd_fft(Velocities[:,p,:])\n",
    "    # Pos_autocorr.append(2*S2/S1)\n",
    "    corr.append(2*s2/s1)\n",
    "\n",
    "corr=np.array(corr)\n",
    "# Pos_autocorr=np.array(Pos_autocorr)\n",
    "\n",
    "#average over all particles\n",
    "corr_av=np.mean(corr,axis=0)\n",
    "\n",
    "\n",
    "plt.loglog(ts, corr_av,'.')\n",
    "plt.loglog(ts,np.exp(-ts))\n",
    "plt.ylim(1e-3,2)"
   ]
  },
  {
   "cell_type": "code",
   "execution_count": null,
   "metadata": {},
   "outputs": [
    {
     "name": "stdout",
     "output_type": "stream",
     "text": [
      "[[[-0.09963844  0.48503911  0.85878438]\n",
      "  [-0.93995714  0.16494466  1.08742094]]\n",
      "\n",
      " [[-1.45103502 -1.13024354  2.64610696]\n",
      "  [-0.40987158  2.05301476  0.78479499]]\n",
      "\n",
      " [[ 0.65801215 -1.34704769  3.31465244]\n",
      "  [ 0.27658051  0.13392256  0.25594124]]\n",
      "\n",
      " [[-0.94370216 -0.90841603  4.26900911]\n",
      "  [-0.16673514 -1.33306813 -2.59681845]]\n",
      "\n",
      " [[ 0.04852555  1.0308938   4.69286013]\n",
      "  [ 1.93814504 -1.11801875 -4.1868825 ]]]\n"
     ]
    }
   ],
   "source": [
    "print(Positions)"
   ]
  },
  {
   "cell_type": "code",
   "execution_count": 20,
   "metadata": {},
   "outputs": [
    {
     "ename": "ValueError",
     "evalue": "list.remove(x): x not in list",
     "output_type": "error",
     "traceback": [
      "\u001b[0;31m---------------------------------------------------------------------------\u001b[0m",
      "\u001b[0;31mValueError\u001b[0m                                Traceback (most recent call last)",
      "\u001b[0;32m<ipython-input-20-cc8b5ab38aab>\u001b[0m in \u001b[0;36m<module>\u001b[0;34m\u001b[0m\n\u001b[1;32m      1\u001b[0m \u001b[0ma\u001b[0m\u001b[0;34m=\u001b[0m\u001b[0;34m[\u001b[0m\u001b[0;36m1\u001b[0m\u001b[0;34m,\u001b[0m\u001b[0;36m2\u001b[0m\u001b[0;34m,\u001b[0m\u001b[0;36m34\u001b[0m\u001b[0;34m]\u001b[0m\u001b[0;34m\u001b[0m\u001b[0;34m\u001b[0m\u001b[0m\n\u001b[0;32m----> 2\u001b[0;31m \u001b[0ma\u001b[0m\u001b[0;34m.\u001b[0m\u001b[0mremove\u001b[0m\u001b[0;34m(\u001b[0m\u001b[0;36m23\u001b[0m\u001b[0;34m)\u001b[0m\u001b[0;34m\u001b[0m\u001b[0;34m\u001b[0m\u001b[0m\n\u001b[0m\u001b[1;32m      3\u001b[0m \u001b[0mprint\u001b[0m\u001b[0;34m(\u001b[0m\u001b[0ma\u001b[0m\u001b[0;34m)\u001b[0m\u001b[0;34m\u001b[0m\u001b[0;34m\u001b[0m\u001b[0m\n",
      "\u001b[0;31mValueError\u001b[0m: list.remove(x): x not in list"
     ]
    }
   ],
   "source": [
    "a=[1,2,34]\n",
    "a.remove(23)\n",
    "print(a)"
   ]
  },
  {
   "cell_type": "code",
   "execution_count": 56,
   "metadata": {},
   "outputs": [
    {
     "data": {
      "text/plain": [
       "37.03703703703704"
      ]
     },
     "execution_count": 56,
     "metadata": {},
     "output_type": "execute_result"
    }
   ],
   "source": [
    "4e3*1e5/(3000*3600)"
   ]
  },
  {
   "cell_type": "code",
   "execution_count": 74,
   "metadata": {},
   "outputs": [
    {
     "name": "stdout",
     "output_type": "stream",
     "text": [
      "[[0 1 2 3 4 5 6 7 8 9]] [[ 1]\n",
      " [ 2]\n",
      " [ 3]\n",
      " [ 4]\n",
      " [ 5]\n",
      " [ 6]\n",
      " [ 7]\n",
      " [ 8]\n",
      " [ 9]\n",
      " [10]] [[ 1  2  3  4  5  6  7  8  9 10]\n",
      " [ 2  3  4  5  6  7  8  9 10 11]\n",
      " [ 3  4  5  6  7  8  9 10 11 12]\n",
      " [ 4  5  6  7  8  9 10 11 12 13]\n",
      " [ 5  6  7  8  9 10 11 12 13 14]\n",
      " [ 6  7  8  9 10 11 12 13 14 15]\n",
      " [ 7  8  9 10 11 12 13 14 15 16]\n",
      " [ 8  9 10 11 12 13 14 15 16 17]\n",
      " [ 9 10 11 12 13 14 15 16 17 18]\n",
      " [10 11 12 13 14 15 16 17 18 19]]\n"
     ]
    }
   ],
   "source": [
    "a=np.arange(0,10,1).reshape(1,-1)\n",
    "b=np.arange(1,11,1).reshape(-1,1)\n",
    "\n",
    "print(a, b, a+b)"
   ]
  },
  {
   "cell_type": "code",
   "execution_count": null,
   "metadata": {},
   "outputs": [],
   "source": []
  }
 ],
 "metadata": {
  "interpreter": {
   "hash": "eb908e2ee61974166e0f6210d6d4eb74d980ad50e61ae905e9364c3983814675"
  },
  "kernelspec": {
   "display_name": "Python 3.7.10 ('newopenmm')",
   "language": "python",
   "name": "python3"
  },
  "language_info": {
   "codemirror_mode": {
    "name": "ipython",
    "version": 3
   },
   "file_extension": ".py",
   "mimetype": "text/x-python",
   "name": "python",
   "nbconvert_exporter": "python",
   "pygments_lexer": "ipython3",
   "version": "3.7.10"
  },
  "orig_nbformat": 4
 },
 "nbformat": 4,
 "nbformat_minor": 2
}
